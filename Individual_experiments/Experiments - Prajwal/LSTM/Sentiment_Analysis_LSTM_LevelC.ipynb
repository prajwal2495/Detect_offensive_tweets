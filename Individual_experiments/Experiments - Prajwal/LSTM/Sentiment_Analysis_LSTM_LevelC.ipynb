{
 "cells": [
  {
   "cell_type": "markdown",
   "metadata": {},
   "source": [
    "# 1.  Imports"
   ]
  },
  {
   "cell_type": "code",
   "execution_count": 15,
   "metadata": {
    "execution": {
     "iopub.execute_input": "2021-08-23T20:19:11.871330Z",
     "iopub.status.busy": "2021-08-23T20:19:11.871020Z",
     "iopub.status.idle": "2021-08-23T20:19:11.881016Z",
     "shell.execute_reply": "2021-08-23T20:19:11.879894Z",
     "shell.execute_reply.started": "2021-08-23T20:19:11.871302Z"
    }
   },
   "outputs": [
    {
     "name": "stderr",
     "output_type": "stream",
     "text": [
      "[nltk_data] Downloading package stopwords to /home/pk6142/nltk_data...\n",
      "[nltk_data]   Package stopwords is already up-to-date!\n",
      "[nltk_data] Downloading package wordnet to /home/pk6142/nltk_data...\n",
      "[nltk_data]   Package wordnet is already up-to-date!\n"
     ]
    }
   ],
   "source": [
    "# generics\n",
    "import pandas as pd\n",
    "import numpy as np\n",
    "import random\n",
    "\n",
    "# visu\n",
    "#import seaborn as sns\n",
    "import matplotlib.pyplot as plt\n",
    "#from wordcloud import WordCloud\n",
    "\n",
    "# texts\n",
    "import re\n",
    "\n",
    "\n",
    "import unicodedata\n",
    "from tensorflow.keras.preprocessing.text import Tokenizer\n",
    "from tensorflow.keras.preprocessing.sequence import pad_sequences\n",
    "from tensorflow.keras.utils import to_categorical, plot_model\n",
    "\n",
    "# Model\n",
    "from tensorflow.keras import layers, Sequential\n",
    "from tensorflow.keras.callbacks import EarlyStopping\n",
    "\n",
    "# NLTK\n",
    "import nltk\n",
    "nltk.download('stopwords')\n",
    "from nltk.corpus import stopwords\n",
    "nltk.download('wordnet')\n",
    "from nltk.stem import WordNetLemmatizer\n",
    "\n",
    "# sklearn\n",
    "from sklearn.preprocessing import LabelEncoder\n",
    "from sklearn.metrics import accuracy_score\n",
    "from sklearn.metrics import roc_auc_score\n",
    "from sklearn.metrics import classification_report\n",
    "from sklearn.metrics import confusion_matrix, plot_confusion_matrix, ConfusionMatrixDisplay\n",
    "from sklearn.metrics import roc_curve\n",
    "from sklearn.metrics import auc\n",
    "from sklearn import metrics"
   ]
  },
  {
   "cell_type": "markdown",
   "metadata": {},
   "source": [
    "# 2.  Loading data"
   ]
  },
  {
   "cell_type": "code",
   "execution_count": 16,
   "metadata": {
    "execution": {
     "iopub.execute_input": "2021-08-23T20:19:12.998813Z",
     "iopub.status.busy": "2021-08-23T20:19:12.998185Z",
     "iopub.status.idle": "2021-08-23T20:19:13.245292Z",
     "shell.execute_reply": "2021-08-23T20:19:13.244242Z",
     "shell.execute_reply.started": "2021-08-23T20:19:12.998770Z"
    }
   },
   "outputs": [],
   "source": [
    "df_train = pd.read_csv(\"Training.csv\")\n",
    "df_test = pd.read_csv(\"Testing.csv\")"
   ]
  },
  {
   "cell_type": "code",
   "execution_count": 17,
   "metadata": {},
   "outputs": [],
   "source": [
    "df_train.tweet = df_train.tweet.astype(str)\n",
    "df_test.tweet = df_test.tweet.astype(str)"
   ]
  },
  {
   "cell_type": "code",
   "execution_count": 18,
   "metadata": {},
   "outputs": [],
   "source": [
    "df_train_new = df_train[df_train['subtask_b'] == \"TIN\"]"
   ]
  },
  {
   "cell_type": "code",
   "execution_count": 19,
   "metadata": {},
   "outputs": [],
   "source": [
    "df_test_new = df_test[df_test['subtask_b'] == \"TIN\"]"
   ]
  },
  {
   "cell_type": "code",
   "execution_count": 20,
   "metadata": {},
   "outputs": [
    {
     "data": {
      "text/plain": [
       "array(['GRP', 'IND', 'OTH'], dtype=object)"
      ]
     },
     "execution_count": 20,
     "metadata": {},
     "output_type": "execute_result"
    }
   ],
   "source": [
    "df_test_new.subtask_c.unique()"
   ]
  },
  {
   "cell_type": "code",
   "execution_count": 21,
   "metadata": {},
   "outputs": [
    {
     "data": {
      "text/plain": [
       "array(['GRP', 'IND', 'OTH'], dtype=object)"
      ]
     },
     "execution_count": 21,
     "metadata": {},
     "output_type": "execute_result"
    }
   ],
   "source": [
    "df_train_new.subtask_c.unique()"
   ]
  },
  {
   "cell_type": "markdown",
   "metadata": {},
   "source": [
    "# 3.  Data overview"
   ]
  },
  {
   "cell_type": "code",
   "execution_count": 22,
   "metadata": {
    "execution": {
     "iopub.execute_input": "2021-08-23T20:19:14.334110Z",
     "iopub.status.busy": "2021-08-23T20:19:14.333698Z",
     "iopub.status.idle": "2021-08-23T20:19:14.347591Z",
     "shell.execute_reply": "2021-08-23T20:19:14.346616Z",
     "shell.execute_reply.started": "2021-08-23T20:19:14.334080Z"
    }
   },
   "outputs": [
    {
     "data": {
      "text/html": [
       "<div>\n",
       "<style scoped>\n",
       "    .dataframe tbody tr th:only-of-type {\n",
       "        vertical-align: middle;\n",
       "    }\n",
       "\n",
       "    .dataframe tbody tr th {\n",
       "        vertical-align: top;\n",
       "    }\n",
       "\n",
       "    .dataframe thead th {\n",
       "        text-align: right;\n",
       "    }\n",
       "</style>\n",
       "<table border=\"1\" class=\"dataframe\">\n",
       "  <thead>\n",
       "    <tr style=\"text-align: right;\">\n",
       "      <th></th>\n",
       "      <th>tweet</th>\n",
       "      <th>subtask_a</th>\n",
       "      <th>subtask_b</th>\n",
       "      <th>subtask_c</th>\n",
       "    </tr>\n",
       "  </thead>\n",
       "  <tbody>\n",
       "    <tr>\n",
       "      <th>0</th>\n",
       "      <td>भिकारचोट पत्रकार दलाल आहेत साले</td>\n",
       "      <td>Offensive</td>\n",
       "      <td>TIN</td>\n",
       "      <td>GRP</td>\n",
       "    </tr>\n",
       "    <tr>\n",
       "      <th>1</th>\n",
       "      <td>म्हणून हे परप्रांतीय लोंढे थांबवा आणि महाराष्ट...</td>\n",
       "      <td>Offensive</td>\n",
       "      <td>TIN</td>\n",
       "      <td>GRP</td>\n",
       "    </tr>\n",
       "    <tr>\n",
       "      <th>2</th>\n",
       "      <td>छान लिहिला आहेपण त्या बावळट माणसांना असले स्पष...</td>\n",
       "      <td>Offensive</td>\n",
       "      <td>TIN</td>\n",
       "      <td>GRP</td>\n",
       "    </tr>\n",
       "    <tr>\n",
       "      <th>3</th>\n",
       "      <td>एकदम मान्य नाहीतरी ही भिकारचोट मंडळी त्या सिने...</td>\n",
       "      <td>Offensive</td>\n",
       "      <td>TIN</td>\n",
       "      <td>GRP</td>\n",
       "    </tr>\n",
       "    <tr>\n",
       "      <th>4</th>\n",
       "      <td>भिकारचोट मराठी मीडि…</td>\n",
       "      <td>Offensive</td>\n",
       "      <td>TIN</td>\n",
       "      <td>GRP</td>\n",
       "    </tr>\n",
       "  </tbody>\n",
       "</table>\n",
       "</div>"
      ],
      "text/plain": [
       "                                               tweet  subtask_a subtask_b  \\\n",
       "0                    भिकारचोट पत्रकार दलाल आहेत साले  Offensive       TIN   \n",
       "1  म्हणून हे परप्रांतीय लोंढे थांबवा आणि महाराष्ट...  Offensive       TIN   \n",
       "2  छान लिहिला आहेपण त्या बावळट माणसांना असले स्पष...  Offensive       TIN   \n",
       "3  एकदम मान्य नाहीतरी ही भिकारचोट मंडळी त्या सिने...  Offensive       TIN   \n",
       "4                               भिकारचोट मराठी मीडि…  Offensive       TIN   \n",
       "\n",
       "  subtask_c  \n",
       "0       GRP  \n",
       "1       GRP  \n",
       "2       GRP  \n",
       "3       GRP  \n",
       "4       GRP  "
      ]
     },
     "execution_count": 22,
     "metadata": {},
     "output_type": "execute_result"
    }
   ],
   "source": [
    "df_train.head(5)"
   ]
  },
  {
   "cell_type": "code",
   "execution_count": 23,
   "metadata": {},
   "outputs": [
    {
     "data": {
      "text/html": [
       "<style  type=\"text/css\" >\n",
       "#T_b8819_row0_col1{\n",
       "            background-color:  #3f007d;\n",
       "            color:  #f1f1f1;\n",
       "        }#T_b8819_row1_col1{\n",
       "            background-color:  #fcfbfd;\n",
       "            color:  #000000;\n",
       "        }</style><table id=\"T_b8819_\" ><thead>    <tr>        <th class=\"blank level0\" ></th>        <th class=\"col_heading level0 col0\" >subtask_a</th>        <th class=\"col_heading level0 col1\" >tweet</th>    </tr></thead><tbody>\n",
       "                <tr>\n",
       "                        <th id=\"T_b8819_level0_row0\" class=\"row_heading level0 row0\" >1</th>\n",
       "                        <td id=\"T_b8819_row0_col0\" class=\"data row0 col0\" >not offensive</td>\n",
       "                        <td id=\"T_b8819_row0_col1\" class=\"data row0 col1\" >10547</td>\n",
       "            </tr>\n",
       "            <tr>\n",
       "                        <th id=\"T_b8819_level0_row1\" class=\"row_heading level0 row1\" >0</th>\n",
       "                        <td id=\"T_b8819_row1_col0\" class=\"data row1 col0\" >Offensive</td>\n",
       "                        <td id=\"T_b8819_row1_col1\" class=\"data row1 col1\" >2333</td>\n",
       "            </tr>\n",
       "    </tbody></table>"
      ],
      "text/plain": [
       "<pandas.io.formats.style.Styler at 0x7f9b50960430>"
      ]
     },
     "execution_count": 23,
     "metadata": {},
     "output_type": "execute_result"
    }
   ],
   "source": [
    "temp = df_train.groupby('subtask_a').count()['tweet'].reset_index().sort_values(by='tweet',ascending=False)\n",
    "temp.style.background_gradient(cmap='Purples')"
   ]
  },
  {
   "cell_type": "code",
   "execution_count": 24,
   "metadata": {},
   "outputs": [
    {
     "data": {
      "text/html": [
       "<style  type=\"text/css\" >\n",
       "#T_b61dc_row0_col1{\n",
       "            background-color:  #3f007d;\n",
       "            color:  #f1f1f1;\n",
       "        }#T_b61dc_row1_col1{\n",
       "            background-color:  #fcfbfd;\n",
       "            color:  #000000;\n",
       "        }</style><table id=\"T_b61dc_\" ><thead>    <tr>        <th class=\"blank level0\" ></th>        <th class=\"col_heading level0 col0\" >subtask_b</th>        <th class=\"col_heading level0 col1\" >tweet</th>    </tr></thead><tbody>\n",
       "                <tr>\n",
       "                        <th id=\"T_b61dc_level0_row0\" class=\"row_heading level0 row0\" >0</th>\n",
       "                        <td id=\"T_b61dc_row0_col0\" class=\"data row0 col0\" >TIN</td>\n",
       "                        <td id=\"T_b61dc_row0_col1\" class=\"data row0 col1\" >1857</td>\n",
       "            </tr>\n",
       "            <tr>\n",
       "                        <th id=\"T_b61dc_level0_row1\" class=\"row_heading level0 row1\" >1</th>\n",
       "                        <td id=\"T_b61dc_row1_col0\" class=\"data row1 col0\" >UNT</td>\n",
       "                        <td id=\"T_b61dc_row1_col1\" class=\"data row1 col1\" >476</td>\n",
       "            </tr>\n",
       "    </tbody></table>"
      ],
      "text/plain": [
       "<pandas.io.formats.style.Styler at 0x7f9a7e74fc70>"
      ]
     },
     "execution_count": 24,
     "metadata": {},
     "output_type": "execute_result"
    }
   ],
   "source": [
    "temp = df_train.groupby('subtask_b').count()['tweet'].reset_index().sort_values(by='tweet',ascending=False)\n",
    "temp.style.background_gradient(cmap='Purples')"
   ]
  },
  {
   "cell_type": "code",
   "execution_count": 25,
   "metadata": {},
   "outputs": [
    {
     "data": {
      "text/html": [
       "<style  type=\"text/css\" >\n",
       "#T_7aaf9_row0_col1{\n",
       "            background-color:  #3f007d;\n",
       "            color:  #f1f1f1;\n",
       "        }#T_7aaf9_row1_col1{\n",
       "            background-color:  #f1eff6;\n",
       "            color:  #000000;\n",
       "        }#T_7aaf9_row2_col1{\n",
       "            background-color:  #fcfbfd;\n",
       "            color:  #000000;\n",
       "        }</style><table id=\"T_7aaf9_\" ><thead>    <tr>        <th class=\"blank level0\" ></th>        <th class=\"col_heading level0 col0\" >subtask_c</th>        <th class=\"col_heading level0 col1\" >tweet</th>    </tr></thead><tbody>\n",
       "                <tr>\n",
       "                        <th id=\"T_7aaf9_level0_row0\" class=\"row_heading level0 row0\" >1</th>\n",
       "                        <td id=\"T_7aaf9_row0_col0\" class=\"data row0 col0\" >IND</td>\n",
       "                        <td id=\"T_7aaf9_row0_col1\" class=\"data row0 col1\" >1549</td>\n",
       "            </tr>\n",
       "            <tr>\n",
       "                        <th id=\"T_7aaf9_level0_row1\" class=\"row_heading level0 row1\" >0</th>\n",
       "                        <td id=\"T_7aaf9_row1_col0\" class=\"data row1 col0\" >GRP</td>\n",
       "                        <td id=\"T_7aaf9_row1_col1\" class=\"data row1 col1\" >237</td>\n",
       "            </tr>\n",
       "            <tr>\n",
       "                        <th id=\"T_7aaf9_level0_row2\" class=\"row_heading level0 row2\" >2</th>\n",
       "                        <td id=\"T_7aaf9_row2_col0\" class=\"data row2 col0\" >OTH</td>\n",
       "                        <td id=\"T_7aaf9_row2_col1\" class=\"data row2 col1\" >71</td>\n",
       "            </tr>\n",
       "    </tbody></table>"
      ],
      "text/plain": [
       "<pandas.io.formats.style.Styler at 0x7f9a7e74f490>"
      ]
     },
     "execution_count": 25,
     "metadata": {},
     "output_type": "execute_result"
    }
   ],
   "source": [
    "temp = df_train.groupby('subtask_c').count()['tweet'].reset_index().sort_values(by='tweet',ascending=False)\n",
    "temp.style.background_gradient(cmap='Purples')"
   ]
  },
  {
   "cell_type": "code",
   "execution_count": 26,
   "metadata": {},
   "outputs": [
    {
     "data": {
      "image/png": "[encoded data removed]",
      "text/plain": [
       "<Figure size 864x432 with 1 Axes>"
      ]
     },
     "metadata": {
      "needs_background": "light"
     },
     "output_type": "display_data"
    }
   ],
   "source": [
    "plt.figure(figsize=(12,6))\n",
    "df_train['subtask_a'].value_counts().plot.bar()\n",
    "plt.show()"
   ]
  },
  {
   "cell_type": "code",
   "execution_count": 27,
   "metadata": {},
   "outputs": [
    {
     "data": {
      "image/png": "[encoded data removed]",
      "text/plain": [
       "<Figure size 864x432 with 1 Axes>"
      ]
     },
     "metadata": {
      "needs_background": "light"
     },
     "output_type": "display_data"
    }
   ],
   "source": [
    "plt.figure(figsize=(12,6))\n",
    "df_train['subtask_b'].value_counts().plot.bar()\n",
    "plt.show()"
   ]
  },
  {
   "cell_type": "code",
   "execution_count": 28,
   "metadata": {},
   "outputs": [
    {
     "data": {
      "image/png": "[encoded data removed]",
      "text/plain": [
       "<Figure size 864x432 with 1 Axes>"
      ]
     },
     "metadata": {
      "needs_background": "light"
     },
     "output_type": "display_data"
    }
   ],
   "source": [
    "plt.figure(figsize=(12,6))\n",
    "df_train['subtask_c'].value_counts().plot.bar()\n",
    "plt.show()"
   ]
  },
  {
   "cell_type": "code",
   "execution_count": 29,
   "metadata": {},
   "outputs": [
    {
     "data": {
      "text/html": [
       "<style  type=\"text/css\" >\n",
       "#T_bff8a_row0_col1{\n",
       "            background-color:  #00ff80;\n",
       "            color:  #000000;\n",
       "        }#T_bff8a_row1_col1{\n",
       "            background-color:  #0000ff;\n",
       "            color:  #f1f1f1;\n",
       "        }</style><table id=\"T_bff8a_\" ><thead>    <tr>        <th class=\"blank level0\" ></th>        <th class=\"col_heading level0 col0\" >subtask_a</th>        <th class=\"col_heading level0 col1\" >tweet</th>    </tr></thead><tbody>\n",
       "                <tr>\n",
       "                        <th id=\"T_bff8a_level0_row0\" class=\"row_heading level0 row0\" >1</th>\n",
       "                        <td id=\"T_bff8a_row0_col0\" class=\"data row0 col0\" >not offensive</td>\n",
       "                        <td id=\"T_bff8a_row0_col1\" class=\"data row0 col1\" >10547</td>\n",
       "            </tr>\n",
       "            <tr>\n",
       "                        <th id=\"T_bff8a_level0_row1\" class=\"row_heading level0 row1\" >0</th>\n",
       "                        <td id=\"T_bff8a_row1_col0\" class=\"data row1 col0\" >Offensive</td>\n",
       "                        <td id=\"T_bff8a_row1_col1\" class=\"data row1 col1\" >2333</td>\n",
       "            </tr>\n",
       "    </tbody></table>"
      ],
      "text/plain": [
       "<pandas.io.formats.style.Styler at 0x7f9a7e7aa3d0>"
      ]
     },
     "execution_count": 29,
     "metadata": {},
     "output_type": "execute_result"
    }
   ],
   "source": [
    "class_df = df_train.groupby('subtask_a').count()['tweet'].reset_index().sort_values(by='tweet',ascending=False)\n",
    "class_df.style.background_gradient(cmap='winter')"
   ]
  },
  {
   "cell_type": "code",
   "execution_count": 30,
   "metadata": {},
   "outputs": [
    {
     "data": {
      "image/png": "[encoded data removed]",
      "text/plain": [
       "<Figure size 432x288 with 1 Axes>"
      ]
     },
     "metadata": {},
     "output_type": "display_data"
    }
   ],
   "source": [
    "percent_class=class_df.tweet\n",
    "labels= class_df.subtask_a\n",
    "\n",
    "colors = ['#17C37B','#F92969','#FACA0C']\n",
    "\n",
    "my_pie,_,_ = plt.pie(percent_class,radius = 1.2,labels=labels,colors=colors,autopct=\"%.1f%%\")\n",
    "\n",
    "plt.setp(my_pie, width=0.6, edgecolor='white') \n",
    "\n",
    "plt.show()"
   ]
  },
  {
   "cell_type": "code",
   "execution_count": 31,
   "metadata": {},
   "outputs": [
    {
     "data": {
      "text/html": [
       "<style  type=\"text/css\" >\n",
       "#T_da5f9_row0_col1{\n",
       "            background-color:  #00ff80;\n",
       "            color:  #000000;\n",
       "        }#T_da5f9_row1_col1{\n",
       "            background-color:  #0000ff;\n",
       "            color:  #f1f1f1;\n",
       "        }</style><table id=\"T_da5f9_\" ><thead>    <tr>        <th class=\"blank level0\" ></th>        <th class=\"col_heading level0 col0\" >subtask_b</th>        <th class=\"col_heading level0 col1\" >tweet</th>    </tr></thead><tbody>\n",
       "                <tr>\n",
       "                        <th id=\"T_da5f9_level0_row0\" class=\"row_heading level0 row0\" >0</th>\n",
       "                        <td id=\"T_da5f9_row0_col0\" class=\"data row0 col0\" >TIN</td>\n",
       "                        <td id=\"T_da5f9_row0_col1\" class=\"data row0 col1\" >1857</td>\n",
       "            </tr>\n",
       "            <tr>\n",
       "                        <th id=\"T_da5f9_level0_row1\" class=\"row_heading level0 row1\" >1</th>\n",
       "                        <td id=\"T_da5f9_row1_col0\" class=\"data row1 col0\" >UNT</td>\n",
       "                        <td id=\"T_da5f9_row1_col1\" class=\"data row1 col1\" >476</td>\n",
       "            </tr>\n",
       "    </tbody></table>"
      ],
      "text/plain": [
       "<pandas.io.formats.style.Styler at 0x7f9a7dce1070>"
      ]
     },
     "execution_count": 31,
     "metadata": {},
     "output_type": "execute_result"
    }
   ],
   "source": [
    "class_df = df_train.groupby('subtask_b').count()['tweet'].reset_index().sort_values(by='tweet',ascending=False)\n",
    "class_df.style.background_gradient(cmap='winter')"
   ]
  },
  {
   "cell_type": "code",
   "execution_count": 32,
   "metadata": {},
   "outputs": [
    {
     "data": {
      "image/png": "[encoded data removed]",
      "text/plain": [
       "<Figure size 432x288 with 1 Axes>"
      ]
     },
     "metadata": {},
     "output_type": "display_data"
    }
   ],
   "source": [
    "percent_class=class_df.tweet\n",
    "labels= class_df.subtask_b\n",
    "\n",
    "colors = ['#17C37B','#F92969','#FACA0C']\n",
    "\n",
    "my_pie,_,_ = plt.pie(percent_class,radius = 1.2,labels=labels,colors=colors,autopct=\"%.1f%%\")\n",
    "\n",
    "plt.setp(my_pie, width=0.6, edgecolor='white') \n",
    "\n",
    "plt.show()"
   ]
  },
  {
   "cell_type": "code",
   "execution_count": 33,
   "metadata": {},
   "outputs": [
    {
     "data": {
      "text/html": [
       "<style  type=\"text/css\" >\n",
       "#T_9181d_row0_col1{\n",
       "            background-color:  #00ff80;\n",
       "            color:  #000000;\n",
       "        }#T_9181d_row1_col1{\n",
       "            background-color:  #001cf1;\n",
       "            color:  #f1f1f1;\n",
       "        }#T_9181d_row2_col1{\n",
       "            background-color:  #0000ff;\n",
       "            color:  #f1f1f1;\n",
       "        }</style><table id=\"T_9181d_\" ><thead>    <tr>        <th class=\"blank level0\" ></th>        <th class=\"col_heading level0 col0\" >subtask_c</th>        <th class=\"col_heading level0 col1\" >tweet</th>    </tr></thead><tbody>\n",
       "                <tr>\n",
       "                        <th id=\"T_9181d_level0_row0\" class=\"row_heading level0 row0\" >1</th>\n",
       "                        <td id=\"T_9181d_row0_col0\" class=\"data row0 col0\" >IND</td>\n",
       "                        <td id=\"T_9181d_row0_col1\" class=\"data row0 col1\" >1549</td>\n",
       "            </tr>\n",
       "            <tr>\n",
       "                        <th id=\"T_9181d_level0_row1\" class=\"row_heading level0 row1\" >0</th>\n",
       "                        <td id=\"T_9181d_row1_col0\" class=\"data row1 col0\" >GRP</td>\n",
       "                        <td id=\"T_9181d_row1_col1\" class=\"data row1 col1\" >237</td>\n",
       "            </tr>\n",
       "            <tr>\n",
       "                        <th id=\"T_9181d_level0_row2\" class=\"row_heading level0 row2\" >2</th>\n",
       "                        <td id=\"T_9181d_row2_col0\" class=\"data row2 col0\" >OTH</td>\n",
       "                        <td id=\"T_9181d_row2_col1\" class=\"data row2 col1\" >71</td>\n",
       "            </tr>\n",
       "    </tbody></table>"
      ],
      "text/plain": [
       "<pandas.io.formats.style.Styler at 0x7f9a7dce14c0>"
      ]
     },
     "execution_count": 33,
     "metadata": {},
     "output_type": "execute_result"
    }
   ],
   "source": [
    "class_df = df_train.groupby('subtask_c').count()['tweet'].reset_index().sort_values(by='tweet',ascending=False)\n",
    "class_df.style.background_gradient(cmap='winter')"
   ]
  },
  {
   "cell_type": "code",
   "execution_count": 34,
   "metadata": {},
   "outputs": [
    {
     "data": {
      "image/png": "[encoded data removed]",
      "text/plain": [
       "<Figure size 432x288 with 1 Axes>"
      ]
     },
     "metadata": {},
     "output_type": "display_data"
    }
   ],
   "source": [
    "percent_class=class_df.tweet\n",
    "labels= class_df.subtask_c\n",
    "\n",
    "colors = ['#17C37B','#F92969','#FACA0C']\n",
    "\n",
    "my_pie,_,_ = plt.pie(percent_class,radius = 1.2,labels=labels,colors=colors,autopct=\"%.1f%%\")\n",
    "\n",
    "plt.setp(my_pie, width=0.6, edgecolor='white') \n",
    "\n",
    "plt.show()"
   ]
  },
  {
   "cell_type": "markdown",
   "metadata": {},
   "source": [
    "# 5. Cleaning tweets"
   ]
  },
  {
   "cell_type": "code",
   "execution_count": 35,
   "metadata": {},
   "outputs": [],
   "source": [
    "\n",
    "import re\n",
    "import pandas as pd\n",
    "\n",
    "\n",
    "# pre-processing the data\n",
    "def clean_text(row, options):\n",
    "\n",
    "    if options['lowercase']:\n",
    "        row = str(row).lower()\n",
    "\n",
    "    if options['strip_spaces']:\n",
    "        row = str(row).strip()\n",
    "\n",
    "    if options['remove_url']:\n",
    "        row = str(row).replace('http\\S+|www.\\S+', '')\n",
    "\n",
    "    if options['remove_mentions']:\n",
    "        row = re.sub(\"@[A-Za-z0-9]+\",\"@USER\",row)\n",
    "\n",
    "    if options['remove_newline']:\n",
    "        row = re.sub(r'\\n',' ',row)\n",
    "\n",
    "    if options['remove_tab']:\n",
    "        row = re.sub(r'\\t',' ',row)\n",
    "\n",
    "    if options['remove_english']:\n",
    "        row = re.sub(\"[A-Za-z0-9]+\",\"\",row)\n",
    "\n",
    "    if options['add_USER_tag']:\n",
    "        row = re.sub(\"@\",\"@USER\",row)\n",
    "\n",
    "    if options['remove_specials']:\n",
    "        row = re.sub('[+,-,_,=,/,<,>,!,#,$,%,^,&,*,\\\",:,;,.,' ',\\t,\\r,\\n,\\',|]','',row)\n",
    "    return row\n",
    "\n",
    "clean_config = {\n",
    "    'remove_url': True,\n",
    "    'remove_mentions': True,\n",
    "    'decode_utf8': True,\n",
    "    'lowercase': True,\n",
    "    'remove_english': True,\n",
    "    'remove_specials': True,\n",
    "    'add_USER_tag': True,\n",
    "    'remove_newline':True,\n",
    "    'remove_tab':True,\n",
    "    'strip_spaces':True\n",
    "    }\n",
    "\n",
    "\n",
    "def demoji(text):\n",
    "    emoji_pattern = re.compile(\"[\"\n",
    "        u\"\\U0001F600-\\U0001F64F\"  # emoticons\n",
    "        u\"\\U0001F300-\\U0001F5FF\"  # symbols & pictographs\n",
    "        u\"\\U0001F680-\\U0001F6FF\"  # transport & map symbols\n",
    "        u\"\\U0001F1E0-\\U0001F1FF\"  # flags (iOS)\n",
    "        u\"\\U00002702-\\U000027B0\"\n",
    "        u\"\\U000024C2-\\U0001F251\"\n",
    "        u\"\\U00010000-\\U0010ffff\"\n",
    "                               \"]+\", flags=re.UNICODE)\n",
    "    return(emoji_pattern.sub(r'', text))\n",
    "\n",
    "\n",
    "def main():\n",
    "    dataset = df_test_new\n",
    "\n",
    "    dataset_df = pd.DataFrame(dataset)\n",
    "\n",
    "    dataset_df = dataset_df[[\"tweet\",\"subtask_a\",\"subtask_b\",\"subtask_c\"]]\n",
    "    #, \"subtask_c\", \"subtask_b\", \"subtask_c\"\n",
    "\n",
    "    #lowe case conversion\n",
    "    dataset_df['tweet'] = dataset_df['tweet'].str.lower()\n",
    "\n",
    "    # calling pre-processing function\n",
    "    dataset_df['tweet'] = dataset_df['tweet'].apply(clean_text, args=(clean_config,))\n",
    "\n",
    "    #stripping leading and trailing whitespaces\n",
    "    dataset_df['tweet'] = dataset_df['tweet'].str.strip()\n",
    "\n",
    "    #remove emojis - not working\n",
    "    dataset_df.astype(str).apply(lambda x: x.str.encode('ascii', 'ignore').str.decode('ascii'))\n",
    "\n",
    "    #remove emojis - working\n",
    "    dataset_df['tweet'] = dataset_df['tweet'].apply( lambda x : demoji(x))\n",
    "\n",
    "    # convert df to csv\n",
    "    dataset_df.to_csv('testing_cleaned_new.csv',index = False)\n",
    "\n",
    "if __name__ == \"__main__\":\n",
    "    main()"
   ]
  },
  {
   "cell_type": "code",
   "execution_count": 36,
   "metadata": {},
   "outputs": [],
   "source": [
    "\n",
    "import re\n",
    "import pandas as pd\n",
    "\n",
    "\n",
    "# pre-processing the data\n",
    "def clean_text(row, options):\n",
    "\n",
    "    if options['lowercase']:\n",
    "        row = str(row).lower()\n",
    "\n",
    "    if options['strip_spaces']:\n",
    "        row = str(row).strip()\n",
    "\n",
    "    if options['remove_url']:\n",
    "        row = str(row).replace('http\\S+|www.\\S+', '')\n",
    "\n",
    "    if options['remove_mentions']:\n",
    "        row = re.sub(\"@[A-Za-z0-9]+\",\"@USER\",row)\n",
    "\n",
    "    if options['remove_newline']:\n",
    "        row = re.sub(r'\\n',' ',row)\n",
    "\n",
    "    if options['remove_tab']:\n",
    "        row = re.sub(r'\\t',' ',row)\n",
    "\n",
    "    if options['remove_english']:\n",
    "        row = re.sub(\"[A-Za-z0-9]+\",\"\",row)\n",
    "\n",
    "    if options['add_USER_tag']:\n",
    "        row = re.sub(\"@\",\"@USER\",row)\n",
    "\n",
    "    if options['remove_specials']:\n",
    "        row = re.sub('[+,-,_,=,/,<,>,!,#,$,%,^,&,*,\\\",:,;,.,' ',\\t,\\r,\\n,\\',|]','',row)\n",
    "    return row\n",
    "\n",
    "clean_config = {\n",
    "    'remove_url': True,\n",
    "    'remove_mentions': True,\n",
    "    'decode_utf8': True,\n",
    "    'lowercase': True,\n",
    "    'remove_english': True,\n",
    "    'remove_specials': True,\n",
    "    'add_USER_tag': True,\n",
    "    'remove_newline':True,\n",
    "    'remove_tab':True,\n",
    "    'strip_spaces':True\n",
    "    }\n",
    "\n",
    "\n",
    "def demoji(text):\n",
    "    emoji_pattern = re.compile(\"[\"\n",
    "        u\"\\U0001F600-\\U0001F64F\"  # emoticons\n",
    "        u\"\\U0001F300-\\U0001F5FF\"  # symbols & pictographs\n",
    "        u\"\\U0001F680-\\U0001F6FF\"  # transport & map symbols\n",
    "        u\"\\U0001F1E0-\\U0001F1FF\"  # flags (iOS)\n",
    "        u\"\\U00002702-\\U000027B0\"\n",
    "        u\"\\U000024C2-\\U0001F251\"\n",
    "        u\"\\U00010000-\\U0010ffff\"\n",
    "                               \"]+\", flags=re.UNICODE)\n",
    "    return(emoji_pattern.sub(r'', text))\n",
    "\n",
    "\n",
    "def main():\n",
    "    dataset = df_train_new\n",
    "\n",
    "    dataset_df = pd.DataFrame(dataset)\n",
    "\n",
    "    dataset_df = dataset_df[[\"tweet\",\"subtask_a\",\"subtask_b\",\"subtask_c\"]]\n",
    "    #, \"subtask_c\", \"subtask_b\", \"subtask_c\"\n",
    "\n",
    "    #lowe case conversion\n",
    "    dataset_df['tweet'] = dataset_df['tweet'].str.lower()\n",
    "\n",
    "    # calling pre-processing function\n",
    "    dataset_df['tweet'] = dataset_df['tweet'].apply(clean_text, args=(clean_config,))\n",
    "\n",
    "    #stripping leading and trailing whitespaces\n",
    "    dataset_df['tweet'] = dataset_df['tweet'].str.strip()\n",
    "\n",
    "    #remove emojis - not working\n",
    "    dataset_df.astype(str).apply(lambda x: x.str.encode('ascii', 'ignore').str.decode('ascii'))\n",
    "\n",
    "    #remove emojis - working\n",
    "    dataset_df['tweet'] = dataset_df['tweet'].apply( lambda x : demoji(x))\n",
    "\n",
    "    # convert df to csv\n",
    "    dataset_df.to_csv('training_cleaned_new.csv',index = False)\n",
    "\n",
    "if __name__ == \"__main__\":\n",
    "    main()"
   ]
  },
  {
   "cell_type": "code",
   "execution_count": 37,
   "metadata": {},
   "outputs": [],
   "source": [
    "# # df_train.subtask_a = df_train.subtask_a.dropna()\n",
    "# # df_train = df_train.reset_index(drop=True)\n",
    "\n",
    "# df_train.subtask_b = df_train.subtask_b.dropna()\n",
    "# df_train = df_train.reset_index(drop=True)\n",
    "\n",
    "# # df_train.subtask_c = df_train.subtask_c.dropna()\n",
    "# # df_train = df_train.reset_index(drop=True)\n",
    "\n",
    "\n",
    "# # df_test.subtask_a = df_test.subtask_a.dropna()\n",
    "# # df_test = df_test.reset_index(drop=True)\n",
    "\n",
    "# df_test.subtask_b = df_test.subtask_b.dropna()\n",
    "# df_test = df_test.reset_index(drop=True)\n",
    "\n",
    "# # df_test.subtask_c = df_test.subtask_c.dropna()\n",
    "# # df_test = df_test.reset_index(drop=True)"
   ]
  },
  {
   "cell_type": "code",
   "execution_count": 38,
   "metadata": {},
   "outputs": [
    {
     "data": {
      "text/html": [
       "<style  type=\"text/css\" >\n",
       "#T_a96e8_row0_col1{\n",
       "            background-color:  #3f007d;\n",
       "            color:  #f1f1f1;\n",
       "        }#T_a96e8_row1_col1{\n",
       "            background-color:  #fcfbfd;\n",
       "            color:  #000000;\n",
       "        }</style><table id=\"T_a96e8_\" ><thead>    <tr>        <th class=\"blank level0\" ></th>        <th class=\"col_heading level0 col0\" >subtask_b</th>        <th class=\"col_heading level0 col1\" >tweet</th>    </tr></thead><tbody>\n",
       "                <tr>\n",
       "                        <th id=\"T_a96e8_level0_row0\" class=\"row_heading level0 row0\" >0</th>\n",
       "                        <td id=\"T_a96e8_row0_col0\" class=\"data row0 col0\" >TIN</td>\n",
       "                        <td id=\"T_a96e8_row0_col1\" class=\"data row0 col1\" >1857</td>\n",
       "            </tr>\n",
       "            <tr>\n",
       "                        <th id=\"T_a96e8_level0_row1\" class=\"row_heading level0 row1\" >1</th>\n",
       "                        <td id=\"T_a96e8_row1_col0\" class=\"data row1 col0\" >UNT</td>\n",
       "                        <td id=\"T_a96e8_row1_col1\" class=\"data row1 col1\" >476</td>\n",
       "            </tr>\n",
       "    </tbody></table>"
      ],
      "text/plain": [
       "<pandas.io.formats.style.Styler at 0x7f9a7e34d3d0>"
      ]
     },
     "execution_count": 38,
     "metadata": {},
     "output_type": "execute_result"
    }
   ],
   "source": [
    "temp = df_train.groupby('subtask_b').count()['tweet'].reset_index().sort_values(by='tweet',ascending=False)\n",
    "temp.style.background_gradient(cmap='Purples')"
   ]
  },
  {
   "cell_type": "code",
   "execution_count": 39,
   "metadata": {},
   "outputs": [
    {
     "data": {
      "text/html": [
       "<style  type=\"text/css\" >\n",
       "#T_9e1a2_row0_col1{\n",
       "            background-color:  #3f007d;\n",
       "            color:  #f1f1f1;\n",
       "        }#T_9e1a2_row1_col1{\n",
       "            background-color:  #fcfbfd;\n",
       "            color:  #000000;\n",
       "        }</style><table id=\"T_9e1a2_\" ><thead>    <tr>        <th class=\"blank level0\" ></th>        <th class=\"col_heading level0 col0\" >subtask_b</th>        <th class=\"col_heading level0 col1\" >tweet</th>    </tr></thead><tbody>\n",
       "                <tr>\n",
       "                        <th id=\"T_9e1a2_level0_row0\" class=\"row_heading level0 row0\" >0</th>\n",
       "                        <td id=\"T_9e1a2_row0_col0\" class=\"data row0 col0\" >TIN</td>\n",
       "                        <td id=\"T_9e1a2_row0_col1\" class=\"data row0 col1\" >61</td>\n",
       "            </tr>\n",
       "            <tr>\n",
       "                        <th id=\"T_9e1a2_level0_row1\" class=\"row_heading level0 row1\" >1</th>\n",
       "                        <td id=\"T_9e1a2_row1_col0\" class=\"data row1 col0\" >UNT</td>\n",
       "                        <td id=\"T_9e1a2_row1_col1\" class=\"data row1 col1\" >24</td>\n",
       "            </tr>\n",
       "    </tbody></table>"
      ],
      "text/plain": [
       "<pandas.io.formats.style.Styler at 0x7f9a7ddd6250>"
      ]
     },
     "execution_count": 39,
     "metadata": {},
     "output_type": "execute_result"
    }
   ],
   "source": [
    "temp = df_test.groupby('subtask_b').count()['tweet'].reset_index().sort_values(by='tweet',ascending=False)\n",
    "temp.style.background_gradient(cmap='Purples')"
   ]
  },
  {
   "cell_type": "code",
   "execution_count": 40,
   "metadata": {},
   "outputs": [],
   "source": [
    "train_df = pd.read_csv('training_cleaned_new.csv')\n",
    "test_df = pd.read_csv('testing_cleaned_new.csv')\n",
    "\n",
    "train_df.tweet = train_df.tweet.astype(str)\n",
    "test_df.tweet = test_df.tweet.astype(str)"
   ]
  },
  {
   "cell_type": "code",
   "execution_count": 41,
   "metadata": {},
   "outputs": [
    {
     "data": {
      "text/html": [
       "<div>\n",
       "<style scoped>\n",
       "    .dataframe tbody tr th:only-of-type {\n",
       "        vertical-align: middle;\n",
       "    }\n",
       "\n",
       "    .dataframe tbody tr th {\n",
       "        vertical-align: top;\n",
       "    }\n",
       "\n",
       "    .dataframe thead th {\n",
       "        text-align: right;\n",
       "    }\n",
       "</style>\n",
       "<table border=\"1\" class=\"dataframe\">\n",
       "  <thead>\n",
       "    <tr style=\"text-align: right;\">\n",
       "      <th></th>\n",
       "      <th>tweet</th>\n",
       "      <th>subtask_a</th>\n",
       "      <th>subtask_b</th>\n",
       "      <th>subtask_c</th>\n",
       "    </tr>\n",
       "  </thead>\n",
       "  <tbody>\n",
       "    <tr>\n",
       "      <th>0</th>\n",
       "      <td>भिकारचोट पत्रकार दलाल आहेत साले</td>\n",
       "      <td>Offensive</td>\n",
       "      <td>TIN</td>\n",
       "      <td>GRP</td>\n",
       "    </tr>\n",
       "    <tr>\n",
       "      <th>1</th>\n",
       "      <td>म्हणून हे परप्रांतीय लोंढे थांबवा आणि महाराष्ट...</td>\n",
       "      <td>Offensive</td>\n",
       "      <td>TIN</td>\n",
       "      <td>GRP</td>\n",
       "    </tr>\n",
       "    <tr>\n",
       "      <th>2</th>\n",
       "      <td>छान लिहिला आहेपण त्या बावळट माणसांना असले स्पष...</td>\n",
       "      <td>Offensive</td>\n",
       "      <td>TIN</td>\n",
       "      <td>GRP</td>\n",
       "    </tr>\n",
       "    <tr>\n",
       "      <th>3</th>\n",
       "      <td>एकदम मान्य नाहीतरी ही भिकारचोट मंडळी त्या सिने...</td>\n",
       "      <td>Offensive</td>\n",
       "      <td>TIN</td>\n",
       "      <td>GRP</td>\n",
       "    </tr>\n",
       "    <tr>\n",
       "      <th>4</th>\n",
       "      <td>भिकारचोट मराठी मीडि…</td>\n",
       "      <td>Offensive</td>\n",
       "      <td>TIN</td>\n",
       "      <td>GRP</td>\n",
       "    </tr>\n",
       "  </tbody>\n",
       "</table>\n",
       "</div>"
      ],
      "text/plain": [
       "                                               tweet  subtask_a subtask_b  \\\n",
       "0                    भिकारचोट पत्रकार दलाल आहेत साले  Offensive       TIN   \n",
       "1  म्हणून हे परप्रांतीय लोंढे थांबवा आणि महाराष्ट...  Offensive       TIN   \n",
       "2  छान लिहिला आहेपण त्या बावळट माणसांना असले स्पष...  Offensive       TIN   \n",
       "3  एकदम मान्य नाहीतरी ही भिकारचोट मंडळी त्या सिने...  Offensive       TIN   \n",
       "4                               भिकारचोट मराठी मीडि…  Offensive       TIN   \n",
       "\n",
       "  subtask_c  \n",
       "0       GRP  \n",
       "1       GRP  \n",
       "2       GRP  \n",
       "3       GRP  \n",
       "4       GRP  "
      ]
     },
     "execution_count": 41,
     "metadata": {},
     "output_type": "execute_result"
    }
   ],
   "source": [
    "train_df.head(5)"
   ]
  },
  {
   "cell_type": "code",
   "execution_count": 42,
   "metadata": {},
   "outputs": [
    {
     "data": {
      "text/plain": [
       "array(['GRP', 'IND', 'OTH'], dtype=object)"
      ]
     },
     "execution_count": 42,
     "metadata": {},
     "output_type": "execute_result"
    }
   ],
   "source": [
    "train_df['subtask_c'].unique()"
   ]
  },
  {
   "cell_type": "code",
   "execution_count": 43,
   "metadata": {},
   "outputs": [
    {
     "data": {
      "text/plain": [
       "array(['GRP', 'IND', 'OTH'], dtype=object)"
      ]
     },
     "execution_count": 43,
     "metadata": {},
     "output_type": "execute_result"
    }
   ],
   "source": [
    "test_df['subtask_c'].unique()"
   ]
  },
  {
   "cell_type": "code",
   "execution_count": 326,
   "metadata": {},
   "outputs": [],
   "source": [
    "# train_df.subtask_a = train_df.subtask_a.dropna()\n",
    "# train_df = train_df.reset_index(drop=True)\n",
    "\n",
    "train_df.subtask_b = train_df.subtask_b.dropna()\n",
    "train_df = train_df.reset_index(drop=True)\n",
    "\n",
    "# train_df.subtask_c = train_df.subtask_c.dropna()\n",
    "# train_df = train_df.reset_index(drop=True)\n",
    "\n",
    "\n",
    "# test_df.subtask_a = test_df.subtask_a.dropna()\n",
    "# test_df = test_df.reset_index(drop=True)\n",
    "\n",
    "test_df.subtask_b = test_df.subtask_b.dropna()\n",
    "test_df = test_df.reset_index(drop=True)\n",
    "\n",
    "# test_df.subtask_c = test_df.subtask_c.dropna()\n",
    "# test_df = test_df.reset_index(drop=True)"
   ]
  },
  {
   "cell_type": "code",
   "execution_count": 44,
   "metadata": {},
   "outputs": [
    {
     "data": {
      "text/html": [
       "<style  type=\"text/css\" >\n",
       "#T_04f9b_row0_col1{\n",
       "            background-color:  #3f007d;\n",
       "            color:  #f1f1f1;\n",
       "        }#T_04f9b_row1_col1{\n",
       "            background-color:  #fcfbfd;\n",
       "            color:  #000000;\n",
       "        }</style><table id=\"T_04f9b_\" ><thead>    <tr>        <th class=\"blank level0\" ></th>        <th class=\"col_heading level0 col0\" >subtask_b</th>        <th class=\"col_heading level0 col1\" >tweet</th>    </tr></thead><tbody>\n",
       "                <tr>\n",
       "                        <th id=\"T_04f9b_level0_row0\" class=\"row_heading level0 row0\" >0</th>\n",
       "                        <td id=\"T_04f9b_row0_col0\" class=\"data row0 col0\" >TIN</td>\n",
       "                        <td id=\"T_04f9b_row0_col1\" class=\"data row0 col1\" >1857</td>\n",
       "            </tr>\n",
       "            <tr>\n",
       "                        <th id=\"T_04f9b_level0_row1\" class=\"row_heading level0 row1\" >1</th>\n",
       "                        <td id=\"T_04f9b_row1_col0\" class=\"data row1 col0\" >UNT</td>\n",
       "                        <td id=\"T_04f9b_row1_col1\" class=\"data row1 col1\" >476</td>\n",
       "            </tr>\n",
       "    </tbody></table>"
      ],
      "text/plain": [
       "<pandas.io.formats.style.Styler at 0x7f9a7dc3b670>"
      ]
     },
     "execution_count": 44,
     "metadata": {},
     "output_type": "execute_result"
    }
   ],
   "source": [
    "temp = df_train.groupby('subtask_b').count()['tweet'].reset_index().sort_values(by='tweet',ascending=False)\n",
    "temp.style.background_gradient(cmap='Purples')"
   ]
  },
  {
   "cell_type": "code",
   "execution_count": 45,
   "metadata": {},
   "outputs": [
    {
     "data": {
      "text/html": [
       "<style  type=\"text/css\" >\n",
       "#T_2fdef_row0_col1{\n",
       "            background-color:  #3f007d;\n",
       "            color:  #f1f1f1;\n",
       "        }#T_2fdef_row1_col1{\n",
       "            background-color:  #fcfbfd;\n",
       "            color:  #000000;\n",
       "        }</style><table id=\"T_2fdef_\" ><thead>    <tr>        <th class=\"blank level0\" ></th>        <th class=\"col_heading level0 col0\" >subtask_b</th>        <th class=\"col_heading level0 col1\" >tweet</th>    </tr></thead><tbody>\n",
       "                <tr>\n",
       "                        <th id=\"T_2fdef_level0_row0\" class=\"row_heading level0 row0\" >0</th>\n",
       "                        <td id=\"T_2fdef_row0_col0\" class=\"data row0 col0\" >TIN</td>\n",
       "                        <td id=\"T_2fdef_row0_col1\" class=\"data row0 col1\" >61</td>\n",
       "            </tr>\n",
       "            <tr>\n",
       "                        <th id=\"T_2fdef_level0_row1\" class=\"row_heading level0 row1\" >1</th>\n",
       "                        <td id=\"T_2fdef_row1_col0\" class=\"data row1 col0\" >UNT</td>\n",
       "                        <td id=\"T_2fdef_row1_col1\" class=\"data row1 col1\" >24</td>\n",
       "            </tr>\n",
       "    </tbody></table>"
      ],
      "text/plain": [
       "<pandas.io.formats.style.Styler at 0x7f9a7e6213a0>"
      ]
     },
     "execution_count": 45,
     "metadata": {},
     "output_type": "execute_result"
    }
   ],
   "source": [
    "temp = df_test.groupby('subtask_b').count()['tweet'].reset_index().sort_values(by='tweet',ascending=False)\n",
    "temp.style.background_gradient(cmap='Purples')"
   ]
  },
  {
   "cell_type": "markdown",
   "metadata": {},
   "source": [
    "# 6.  Looking at data"
   ]
  },
  {
   "cell_type": "markdown",
   "metadata": {},
   "source": [
    "<b>Sentiment repartition:</b>"
   ]
  },
  {
   "cell_type": "code",
   "execution_count": 46,
   "metadata": {
    "execution": {
     "iopub.execute_input": "2021-08-23T20:19:37.669224Z",
     "iopub.status.busy": "2021-08-23T20:19:37.668860Z",
     "iopub.status.idle": "2021-08-23T20:19:37.939222Z",
     "shell.execute_reply": "2021-08-23T20:19:37.938430Z",
     "shell.execute_reply.started": "2021-08-23T20:19:37.669192Z"
    }
   },
   "outputs": [
    {
     "data": {
      "image/png": "[encoded data removed]",
      "text/plain": [
       "<Figure size 1332x360 with 2 Axes>"
      ]
     },
     "metadata": {
      "needs_background": "light"
     },
     "output_type": "display_data"
    }
   ],
   "source": [
    "fig, (ax1, ax2) = plt.subplots(1, 2)\n",
    "fig.set_size_inches(18.5, 5)\n",
    "fig.suptitle('Sentiment repartition among tweets in train and test sets')\n",
    "train_df[\"subtask_a\"].value_counts().plot(kind=\"bar\", ax=ax1);\n",
    "test_df[\"subtask_a\"].value_counts().plot(kind=\"bar\", ax=ax2);"
   ]
  },
  {
   "cell_type": "code",
   "execution_count": 47,
   "metadata": {},
   "outputs": [
    {
     "data": {
      "image/png": "[encoded data removed]",
      "text/plain": [
       "<Figure size 1332x360 with 2 Axes>"
      ]
     },
     "metadata": {
      "needs_background": "light"
     },
     "output_type": "display_data"
    }
   ],
   "source": [
    "fig, (ax1, ax2) = plt.subplots(1, 2)\n",
    "fig.set_size_inches(18.5, 5)\n",
    "fig.suptitle('Sentiment repartition among tweets in train and test sets')\n",
    "train_df[\"subtask_c\"].value_counts().plot(kind=\"bar\", ax=ax1);\n",
    "test_df[\"subtask_c\"].value_counts().plot(kind=\"bar\", ax=ax2);"
   ]
  },
  {
   "cell_type": "markdown",
   "metadata": {},
   "source": [
    "<b>Word cloud in each sentiment categories:</b>"
   ]
  },
  {
   "cell_type": "code",
   "execution_count": 48,
   "metadata": {
    "execution": {
     "iopub.execute_input": "2021-08-23T20:19:38.558255Z",
     "iopub.status.busy": "2021-08-23T20:19:38.557884Z",
     "iopub.status.idle": "2021-08-23T20:19:38.600890Z",
     "shell.execute_reply": "2021-08-23T20:19:38.600030Z",
     "shell.execute_reply.started": "2021-08-23T20:19:38.558223Z"
    }
   },
   "outputs": [],
   "source": [
    "# all_words_positive = \" \".join([text for text in df_train[df_train[\"Sentiment\"]==\"Positive\"][\"CleanTweet\"]])\n",
    "# all_words_neutral = \" \".join([text for text in df_train[df_train[\"Sentiment\"]==\"Neutral\"][\"CleanTweet\"]])\n",
    "# all_words_negative = \" \".join([text for text in df_train[df_train[\"Sentiment\"]==\"Negative\"][\"CleanTweet\"]])"
   ]
  },
  {
   "cell_type": "code",
   "execution_count": 49,
   "metadata": {
    "execution": {
     "iopub.execute_input": "2021-08-23T20:19:38.951368Z",
     "iopub.status.busy": "2021-08-23T20:19:38.951045Z",
     "iopub.status.idle": "2021-08-23T20:19:45.979234Z",
     "shell.execute_reply": "2021-08-23T20:19:45.977508Z",
     "shell.execute_reply.started": "2021-08-23T20:19:38.951338Z"
    }
   },
   "outputs": [],
   "source": [
    "# wordcloud_positive = WordCloud(width=800, height=600, max_font_size=120, background_color=\"white\", colormap=\"Greens\").generate(all_words_positive)\n",
    "# wordcloud_neutral = WordCloud(width=800, height=600, max_font_size=120, background_color=\"white\", colormap=\"YlOrBr\").generate(all_words_neutral)\n",
    "# wordcloud_negative = WordCloud(width=800, height=600, max_font_size=120, background_color=\"white\", colormap=\"Reds\").generate(all_words_negative)"
   ]
  },
  {
   "cell_type": "code",
   "execution_count": 50,
   "metadata": {
    "execution": {
     "iopub.execute_input": "2021-08-23T20:19:45.981105Z",
     "iopub.status.busy": "2021-08-23T20:19:45.980759Z",
     "iopub.status.idle": "2021-08-23T20:19:46.746815Z",
     "shell.execute_reply": "2021-08-23T20:19:46.745838Z",
     "shell.execute_reply.started": "2021-08-23T20:19:45.981068Z"
    }
   },
   "outputs": [],
   "source": [
    "# parameters = {'axes.labelsize': 12,\n",
    "#               'axes.titlesize': 10}\n",
    "# #\n",
    "# fig, (ax1, ax2, ax3) = plt.subplots(1, 3)\n",
    "# fig.set_size_inches(18.5, 7)\n",
    "# ax1.imshow(wordcloud_positive, interpolation='bilinear')\n",
    "# ax1.axis(\"off\")\n",
    "# ax1.set_title(\"WordCloud of positive tweets\", fontsize=12)\n",
    "# ax2.imshow(wordcloud_neutral, interpolation='bilinear')\n",
    "# ax2.axis(\"off\")\n",
    "# ax2.set_title(\"WordCloud of neutral tweets\", fontsize=12)\n",
    "# ax3.imshow(wordcloud_negative, interpolation='bilinear')\n",
    "# ax3.axis(\"off\")\n",
    "# ax3.set_title(\"WordCloud of negative tweets\", fontsize=12)\n",
    "# plt.rcParams.update(parameters)\n",
    "# plt.show()"
   ]
  },
  {
   "cell_type": "markdown",
   "metadata": {},
   "source": [
    "# 7. Sentiment encoding"
   ]
  },
  {
   "cell_type": "code",
   "execution_count": 51,
   "metadata": {
    "execution": {
     "iopub.execute_input": "2021-08-23T20:19:50.075026Z",
     "iopub.status.busy": "2021-08-23T20:19:50.074677Z",
     "iopub.status.idle": "2021-08-23T20:19:50.084295Z",
     "shell.execute_reply": "2021-08-23T20:19:50.082853Z",
     "shell.execute_reply.started": "2021-08-23T20:19:50.074990Z"
    }
   },
   "outputs": [
    {
     "name": "stdout",
     "output_type": "stream",
     "text": [
      "train set shape: (1857, 4)\n",
      "test set shape: (61, 4)\n"
     ]
    }
   ],
   "source": [
    "df_train_encoded = train_df.copy()\n",
    "df_test_encoded = test_df.copy()\n",
    "#\n",
    "print(\"train set shape: \" + str(df_train_encoded.shape))\n",
    "print(\"test set shape: \" + str(df_test_encoded.shape))"
   ]
  },
  {
   "cell_type": "code",
   "execution_count": 52,
   "metadata": {},
   "outputs": [],
   "source": [
    "map_sentiment = {\"IND\":0, \"GRP\":1, \"OTH\":2}\n",
    "df_train_encoded['subtask_c'] = df_train_encoded['subtask_c'].map(map_sentiment)\n",
    "df_test_encoded['subtask_c']  = df_test_encoded['subtask_c'].map(map_sentiment)\n",
    "\n"
   ]
  },
  {
   "cell_type": "code",
   "execution_count": 53,
   "metadata": {},
   "outputs": [
    {
     "data": {
      "text/plain": [
       "array([1, 0, 2])"
      ]
     },
     "execution_count": 53,
     "metadata": {},
     "output_type": "execute_result"
    }
   ],
   "source": [
    "df_train_encoded['subtask_c'].unique()"
   ]
  },
  {
   "cell_type": "code",
   "execution_count": 54,
   "metadata": {},
   "outputs": [
    {
     "data": {
      "text/plain": [
       "array([1, 0, 2])"
      ]
     },
     "execution_count": 54,
     "metadata": {},
     "output_type": "execute_result"
    }
   ],
   "source": [
    "df_test_encoded['subtask_c'].unique()"
   ]
  },
  {
   "cell_type": "code",
   "execution_count": 55,
   "metadata": {},
   "outputs": [
    {
     "data": {
      "text/html": [
       "<div>\n",
       "<style scoped>\n",
       "    .dataframe tbody tr th:only-of-type {\n",
       "        vertical-align: middle;\n",
       "    }\n",
       "\n",
       "    .dataframe tbody tr th {\n",
       "        vertical-align: top;\n",
       "    }\n",
       "\n",
       "    .dataframe thead th {\n",
       "        text-align: right;\n",
       "    }\n",
       "</style>\n",
       "<table border=\"1\" class=\"dataframe\">\n",
       "  <thead>\n",
       "    <tr style=\"text-align: right;\">\n",
       "      <th></th>\n",
       "      <th>tweet</th>\n",
       "      <th>subtask_a</th>\n",
       "      <th>subtask_b</th>\n",
       "      <th>subtask_c</th>\n",
       "    </tr>\n",
       "  </thead>\n",
       "  <tbody>\n",
       "    <tr>\n",
       "      <th>0</th>\n",
       "      <td>भिकारचोट पत्रकार दलाल आहेत साले</td>\n",
       "      <td>Offensive</td>\n",
       "      <td>TIN</td>\n",
       "      <td>1</td>\n",
       "    </tr>\n",
       "    <tr>\n",
       "      <th>1</th>\n",
       "      <td>म्हणून हे परप्रांतीय लोंढे थांबवा आणि महाराष्ट...</td>\n",
       "      <td>Offensive</td>\n",
       "      <td>TIN</td>\n",
       "      <td>1</td>\n",
       "    </tr>\n",
       "    <tr>\n",
       "      <th>2</th>\n",
       "      <td>छान लिहिला आहेपण त्या बावळट माणसांना असले स्पष...</td>\n",
       "      <td>Offensive</td>\n",
       "      <td>TIN</td>\n",
       "      <td>1</td>\n",
       "    </tr>\n",
       "    <tr>\n",
       "      <th>3</th>\n",
       "      <td>एकदम मान्य नाहीतरी ही भिकारचोट मंडळी त्या सिने...</td>\n",
       "      <td>Offensive</td>\n",
       "      <td>TIN</td>\n",
       "      <td>1</td>\n",
       "    </tr>\n",
       "    <tr>\n",
       "      <th>4</th>\n",
       "      <td>भिकारचोट मराठी मीडि…</td>\n",
       "      <td>Offensive</td>\n",
       "      <td>TIN</td>\n",
       "      <td>1</td>\n",
       "    </tr>\n",
       "    <tr>\n",
       "      <th>...</th>\n",
       "      <td>...</td>\n",
       "      <td>...</td>\n",
       "      <td>...</td>\n",
       "      <td>...</td>\n",
       "    </tr>\n",
       "    <tr>\n",
       "      <th>1852</th>\n",
       "      <td>@USER दिवाळी हा सर्वात मोठा सणआर्यन खान साठी स...</td>\n",
       "      <td>Offensive</td>\n",
       "      <td>TIN</td>\n",
       "      <td>0</td>\n",
       "    </tr>\n",
       "    <tr>\n",
       "      <th>1853</th>\n",
       "      <td>@USER आज महाराष्ट्रात पैसा झाला मोठा सरकारला ज...</td>\n",
       "      <td>Offensive</td>\n",
       "      <td>TIN</td>\n",
       "      <td>0</td>\n",
       "    </tr>\n",
       "    <tr>\n",
       "      <th>1854</th>\n",
       "      <td>@USER मी एक शिवसैनिक माझ्या लाडक्या मुख्यमंत्र...</td>\n",
       "      <td>Offensive</td>\n",
       "      <td>TIN</td>\n",
       "      <td>0</td>\n",
       "    </tr>\n",
       "    <tr>\n",
       "      <th>1855</th>\n",
       "      <td>@USER दोन दिवसावर दिवाळी आली आहे  आणि आजच्या द...</td>\n",
       "      <td>Offensive</td>\n",
       "      <td>TIN</td>\n",
       "      <td>0</td>\n",
       "    </tr>\n",
       "    <tr>\n",
       "      <th>1856</th>\n",
       "      <td>प्रिय @USER मराठी भारतातील तिसरी व जगातील दहाव...</td>\n",
       "      <td>Offensive</td>\n",
       "      <td>TIN</td>\n",
       "      <td>0</td>\n",
       "    </tr>\n",
       "  </tbody>\n",
       "</table>\n",
       "<p>1857 rows × 4 columns</p>\n",
       "</div>"
      ],
      "text/plain": [
       "                                                  tweet  subtask_a subtask_b  \\\n",
       "0                       भिकारचोट पत्रकार दलाल आहेत साले  Offensive       TIN   \n",
       "1     म्हणून हे परप्रांतीय लोंढे थांबवा आणि महाराष्ट...  Offensive       TIN   \n",
       "2     छान लिहिला आहेपण त्या बावळट माणसांना असले स्पष...  Offensive       TIN   \n",
       "3     एकदम मान्य नाहीतरी ही भिकारचोट मंडळी त्या सिने...  Offensive       TIN   \n",
       "4                                  भिकारचोट मराठी मीडि…  Offensive       TIN   \n",
       "...                                                 ...        ...       ...   \n",
       "1852  @USER दिवाळी हा सर्वात मोठा सणआर्यन खान साठी स...  Offensive       TIN   \n",
       "1853  @USER आज महाराष्ट्रात पैसा झाला मोठा सरकारला ज...  Offensive       TIN   \n",
       "1854  @USER मी एक शिवसैनिक माझ्या लाडक्या मुख्यमंत्र...  Offensive       TIN   \n",
       "1855  @USER दोन दिवसावर दिवाळी आली आहे  आणि आजच्या द...  Offensive       TIN   \n",
       "1856  प्रिय @USER मराठी भारतातील तिसरी व जगातील दहाव...  Offensive       TIN   \n",
       "\n",
       "      subtask_c  \n",
       "0             1  \n",
       "1             1  \n",
       "2             1  \n",
       "3             1  \n",
       "4             1  \n",
       "...         ...  \n",
       "1852          0  \n",
       "1853          0  \n",
       "1854          0  \n",
       "1855          0  \n",
       "1856          0  \n",
       "\n",
       "[1857 rows x 4 columns]"
      ]
     },
     "execution_count": 55,
     "metadata": {},
     "output_type": "execute_result"
    }
   ],
   "source": [
    "df_train_encoded"
   ]
  },
  {
   "cell_type": "markdown",
   "metadata": {},
   "source": [
    "# 8. Feature and target preparation"
   ]
  },
  {
   "cell_type": "code",
   "execution_count": 57,
   "metadata": {
    "execution": {
     "iopub.execute_input": "2021-08-23T20:19:53.326324Z",
     "iopub.status.busy": "2021-08-23T20:19:53.325994Z",
     "iopub.status.idle": "2021-08-23T20:19:53.339735Z",
     "shell.execute_reply": "2021-08-23T20:19:53.338650Z",
     "shell.execute_reply.started": "2021-08-23T20:19:53.326295Z"
    }
   },
   "outputs": [],
   "source": [
    "y_train = train_df['subtask_c'].copy()\n",
    "y_test = test_df['subtask_c'].copy()\n",
    "\n",
    "y_train_encoded = to_categorical(df_train_encoded['subtask_c'],3)\n",
    "y_test_encoded = to_categorical(df_test_encoded['subtask_c'],3)\n",
    "\n",
    "y_train_mapped = df_train_encoded['subtask_c'].copy()\n",
    "y_test_mapped = df_test_encoded['subtask_c'].copy()\n",
    "\n",
    "X_train = df_train_encoded[['tweet']].copy()\n",
    "X_test = df_test_encoded[['tweet']].copy()"
   ]
  },
  {
   "cell_type": "code",
   "execution_count": 58,
   "metadata": {},
   "outputs": [
    {
     "name": "stdout",
     "output_type": "stream",
     "text": [
      "0     GRP\n",
      "1     GRP\n",
      "2     GRP\n",
      "3     GRP\n",
      "4     GRP\n",
      "     ... \n",
      "56    OTH\n",
      "57    OTH\n",
      "58    OTH\n",
      "59    OTH\n",
      "60    OTH\n",
      "Name: subtask_c, Length: 61, dtype: object\n"
     ]
    }
   ],
   "source": [
    "print(y_test)"
   ]
  },
  {
   "cell_type": "code",
   "execution_count": 59,
   "metadata": {},
   "outputs": [
    {
     "name": "stdout",
     "output_type": "stream",
     "text": [
      "1857\n"
     ]
    }
   ],
   "source": [
    "print(len(y_train_mapped))"
   ]
  },
  {
   "cell_type": "markdown",
   "metadata": {},
   "source": [
    "# 9. Tokenization, sequences, padding"
   ]
  },
  {
   "cell_type": "markdown",
   "metadata": {},
   "source": [
    "<b>The result of tokenizer is a dictionnary with:</b><br>\n",
    "* key = word<br>\n",
    "* value = unique number"
   ]
  },
  {
   "cell_type": "code",
   "execution_count": 60,
   "metadata": {},
   "outputs": [
    {
     "data": {
      "text/plain": [
       "(1857, 3)"
      ]
     },
     "execution_count": 60,
     "metadata": {},
     "output_type": "execute_result"
    }
   ],
   "source": [
    "y_train_encoded.shape"
   ]
  },
  {
   "cell_type": "code",
   "execution_count": 61,
   "metadata": {},
   "outputs": [
    {
     "data": {
      "text/plain": [
       "(61, 3)"
      ]
     },
     "execution_count": 61,
     "metadata": {},
     "output_type": "execute_result"
    }
   ],
   "source": [
    "y_test_encoded.shape"
   ]
  },
  {
   "cell_type": "code",
   "execution_count": 62,
   "metadata": {},
   "outputs": [
    {
     "data": {
      "text/plain": [
       "(1857,)"
      ]
     },
     "execution_count": 62,
     "metadata": {},
     "output_type": "execute_result"
    }
   ],
   "source": [
    "y_train_mapped.shape"
   ]
  },
  {
   "cell_type": "code",
   "execution_count": 63,
   "metadata": {},
   "outputs": [
    {
     "data": {
      "text/plain": [
       "(61,)"
      ]
     },
     "execution_count": 63,
     "metadata": {},
     "output_type": "execute_result"
    }
   ],
   "source": [
    "y_test_mapped.shape"
   ]
  },
  {
   "cell_type": "code",
   "execution_count": 64,
   "metadata": {},
   "outputs": [
    {
     "data": {
      "text/plain": [
       "(1857, 1)"
      ]
     },
     "execution_count": 64,
     "metadata": {},
     "output_type": "execute_result"
    }
   ],
   "source": [
    "X_train.shape"
   ]
  },
  {
   "cell_type": "code",
   "execution_count": 65,
   "metadata": {},
   "outputs": [
    {
     "name": "stdout",
     "output_type": "stream",
     "text": [
      "(1857,)\n"
     ]
    }
   ],
   "source": [
    "print(y_train.shape)"
   ]
  },
  {
   "cell_type": "code",
   "execution_count": 66,
   "metadata": {
    "execution": {
     "iopub.execute_input": "2021-08-23T20:19:54.795129Z",
     "iopub.status.busy": "2021-08-23T20:19:54.794763Z",
     "iopub.status.idle": "2021-08-23T20:19:55.571263Z",
     "shell.execute_reply": "2021-08-23T20:19:55.570283Z",
     "shell.execute_reply.started": "2021-08-23T20:19:54.795095Z"
    }
   },
   "outputs": [
    {
     "data": {
      "text/plain": [
       "5966"
      ]
     },
     "execution_count": 66,
     "metadata": {},
     "output_type": "execute_result"
    }
   ],
   "source": [
    "tokenizer = Tokenizer()\n",
    "tokenizer.fit_on_texts(X_train[\"tweet\"])\n",
    "vocab_length = len(tokenizer.word_index) + 1\n",
    "vocab_length"
   ]
  },
  {
   "cell_type": "markdown",
   "metadata": {},
   "source": [
    "The <b>texts_to_sequences</b> function first transforms a text into list of words. Then, thanks to the dictionnary previously created by the tokenizer (see above), transforms list of list of words into list of list of numbers"
   ]
  },
  {
   "cell_type": "code",
   "execution_count": 67,
   "metadata": {
    "execution": {
     "iopub.execute_input": "2021-08-23T20:19:55.573226Z",
     "iopub.status.busy": "2021-08-23T20:19:55.572862Z",
     "iopub.status.idle": "2021-08-23T20:19:56.223847Z",
     "shell.execute_reply": "2021-08-23T20:19:56.222995Z",
     "shell.execute_reply.started": "2021-08-23T20:19:55.573190Z"
    }
   },
   "outputs": [],
   "source": [
    "X_train = tokenizer.texts_to_sequences(X_train[\"tweet\"])\n",
    "X_test = tokenizer.texts_to_sequences(X_test[\"tweet\"])"
   ]
  },
  {
   "cell_type": "markdown",
   "metadata": {},
   "source": [
    "Each tweets has differents length. Thus the result of the <b>texts_to_sequences</b> function will be a list of list of numbers of different length: "
   ]
  },
  {
   "cell_type": "code",
   "execution_count": 68,
   "metadata": {
    "execution": {
     "iopub.execute_input": "2021-08-23T20:19:56.278783Z",
     "iopub.status.busy": "2021-08-23T20:19:56.278476Z",
     "iopub.status.idle": "2021-08-23T20:19:56.285341Z",
     "shell.execute_reply": "2021-08-23T20:19:56.284382Z",
     "shell.execute_reply.started": "2021-08-23T20:19:56.278753Z"
    }
   },
   "outputs": [
    {
     "name": "stdout",
     "output_type": "stream",
     "text": [
      "First tweet encoded:\n",
      "[26, 187, 554, 17, 290]\n",
      "\n",
      "Second tweet encoded:\n",
      "[46, 16, 1179, 1618, 1619, 3, 408, 827, 409, 65, 1180, 1620, 1621]\n",
      "\n",
      "Third tweet encoded:\n",
      "[1181, 1182, 1183, 28, 8, 1184, 337, 1185, 1186, 4, 377, 32, 338, 34, 1622]\n"
     ]
    }
   ],
   "source": [
    "print(\"First tweet encoded:\")\n",
    "print(X_train[0])\n",
    "print(\"\\nSecond tweet encoded:\")\n",
    "print(X_train[1])\n",
    "print(\"\\nThird tweet encoded:\")\n",
    "print(X_train[2])"
   ]
  },
  {
   "cell_type": "markdown",
   "metadata": {},
   "source": [
    "To feed the deep learning model, we need all these lists to be the same length. Thus we need to apply padding. In other words, we are going to add several zeros (0) at the end of the shortest tweets so that at the end, all of our lists have the same length. <br><br>\n",
    "First let's get the maximum number of words in one tweet:"
   ]
  },
  {
   "cell_type": "code",
   "execution_count": 69,
   "metadata": {
    "execution": {
     "iopub.execute_input": "2021-08-23T20:19:57.180873Z",
     "iopub.status.busy": "2021-08-23T20:19:57.180456Z",
     "iopub.status.idle": "2021-08-23T20:19:57.224910Z",
     "shell.execute_reply": "2021-08-23T20:19:57.223978Z",
     "shell.execute_reply.started": "2021-08-23T20:19:57.180835Z"
    }
   },
   "outputs": [
    {
     "name": "stdout",
     "output_type": "stream",
     "text": [
      "Maximum number of word in one tweet: 28 words\n"
     ]
    }
   ],
   "source": [
    "max_word_count = 0\n",
    "word_count = []\n",
    "#\n",
    "for encoded_tweet in X_train:\n",
    "    word_count.append(len(encoded_tweet))\n",
    "    if len(encoded_tweet) > max_word_count:\n",
    "        max_word_count = len(encoded_tweet)\n",
    "print(\"Maximum number of word in one tweet: \" + str(max_word_count) + \" words\")"
   ]
  },
  {
   "cell_type": "markdown",
   "metadata": {},
   "source": [
    "So the longest tweet we have is composed of 39 words. We are going to pad the sequences with a maximum length of 37."
   ]
  },
  {
   "cell_type": "code",
   "execution_count": 70,
   "metadata": {
    "execution": {
     "iopub.execute_input": "2021-08-23T20:19:58.669892Z",
     "iopub.status.busy": "2021-08-23T20:19:58.669563Z",
     "iopub.status.idle": "2021-08-23T20:19:59.021856Z",
     "shell.execute_reply": "2021-08-23T20:19:59.020851Z",
     "shell.execute_reply.started": "2021-08-23T20:19:58.669859Z"
    }
   },
   "outputs": [
    {
     "data": {
      "text/plain": [
       "(1857, 28)"
      ]
     },
     "execution_count": 70,
     "metadata": {},
     "output_type": "execute_result"
    }
   ],
   "source": [
    "X_train = pad_sequences(X_train, maxlen=max_word_count, padding='post')\n",
    "X_test = pad_sequences(X_test, maxlen=max_word_count, padding='post')\n",
    "X_train.shape"
   ]
  },
  {
   "cell_type": "markdown",
   "metadata": {},
   "source": [
    "Let's have a look at the encoded 3 tweets after padding:"
   ]
  },
  {
   "cell_type": "code",
   "execution_count": 71,
   "metadata": {
    "execution": {
     "iopub.execute_input": "2021-08-23T20:19:59.024107Z",
     "iopub.status.busy": "2021-08-23T20:19:59.023745Z",
     "iopub.status.idle": "2021-08-23T20:19:59.032120Z",
     "shell.execute_reply": "2021-08-23T20:19:59.031168Z",
     "shell.execute_reply.started": "2021-08-23T20:19:59.024069Z"
    }
   },
   "outputs": [
    {
     "name": "stdout",
     "output_type": "stream",
     "text": [
      "First tweet encoded: Size =  28\n",
      "[ 26 187 554  17 290   0   0   0   0   0   0   0   0   0   0   0   0   0\n",
      "   0   0   0   0   0   0   0   0   0   0]\n",
      "\n",
      "Second tweet encoded: Size =  28\n",
      "[  46   16 1179 1618 1619    3  408  827  409   65 1180 1620 1621    0\n",
      "    0    0    0    0    0    0    0    0    0    0    0    0    0    0]\n",
      "\n",
      "Third tweet encoded: Size =  28\n",
      "[1181 1182 1183   28    8 1184  337 1185 1186    4  377   32  338   34\n",
      " 1622    0    0    0    0    0    0    0    0    0    0    0    0    0]\n"
     ]
    }
   ],
   "source": [
    "print(\"First tweet encoded:\", \"Size = \", len(X_train[0]))\n",
    "print(X_train[0])\n",
    "print(\"\\nSecond tweet encoded:\", \"Size = \", len(X_train[1]))\n",
    "print(X_train[1])\n",
    "print(\"\\nThird tweet encoded:\", \"Size = \", len(X_train[2]))\n",
    "print(X_train[2])"
   ]
  },
  {
   "cell_type": "markdown",
   "metadata": {},
   "source": [
    "Now every encoded tweet has the same length, the data is ready for the model."
   ]
  },
  {
   "cell_type": "markdown",
   "metadata": {},
   "source": [
    "# 10. Model"
   ]
  },
  {
   "cell_type": "markdown",
   "metadata": {},
   "source": [
    "<b>The model is composed of:</b>\n",
    "1. <b>An embedding layer with parameters</b>\n",
    "    * input dim = vocabulary size\n",
    "    * output dim = 32\n",
    "    * input length = size of padded sequences\n",
    "    * mask_zero = True to ignore 0 (from padding)\n",
    "2. <b>An LSTM (Long Short Term Memory) Layer with parameter</b>\n",
    "    * units = 100 (the resulting accuracy is almost the same regardless this value)\n",
    "3. <b>Three Dense layers</b>\n",
    "4. <b>An output dense layer with parameters</b>\n",
    "    * units = 3 (output dim)\n",
    "    * activation = softmax (for multiclassification problem)\n",
    "\n",
    "<b>Compilation with parameters:</b>\n",
    "1. loss = categorical_crossentropy (for multiclassification problem)\n",
    "2. optimizer = adam\n",
    "3. metrics = accuracy"
   ]
  },
  {
   "cell_type": "code",
   "execution_count": 72,
   "metadata": {
    "execution": {
     "iopub.execute_input": "2021-08-23T20:20:00.812300Z",
     "iopub.status.busy": "2021-08-23T20:20:00.811824Z",
     "iopub.status.idle": "2021-08-23T20:20:01.521340Z",
     "shell.execute_reply": "2021-08-23T20:20:01.520348Z",
     "shell.execute_reply.started": "2021-08-23T20:20:00.812264Z"
    }
   },
   "outputs": [
    {
     "name": "stdout",
     "output_type": "stream",
     "text": [
      "Model: \"sequential\"\n",
      "_________________________________________________________________\n",
      "Layer (type)                 Output Shape              Param #   \n",
      "=================================================================\n",
      "embedding (Embedding)        (None, 28, 32)            190912    \n",
      "_________________________________________________________________\n",
      "lstm (LSTM)                  (None, 100)               53200     \n",
      "_________________________________________________________________\n",
      "dense (Dense)                (None, 64)                6464      \n",
      "_________________________________________________________________\n",
      "dense_1 (Dense)              (None, 32)                2080      \n",
      "_________________________________________________________________\n",
      "dense_2 (Dense)              (None, 16)                528       \n",
      "_________________________________________________________________\n",
      "dense_3 (Dense)              (None, 3)                 51        \n",
      "=================================================================\n",
      "Total params: 253,235\n",
      "Trainable params: 253,235\n",
      "Non-trainable params: 0\n",
      "_________________________________________________________________\n",
      "None\n"
     ]
    }
   ],
   "source": [
    "model_LSTM = Sequential()\n",
    "model_LSTM.add(layers.Embedding(vocab_length, output_dim=32, input_length=max_word_count, mask_zero=True))\n",
    "model_LSTM.add(layers.LSTM(100))\n",
    "model_LSTM.add(layers.Dense(64, activation=\"relu\"))\n",
    "model_LSTM.add(layers.Dense(32, activation=\"relu\"))\n",
    "model_LSTM.add(layers.Dense(16, activation=\"relu\"))\n",
    "model_LSTM.add(layers.Dense(3, activation='softmax'))\n",
    "model_LSTM.compile(loss='categorical_crossentropy', optimizer='adam', metrics=['accuracy'])\n",
    "print(model_LSTM.summary())"
   ]
  },
  {
   "cell_type": "markdown",
   "metadata": {},
   "source": [
    "Here I set an early stopping after 10 epochs and set the parameter <i><b>restore_best_weights</b></i> to <b style=\"color:green\">True</b> so that the weights of best score on monitored metric - here <b>val_accuracy</b> (accuracy on test set) - are restored when training stops. This way the model has the best accuracy possible on unseen data."
   ]
  },
  {
   "cell_type": "code",
   "execution_count": 73,
   "metadata": {
    "execution": {
     "iopub.execute_input": "2021-08-23T20:20:03.414379Z",
     "iopub.status.busy": "2021-08-23T20:20:03.414046Z",
     "iopub.status.idle": "2021-08-23T20:28:25.636475Z",
     "shell.execute_reply": "2021-08-23T20:28:25.635661Z",
     "shell.execute_reply.started": "2021-08-23T20:20:03.414350Z"
    }
   },
   "outputs": [
    {
     "name": "stdout",
     "output_type": "stream",
     "text": [
      "Epoch 1/30\n",
      "117/117 - 10s - loss: 0.6159 - accuracy: 0.8223 - val_loss: 1.7863 - val_accuracy: 0.3443\n",
      "Epoch 2/30\n",
      "117/117 - 3s - loss: 0.3777 - accuracy: 0.8616 - val_loss: 1.8545 - val_accuracy: 0.5246\n",
      "Epoch 3/30\n",
      "117/117 - 3s - loss: 0.2528 - accuracy: 0.8993 - val_loss: 2.2933 - val_accuracy: 0.4918\n",
      "Epoch 4/30\n",
      "117/117 - 3s - loss: 0.2108 - accuracy: 0.9128 - val_loss: 1.8393 - val_accuracy: 0.4918\n",
      "Epoch 5/30\n",
      "117/117 - 3s - loss: 0.1859 - accuracy: 0.9198 - val_loss: 2.2227 - val_accuracy: 0.5082\n",
      "Epoch 6/30\n",
      "117/117 - 3s - loss: 0.1683 - accuracy: 0.9192 - val_loss: 2.1656 - val_accuracy: 0.5082\n",
      "Epoch 7/30\n",
      "117/117 - 3s - loss: 0.1515 - accuracy: 0.9176 - val_loss: 3.4899 - val_accuracy: 0.5246\n",
      "Epoch 8/30\n",
      "117/117 - 3s - loss: 0.1431 - accuracy: 0.9225 - val_loss: 3.3020 - val_accuracy: 0.5246\n",
      "Epoch 9/30\n",
      "117/117 - 3s - loss: 0.1389 - accuracy: 0.9176 - val_loss: 2.2665 - val_accuracy: 0.5246\n",
      "Epoch 10/30\n",
      "117/117 - 4s - loss: 0.1344 - accuracy: 0.9225 - val_loss: 3.0062 - val_accuracy: 0.5246\n",
      "Epoch 11/30\n",
      "117/117 - 3s - loss: 0.1240 - accuracy: 0.9348 - val_loss: 3.8816 - val_accuracy: 0.6066\n",
      "Epoch 12/30\n",
      "117/117 - 3s - loss: 0.1102 - accuracy: 0.9365 - val_loss: 3.2598 - val_accuracy: 0.5738\n",
      "Epoch 13/30\n",
      "117/117 - 3s - loss: 0.1098 - accuracy: 0.9386 - val_loss: 3.3642 - val_accuracy: 0.5902\n",
      "Epoch 14/30\n",
      "117/117 - 3s - loss: 0.1017 - accuracy: 0.9418 - val_loss: 5.4186 - val_accuracy: 0.6066\n",
      "Epoch 15/30\n",
      "117/117 - 3s - loss: 0.0974 - accuracy: 0.9386 - val_loss: 6.7585 - val_accuracy: 0.6066\n",
      "Epoch 16/30\n",
      "117/117 - 3s - loss: 0.0959 - accuracy: 0.9456 - val_loss: 6.4409 - val_accuracy: 0.6066\n",
      "Epoch 17/30\n",
      "117/117 - 3s - loss: 0.0971 - accuracy: 0.9478 - val_loss: 4.8528 - val_accuracy: 0.5902\n",
      "Epoch 18/30\n",
      "117/117 - 3s - loss: 0.1052 - accuracy: 0.9418 - val_loss: 3.5915 - val_accuracy: 0.5902\n",
      "Epoch 19/30\n",
      "117/117 - 3s - loss: 0.1007 - accuracy: 0.9451 - val_loss: 11.0304 - val_accuracy: 0.5902\n",
      "Epoch 20/30\n",
      "117/117 - 3s - loss: 0.0916 - accuracy: 0.9440 - val_loss: 9.8950 - val_accuracy: 0.6066\n",
      "Epoch 21/30\n",
      "117/117 - 3s - loss: 0.1041 - accuracy: 0.9435 - val_loss: 6.3240 - val_accuracy: 0.6230\n",
      "Epoch 22/30\n",
      "117/117 - 3s - loss: 0.0904 - accuracy: 0.9456 - val_loss: 7.0434 - val_accuracy: 0.5902\n",
      "Epoch 23/30\n",
      "117/117 - 3s - loss: 0.0906 - accuracy: 0.9424 - val_loss: 6.6465 - val_accuracy: 0.5902\n",
      "Epoch 24/30\n",
      "117/117 - 3s - loss: 0.0877 - accuracy: 0.9424 - val_loss: 6.7316 - val_accuracy: 0.6066\n",
      "Epoch 25/30\n",
      "117/117 - 3s - loss: 0.0863 - accuracy: 0.9467 - val_loss: 8.0518 - val_accuracy: 0.5574\n",
      "Epoch 26/30\n",
      "117/117 - 3s - loss: 0.0865 - accuracy: 0.9472 - val_loss: 5.7110 - val_accuracy: 0.5902\n",
      "Epoch 27/30\n",
      "117/117 - 3s - loss: 0.0863 - accuracy: 0.9451 - val_loss: 7.3810 - val_accuracy: 0.6066\n",
      "Epoch 28/30\n",
      "117/117 - 3s - loss: 0.0848 - accuracy: 0.9440 - val_loss: 8.5621 - val_accuracy: 0.5902\n",
      "Epoch 29/30\n",
      "117/117 - 3s - loss: 0.0838 - accuracy: 0.9413 - val_loss: 7.9982 - val_accuracy: 0.5738\n",
      "Epoch 30/30\n",
      "117/117 - 3s - loss: 0.1125 - accuracy: 0.9418 - val_loss: 6.2231 - val_accuracy: 0.5738\n"
     ]
    }
   ],
   "source": [
    "es = EarlyStopping(patience=10, monitor='val_accuracy', restore_best_weights=True)\n",
    "history = model_LSTM.fit(X_train,\n",
    "                         y_train_encoded,\n",
    "                         validation_data=(X_test, y_test_encoded),\n",
    "                         epochs=30,\n",
    "                         batch_size=16,\n",
    "                         verbose=2,\n",
    "                         callbacks=[es]\n",
    "                        )"
   ]
  },
  {
   "cell_type": "markdown",
   "metadata": {},
   "source": [
    "We can see that after epoch 2, the accuracy on test set - val_accuracy - doesn't increase any more while accuracy on train set continues to increase untill almost 100%! The model is overfitting from epoch 2 and is not able to generalize well on unseen data from there."
   ]
  },
  {
   "cell_type": "markdown",
   "metadata": {},
   "source": [
    "# 11. Model Evaluation"
   ]
  },
  {
   "cell_type": "markdown",
   "metadata": {},
   "source": [
    "<b>Prediction on test set:</b>"
   ]
  },
  {
   "cell_type": "code",
   "execution_count": 74,
   "metadata": {
    "execution": {
     "iopub.execute_input": "2021-08-23T20:28:30.654299Z",
     "iopub.status.busy": "2021-08-23T20:28:30.653926Z",
     "iopub.status.idle": "2021-08-23T20:28:31.965938Z",
     "shell.execute_reply": "2021-08-23T20:28:31.964972Z",
     "shell.execute_reply.started": "2021-08-23T20:28:30.654268Z"
    }
   },
   "outputs": [],
   "source": [
    "predicted = model_LSTM.predict(X_test)\n",
    "y_pred = predicted.argmax(axis=-1)"
   ]
  },
  {
   "cell_type": "markdown",
   "metadata": {},
   "source": [
    "<b>Calculation of accuracy and Area Under (ROC) Curve - AUC - scores:</b>"
   ]
  },
  {
   "cell_type": "code",
   "execution_count": 75,
   "metadata": {},
   "outputs": [],
   "source": [
    "acc_score = accuracy_score(y_test_mapped, y_pred)\n",
    "#auc_score = roc_auc_score(y_test_mapped, predicted, multi_class=\"ovr\")"
   ]
  },
  {
   "cell_type": "code",
   "execution_count": 76,
   "metadata": {},
   "outputs": [
    {
     "name": "stdout",
     "output_type": "stream",
     "text": [
      "(61,)\n",
      "(61,)\n",
      "(61, 3)\n",
      "(1857, 3)\n"
     ]
    }
   ],
   "source": [
    "print(y_test_mapped.shape)\n",
    "print(y_pred.shape)\n",
    "print(predicted.shape)\n",
    "print(y_train_encoded.shape)\n"
   ]
  },
  {
   "cell_type": "code",
   "execution_count": 77,
   "metadata": {},
   "outputs": [
    {
     "data": {
      "text/plain": [
       "0.5737704918032787"
      ]
     },
     "execution_count": 77,
     "metadata": {},
     "output_type": "execute_result"
    }
   ],
   "source": [
    "acc_score"
   ]
  },
  {
   "cell_type": "markdown",
   "metadata": {},
   "source": [
    "<b>Classification report:</b>"
   ]
  },
  {
   "cell_type": "code",
   "execution_count": 78,
   "metadata": {
    "execution": {
     "iopub.execute_input": "2021-08-23T20:28:37.393387Z",
     "iopub.status.busy": "2021-08-23T20:28:37.393054Z",
     "iopub.status.idle": "2021-08-23T20:28:37.427823Z",
     "shell.execute_reply": "2021-08-23T20:28:37.426854Z",
     "shell.execute_reply.started": "2021-08-23T20:28:37.393357Z"
    }
   },
   "outputs": [
    {
     "name": "stdout",
     "output_type": "stream",
     "text": [
      "{'GRP': {'precision': 0.48717948717948717, 'recall': 0.9047619047619048, 'f1-score': 0.6333333333333333, 'support': 21}, 'IND': {'precision': 0.7058823529411765, 'recall': 0.631578947368421, 'f1-score': 0.6666666666666667, 'support': 19}, 'OTH': {'precision': 0.8, 'recall': 0.19047619047619047, 'f1-score': 0.3076923076923077, 'support': 21}, 'accuracy': 0.5737704918032787, 'macro avg': {'precision': 0.6643539467068879, 'recall': 0.5756056808688388, 'f1-score': 0.5358974358974359, 'support': 61}, 'weighted avg': {'precision': 0.6629923596172391, 'recall': 0.5737704918032787, 'f1-score': 0.5316099201345102, 'support': 61}}\n"
     ]
    },
    {
     "data": {
      "text/html": [
       "<div>\n",
       "<style scoped>\n",
       "    .dataframe tbody tr th:only-of-type {\n",
       "        vertical-align: middle;\n",
       "    }\n",
       "\n",
       "    .dataframe tbody tr th {\n",
       "        vertical-align: top;\n",
       "    }\n",
       "\n",
       "    .dataframe thead th {\n",
       "        text-align: right;\n",
       "    }\n",
       "</style>\n",
       "<table border=\"1\" class=\"dataframe\">\n",
       "  <thead>\n",
       "    <tr style=\"text-align: right;\">\n",
       "      <th></th>\n",
       "      <th>IND</th>\n",
       "      <th>GRP</th>\n",
       "      <th>OTH</th>\n",
       "      <th>macro avg</th>\n",
       "      <th>weighted avg</th>\n",
       "      <th>accuracy</th>\n",
       "    </tr>\n",
       "  </thead>\n",
       "  <tbody>\n",
       "    <tr>\n",
       "      <th>precision</th>\n",
       "      <td>0.71</td>\n",
       "      <td>0.49</td>\n",
       "      <td>0.80</td>\n",
       "      <td>0.66</td>\n",
       "      <td>0.66</td>\n",
       "      <td></td>\n",
       "    </tr>\n",
       "    <tr>\n",
       "      <th>recall</th>\n",
       "      <td>0.63</td>\n",
       "      <td>0.90</td>\n",
       "      <td>0.19</td>\n",
       "      <td>0.58</td>\n",
       "      <td>0.57</td>\n",
       "      <td></td>\n",
       "    </tr>\n",
       "    <tr>\n",
       "      <th>f1-score</th>\n",
       "      <td>0.67</td>\n",
       "      <td>0.63</td>\n",
       "      <td>0.31</td>\n",
       "      <td>0.54</td>\n",
       "      <td>0.53</td>\n",
       "      <td></td>\n",
       "    </tr>\n",
       "    <tr>\n",
       "      <th>support</th>\n",
       "      <td>19.00</td>\n",
       "      <td>21.00</td>\n",
       "      <td>21.00</td>\n",
       "      <td>61.00</td>\n",
       "      <td>61.00</td>\n",
       "      <td>0.57</td>\n",
       "    </tr>\n",
       "  </tbody>\n",
       "</table>\n",
       "</div>"
      ],
      "text/plain": [
       "             IND    GRP    OTH  macro avg  weighted avg accuracy\n",
       "precision   0.71   0.49   0.80       0.66          0.66         \n",
       "recall      0.63   0.90   0.19       0.58          0.57         \n",
       "f1-score    0.67   0.63   0.31       0.54          0.53         \n",
       "support    19.00  21.00  21.00      61.00         61.00     0.57"
      ]
     },
     "execution_count": 78,
     "metadata": {},
     "output_type": "execute_result"
    }
   ],
   "source": [
    "report = classification_report(y_test_mapped, y_pred, target_names=list(y_test.unique()), output_dict=True)\n",
    "print(report)\n",
    "accuracy_col = ([\"\"]*3) + [round(acc_score, 2)]\n",
    "# roc_auc_col = ([\"\"]*3) + [round(auc_score, 2)]\n",
    "accuracy_col = pd.Series(accuracy_col, index=list(report[\"IND\"].keys()))\n",
    "# roc_auc_col = pd.Series(roc_auc_col, index=list(report[\"Neutral\"].keys()))\n",
    "df_report = pd.DataFrame(report)[[\"IND\",\"GRP\",\"OTH\",\"macro avg\", \"weighted avg\"]].apply(lambda x: round(x, 2))\n",
    "df_report[\"accuracy\"] = accuracy_col\n",
    "# df_report[\"roc_auc\"] = roc_auc_col\n",
    "df_report"
   ]
  },
  {
   "cell_type": "markdown",
   "metadata": {},
   "source": [
    "<b>Confusion Matrix:</b>"
   ]
  },
  {
   "cell_type": "code",
   "execution_count": 79,
   "metadata": {},
   "outputs": [
    {
     "data": {
      "image/png": "[encoded data removed]",
      "text/plain": [
       "<Figure size 432x288 with 2 Axes>"
      ]
     },
     "metadata": {
      "needs_background": "light"
     },
     "output_type": "display_data"
    }
   ],
   "source": [
    "cm = confusion_matrix(y_test_mapped, y_pred)\n",
    "disp = ConfusionMatrixDisplay(confusion_matrix = cm, display_labels = np.unique(y_test))\n",
    "disp.plot()\n",
    "plt.show()"
   ]
  },
  {
   "cell_type": "markdown",
   "metadata": {},
   "source": [
    "<b>ROC and precision-recall curves</b>"
   ]
  },
  {
   "cell_type": "code",
   "execution_count": 80,
   "metadata": {
    "execution": {
     "iopub.execute_input": "2021-08-23T20:28:47.299340Z",
     "iopub.status.busy": "2021-08-23T20:28:47.299002Z",
     "iopub.status.idle": "2021-08-23T20:28:47.309976Z",
     "shell.execute_reply": "2021-08-23T20:28:47.309122Z",
     "shell.execute_reply.started": "2021-08-23T20:28:47.299308Z"
    }
   },
   "outputs": [],
   "source": [
    "y_test_array = pd.get_dummies(y_test_mapped, drop_first=False).values\n",
    "classes = y_train.unique()"
   ]
  },
  {
   "cell_type": "code",
   "execution_count": 83,
   "metadata": {
    "execution": {
     "iopub.execute_input": "2021-08-23T20:28:50.198398Z",
     "iopub.status.busy": "2021-08-23T20:28:50.198082Z",
     "iopub.status.idle": "2021-08-23T20:28:50.517573Z",
     "shell.execute_reply": "2021-08-23T20:28:50.516586Z",
     "shell.execute_reply.started": "2021-08-23T20:28:50.198368Z"
    }
   },
   "outputs": [
    {
     "data": {
      "image/png": "[encoded data removed]",
      "text/plain": [
       "<Figure size 1332x360 with 2 Axes>"
      ]
     },
     "metadata": {
      "needs_background": "light"
     },
     "output_type": "display_data"
    }
   ],
   "source": [
    "fig, ax = plt.subplots(nrows=1, ncols=2)\n",
    "fig.set_size_inches(18.5, 5)\n",
    "## Plot roc\n",
    "for i in range(len(classes)):\n",
    "    fpr, tpr, thresholds = roc_curve(y_test_array[:,i], predicted[:,i])\n",
    "    \n",
    "    ax[0].plot(fpr, tpr, lw=3, \n",
    "              label='{0} (area (AUC) = {1:0.2f})'.format(classes[i], metrics.auc(fpr, tpr))\n",
    "               )\n",
    "ax[0].plot([0,1], [0,1], color='navy', lw=3, linestyle='--')\n",
    "ax[0].set(xlim=[-0.05,1.0], ylim=[0.0,1.05], \n",
    "          xlabel='False Positive Rate', \n",
    "          ylabel=\"True Positive Rate (Recall)\", \n",
    "          title=\"Receiver operating characteristic\")\n",
    "ax[0].legend(loc=\"lower right\")\n",
    "ax[0].grid(True)\n",
    "\n",
    "## Plot precision-recall curve\n",
    "for i in range(len(classes)):\n",
    "    precision, recall, thresholds = metrics.precision_recall_curve(\n",
    "                 y_test_array[:,i], predicted[:,i])\n",
    "    ax[1].plot(recall, precision, lw=3, \n",
    "               label='{0} (area ={1:0.2f})'.format(classes[i], metrics.auc(recall, precision))\n",
    "              )\n",
    "ax[1].set(xlim=[0.0,1.05], ylim=[0.0,1.05], xlabel='Recall', \n",
    "          ylabel=\"Precision\", title=\"Precision-Recall curve\")\n",
    "ax[1].legend(loc=\"best\")\n",
    "ax[1].grid(True)\n",
    "plt.show()"
   ]
  },
  {
   "cell_type": "code",
   "execution_count": null,
   "metadata": {},
   "outputs": [],
   "source": []
  }
 ],
 "metadata": {
  "kernelspec": {
   "display_name": "Python 3",
   "language": "python",
   "name": "python3"
  },
  "language_info": {
   "codemirror_mode": {
    "name": "ipython",
    "version": 3
   },
   "file_extension": ".py",
   "mimetype": "text/x-python",
   "name": "python",
   "nbconvert_exporter": "python",
   "pygments_lexer": "ipython3",
   "version": "3.8.7"
  }
 },
 "nbformat": 4,
 "nbformat_minor": 4
}
