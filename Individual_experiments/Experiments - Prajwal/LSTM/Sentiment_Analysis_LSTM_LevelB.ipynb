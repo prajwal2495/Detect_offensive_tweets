{
 "cells": [
  {
   "cell_type": "markdown",
   "metadata": {},
   "source": [
    "# 1.  Imports"
   ]
  },
  {
   "cell_type": "code",
   "execution_count": 443,
   "metadata": {
    "execution": {
     "iopub.execute_input": "2021-08-23T20:19:11.871330Z",
     "iopub.status.busy": "2021-08-23T20:19:11.871020Z",
     "iopub.status.idle": "2021-08-23T20:19:11.881016Z",
     "shell.execute_reply": "2021-08-23T20:19:11.879894Z",
     "shell.execute_reply.started": "2021-08-23T20:19:11.871302Z"
    }
   },
   "outputs": [
    {
     "name": "stderr",
     "output_type": "stream",
     "text": [
      "[nltk_data] Downloading package stopwords to /home/pk6142/nltk_data...\n",
      "[nltk_data]   Package stopwords is already up-to-date!\n",
      "[nltk_data] Downloading package wordnet to /home/pk6142/nltk_data...\n",
      "[nltk_data]   Package wordnet is already up-to-date!\n"
     ]
    }
   ],
   "source": [
    "# generics\n",
    "import pandas as pd\n",
    "import numpy as np\n",
    "import random\n",
    "\n",
    "# visu\n",
    "#import seaborn as sns\n",
    "import matplotlib.pyplot as plt\n",
    "#from wordcloud import WordCloud\n",
    "\n",
    "# texts\n",
    "import re\n",
    "\n",
    "\n",
    "import unicodedata\n",
    "from tensorflow.keras.preprocessing.text import Tokenizer\n",
    "from tensorflow.keras.preprocessing.sequence import pad_sequences\n",
    "from tensorflow.keras.utils import to_categorical, plot_model\n",
    "\n",
    "# Model\n",
    "from tensorflow.keras import layers, Sequential\n",
    "from tensorflow.keras.callbacks import EarlyStopping\n",
    "\n",
    "# NLTK\n",
    "import nltk\n",
    "nltk.download('stopwords')\n",
    "from nltk.corpus import stopwords\n",
    "nltk.download('wordnet')\n",
    "from nltk.stem import WordNetLemmatizer\n",
    "\n",
    "# sklearn\n",
    "from sklearn.preprocessing import LabelEncoder\n",
    "from sklearn.metrics import accuracy_score\n",
    "from sklearn.metrics import roc_auc_score\n",
    "from sklearn.metrics import classification_report\n",
    "from sklearn.metrics import confusion_matrix, plot_confusion_matrix, ConfusionMatrixDisplay\n",
    "from sklearn.metrics import roc_curve\n",
    "from sklearn.metrics import auc\n",
    "from sklearn import metrics"
   ]
  },
  {
   "cell_type": "markdown",
   "metadata": {},
   "source": [
    "# 2.  Loading data"
   ]
  },
  {
   "cell_type": "code",
   "execution_count": 444,
   "metadata": {
    "execution": {
     "iopub.execute_input": "2021-08-23T20:19:12.998813Z",
     "iopub.status.busy": "2021-08-23T20:19:12.998185Z",
     "iopub.status.idle": "2021-08-23T20:19:13.245292Z",
     "shell.execute_reply": "2021-08-23T20:19:13.244242Z",
     "shell.execute_reply.started": "2021-08-23T20:19:12.998770Z"
    }
   },
   "outputs": [],
   "source": [
    "df_train = pd.read_csv(\"Training.csv\")\n",
    "df_test = pd.read_csv(\"Testing.csv\")"
   ]
  },
  {
   "cell_type": "code",
   "execution_count": 445,
   "metadata": {},
   "outputs": [],
   "source": [
    "df_train.tweet = df_train.tweet.astype(str)\n",
    "df_test.tweet = df_test.tweet.astype(str)"
   ]
  },
  {
   "cell_type": "code",
   "execution_count": 446,
   "metadata": {},
   "outputs": [],
   "source": [
    "df_train_new = df_train[df_train['subtask_a'] == \"Offensive\"]"
   ]
  },
  {
   "cell_type": "code",
   "execution_count": 447,
   "metadata": {},
   "outputs": [],
   "source": [
    "df_test_new = df_test[df_test['subtask_a'] == \"Offensive\"]"
   ]
  },
  {
   "cell_type": "code",
   "execution_count": 448,
   "metadata": {},
   "outputs": [
    {
     "data": {
      "text/plain": [
       "array(['TIN', 'UNT'], dtype=object)"
      ]
     },
     "execution_count": 448,
     "metadata": {},
     "output_type": "execute_result"
    }
   ],
   "source": [
    "df_test_new.subtask_b.unique()"
   ]
  },
  {
   "cell_type": "code",
   "execution_count": 450,
   "metadata": {},
   "outputs": [
    {
     "data": {
      "text/plain": [
       "array(['TIN', 'UNT'], dtype=object)"
      ]
     },
     "execution_count": 450,
     "metadata": {},
     "output_type": "execute_result"
    }
   ],
   "source": [
    "df_train_new.subtask_b.unique()"
   ]
  },
  {
   "cell_type": "markdown",
   "metadata": {},
   "source": [
    "# 3.  Data overview"
   ]
  },
  {
   "cell_type": "code",
   "execution_count": 451,
   "metadata": {
    "execution": {
     "iopub.execute_input": "2021-08-23T20:19:14.334110Z",
     "iopub.status.busy": "2021-08-23T20:19:14.333698Z",
     "iopub.status.idle": "2021-08-23T20:19:14.347591Z",
     "shell.execute_reply": "2021-08-23T20:19:14.346616Z",
     "shell.execute_reply.started": "2021-08-23T20:19:14.334080Z"
    }
   },
   "outputs": [
    {
     "data": {
      "text/html": [
       "<div>\n",
       "<style scoped>\n",
       "    .dataframe tbody tr th:only-of-type {\n",
       "        vertical-align: middle;\n",
       "    }\n",
       "\n",
       "    .dataframe tbody tr th {\n",
       "        vertical-align: top;\n",
       "    }\n",
       "\n",
       "    .dataframe thead th {\n",
       "        text-align: right;\n",
       "    }\n",
       "</style>\n",
       "<table border=\"1\" class=\"dataframe\">\n",
       "  <thead>\n",
       "    <tr style=\"text-align: right;\">\n",
       "      <th></th>\n",
       "      <th>tweet</th>\n",
       "      <th>subtask_a</th>\n",
       "      <th>subtask_b</th>\n",
       "      <th>subtask_c</th>\n",
       "    </tr>\n",
       "  </thead>\n",
       "  <tbody>\n",
       "    <tr>\n",
       "      <th>0</th>\n",
       "      <td>भिकारचोट पत्रकार दलाल आहेत साले</td>\n",
       "      <td>Offensive</td>\n",
       "      <td>TIN</td>\n",
       "      <td>GRP</td>\n",
       "    </tr>\n",
       "    <tr>\n",
       "      <th>1</th>\n",
       "      <td>म्हणून हे परप्रांतीय लोंढे थांबवा आणि महाराष्ट...</td>\n",
       "      <td>Offensive</td>\n",
       "      <td>TIN</td>\n",
       "      <td>GRP</td>\n",
       "    </tr>\n",
       "    <tr>\n",
       "      <th>2</th>\n",
       "      <td>छान लिहिला आहेपण त्या बावळट माणसांना असले स्पष...</td>\n",
       "      <td>Offensive</td>\n",
       "      <td>TIN</td>\n",
       "      <td>GRP</td>\n",
       "    </tr>\n",
       "    <tr>\n",
       "      <th>3</th>\n",
       "      <td>एकदम मान्य नाहीतरी ही भिकारचोट मंडळी त्या सिने...</td>\n",
       "      <td>Offensive</td>\n",
       "      <td>TIN</td>\n",
       "      <td>GRP</td>\n",
       "    </tr>\n",
       "    <tr>\n",
       "      <th>4</th>\n",
       "      <td>भिकारचोट मराठी मीडि…</td>\n",
       "      <td>Offensive</td>\n",
       "      <td>TIN</td>\n",
       "      <td>GRP</td>\n",
       "    </tr>\n",
       "  </tbody>\n",
       "</table>\n",
       "</div>"
      ],
      "text/plain": [
       "                                               tweet  subtask_a subtask_b  \\\n",
       "0                    भिकारचोट पत्रकार दलाल आहेत साले  Offensive       TIN   \n",
       "1  म्हणून हे परप्रांतीय लोंढे थांबवा आणि महाराष्ट...  Offensive       TIN   \n",
       "2  छान लिहिला आहेपण त्या बावळट माणसांना असले स्पष...  Offensive       TIN   \n",
       "3  एकदम मान्य नाहीतरी ही भिकारचोट मंडळी त्या सिने...  Offensive       TIN   \n",
       "4                               भिकारचोट मराठी मीडि…  Offensive       TIN   \n",
       "\n",
       "  subtask_c  \n",
       "0       GRP  \n",
       "1       GRP  \n",
       "2       GRP  \n",
       "3       GRP  \n",
       "4       GRP  "
      ]
     },
     "execution_count": 451,
     "metadata": {},
     "output_type": "execute_result"
    }
   ],
   "source": [
    "df_train.head(5)"
   ]
  },
  {
   "cell_type": "code",
   "execution_count": 452,
   "metadata": {},
   "outputs": [
    {
     "data": {
      "text/html": [
       "<style  type=\"text/css\" >\n",
       "#T_93ad5_row0_col1{\n",
       "            background-color:  #3f007d;\n",
       "            color:  #f1f1f1;\n",
       "        }#T_93ad5_row1_col1{\n",
       "            background-color:  #fcfbfd;\n",
       "            color:  #000000;\n",
       "        }</style><table id=\"T_93ad5_\" ><thead>    <tr>        <th class=\"blank level0\" ></th>        <th class=\"col_heading level0 col0\" >subtask_a</th>        <th class=\"col_heading level0 col1\" >tweet</th>    </tr></thead><tbody>\n",
       "                <tr>\n",
       "                        <th id=\"T_93ad5_level0_row0\" class=\"row_heading level0 row0\" >1</th>\n",
       "                        <td id=\"T_93ad5_row0_col0\" class=\"data row0 col0\" >not offensive</td>\n",
       "                        <td id=\"T_93ad5_row0_col1\" class=\"data row0 col1\" >10547</td>\n",
       "            </tr>\n",
       "            <tr>\n",
       "                        <th id=\"T_93ad5_level0_row1\" class=\"row_heading level0 row1\" >0</th>\n",
       "                        <td id=\"T_93ad5_row1_col0\" class=\"data row1 col0\" >Offensive</td>\n",
       "                        <td id=\"T_93ad5_row1_col1\" class=\"data row1 col1\" >2333</td>\n",
       "            </tr>\n",
       "    </tbody></table>"
      ],
      "text/plain": [
       "<pandas.io.formats.style.Styler at 0x7f99a2310280>"
      ]
     },
     "execution_count": 452,
     "metadata": {},
     "output_type": "execute_result"
    }
   ],
   "source": [
    "temp = df_train.groupby('subtask_a').count()['tweet'].reset_index().sort_values(by='tweet',ascending=False)\n",
    "temp.style.background_gradient(cmap='Purples')"
   ]
  },
  {
   "cell_type": "code",
   "execution_count": 453,
   "metadata": {},
   "outputs": [
    {
     "data": {
      "text/html": [
       "<style  type=\"text/css\" >\n",
       "#T_a0fdc_row0_col1{\n",
       "            background-color:  #3f007d;\n",
       "            color:  #f1f1f1;\n",
       "        }#T_a0fdc_row1_col1{\n",
       "            background-color:  #fcfbfd;\n",
       "            color:  #000000;\n",
       "        }</style><table id=\"T_a0fdc_\" ><thead>    <tr>        <th class=\"blank level0\" ></th>        <th class=\"col_heading level0 col0\" >subtask_b</th>        <th class=\"col_heading level0 col1\" >tweet</th>    </tr></thead><tbody>\n",
       "                <tr>\n",
       "                        <th id=\"T_a0fdc_level0_row0\" class=\"row_heading level0 row0\" >0</th>\n",
       "                        <td id=\"T_a0fdc_row0_col0\" class=\"data row0 col0\" >TIN</td>\n",
       "                        <td id=\"T_a0fdc_row0_col1\" class=\"data row0 col1\" >1857</td>\n",
       "            </tr>\n",
       "            <tr>\n",
       "                        <th id=\"T_a0fdc_level0_row1\" class=\"row_heading level0 row1\" >1</th>\n",
       "                        <td id=\"T_a0fdc_row1_col0\" class=\"data row1 col0\" >UNT</td>\n",
       "                        <td id=\"T_a0fdc_row1_col1\" class=\"data row1 col1\" >476</td>\n",
       "            </tr>\n",
       "    </tbody></table>"
      ],
      "text/plain": [
       "<pandas.io.formats.style.Styler at 0x7f99a1611cd0>"
      ]
     },
     "execution_count": 453,
     "metadata": {},
     "output_type": "execute_result"
    }
   ],
   "source": [
    "temp = df_train.groupby('subtask_b').count()['tweet'].reset_index().sort_values(by='tweet',ascending=False)\n",
    "temp.style.background_gradient(cmap='Purples')"
   ]
  },
  {
   "cell_type": "code",
   "execution_count": 454,
   "metadata": {},
   "outputs": [
    {
     "data": {
      "text/html": [
       "<style  type=\"text/css\" >\n",
       "#T_4dee7_row0_col1{\n",
       "            background-color:  #3f007d;\n",
       "            color:  #f1f1f1;\n",
       "        }#T_4dee7_row1_col1{\n",
       "            background-color:  #f1eff6;\n",
       "            color:  #000000;\n",
       "        }#T_4dee7_row2_col1{\n",
       "            background-color:  #fcfbfd;\n",
       "            color:  #000000;\n",
       "        }</style><table id=\"T_4dee7_\" ><thead>    <tr>        <th class=\"blank level0\" ></th>        <th class=\"col_heading level0 col0\" >subtask_c</th>        <th class=\"col_heading level0 col1\" >tweet</th>    </tr></thead><tbody>\n",
       "                <tr>\n",
       "                        <th id=\"T_4dee7_level0_row0\" class=\"row_heading level0 row0\" >1</th>\n",
       "                        <td id=\"T_4dee7_row0_col0\" class=\"data row0 col0\" >IND</td>\n",
       "                        <td id=\"T_4dee7_row0_col1\" class=\"data row0 col1\" >1548</td>\n",
       "            </tr>\n",
       "            <tr>\n",
       "                        <th id=\"T_4dee7_level0_row1\" class=\"row_heading level0 row1\" >0</th>\n",
       "                        <td id=\"T_4dee7_row1_col0\" class=\"data row1 col0\" >GRP</td>\n",
       "                        <td id=\"T_4dee7_row1_col1\" class=\"data row1 col1\" >237</td>\n",
       "            </tr>\n",
       "            <tr>\n",
       "                        <th id=\"T_4dee7_level0_row2\" class=\"row_heading level0 row2\" >2</th>\n",
       "                        <td id=\"T_4dee7_row2_col0\" class=\"data row2 col0\" >OTH</td>\n",
       "                        <td id=\"T_4dee7_row2_col1\" class=\"data row2 col1\" >71</td>\n",
       "            </tr>\n",
       "    </tbody></table>"
      ],
      "text/plain": [
       "<pandas.io.formats.style.Styler at 0x7f99a177de50>"
      ]
     },
     "execution_count": 454,
     "metadata": {},
     "output_type": "execute_result"
    }
   ],
   "source": [
    "temp = df_train.groupby('subtask_c').count()['tweet'].reset_index().sort_values(by='tweet',ascending=False)\n",
    "temp.style.background_gradient(cmap='Purples')"
   ]
  },
  {
   "cell_type": "code",
   "execution_count": 455,
   "metadata": {},
   "outputs": [
    {
     "data": {
      "image/png": "[encoded data removed]",
      "text/plain": [
       "<Figure size 864x432 with 1 Axes>"
      ]
     },
     "metadata": {
      "needs_background": "light"
     },
     "output_type": "display_data"
    }
   ],
   "source": [
    "plt.figure(figsize=(12,6))\n",
    "df_train['subtask_a'].value_counts().plot.bar()\n",
    "plt.show()"
   ]
  },
  {
   "cell_type": "code",
   "execution_count": 456,
   "metadata": {},
   "outputs": [
    {
     "data": {
      "image/png": "[encoded data removed]",
      "text/plain": [
       "<Figure size 864x432 with 1 Axes>"
      ]
     },
     "metadata": {
      "needs_background": "light"
     },
     "output_type": "display_data"
    }
   ],
   "source": [
    "plt.figure(figsize=(12,6))\n",
    "df_train['subtask_b'].value_counts().plot.bar()\n",
    "plt.show()"
   ]
  },
  {
   "cell_type": "code",
   "execution_count": 457,
   "metadata": {},
   "outputs": [
    {
     "data": {
      "image/png": "[encoded data removed]",
      "text/plain": [
       "<Figure size 864x432 with 1 Axes>"
      ]
     },
     "metadata": {
      "needs_background": "light"
     },
     "output_type": "display_data"
    }
   ],
   "source": [
    "plt.figure(figsize=(12,6))\n",
    "df_train['subtask_c'].value_counts().plot.bar()\n",
    "plt.show()"
   ]
  },
  {
   "cell_type": "code",
   "execution_count": 458,
   "metadata": {},
   "outputs": [
    {
     "data": {
      "text/html": [
       "<style  type=\"text/css\" >\n",
       "#T_4423e_row0_col1{\n",
       "            background-color:  #00ff80;\n",
       "            color:  #000000;\n",
       "        }#T_4423e_row1_col1{\n",
       "            background-color:  #0000ff;\n",
       "            color:  #f1f1f1;\n",
       "        }</style><table id=\"T_4423e_\" ><thead>    <tr>        <th class=\"blank level0\" ></th>        <th class=\"col_heading level0 col0\" >subtask_a</th>        <th class=\"col_heading level0 col1\" >tweet</th>    </tr></thead><tbody>\n",
       "                <tr>\n",
       "                        <th id=\"T_4423e_level0_row0\" class=\"row_heading level0 row0\" >1</th>\n",
       "                        <td id=\"T_4423e_row0_col0\" class=\"data row0 col0\" >not offensive</td>\n",
       "                        <td id=\"T_4423e_row0_col1\" class=\"data row0 col1\" >10547</td>\n",
       "            </tr>\n",
       "            <tr>\n",
       "                        <th id=\"T_4423e_level0_row1\" class=\"row_heading level0 row1\" >0</th>\n",
       "                        <td id=\"T_4423e_row1_col0\" class=\"data row1 col0\" >Offensive</td>\n",
       "                        <td id=\"T_4423e_row1_col1\" class=\"data row1 col1\" >2333</td>\n",
       "            </tr>\n",
       "    </tbody></table>"
      ],
      "text/plain": [
       "<pandas.io.formats.style.Styler at 0x7f99a257d220>"
      ]
     },
     "execution_count": 458,
     "metadata": {},
     "output_type": "execute_result"
    }
   ],
   "source": [
    "class_df = df_train.groupby('subtask_a').count()['tweet'].reset_index().sort_values(by='tweet',ascending=False)\n",
    "class_df.style.background_gradient(cmap='winter')"
   ]
  },
  {
   "cell_type": "code",
   "execution_count": 459,
   "metadata": {},
   "outputs": [
    {
     "data": {
      "image/png": "[encoded data removed]",
      "text/plain": [
       "<Figure size 432x288 with 1 Axes>"
      ]
     },
     "metadata": {},
     "output_type": "display_data"
    }
   ],
   "source": [
    "percent_class=class_df.tweet\n",
    "labels= class_df.subtask_a\n",
    "\n",
    "colors = ['#17C37B','#F92969','#FACA0C']\n",
    "\n",
    "my_pie,_,_ = plt.pie(percent_class,radius = 1.2,labels=labels,colors=colors,autopct=\"%.1f%%\")\n",
    "\n",
    "plt.setp(my_pie, width=0.6, edgecolor='white') \n",
    "\n",
    "plt.show()"
   ]
  },
  {
   "cell_type": "code",
   "execution_count": 460,
   "metadata": {},
   "outputs": [
    {
     "data": {
      "text/html": [
       "<style  type=\"text/css\" >\n",
       "#T_86825_row0_col1{\n",
       "            background-color:  #00ff80;\n",
       "            color:  #000000;\n",
       "        }#T_86825_row1_col1{\n",
       "            background-color:  #0000ff;\n",
       "            color:  #f1f1f1;\n",
       "        }</style><table id=\"T_86825_\" ><thead>    <tr>        <th class=\"blank level0\" ></th>        <th class=\"col_heading level0 col0\" >subtask_b</th>        <th class=\"col_heading level0 col1\" >tweet</th>    </tr></thead><tbody>\n",
       "                <tr>\n",
       "                        <th id=\"T_86825_level0_row0\" class=\"row_heading level0 row0\" >0</th>\n",
       "                        <td id=\"T_86825_row0_col0\" class=\"data row0 col0\" >TIN</td>\n",
       "                        <td id=\"T_86825_row0_col1\" class=\"data row0 col1\" >1857</td>\n",
       "            </tr>\n",
       "            <tr>\n",
       "                        <th id=\"T_86825_level0_row1\" class=\"row_heading level0 row1\" >1</th>\n",
       "                        <td id=\"T_86825_row1_col0\" class=\"data row1 col0\" >UNT</td>\n",
       "                        <td id=\"T_86825_row1_col1\" class=\"data row1 col1\" >476</td>\n",
       "            </tr>\n",
       "    </tbody></table>"
      ],
      "text/plain": [
       "<pandas.io.formats.style.Styler at 0x7f99a2463d00>"
      ]
     },
     "execution_count": 460,
     "metadata": {},
     "output_type": "execute_result"
    }
   ],
   "source": [
    "class_df = df_train.groupby('subtask_b').count()['tweet'].reset_index().sort_values(by='tweet',ascending=False)\n",
    "class_df.style.background_gradient(cmap='winter')"
   ]
  },
  {
   "cell_type": "code",
   "execution_count": 461,
   "metadata": {},
   "outputs": [
    {
     "data": {
      "image/png": "[encoded data removed]",
      "text/plain": [
       "<Figure size 432x288 with 1 Axes>"
      ]
     },
     "metadata": {},
     "output_type": "display_data"
    }
   ],
   "source": [
    "percent_class=class_df.tweet\n",
    "labels= class_df.subtask_b\n",
    "\n",
    "colors = ['#17C37B','#F92969','#FACA0C']\n",
    "\n",
    "my_pie,_,_ = plt.pie(percent_class,radius = 1.2,labels=labels,colors=colors,autopct=\"%.1f%%\")\n",
    "\n",
    "plt.setp(my_pie, width=0.6, edgecolor='white') \n",
    "\n",
    "plt.show()"
   ]
  },
  {
   "cell_type": "code",
   "execution_count": 462,
   "metadata": {},
   "outputs": [
    {
     "data": {
      "text/html": [
       "<style  type=\"text/css\" >\n",
       "#T_0b31d_row0_col1{\n",
       "            background-color:  #00ff80;\n",
       "            color:  #000000;\n",
       "        }#T_0b31d_row1_col1{\n",
       "            background-color:  #001cf1;\n",
       "            color:  #f1f1f1;\n",
       "        }#T_0b31d_row2_col1{\n",
       "            background-color:  #0000ff;\n",
       "            color:  #f1f1f1;\n",
       "        }</style><table id=\"T_0b31d_\" ><thead>    <tr>        <th class=\"blank level0\" ></th>        <th class=\"col_heading level0 col0\" >subtask_c</th>        <th class=\"col_heading level0 col1\" >tweet</th>    </tr></thead><tbody>\n",
       "                <tr>\n",
       "                        <th id=\"T_0b31d_level0_row0\" class=\"row_heading level0 row0\" >1</th>\n",
       "                        <td id=\"T_0b31d_row0_col0\" class=\"data row0 col0\" >IND</td>\n",
       "                        <td id=\"T_0b31d_row0_col1\" class=\"data row0 col1\" >1548</td>\n",
       "            </tr>\n",
       "            <tr>\n",
       "                        <th id=\"T_0b31d_level0_row1\" class=\"row_heading level0 row1\" >0</th>\n",
       "                        <td id=\"T_0b31d_row1_col0\" class=\"data row1 col0\" >GRP</td>\n",
       "                        <td id=\"T_0b31d_row1_col1\" class=\"data row1 col1\" >237</td>\n",
       "            </tr>\n",
       "            <tr>\n",
       "                        <th id=\"T_0b31d_level0_row2\" class=\"row_heading level0 row2\" >2</th>\n",
       "                        <td id=\"T_0b31d_row2_col0\" class=\"data row2 col0\" >OTH</td>\n",
       "                        <td id=\"T_0b31d_row2_col1\" class=\"data row2 col1\" >71</td>\n",
       "            </tr>\n",
       "    </tbody></table>"
      ],
      "text/plain": [
       "<pandas.io.formats.style.Styler at 0x7f99a1a704f0>"
      ]
     },
     "execution_count": 462,
     "metadata": {},
     "output_type": "execute_result"
    }
   ],
   "source": [
    "class_df = df_train.groupby('subtask_c').count()['tweet'].reset_index().sort_values(by='tweet',ascending=False)\n",
    "class_df.style.background_gradient(cmap='winter')"
   ]
  },
  {
   "cell_type": "code",
   "execution_count": 463,
   "metadata": {},
   "outputs": [
    {
     "data": {
      "image/png": "[encoded data removed]",
      "text/plain": [
       "<Figure size 432x288 with 1 Axes>"
      ]
     },
     "metadata": {},
     "output_type": "display_data"
    }
   ],
   "source": [
    "percent_class=class_df.tweet\n",
    "labels= class_df.subtask_c\n",
    "\n",
    "colors = ['#17C37B','#F92969','#FACA0C']\n",
    "\n",
    "my_pie,_,_ = plt.pie(percent_class,radius = 1.2,labels=labels,colors=colors,autopct=\"%.1f%%\")\n",
    "\n",
    "plt.setp(my_pie, width=0.6, edgecolor='white') \n",
    "\n",
    "plt.show()"
   ]
  },
  {
   "cell_type": "markdown",
   "metadata": {},
   "source": [
    "# 5. Cleaning tweets"
   ]
  },
  {
   "cell_type": "code",
   "execution_count": 464,
   "metadata": {},
   "outputs": [],
   "source": [
    "\n",
    "import re\n",
    "import pandas as pd\n",
    "\n",
    "\n",
    "# pre-processing the data\n",
    "def clean_text(row, options):\n",
    "\n",
    "    if options['lowercase']:\n",
    "        row = str(row).lower()\n",
    "\n",
    "    if options['strip_spaces']:\n",
    "        row = str(row).strip()\n",
    "\n",
    "    if options['remove_url']:\n",
    "        row = str(row).replace('http\\S+|www.\\S+', '')\n",
    "\n",
    "    if options['remove_mentions']:\n",
    "        row = re.sub(\"@[A-Za-z0-9]+\",\"@USER\",row)\n",
    "\n",
    "    if options['remove_newline']:\n",
    "        row = re.sub(r'\\n',' ',row)\n",
    "\n",
    "    if options['remove_tab']:\n",
    "        row = re.sub(r'\\t',' ',row)\n",
    "\n",
    "    if options['remove_english']:\n",
    "        row = re.sub(\"[A-Za-z0-9]+\",\"\",row)\n",
    "\n",
    "    if options['add_USER_tag']:\n",
    "        row = re.sub(\"@\",\"@USER\",row)\n",
    "\n",
    "    if options['remove_specials']:\n",
    "        row = re.sub('[+,-,_,=,/,<,>,!,#,$,%,^,&,*,\\\",:,;,.,' ',\\t,\\r,\\n,\\',|]','',row)\n",
    "    return row\n",
    "\n",
    "clean_config = {\n",
    "    'remove_url': True,\n",
    "    'remove_mentions': True,\n",
    "    'decode_utf8': True,\n",
    "    'lowercase': True,\n",
    "    'remove_english': True,\n",
    "    'remove_specials': True,\n",
    "    'add_USER_tag': True,\n",
    "    'remove_newline':True,\n",
    "    'remove_tab':True,\n",
    "    'strip_spaces':True\n",
    "    }\n",
    "\n",
    "\n",
    "def demoji(text):\n",
    "    emoji_pattern = re.compile(\"[\"\n",
    "        u\"\\U0001F600-\\U0001F64F\"  # emoticons\n",
    "        u\"\\U0001F300-\\U0001F5FF\"  # symbols & pictographs\n",
    "        u\"\\U0001F680-\\U0001F6FF\"  # transport & map symbols\n",
    "        u\"\\U0001F1E0-\\U0001F1FF\"  # flags (iOS)\n",
    "        u\"\\U00002702-\\U000027B0\"\n",
    "        u\"\\U000024C2-\\U0001F251\"\n",
    "        u\"\\U00010000-\\U0010ffff\"\n",
    "                               \"]+\", flags=re.UNICODE)\n",
    "    return(emoji_pattern.sub(r'', text))\n",
    "\n",
    "\n",
    "def main():\n",
    "    dataset = df_test_new\n",
    "\n",
    "    dataset_df = pd.DataFrame(dataset)\n",
    "\n",
    "    dataset_df = dataset_df[[\"tweet\",\"subtask_a\",\"subtask_b\",\"subtask_c\"]]\n",
    "    #, \"subtask_c\", \"subtask_b\", \"subtask_c\"\n",
    "\n",
    "    #lowe case conversion\n",
    "    dataset_df['tweet'] = dataset_df['tweet'].str.lower()\n",
    "\n",
    "    # calling pre-processing function\n",
    "    dataset_df['tweet'] = dataset_df['tweet'].apply(clean_text, args=(clean_config,))\n",
    "\n",
    "    #stripping leading and trailing whitespaces\n",
    "    dataset_df['tweet'] = dataset_df['tweet'].str.strip()\n",
    "\n",
    "    #remove emojis - not working\n",
    "    dataset_df.astype(str).apply(lambda x: x.str.encode('ascii', 'ignore').str.decode('ascii'))\n",
    "\n",
    "    #remove emojis - working\n",
    "    dataset_df['tweet'] = dataset_df['tweet'].apply( lambda x : demoji(x))\n",
    "\n",
    "    # convert df to csv\n",
    "    dataset_df.to_csv('testing_cleaned_new.csv',index = False)\n",
    "\n",
    "if __name__ == \"__main__\":\n",
    "    main()"
   ]
  },
  {
   "cell_type": "code",
   "execution_count": 465,
   "metadata": {},
   "outputs": [],
   "source": [
    "\n",
    "import re\n",
    "import pandas as pd\n",
    "\n",
    "\n",
    "# pre-processing the data\n",
    "def clean_text(row, options):\n",
    "\n",
    "    if options['lowercase']:\n",
    "        row = str(row).lower()\n",
    "\n",
    "    if options['strip_spaces']:\n",
    "        row = str(row).strip()\n",
    "\n",
    "    if options['remove_url']:\n",
    "        row = str(row).replace('http\\S+|www.\\S+', '')\n",
    "\n",
    "    if options['remove_mentions']:\n",
    "        row = re.sub(\"@[A-Za-z0-9]+\",\"@USER\",row)\n",
    "\n",
    "    if options['remove_newline']:\n",
    "        row = re.sub(r'\\n',' ',row)\n",
    "\n",
    "    if options['remove_tab']:\n",
    "        row = re.sub(r'\\t',' ',row)\n",
    "\n",
    "    if options['remove_english']:\n",
    "        row = re.sub(\"[A-Za-z0-9]+\",\"\",row)\n",
    "\n",
    "    if options['add_USER_tag']:\n",
    "        row = re.sub(\"@\",\"@USER\",row)\n",
    "\n",
    "    if options['remove_specials']:\n",
    "        row = re.sub('[+,-,_,=,/,<,>,!,#,$,%,^,&,*,\\\",:,;,.,' ',\\t,\\r,\\n,\\',|]','',row)\n",
    "    return row\n",
    "\n",
    "clean_config = {\n",
    "    'remove_url': True,\n",
    "    'remove_mentions': True,\n",
    "    'decode_utf8': True,\n",
    "    'lowercase': True,\n",
    "    'remove_english': True,\n",
    "    'remove_specials': True,\n",
    "    'add_USER_tag': True,\n",
    "    'remove_newline':True,\n",
    "    'remove_tab':True,\n",
    "    'strip_spaces':True\n",
    "    }\n",
    "\n",
    "\n",
    "def demoji(text):\n",
    "    emoji_pattern = re.compile(\"[\"\n",
    "        u\"\\U0001F600-\\U0001F64F\"  # emoticons\n",
    "        u\"\\U0001F300-\\U0001F5FF\"  # symbols & pictographs\n",
    "        u\"\\U0001F680-\\U0001F6FF\"  # transport & map symbols\n",
    "        u\"\\U0001F1E0-\\U0001F1FF\"  # flags (iOS)\n",
    "        u\"\\U00002702-\\U000027B0\"\n",
    "        u\"\\U000024C2-\\U0001F251\"\n",
    "        u\"\\U00010000-\\U0010ffff\"\n",
    "                               \"]+\", flags=re.UNICODE)\n",
    "    return(emoji_pattern.sub(r'', text))\n",
    "\n",
    "\n",
    "def main():\n",
    "    dataset = df_train_new\n",
    "\n",
    "    dataset_df = pd.DataFrame(dataset)\n",
    "\n",
    "    dataset_df = dataset_df[[\"tweet\",\"subtask_a\",\"subtask_b\",\"subtask_c\"]]\n",
    "    #, \"subtask_c\", \"subtask_b\", \"subtask_c\"\n",
    "\n",
    "    #lowe case conversion\n",
    "    dataset_df['tweet'] = dataset_df['tweet'].str.lower()\n",
    "\n",
    "    # calling pre-processing function\n",
    "    dataset_df['tweet'] = dataset_df['tweet'].apply(clean_text, args=(clean_config,))\n",
    "\n",
    "    #stripping leading and trailing whitespaces\n",
    "    dataset_df['tweet'] = dataset_df['tweet'].str.strip()\n",
    "\n",
    "    #remove emojis - not working\n",
    "    dataset_df.astype(str).apply(lambda x: x.str.encode('ascii', 'ignore').str.decode('ascii'))\n",
    "\n",
    "    #remove emojis - working\n",
    "    dataset_df['tweet'] = dataset_df['tweet'].apply( lambda x : demoji(x))\n",
    "\n",
    "    # convert df to csv\n",
    "    dataset_df.to_csv('training_cleaned_new.csv',index = False)\n",
    "\n",
    "if __name__ == \"__main__\":\n",
    "    main()"
   ]
  },
  {
   "cell_type": "code",
   "execution_count": 422,
   "metadata": {},
   "outputs": [],
   "source": [
    "# # df_train.subtask_a = df_train.subtask_a.dropna()\n",
    "# # df_train = df_train.reset_index(drop=True)\n",
    "\n",
    "# df_train.subtask_b = df_train.subtask_b.dropna()\n",
    "# df_train = df_train.reset_index(drop=True)\n",
    "\n",
    "# # df_train.subtask_c = df_train.subtask_c.dropna()\n",
    "# # df_train = df_train.reset_index(drop=True)\n",
    "\n",
    "\n",
    "# # df_test.subtask_a = df_test.subtask_a.dropna()\n",
    "# # df_test = df_test.reset_index(drop=True)\n",
    "\n",
    "# df_test.subtask_b = df_test.subtask_b.dropna()\n",
    "# df_test = df_test.reset_index(drop=True)\n",
    "\n",
    "# # df_test.subtask_c = df_test.subtask_c.dropna()\n",
    "# # df_test = df_test.reset_index(drop=True)"
   ]
  },
  {
   "cell_type": "code",
   "execution_count": 423,
   "metadata": {},
   "outputs": [
    {
     "data": {
      "text/html": [
       "<style  type=\"text/css\" >\n",
       "#T_58b17_row0_col1{\n",
       "            background-color:  #3f007d;\n",
       "            color:  #f1f1f1;\n",
       "        }#T_58b17_row1_col1{\n",
       "            background-color:  #fcfbfd;\n",
       "            color:  #000000;\n",
       "        }</style><table id=\"T_58b17_\" ><thead>    <tr>        <th class=\"blank level0\" ></th>        <th class=\"col_heading level0 col0\" >subtask_b</th>        <th class=\"col_heading level0 col1\" >tweet</th>    </tr></thead><tbody>\n",
       "                <tr>\n",
       "                        <th id=\"T_58b17_level0_row0\" class=\"row_heading level0 row0\" >0</th>\n",
       "                        <td id=\"T_58b17_row0_col0\" class=\"data row0 col0\" >TIN</td>\n",
       "                        <td id=\"T_58b17_row0_col1\" class=\"data row0 col1\" >1857</td>\n",
       "            </tr>\n",
       "            <tr>\n",
       "                        <th id=\"T_58b17_level0_row1\" class=\"row_heading level0 row1\" >1</th>\n",
       "                        <td id=\"T_58b17_row1_col0\" class=\"data row1 col0\" >UNT</td>\n",
       "                        <td id=\"T_58b17_row1_col1\" class=\"data row1 col1\" >475</td>\n",
       "            </tr>\n",
       "    </tbody></table>"
      ],
      "text/plain": [
       "<pandas.io.formats.style.Styler at 0x7f99a26abd90>"
      ]
     },
     "execution_count": 423,
     "metadata": {},
     "output_type": "execute_result"
    }
   ],
   "source": [
    "temp = df_train.groupby('subtask_b').count()['tweet'].reset_index().sort_values(by='tweet',ascending=False)\n",
    "temp.style.background_gradient(cmap='Purples')"
   ]
  },
  {
   "cell_type": "code",
   "execution_count": 424,
   "metadata": {},
   "outputs": [
    {
     "data": {
      "text/html": [
       "<style  type=\"text/css\" >\n",
       "#T_2d8bd_row0_col1{\n",
       "            background-color:  #3f007d;\n",
       "            color:  #f1f1f1;\n",
       "        }#T_2d8bd_row1_col1{\n",
       "            background-color:  #fcfbfd;\n",
       "            color:  #000000;\n",
       "        }</style><table id=\"T_2d8bd_\" ><thead>    <tr>        <th class=\"blank level0\" ></th>        <th class=\"col_heading level0 col0\" >subtask_b</th>        <th class=\"col_heading level0 col1\" >tweet</th>    </tr></thead><tbody>\n",
       "                <tr>\n",
       "                        <th id=\"T_2d8bd_level0_row0\" class=\"row_heading level0 row0\" >0</th>\n",
       "                        <td id=\"T_2d8bd_row0_col0\" class=\"data row0 col0\" >TIN</td>\n",
       "                        <td id=\"T_2d8bd_row0_col1\" class=\"data row0 col1\" >61</td>\n",
       "            </tr>\n",
       "            <tr>\n",
       "                        <th id=\"T_2d8bd_level0_row1\" class=\"row_heading level0 row1\" >1</th>\n",
       "                        <td id=\"T_2d8bd_row1_col0\" class=\"data row1 col0\" >UNT</td>\n",
       "                        <td id=\"T_2d8bd_row1_col1\" class=\"data row1 col1\" >24</td>\n",
       "            </tr>\n",
       "    </tbody></table>"
      ],
      "text/plain": [
       "<pandas.io.formats.style.Styler at 0x7f99a176e910>"
      ]
     },
     "execution_count": 424,
     "metadata": {},
     "output_type": "execute_result"
    }
   ],
   "source": [
    "temp = df_test.groupby('subtask_b').count()['tweet'].reset_index().sort_values(by='tweet',ascending=False)\n",
    "temp.style.background_gradient(cmap='Purples')"
   ]
  },
  {
   "cell_type": "code",
   "execution_count": 466,
   "metadata": {},
   "outputs": [],
   "source": [
    "train_df = pd.read_csv('training_cleaned_new.csv')\n",
    "test_df = pd.read_csv('testing_cleaned_new.csv')\n",
    "\n",
    "train_df.tweet = train_df.tweet.astype(str)\n",
    "test_df.tweet = test_df.tweet.astype(str)"
   ]
  },
  {
   "cell_type": "code",
   "execution_count": 467,
   "metadata": {},
   "outputs": [
    {
     "data": {
      "text/html": [
       "<div>\n",
       "<style scoped>\n",
       "    .dataframe tbody tr th:only-of-type {\n",
       "        vertical-align: middle;\n",
       "    }\n",
       "\n",
       "    .dataframe tbody tr th {\n",
       "        vertical-align: top;\n",
       "    }\n",
       "\n",
       "    .dataframe thead th {\n",
       "        text-align: right;\n",
       "    }\n",
       "</style>\n",
       "<table border=\"1\" class=\"dataframe\">\n",
       "  <thead>\n",
       "    <tr style=\"text-align: right;\">\n",
       "      <th></th>\n",
       "      <th>tweet</th>\n",
       "      <th>subtask_a</th>\n",
       "      <th>subtask_b</th>\n",
       "      <th>subtask_c</th>\n",
       "    </tr>\n",
       "  </thead>\n",
       "  <tbody>\n",
       "    <tr>\n",
       "      <th>0</th>\n",
       "      <td>भिकारचोट पत्रकार दलाल आहेत साले</td>\n",
       "      <td>Offensive</td>\n",
       "      <td>TIN</td>\n",
       "      <td>GRP</td>\n",
       "    </tr>\n",
       "    <tr>\n",
       "      <th>1</th>\n",
       "      <td>म्हणून हे परप्रांतीय लोंढे थांबवा आणि महाराष्ट...</td>\n",
       "      <td>Offensive</td>\n",
       "      <td>TIN</td>\n",
       "      <td>GRP</td>\n",
       "    </tr>\n",
       "    <tr>\n",
       "      <th>2</th>\n",
       "      <td>छान लिहिला आहेपण त्या बावळट माणसांना असले स्पष...</td>\n",
       "      <td>Offensive</td>\n",
       "      <td>TIN</td>\n",
       "      <td>GRP</td>\n",
       "    </tr>\n",
       "    <tr>\n",
       "      <th>3</th>\n",
       "      <td>एकदम मान्य नाहीतरी ही भिकारचोट मंडळी त्या सिने...</td>\n",
       "      <td>Offensive</td>\n",
       "      <td>TIN</td>\n",
       "      <td>GRP</td>\n",
       "    </tr>\n",
       "    <tr>\n",
       "      <th>4</th>\n",
       "      <td>भिकारचोट मराठी मीडि…</td>\n",
       "      <td>Offensive</td>\n",
       "      <td>TIN</td>\n",
       "      <td>GRP</td>\n",
       "    </tr>\n",
       "  </tbody>\n",
       "</table>\n",
       "</div>"
      ],
      "text/plain": [
       "                                               tweet  subtask_a subtask_b  \\\n",
       "0                    भिकारचोट पत्रकार दलाल आहेत साले  Offensive       TIN   \n",
       "1  म्हणून हे परप्रांतीय लोंढे थांबवा आणि महाराष्ट...  Offensive       TIN   \n",
       "2  छान लिहिला आहेपण त्या बावळट माणसांना असले स्पष...  Offensive       TIN   \n",
       "3  एकदम मान्य नाहीतरी ही भिकारचोट मंडळी त्या सिने...  Offensive       TIN   \n",
       "4                               भिकारचोट मराठी मीडि…  Offensive       TIN   \n",
       "\n",
       "  subtask_c  \n",
       "0       GRP  \n",
       "1       GRP  \n",
       "2       GRP  \n",
       "3       GRP  \n",
       "4       GRP  "
      ]
     },
     "execution_count": 467,
     "metadata": {},
     "output_type": "execute_result"
    }
   ],
   "source": [
    "train_df.head(5)"
   ]
  },
  {
   "cell_type": "code",
   "execution_count": 468,
   "metadata": {},
   "outputs": [
    {
     "data": {
      "text/plain": [
       "array(['TIN', 'UNT'], dtype=object)"
      ]
     },
     "execution_count": 468,
     "metadata": {},
     "output_type": "execute_result"
    }
   ],
   "source": [
    "train_df['subtask_b'].unique()"
   ]
  },
  {
   "cell_type": "code",
   "execution_count": 469,
   "metadata": {},
   "outputs": [
    {
     "data": {
      "text/plain": [
       "array(['TIN', 'UNT'], dtype=object)"
      ]
     },
     "execution_count": 469,
     "metadata": {},
     "output_type": "execute_result"
    }
   ],
   "source": [
    "test_df['subtask_b'].unique()"
   ]
  },
  {
   "cell_type": "code",
   "execution_count": 326,
   "metadata": {},
   "outputs": [],
   "source": [
    "# train_df.subtask_a = train_df.subtask_a.dropna()\n",
    "# train_df = train_df.reset_index(drop=True)\n",
    "\n",
    "train_df.subtask_b = train_df.subtask_b.dropna()\n",
    "train_df = train_df.reset_index(drop=True)\n",
    "\n",
    "# train_df.subtask_c = train_df.subtask_c.dropna()\n",
    "# train_df = train_df.reset_index(drop=True)\n",
    "\n",
    "\n",
    "# test_df.subtask_a = test_df.subtask_a.dropna()\n",
    "# test_df = test_df.reset_index(drop=True)\n",
    "\n",
    "test_df.subtask_b = test_df.subtask_b.dropna()\n",
    "test_df = test_df.reset_index(drop=True)\n",
    "\n",
    "# test_df.subtask_c = test_df.subtask_c.dropna()\n",
    "# test_df = test_df.reset_index(drop=True)"
   ]
  },
  {
   "cell_type": "code",
   "execution_count": 470,
   "metadata": {},
   "outputs": [
    {
     "data": {
      "text/html": [
       "<style  type=\"text/css\" >\n",
       "#T_8beba_row0_col1{\n",
       "            background-color:  #3f007d;\n",
       "            color:  #f1f1f1;\n",
       "        }#T_8beba_row1_col1{\n",
       "            background-color:  #fcfbfd;\n",
       "            color:  #000000;\n",
       "        }</style><table id=\"T_8beba_\" ><thead>    <tr>        <th class=\"blank level0\" ></th>        <th class=\"col_heading level0 col0\" >subtask_b</th>        <th class=\"col_heading level0 col1\" >tweet</th>    </tr></thead><tbody>\n",
       "                <tr>\n",
       "                        <th id=\"T_8beba_level0_row0\" class=\"row_heading level0 row0\" >0</th>\n",
       "                        <td id=\"T_8beba_row0_col0\" class=\"data row0 col0\" >TIN</td>\n",
       "                        <td id=\"T_8beba_row0_col1\" class=\"data row0 col1\" >1857</td>\n",
       "            </tr>\n",
       "            <tr>\n",
       "                        <th id=\"T_8beba_level0_row1\" class=\"row_heading level0 row1\" >1</th>\n",
       "                        <td id=\"T_8beba_row1_col0\" class=\"data row1 col0\" >UNT</td>\n",
       "                        <td id=\"T_8beba_row1_col1\" class=\"data row1 col1\" >476</td>\n",
       "            </tr>\n",
       "    </tbody></table>"
      ],
      "text/plain": [
       "<pandas.io.formats.style.Styler at 0x7f99a2264850>"
      ]
     },
     "execution_count": 470,
     "metadata": {},
     "output_type": "execute_result"
    }
   ],
   "source": [
    "temp = df_train.groupby('subtask_b').count()['tweet'].reset_index().sort_values(by='tweet',ascending=False)\n",
    "temp.style.background_gradient(cmap='Purples')"
   ]
  },
  {
   "cell_type": "code",
   "execution_count": 471,
   "metadata": {},
   "outputs": [
    {
     "data": {
      "text/html": [
       "<style  type=\"text/css\" >\n",
       "#T_ecbaa_row0_col1{\n",
       "            background-color:  #3f007d;\n",
       "            color:  #f1f1f1;\n",
       "        }#T_ecbaa_row1_col1{\n",
       "            background-color:  #fcfbfd;\n",
       "            color:  #000000;\n",
       "        }</style><table id=\"T_ecbaa_\" ><thead>    <tr>        <th class=\"blank level0\" ></th>        <th class=\"col_heading level0 col0\" >subtask_b</th>        <th class=\"col_heading level0 col1\" >tweet</th>    </tr></thead><tbody>\n",
       "                <tr>\n",
       "                        <th id=\"T_ecbaa_level0_row0\" class=\"row_heading level0 row0\" >0</th>\n",
       "                        <td id=\"T_ecbaa_row0_col0\" class=\"data row0 col0\" >TIN</td>\n",
       "                        <td id=\"T_ecbaa_row0_col1\" class=\"data row0 col1\" >61</td>\n",
       "            </tr>\n",
       "            <tr>\n",
       "                        <th id=\"T_ecbaa_level0_row1\" class=\"row_heading level0 row1\" >1</th>\n",
       "                        <td id=\"T_ecbaa_row1_col0\" class=\"data row1 col0\" >UNT</td>\n",
       "                        <td id=\"T_ecbaa_row1_col1\" class=\"data row1 col1\" >24</td>\n",
       "            </tr>\n",
       "    </tbody></table>"
      ],
      "text/plain": [
       "<pandas.io.formats.style.Styler at 0x7f99a21e97c0>"
      ]
     },
     "execution_count": 471,
     "metadata": {},
     "output_type": "execute_result"
    }
   ],
   "source": [
    "temp = df_test.groupby('subtask_b').count()['tweet'].reset_index().sort_values(by='tweet',ascending=False)\n",
    "temp.style.background_gradient(cmap='Purples')"
   ]
  },
  {
   "cell_type": "markdown",
   "metadata": {},
   "source": [
    "# 6.  Looking at data"
   ]
  },
  {
   "cell_type": "markdown",
   "metadata": {},
   "source": [
    "<b>Sentiment repartition:</b>"
   ]
  },
  {
   "cell_type": "code",
   "execution_count": 329,
   "metadata": {
    "execution": {
     "iopub.execute_input": "2021-08-23T20:19:37.669224Z",
     "iopub.status.busy": "2021-08-23T20:19:37.668860Z",
     "iopub.status.idle": "2021-08-23T20:19:37.939222Z",
     "shell.execute_reply": "2021-08-23T20:19:37.938430Z",
     "shell.execute_reply.started": "2021-08-23T20:19:37.669192Z"
    }
   },
   "outputs": [
    {
     "data": {
      "image/png": "[encoded data removed]",
      "text/plain": [
       "<Figure size 1332x360 with 2 Axes>"
      ]
     },
     "metadata": {
      "needs_background": "light"
     },
     "output_type": "display_data"
    }
   ],
   "source": [
    "fig, (ax1, ax2) = plt.subplots(1, 2)\n",
    "fig.set_size_inches(18.5, 5)\n",
    "fig.suptitle('Sentiment repartition among tweets in train and test sets')\n",
    "train_df[\"subtask_a\"].value_counts().plot(kind=\"bar\", ax=ax1);\n",
    "test_df[\"subtask_a\"].value_counts().plot(kind=\"bar\", ax=ax2);"
   ]
  },
  {
   "cell_type": "code",
   "execution_count": 330,
   "metadata": {},
   "outputs": [
    {
     "data": {
      "image/png": "[encoded data removed]",
      "text/plain": [
       "<Figure size 1332x360 with 2 Axes>"
      ]
     },
     "metadata": {
      "needs_background": "light"
     },
     "output_type": "display_data"
    }
   ],
   "source": [
    "fig, (ax1, ax2) = plt.subplots(1, 2)\n",
    "fig.set_size_inches(18.5, 5)\n",
    "fig.suptitle('Sentiment repartition among tweets in train and test sets')\n",
    "train_df[\"subtask_c\"].value_counts().plot(kind=\"bar\", ax=ax1);\n",
    "test_df[\"subtask_c\"].value_counts().plot(kind=\"bar\", ax=ax2);"
   ]
  },
  {
   "cell_type": "markdown",
   "metadata": {},
   "source": [
    "<b>Word cloud in each sentiment categories:</b>"
   ]
  },
  {
   "cell_type": "code",
   "execution_count": 331,
   "metadata": {
    "execution": {
     "iopub.execute_input": "2021-08-23T20:19:38.558255Z",
     "iopub.status.busy": "2021-08-23T20:19:38.557884Z",
     "iopub.status.idle": "2021-08-23T20:19:38.600890Z",
     "shell.execute_reply": "2021-08-23T20:19:38.600030Z",
     "shell.execute_reply.started": "2021-08-23T20:19:38.558223Z"
    }
   },
   "outputs": [],
   "source": [
    "# all_words_positive = \" \".join([text for text in df_train[df_train[\"Sentiment\"]==\"Positive\"][\"CleanTweet\"]])\n",
    "# all_words_neutral = \" \".join([text for text in df_train[df_train[\"Sentiment\"]==\"Neutral\"][\"CleanTweet\"]])\n",
    "# all_words_negative = \" \".join([text for text in df_train[df_train[\"Sentiment\"]==\"Negative\"][\"CleanTweet\"]])"
   ]
  },
  {
   "cell_type": "code",
   "execution_count": 332,
   "metadata": {
    "execution": {
     "iopub.execute_input": "2021-08-23T20:19:38.951368Z",
     "iopub.status.busy": "2021-08-23T20:19:38.951045Z",
     "iopub.status.idle": "2021-08-23T20:19:45.979234Z",
     "shell.execute_reply": "2021-08-23T20:19:45.977508Z",
     "shell.execute_reply.started": "2021-08-23T20:19:38.951338Z"
    }
   },
   "outputs": [],
   "source": [
    "# wordcloud_positive = WordCloud(width=800, height=600, max_font_size=120, background_color=\"white\", colormap=\"Greens\").generate(all_words_positive)\n",
    "# wordcloud_neutral = WordCloud(width=800, height=600, max_font_size=120, background_color=\"white\", colormap=\"YlOrBr\").generate(all_words_neutral)\n",
    "# wordcloud_negative = WordCloud(width=800, height=600, max_font_size=120, background_color=\"white\", colormap=\"Reds\").generate(all_words_negative)"
   ]
  },
  {
   "cell_type": "code",
   "execution_count": 333,
   "metadata": {
    "execution": {
     "iopub.execute_input": "2021-08-23T20:19:45.981105Z",
     "iopub.status.busy": "2021-08-23T20:19:45.980759Z",
     "iopub.status.idle": "2021-08-23T20:19:46.746815Z",
     "shell.execute_reply": "2021-08-23T20:19:46.745838Z",
     "shell.execute_reply.started": "2021-08-23T20:19:45.981068Z"
    }
   },
   "outputs": [],
   "source": [
    "# parameters = {'axes.labelsize': 12,\n",
    "#               'axes.titlesize': 10}\n",
    "# #\n",
    "# fig, (ax1, ax2, ax3) = plt.subplots(1, 3)\n",
    "# fig.set_size_inches(18.5, 7)\n",
    "# ax1.imshow(wordcloud_positive, interpolation='bilinear')\n",
    "# ax1.axis(\"off\")\n",
    "# ax1.set_title(\"WordCloud of positive tweets\", fontsize=12)\n",
    "# ax2.imshow(wordcloud_neutral, interpolation='bilinear')\n",
    "# ax2.axis(\"off\")\n",
    "# ax2.set_title(\"WordCloud of neutral tweets\", fontsize=12)\n",
    "# ax3.imshow(wordcloud_negative, interpolation='bilinear')\n",
    "# ax3.axis(\"off\")\n",
    "# ax3.set_title(\"WordCloud of negative tweets\", fontsize=12)\n",
    "# plt.rcParams.update(parameters)\n",
    "# plt.show()"
   ]
  },
  {
   "cell_type": "markdown",
   "metadata": {},
   "source": [
    "# 7. Sentiment encoding"
   ]
  },
  {
   "cell_type": "code",
   "execution_count": 472,
   "metadata": {
    "execution": {
     "iopub.execute_input": "2021-08-23T20:19:50.075026Z",
     "iopub.status.busy": "2021-08-23T20:19:50.074677Z",
     "iopub.status.idle": "2021-08-23T20:19:50.084295Z",
     "shell.execute_reply": "2021-08-23T20:19:50.082853Z",
     "shell.execute_reply.started": "2021-08-23T20:19:50.074990Z"
    }
   },
   "outputs": [
    {
     "name": "stdout",
     "output_type": "stream",
     "text": [
      "train set shape: (2333, 4)\n",
      "test set shape: (85, 4)\n"
     ]
    }
   ],
   "source": [
    "df_train_encoded = train_df.copy()\n",
    "df_test_encoded = test_df.copy()\n",
    "#\n",
    "print(\"train set shape: \" + str(df_train_encoded.shape))\n",
    "print(\"test set shape: \" + str(df_test_encoded.shape))"
   ]
  },
  {
   "cell_type": "code",
   "execution_count": 473,
   "metadata": {},
   "outputs": [],
   "source": [
    "map_sentiment = {\"TIN\":0, \"UNT\":1}\n",
    "df_train_encoded['subtask_b'] = df_train_encoded['subtask_b'].map(map_sentiment)\n",
    "df_test_encoded['subtask_b']  = df_test_encoded['subtask_b'].map(map_sentiment)\n",
    "\n"
   ]
  },
  {
   "cell_type": "code",
   "execution_count": 474,
   "metadata": {},
   "outputs": [
    {
     "data": {
      "text/plain": [
       "array([0, 1])"
      ]
     },
     "execution_count": 474,
     "metadata": {},
     "output_type": "execute_result"
    }
   ],
   "source": [
    "df_train_encoded['subtask_b'].unique()"
   ]
  },
  {
   "cell_type": "code",
   "execution_count": 475,
   "metadata": {},
   "outputs": [
    {
     "data": {
      "text/plain": [
       "array([0, 1])"
      ]
     },
     "execution_count": 475,
     "metadata": {},
     "output_type": "execute_result"
    }
   ],
   "source": [
    "df_test_encoded['subtask_b'].unique()"
   ]
  },
  {
   "cell_type": "code",
   "execution_count": 340,
   "metadata": {},
   "outputs": [
    {
     "data": {
      "text/html": [
       "<div>\n",
       "<style scoped>\n",
       "    .dataframe tbody tr th:only-of-type {\n",
       "        vertical-align: middle;\n",
       "    }\n",
       "\n",
       "    .dataframe tbody tr th {\n",
       "        vertical-align: top;\n",
       "    }\n",
       "\n",
       "    .dataframe thead th {\n",
       "        text-align: right;\n",
       "    }\n",
       "</style>\n",
       "<table border=\"1\" class=\"dataframe\">\n",
       "  <thead>\n",
       "    <tr style=\"text-align: right;\">\n",
       "      <th></th>\n",
       "      <th>tweet</th>\n",
       "      <th>subtask_a</th>\n",
       "      <th>subtask_b</th>\n",
       "      <th>subtask_c</th>\n",
       "    </tr>\n",
       "  </thead>\n",
       "  <tbody>\n",
       "    <tr>\n",
       "      <th>0</th>\n",
       "      <td>भिकारचोट पत्रकार दलाल आहेत साले</td>\n",
       "      <td>Offensive</td>\n",
       "      <td>1</td>\n",
       "      <td>GRP</td>\n",
       "    </tr>\n",
       "    <tr>\n",
       "      <th>1</th>\n",
       "      <td>म्हणून हे परप्रांतीय लोंढे थांबवा आणि महाराष्ट...</td>\n",
       "      <td>Offensive</td>\n",
       "      <td>1</td>\n",
       "      <td>GRP</td>\n",
       "    </tr>\n",
       "    <tr>\n",
       "      <th>2</th>\n",
       "      <td>छान लिहिला आहेपण त्या बावळट माणसांना असले स्पष...</td>\n",
       "      <td>Offensive</td>\n",
       "      <td>1</td>\n",
       "      <td>GRP</td>\n",
       "    </tr>\n",
       "    <tr>\n",
       "      <th>3</th>\n",
       "      <td>एकदम मान्य नाहीतरी ही भिकारचोट मंडळी त्या सिने...</td>\n",
       "      <td>Offensive</td>\n",
       "      <td>1</td>\n",
       "      <td>GRP</td>\n",
       "    </tr>\n",
       "    <tr>\n",
       "      <th>4</th>\n",
       "      <td>भिकारचोट मराठी मीडि…</td>\n",
       "      <td>Offensive</td>\n",
       "      <td>1</td>\n",
       "      <td>GRP</td>\n",
       "    </tr>\n",
       "    <tr>\n",
       "      <th>...</th>\n",
       "      <td>...</td>\n",
       "      <td>...</td>\n",
       "      <td>...</td>\n",
       "      <td>...</td>\n",
       "    </tr>\n",
       "    <tr>\n",
       "      <th>12875</th>\n",
       "      <td>पहिल्या लाटे नंतर सर्वात कमी रुग्ण कोरोना रूग्...</td>\n",
       "      <td>not offensive</td>\n",
       "      <td>0</td>\n",
       "      <td>NaN</td>\n",
       "    </tr>\n",
       "    <tr>\n",
       "      <th>12876</th>\n",
       "      <td>@USER @USER जगातले सर्वात कट्टर धूर्त  एकत्र य...</td>\n",
       "      <td>not offensive</td>\n",
       "      <td>0</td>\n",
       "      <td>NaN</td>\n",
       "    </tr>\n",
       "    <tr>\n",
       "      <th>12877</th>\n",
       "      <td>देशातील सर्वात स्वस्त इलेक्ट्रिक कार एका चार्ज...</td>\n",
       "      <td>not offensive</td>\n",
       "      <td>0</td>\n",
       "      <td>NaN</td>\n",
       "    </tr>\n",
       "    <tr>\n",
       "      <th>12878</th>\n",
       "      <td>@USER पंतप्रधान आयुष्मान भारत आरोग्यविषयक पाया...</td>\n",
       "      <td>not offensive</td>\n",
       "      <td>0</td>\n",
       "      <td>NaN</td>\n",
       "    </tr>\n",
       "    <tr>\n",
       "      <th>12879</th>\n",
       "      <td>@USER काटकसर म्हणजे गोधड्या शिवणे चिंध्या भरून...</td>\n",
       "      <td>not offensive</td>\n",
       "      <td>0</td>\n",
       "      <td>NaN</td>\n",
       "    </tr>\n",
       "  </tbody>\n",
       "</table>\n",
       "<p>12880 rows × 4 columns</p>\n",
       "</div>"
      ],
      "text/plain": [
       "                                                   tweet      subtask_a  \\\n",
       "0                        भिकारचोट पत्रकार दलाल आहेत साले      Offensive   \n",
       "1      म्हणून हे परप्रांतीय लोंढे थांबवा आणि महाराष्ट...      Offensive   \n",
       "2      छान लिहिला आहेपण त्या बावळट माणसांना असले स्पष...      Offensive   \n",
       "3      एकदम मान्य नाहीतरी ही भिकारचोट मंडळी त्या सिने...      Offensive   \n",
       "4                                   भिकारचोट मराठी मीडि…      Offensive   \n",
       "...                                                  ...            ...   \n",
       "12875  पहिल्या लाटे नंतर सर्वात कमी रुग्ण कोरोना रूग्...  not offensive   \n",
       "12876  @USER @USER जगातले सर्वात कट्टर धूर्त  एकत्र य...  not offensive   \n",
       "12877  देशातील सर्वात स्वस्त इलेक्ट्रिक कार एका चार्ज...  not offensive   \n",
       "12878  @USER पंतप्रधान आयुष्मान भारत आरोग्यविषयक पाया...  not offensive   \n",
       "12879  @USER काटकसर म्हणजे गोधड्या शिवणे चिंध्या भरून...  not offensive   \n",
       "\n",
       "       subtask_b subtask_c  \n",
       "0              1       GRP  \n",
       "1              1       GRP  \n",
       "2              1       GRP  \n",
       "3              1       GRP  \n",
       "4              1       GRP  \n",
       "...          ...       ...  \n",
       "12875          0       NaN  \n",
       "12876          0       NaN  \n",
       "12877          0       NaN  \n",
       "12878          0       NaN  \n",
       "12879          0       NaN  \n",
       "\n",
       "[12880 rows x 4 columns]"
      ]
     },
     "execution_count": 340,
     "metadata": {},
     "output_type": "execute_result"
    }
   ],
   "source": [
    "df_train_encoded"
   ]
  },
  {
   "cell_type": "markdown",
   "metadata": {},
   "source": [
    "# 8. Feature and target preparation"
   ]
  },
  {
   "cell_type": "code",
   "execution_count": 476,
   "metadata": {
    "execution": {
     "iopub.execute_input": "2021-08-23T20:19:53.326324Z",
     "iopub.status.busy": "2021-08-23T20:19:53.325994Z",
     "iopub.status.idle": "2021-08-23T20:19:53.339735Z",
     "shell.execute_reply": "2021-08-23T20:19:53.338650Z",
     "shell.execute_reply.started": "2021-08-23T20:19:53.326295Z"
    }
   },
   "outputs": [],
   "source": [
    "y_train = train_df['subtask_b'].copy()\n",
    "y_test = test_df['subtask_b'].copy()\n",
    "\n",
    "y_train_encoded = to_categorical(df_train_encoded['subtask_b'],2)\n",
    "y_test_encoded = to_categorical(df_test_encoded['subtask_b'],2)\n",
    "\n",
    "y_train_mapped = df_train_encoded['subtask_b'].copy()\n",
    "y_test_mapped = df_test_encoded['subtask_b'].copy()\n",
    "\n",
    "X_train = df_train_encoded[['tweet']].copy()\n",
    "X_test = df_test_encoded[['tweet']].copy()"
   ]
  },
  {
   "cell_type": "code",
   "execution_count": 346,
   "metadata": {},
   "outputs": [
    {
     "name": "stdout",
     "output_type": "stream",
     "text": [
      "0       TIN\n",
      "1       TIN\n",
      "2       TIN\n",
      "3       TIN\n",
      "4       TIN\n",
      "       ... \n",
      "110    NULL\n",
      "111    NULL\n",
      "112    NULL\n",
      "113    NULL\n",
      "114    NULL\n",
      "Name: subtask_b, Length: 115, dtype: object\n"
     ]
    }
   ],
   "source": [
    "print(y_test)"
   ]
  },
  {
   "cell_type": "code",
   "execution_count": 347,
   "metadata": {},
   "outputs": [
    {
     "name": "stdout",
     "output_type": "stream",
     "text": [
      "12880\n"
     ]
    }
   ],
   "source": [
    "print(len(y_train_mapped))"
   ]
  },
  {
   "cell_type": "markdown",
   "metadata": {},
   "source": [
    "# 9. Tokenization, sequences, padding"
   ]
  },
  {
   "cell_type": "markdown",
   "metadata": {},
   "source": [
    "<b>The result of tokenizer is a dictionnary with:</b><br>\n",
    "* key = word<br>\n",
    "* value = unique number"
   ]
  },
  {
   "cell_type": "code",
   "execution_count": 348,
   "metadata": {},
   "outputs": [
    {
     "data": {
      "text/plain": [
       "(12880,)"
      ]
     },
     "execution_count": 348,
     "metadata": {},
     "output_type": "execute_result"
    }
   ],
   "source": [
    "y_train_encoded.shape"
   ]
  },
  {
   "cell_type": "code",
   "execution_count": 349,
   "metadata": {},
   "outputs": [
    {
     "data": {
      "text/plain": [
       "(115,)"
      ]
     },
     "execution_count": 349,
     "metadata": {},
     "output_type": "execute_result"
    }
   ],
   "source": [
    "y_test_encoded.shape"
   ]
  },
  {
   "cell_type": "code",
   "execution_count": 350,
   "metadata": {},
   "outputs": [
    {
     "data": {
      "text/plain": [
       "(12880,)"
      ]
     },
     "execution_count": 350,
     "metadata": {},
     "output_type": "execute_result"
    }
   ],
   "source": [
    "y_train_mapped.shape"
   ]
  },
  {
   "cell_type": "code",
   "execution_count": 351,
   "metadata": {},
   "outputs": [
    {
     "data": {
      "text/plain": [
       "(115,)"
      ]
     },
     "execution_count": 351,
     "metadata": {},
     "output_type": "execute_result"
    }
   ],
   "source": [
    "y_test_mapped.shape"
   ]
  },
  {
   "cell_type": "code",
   "execution_count": 352,
   "metadata": {},
   "outputs": [
    {
     "data": {
      "text/plain": [
       "(12880, 1)"
      ]
     },
     "execution_count": 352,
     "metadata": {},
     "output_type": "execute_result"
    }
   ],
   "source": [
    "X_train.shape"
   ]
  },
  {
   "cell_type": "code",
   "execution_count": 353,
   "metadata": {},
   "outputs": [
    {
     "name": "stdout",
     "output_type": "stream",
     "text": [
      "(12880,)\n"
     ]
    }
   ],
   "source": [
    "print(y_train.shape)"
   ]
  },
  {
   "cell_type": "code",
   "execution_count": 477,
   "metadata": {
    "execution": {
     "iopub.execute_input": "2021-08-23T20:19:54.795129Z",
     "iopub.status.busy": "2021-08-23T20:19:54.794763Z",
     "iopub.status.idle": "2021-08-23T20:19:55.571263Z",
     "shell.execute_reply": "2021-08-23T20:19:55.570283Z",
     "shell.execute_reply.started": "2021-08-23T20:19:54.795095Z"
    }
   },
   "outputs": [
    {
     "data": {
      "text/plain": [
       "6528"
      ]
     },
     "execution_count": 477,
     "metadata": {},
     "output_type": "execute_result"
    }
   ],
   "source": [
    "tokenizer = Tokenizer()\n",
    "tokenizer.fit_on_texts(X_train[\"tweet\"])\n",
    "vocab_length = len(tokenizer.word_index) + 1\n",
    "vocab_length"
   ]
  },
  {
   "cell_type": "markdown",
   "metadata": {},
   "source": [
    "The <b>texts_to_sequences</b> function first transforms a text into list of words. Then, thanks to the dictionnary previously created by the tokenizer (see above), transforms list of list of words into list of list of numbers"
   ]
  },
  {
   "cell_type": "code",
   "execution_count": 478,
   "metadata": {
    "execution": {
     "iopub.execute_input": "2021-08-23T20:19:55.573226Z",
     "iopub.status.busy": "2021-08-23T20:19:55.572862Z",
     "iopub.status.idle": "2021-08-23T20:19:56.223847Z",
     "shell.execute_reply": "2021-08-23T20:19:56.222995Z",
     "shell.execute_reply.started": "2021-08-23T20:19:55.573190Z"
    }
   },
   "outputs": [],
   "source": [
    "X_train = tokenizer.texts_to_sequences(X_train[\"tweet\"])\n",
    "X_test = tokenizer.texts_to_sequences(X_test[\"tweet\"])"
   ]
  },
  {
   "cell_type": "markdown",
   "metadata": {},
   "source": [
    "Each tweets has differents length. Thus the result of the <b>texts_to_sequences</b> function will be a list of list of numbers of different length: "
   ]
  },
  {
   "cell_type": "code",
   "execution_count": 479,
   "metadata": {
    "execution": {
     "iopub.execute_input": "2021-08-23T20:19:56.278783Z",
     "iopub.status.busy": "2021-08-23T20:19:56.278476Z",
     "iopub.status.idle": "2021-08-23T20:19:56.285341Z",
     "shell.execute_reply": "2021-08-23T20:19:56.284382Z",
     "shell.execute_reply.started": "2021-08-23T20:19:56.278753Z"
    }
   },
   "outputs": [
    {
     "name": "stdout",
     "output_type": "stream",
     "text": [
      "First tweet encoded:\n",
      "[31, 220, 675, 15, 320]\n",
      "\n",
      "Second tweet encoded:\n",
      "[47, 13, 1473, 1953, 1954, 3, 258, 1032, 321, 56, 1033, 1955, 1474]\n",
      "\n",
      "Third tweet encoded:\n",
      "[841, 842, 843, 29, 8, 844, 221, 845, 846, 4, 242, 24, 222, 34, 1475]\n"
     ]
    }
   ],
   "source": [
    "print(\"First tweet encoded:\")\n",
    "print(X_train[0])\n",
    "print(\"\\nSecond tweet encoded:\")\n",
    "print(X_train[1])\n",
    "print(\"\\nThird tweet encoded:\")\n",
    "print(X_train[2])"
   ]
  },
  {
   "cell_type": "markdown",
   "metadata": {},
   "source": [
    "To feed the deep learning model, we need all these lists to be the same length. Thus we need to apply padding. In other words, we are going to add several zeros (0) at the end of the shortest tweets so that at the end, all of our lists have the same length. <br><br>\n",
    "First let's get the maximum number of words in one tweet:"
   ]
  },
  {
   "cell_type": "code",
   "execution_count": 480,
   "metadata": {
    "execution": {
     "iopub.execute_input": "2021-08-23T20:19:57.180873Z",
     "iopub.status.busy": "2021-08-23T20:19:57.180456Z",
     "iopub.status.idle": "2021-08-23T20:19:57.224910Z",
     "shell.execute_reply": "2021-08-23T20:19:57.223978Z",
     "shell.execute_reply.started": "2021-08-23T20:19:57.180835Z"
    }
   },
   "outputs": [
    {
     "name": "stdout",
     "output_type": "stream",
     "text": [
      "Maximum number of word in one tweet: 28 words\n"
     ]
    }
   ],
   "source": [
    "max_word_count = 0\n",
    "word_count = []\n",
    "#\n",
    "for encoded_tweet in X_train:\n",
    "    word_count.append(len(encoded_tweet))\n",
    "    if len(encoded_tweet) > max_word_count:\n",
    "        max_word_count = len(encoded_tweet)\n",
    "print(\"Maximum number of word in one tweet: \" + str(max_word_count) + \" words\")"
   ]
  },
  {
   "cell_type": "markdown",
   "metadata": {},
   "source": [
    "So the longest tweet we have is composed of 39 words. We are going to pad the sequences with a maximum length of 37."
   ]
  },
  {
   "cell_type": "code",
   "execution_count": 481,
   "metadata": {
    "execution": {
     "iopub.execute_input": "2021-08-23T20:19:58.669892Z",
     "iopub.status.busy": "2021-08-23T20:19:58.669563Z",
     "iopub.status.idle": "2021-08-23T20:19:59.021856Z",
     "shell.execute_reply": "2021-08-23T20:19:59.020851Z",
     "shell.execute_reply.started": "2021-08-23T20:19:58.669859Z"
    }
   },
   "outputs": [
    {
     "data": {
      "text/plain": [
       "(2333, 28)"
      ]
     },
     "execution_count": 481,
     "metadata": {},
     "output_type": "execute_result"
    }
   ],
   "source": [
    "X_train = pad_sequences(X_train, maxlen=max_word_count, padding='post')\n",
    "X_test = pad_sequences(X_test, maxlen=max_word_count, padding='post')\n",
    "X_train.shape"
   ]
  },
  {
   "cell_type": "markdown",
   "metadata": {},
   "source": [
    "Let's have a look at the encoded 3 tweets after padding:"
   ]
  },
  {
   "cell_type": "code",
   "execution_count": 482,
   "metadata": {
    "execution": {
     "iopub.execute_input": "2021-08-23T20:19:59.024107Z",
     "iopub.status.busy": "2021-08-23T20:19:59.023745Z",
     "iopub.status.idle": "2021-08-23T20:19:59.032120Z",
     "shell.execute_reply": "2021-08-23T20:19:59.031168Z",
     "shell.execute_reply.started": "2021-08-23T20:19:59.024069Z"
    }
   },
   "outputs": [
    {
     "name": "stdout",
     "output_type": "stream",
     "text": [
      "First tweet encoded: Size =  28\n",
      "[ 31 220 675  15 320   0   0   0   0   0   0   0   0   0   0   0   0   0\n",
      "   0   0   0   0   0   0   0   0   0   0]\n",
      "\n",
      "Second tweet encoded: Size =  28\n",
      "[  47   13 1473 1953 1954    3  258 1032  321   56 1033 1955 1474    0\n",
      "    0    0    0    0    0    0    0    0    0    0    0    0    0    0]\n",
      "\n",
      "Third tweet encoded: Size =  28\n",
      "[ 841  842  843   29    8  844  221  845  846    4  242   24  222   34\n",
      " 1475    0    0    0    0    0    0    0    0    0    0    0    0    0]\n"
     ]
    }
   ],
   "source": [
    "print(\"First tweet encoded:\", \"Size = \", len(X_train[0]))\n",
    "print(X_train[0])\n",
    "print(\"\\nSecond tweet encoded:\", \"Size = \", len(X_train[1]))\n",
    "print(X_train[1])\n",
    "print(\"\\nThird tweet encoded:\", \"Size = \", len(X_train[2]))\n",
    "print(X_train[2])"
   ]
  },
  {
   "cell_type": "markdown",
   "metadata": {},
   "source": [
    "Now every encoded tweet has the same length, the data is ready for the model."
   ]
  },
  {
   "cell_type": "markdown",
   "metadata": {},
   "source": [
    "# 10. Model"
   ]
  },
  {
   "cell_type": "markdown",
   "metadata": {},
   "source": [
    "<b>The model is composed of:</b>\n",
    "1. <b>An embedding layer with parameters</b>\n",
    "    * input dim = vocabulary size\n",
    "    * output dim = 32\n",
    "    * input length = size of padded sequences\n",
    "    * mask_zero = True to ignore 0 (from padding)\n",
    "2. <b>An LSTM (Long Short Term Memory) Layer with parameter</b>\n",
    "    * units = 100 (the resulting accuracy is almost the same regardless this value)\n",
    "3. <b>Three Dense layers</b>\n",
    "4. <b>An output dense layer with parameters</b>\n",
    "    * units = 3 (output dim)\n",
    "    * activation = softmax (for multiclassification problem)\n",
    "\n",
    "<b>Compilation with parameters:</b>\n",
    "1. loss = categorical_crossentropy (for multiclassification problem)\n",
    "2. optimizer = adam\n",
    "3. metrics = accuracy"
   ]
  },
  {
   "cell_type": "code",
   "execution_count": 483,
   "metadata": {
    "execution": {
     "iopub.execute_input": "2021-08-23T20:20:00.812300Z",
     "iopub.status.busy": "2021-08-23T20:20:00.811824Z",
     "iopub.status.idle": "2021-08-23T20:20:01.521340Z",
     "shell.execute_reply": "2021-08-23T20:20:01.520348Z",
     "shell.execute_reply.started": "2021-08-23T20:20:00.812264Z"
    }
   },
   "outputs": [
    {
     "name": "stdout",
     "output_type": "stream",
     "text": [
      "Model: \"sequential_9\"\n",
      "_________________________________________________________________\n",
      "Layer (type)                 Output Shape              Param #   \n",
      "=================================================================\n",
      "embedding_9 (Embedding)      (None, 28, 32)            208896    \n",
      "_________________________________________________________________\n",
      "lstm_9 (LSTM)                (None, 100)               53200     \n",
      "_________________________________________________________________\n",
      "dense_36 (Dense)             (None, 64)                6464      \n",
      "_________________________________________________________________\n",
      "dense_37 (Dense)             (None, 32)                2080      \n",
      "_________________________________________________________________\n",
      "dense_38 (Dense)             (None, 16)                528       \n",
      "_________________________________________________________________\n",
      "dense_39 (Dense)             (None, 2)                 34        \n",
      "=================================================================\n",
      "Total params: 271,202\n",
      "Trainable params: 271,202\n",
      "Non-trainable params: 0\n",
      "_________________________________________________________________\n",
      "None\n"
     ]
    }
   ],
   "source": [
    "model_LSTM = Sequential()\n",
    "model_LSTM.add(layers.Embedding(vocab_length, output_dim=32, input_length=max_word_count, mask_zero=True))\n",
    "model_LSTM.add(layers.LSTM(100))\n",
    "model_LSTM.add(layers.Dense(64, activation=\"relu\"))\n",
    "model_LSTM.add(layers.Dense(32, activation=\"relu\"))\n",
    "model_LSTM.add(layers.Dense(16, activation=\"relu\"))\n",
    "model_LSTM.add(layers.Dense(2, activation='softmax'))\n",
    "model_LSTM.compile(loss='categorical_crossentropy', optimizer='adam', metrics=['accuracy'])\n",
    "print(model_LSTM.summary())"
   ]
  },
  {
   "cell_type": "markdown",
   "metadata": {},
   "source": [
    "Here I set an early stopping after 10 epochs and set the parameter <i><b>restore_best_weights</b></i> to <b style=\"color:green\">True</b> so that the weights of best score on monitored metric - here <b>val_accuracy</b> (accuracy on test set) - are restored when training stops. This way the model has the best accuracy possible on unseen data."
   ]
  },
  {
   "cell_type": "code",
   "execution_count": 485,
   "metadata": {
    "execution": {
     "iopub.execute_input": "2021-08-23T20:20:03.414379Z",
     "iopub.status.busy": "2021-08-23T20:20:03.414046Z",
     "iopub.status.idle": "2021-08-23T20:28:25.636475Z",
     "shell.execute_reply": "2021-08-23T20:28:25.635661Z",
     "shell.execute_reply.started": "2021-08-23T20:20:03.414350Z"
    }
   },
   "outputs": [
    {
     "name": "stdout",
     "output_type": "stream",
     "text": [
      "Epoch 1/30\n",
      "146/146 - 2s - loss: 0.0806 - accuracy: 0.9456 - val_loss: 1.6334 - val_accuracy: 0.7294\n",
      "Epoch 2/30\n",
      "146/146 - 2s - loss: 0.0802 - accuracy: 0.9383 - val_loss: 2.4210 - val_accuracy: 0.7765\n",
      "Epoch 3/30\n",
      "146/146 - 2s - loss: 0.0875 - accuracy: 0.9404 - val_loss: 1.1199 - val_accuracy: 0.8118\n",
      "Epoch 4/30\n",
      "146/146 - 2s - loss: 0.0851 - accuracy: 0.9430 - val_loss: 1.2180 - val_accuracy: 0.7529\n",
      "Epoch 5/30\n",
      "146/146 - 2s - loss: 0.0831 - accuracy: 0.9357 - val_loss: 2.5632 - val_accuracy: 0.7765\n",
      "Epoch 6/30\n",
      "146/146 - 2s - loss: 0.0887 - accuracy: 0.9378 - val_loss: 1.5313 - val_accuracy: 0.8118\n",
      "Epoch 7/30\n",
      "146/146 - 2s - loss: 0.0832 - accuracy: 0.9451 - val_loss: 1.9862 - val_accuracy: 0.8118\n",
      "Epoch 8/30\n",
      "146/146 - 2s - loss: 0.0833 - accuracy: 0.9430 - val_loss: 1.8535 - val_accuracy: 0.8118\n",
      "Epoch 9/30\n",
      "146/146 - 2s - loss: 0.0786 - accuracy: 0.9417 - val_loss: 2.1006 - val_accuracy: 0.8000\n",
      "Epoch 10/30\n",
      "146/146 - 2s - loss: 0.0798 - accuracy: 0.9443 - val_loss: 1.9095 - val_accuracy: 0.8118\n",
      "Epoch 11/30\n",
      "146/146 - 2s - loss: 0.0779 - accuracy: 0.9400 - val_loss: 2.3268 - val_accuracy: 0.8118\n",
      "Epoch 12/30\n",
      "146/146 - 2s - loss: 0.0771 - accuracy: 0.9451 - val_loss: 2.5072 - val_accuracy: 0.8000\n",
      "Epoch 13/30\n",
      "146/146 - 2s - loss: 0.0771 - accuracy: 0.9456 - val_loss: 2.6085 - val_accuracy: 0.8118\n"
     ]
    }
   ],
   "source": [
    "es = EarlyStopping(patience=10, monitor='val_accuracy', restore_best_weights=True)\n",
    "history = model_LSTM.fit(X_train,\n",
    "                         y_train_encoded,\n",
    "                         validation_data=(X_test, y_test_encoded),\n",
    "                         epochs=30,\n",
    "                         batch_size=16,\n",
    "                         verbose=2,\n",
    "                         callbacks=[es]\n",
    "                        )"
   ]
  },
  {
   "cell_type": "markdown",
   "metadata": {},
   "source": [
    "We can see that after epoch 2, the accuracy on test set - val_accuracy - doesn't increase any more while accuracy on train set continues to increase untill almost 100%! The model is overfitting from epoch 2 and is not able to generalize well on unseen data from there."
   ]
  },
  {
   "cell_type": "markdown",
   "metadata": {},
   "source": [
    "# 11. Model Evaluation"
   ]
  },
  {
   "cell_type": "markdown",
   "metadata": {},
   "source": [
    "<b>Prediction on test set:</b>"
   ]
  },
  {
   "cell_type": "code",
   "execution_count": 486,
   "metadata": {
    "execution": {
     "iopub.execute_input": "2021-08-23T20:28:30.654299Z",
     "iopub.status.busy": "2021-08-23T20:28:30.653926Z",
     "iopub.status.idle": "2021-08-23T20:28:31.965938Z",
     "shell.execute_reply": "2021-08-23T20:28:31.964972Z",
     "shell.execute_reply.started": "2021-08-23T20:28:30.654268Z"
    }
   },
   "outputs": [],
   "source": [
    "predicted = model_LSTM.predict(X_test)\n",
    "y_pred = predicted.argmax(axis=-1)"
   ]
  },
  {
   "cell_type": "markdown",
   "metadata": {},
   "source": [
    "<b>Calculation of accuracy and Area Under (ROC) Curve - AUC - scores:</b>"
   ]
  },
  {
   "cell_type": "code",
   "execution_count": 487,
   "metadata": {},
   "outputs": [],
   "source": [
    "acc_score = accuracy_score(y_test_mapped, y_pred)\n",
    "#auc_score = roc_auc_score(y_test_mapped, predicted, multi_class=\"ovr\")"
   ]
  },
  {
   "cell_type": "code",
   "execution_count": 488,
   "metadata": {},
   "outputs": [
    {
     "name": "stdout",
     "output_type": "stream",
     "text": [
      "(85,)\n",
      "(85,)\n",
      "(85, 2)\n",
      "(2333, 2)\n"
     ]
    }
   ],
   "source": [
    "print(y_test_mapped.shape)\n",
    "print(y_pred.shape)\n",
    "print(predicted.shape)\n",
    "print(y_train_encoded.shape)\n"
   ]
  },
  {
   "cell_type": "code",
   "execution_count": 489,
   "metadata": {},
   "outputs": [
    {
     "data": {
      "text/plain": [
       "0.8117647058823529"
      ]
     },
     "execution_count": 489,
     "metadata": {},
     "output_type": "execute_result"
    }
   ],
   "source": [
    "acc_score"
   ]
  },
  {
   "cell_type": "markdown",
   "metadata": {},
   "source": [
    "<b>Classification report:</b>"
   ]
  },
  {
   "cell_type": "code",
   "execution_count": 491,
   "metadata": {
    "execution": {
     "iopub.execute_input": "2021-08-23T20:28:37.393387Z",
     "iopub.status.busy": "2021-08-23T20:28:37.393054Z",
     "iopub.status.idle": "2021-08-23T20:28:37.427823Z",
     "shell.execute_reply": "2021-08-23T20:28:37.426854Z",
     "shell.execute_reply.started": "2021-08-23T20:28:37.393357Z"
    }
   },
   "outputs": [
    {
     "name": "stdout",
     "output_type": "stream",
     "text": [
      "{'TIN': {'precision': 0.8082191780821918, 'recall': 0.9672131147540983, 'f1-score': 0.880597014925373, 'support': 61}, 'UNT': {'precision': 0.8333333333333334, 'recall': 0.4166666666666667, 'f1-score': 0.5555555555555556, 'support': 24}, 'accuracy': 0.8117647058823529, 'macro avg': {'precision': 0.8207762557077626, 'recall': 0.6919398907103825, 'f1-score': 0.7180762852404643, 'support': 85}, 'weighted avg': {'precision': 0.815310233682514, 'recall': 0.8117647058823529, 'f1-score': 0.7888206028680128, 'support': 85}}\n"
     ]
    },
    {
     "data": {
      "text/html": [
       "<div>\n",
       "<style scoped>\n",
       "    .dataframe tbody tr th:only-of-type {\n",
       "        vertical-align: middle;\n",
       "    }\n",
       "\n",
       "    .dataframe tbody tr th {\n",
       "        vertical-align: top;\n",
       "    }\n",
       "\n",
       "    .dataframe thead th {\n",
       "        text-align: right;\n",
       "    }\n",
       "</style>\n",
       "<table border=\"1\" class=\"dataframe\">\n",
       "  <thead>\n",
       "    <tr style=\"text-align: right;\">\n",
       "      <th></th>\n",
       "      <th>TIN</th>\n",
       "      <th>UNT</th>\n",
       "      <th>macro avg</th>\n",
       "      <th>weighted avg</th>\n",
       "      <th>accuracy</th>\n",
       "    </tr>\n",
       "  </thead>\n",
       "  <tbody>\n",
       "    <tr>\n",
       "      <th>precision</th>\n",
       "      <td>0.81</td>\n",
       "      <td>0.83</td>\n",
       "      <td>0.82</td>\n",
       "      <td>0.82</td>\n",
       "      <td></td>\n",
       "    </tr>\n",
       "    <tr>\n",
       "      <th>recall</th>\n",
       "      <td>0.97</td>\n",
       "      <td>0.42</td>\n",
       "      <td>0.69</td>\n",
       "      <td>0.81</td>\n",
       "      <td></td>\n",
       "    </tr>\n",
       "    <tr>\n",
       "      <th>f1-score</th>\n",
       "      <td>0.88</td>\n",
       "      <td>0.56</td>\n",
       "      <td>0.72</td>\n",
       "      <td>0.79</td>\n",
       "      <td></td>\n",
       "    </tr>\n",
       "    <tr>\n",
       "      <th>support</th>\n",
       "      <td>61.00</td>\n",
       "      <td>24.00</td>\n",
       "      <td>85.00</td>\n",
       "      <td>85.00</td>\n",
       "      <td>0.81</td>\n",
       "    </tr>\n",
       "  </tbody>\n",
       "</table>\n",
       "</div>"
      ],
      "text/plain": [
       "             TIN    UNT  macro avg  weighted avg accuracy\n",
       "precision   0.81   0.83       0.82          0.82         \n",
       "recall      0.97   0.42       0.69          0.81         \n",
       "f1-score    0.88   0.56       0.72          0.79         \n",
       "support    61.00  24.00      85.00         85.00     0.81"
      ]
     },
     "execution_count": 491,
     "metadata": {},
     "output_type": "execute_result"
    }
   ],
   "source": [
    "report = classification_report(y_test_mapped, y_pred, target_names=list(y_test.unique()), output_dict=True)\n",
    "print(report)\n",
    "accuracy_col = ([\"\"]*3) + [round(acc_score, 2)]\n",
    "# roc_auc_col = ([\"\"]*3) + [round(auc_score, 2)]\n",
    "accuracy_col = pd.Series(accuracy_col, index=list(report[\"TIN\"].keys()))\n",
    "# roc_auc_col = pd.Series(roc_auc_col, index=list(report[\"Neutral\"].keys()))\n",
    "df_report = pd.DataFrame(report)[[\"TIN\",\"UNT\" ,\"macro avg\", \"weighted avg\"]].apply(lambda x: round(x, 2))\n",
    "df_report[\"accuracy\"] = accuracy_col\n",
    "# df_report[\"roc_auc\"] = roc_auc_col\n",
    "df_report"
   ]
  },
  {
   "cell_type": "markdown",
   "metadata": {},
   "source": [
    "<b>Confusion Matrix:</b>"
   ]
  },
  {
   "cell_type": "code",
   "execution_count": 492,
   "metadata": {},
   "outputs": [
    {
     "data": {
      "image/png": "[encoded data removed]",
      "text/plain": [
       "<Figure size 432x288 with 2 Axes>"
      ]
     },
     "metadata": {
      "needs_background": "light"
     },
     "output_type": "display_data"
    }
   ],
   "source": [
    "cm = confusion_matrix(y_test_mapped, y_pred)\n",
    "disp = ConfusionMatrixDisplay(confusion_matrix = cm, display_labels = np.unique(y_test))\n",
    "disp.plot()\n",
    "plt.show()"
   ]
  },
  {
   "cell_type": "markdown",
   "metadata": {},
   "source": [
    "<b>ROC and precision-recall curves</b>"
   ]
  },
  {
   "cell_type": "code",
   "execution_count": 493,
   "metadata": {
    "execution": {
     "iopub.execute_input": "2021-08-23T20:28:47.299340Z",
     "iopub.status.busy": "2021-08-23T20:28:47.299002Z",
     "iopub.status.idle": "2021-08-23T20:28:47.309976Z",
     "shell.execute_reply": "2021-08-23T20:28:47.309122Z",
     "shell.execute_reply.started": "2021-08-23T20:28:47.299308Z"
    }
   },
   "outputs": [],
   "source": [
    "y_test_array = pd.get_dummies(y_test_mapped, drop_first=False).values\n",
    "classes = y_train.unique()"
   ]
  },
  {
   "cell_type": "code",
   "execution_count": 494,
   "metadata": {
    "execution": {
     "iopub.execute_input": "2021-08-23T20:28:50.198398Z",
     "iopub.status.busy": "2021-08-23T20:28:50.198082Z",
     "iopub.status.idle": "2021-08-23T20:28:50.517573Z",
     "shell.execute_reply": "2021-08-23T20:28:50.516586Z",
     "shell.execute_reply.started": "2021-08-23T20:28:50.198368Z"
    }
   },
   "outputs": [
    {
     "data": {
      "image/png": "[encoded data removed]",
      "text/plain": [
       "<Figure size 1332x360 with 2 Axes>"
      ]
     },
     "metadata": {
      "needs_background": "light"
     },
     "output_type": "display_data"
    }
   ],
   "source": [
    "fig, ax = plt.subplots(nrows=1, ncols=2)\n",
    "fig.set_size_inches(18.5, 5)\n",
    "## Plot roc\n",
    "for i in range(len(classes)):\n",
    "    fpr, tpr, thresholds = roc_curve(y_test_array[:,i], predicted[:,i])\n",
    "    ax[0].plot(fpr, tpr, lw=3, \n",
    "              label='{0} (area (AUC) = {1:0.2f})'.format(classes[i], metrics.auc(fpr, tpr))\n",
    "               )\n",
    "ax[0].plot([0,1], [0,1], color='navy', lw=3, linestyle='--')\n",
    "ax[0].set(xlim=[-0.05,1.0], ylim=[0.0,1.05], \n",
    "          xlabel='False Positive Rate', \n",
    "          ylabel=\"True Positive Rate (Recall)\", \n",
    "          title=\"Receiver operating characteristic\")\n",
    "ax[0].legend(loc=\"lower right\")\n",
    "ax[0].grid(True)\n",
    "\n",
    "## Plot precision-recall curve\n",
    "for i in range(len(classes)):\n",
    "    precision, recall, thresholds = metrics.precision_recall_curve(\n",
    "                 y_test_array[:,i], predicted[:,i])\n",
    "    ax[1].plot(recall, precision, lw=3, \n",
    "               label='{0} (area ={1:0.2f})'.format(classes[i], metrics.auc(recall, precision))\n",
    "              )\n",
    "ax[1].set(xlim=[0.0,1.05], ylim=[0.0,1.05], xlabel='Recall', \n",
    "          ylabel=\"Precision\", title=\"Precision-Recall curve\")\n",
    "ax[1].legend(loc=\"best\")\n",
    "ax[1].grid(True)\n",
    "plt.show()"
   ]
  },
  {
   "cell_type": "code",
   "execution_count": null,
   "metadata": {},
   "outputs": [],
   "source": []
  }
 ],
 "metadata": {
  "kernelspec": {
   "display_name": "Python 3",
   "language": "python",
   "name": "python3"
  },
  "language_info": {
   "codemirror_mode": {
    "name": "ipython",
    "version": 3
   },
   "file_extension": ".py",
   "mimetype": "text/x-python",
   "name": "python",
   "nbconvert_exporter": "python",
   "pygments_lexer": "ipython3",
   "version": "3.8.7"
  }
 },
 "nbformat": 4,
 "nbformat_minor": 4
}
