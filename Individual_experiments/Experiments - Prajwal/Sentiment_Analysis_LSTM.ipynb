{
 "cells": [
  {
   "cell_type": "markdown",
   "metadata": {},
   "source": [
    "# 1.  Imports"
   ]
  },
  {
   "cell_type": "code",
   "execution_count": 1,
   "metadata": {
    "execution": {
     "iopub.execute_input": "2021-08-23T20:19:11.871330Z",
     "iopub.status.busy": "2021-08-23T20:19:11.871020Z",
     "iopub.status.idle": "2021-08-23T20:19:11.881016Z",
     "shell.execute_reply": "2021-08-23T20:19:11.879894Z",
     "shell.execute_reply.started": "2021-08-23T20:19:11.871302Z"
    }
   },
   "outputs": [
    {
     "name": "stderr",
     "output_type": "stream",
     "text": [
      "/.autofs/tools/spack/var/spack/environments/reu-sep-21062801/.spack-env/view/lib/python3.8/site-packages/jmespath/visitor.py:32: SyntaxWarning: \"is\" with a literal. Did you mean \"==\"?\n",
      "  if x is 0 or x is 1:\n",
      "/.autofs/tools/spack/var/spack/environments/reu-sep-21062801/.spack-env/view/lib/python3.8/site-packages/jmespath/visitor.py:32: SyntaxWarning: \"is\" with a literal. Did you mean \"==\"?\n",
      "  if x is 0 or x is 1:\n",
      "/.autofs/tools/spack/var/spack/environments/reu-sep-21062801/.spack-env/view/lib/python3.8/site-packages/jmespath/visitor.py:34: SyntaxWarning: \"is\" with a literal. Did you mean \"==\"?\n",
      "  elif y is 0 or y is 1:\n",
      "/.autofs/tools/spack/var/spack/environments/reu-sep-21062801/.spack-env/view/lib/python3.8/site-packages/jmespath/visitor.py:34: SyntaxWarning: \"is\" with a literal. Did you mean \"==\"?\n",
      "  elif y is 0 or y is 1:\n",
      "/.autofs/tools/spack/var/spack/environments/reu-sep-21062801/.spack-env/view/lib/python3.8/site-packages/jmespath/visitor.py:260: SyntaxWarning: \"is\" with a literal. Did you mean \"==\"?\n",
      "  if original_result is 0:\n",
      "[nltk_data] Downloading package stopwords to /home/pk6142/nltk_data...\n",
      "[nltk_data]   Package stopwords is already up-to-date!\n",
      "[nltk_data] Downloading package wordnet to /home/pk6142/nltk_data...\n",
      "[nltk_data]   Package wordnet is already up-to-date!\n"
     ]
    }
   ],
   "source": [
    "# generics\n",
    "import pandas as pd\n",
    "import numpy as np\n",
    "import random\n",
    "\n",
    "# visu\n",
    "#import seaborn as sns\n",
    "import matplotlib.pyplot as plt\n",
    "#from wordcloud import WordCloud\n",
    "\n",
    "# texts\n",
    "import re\n",
    "import unicodedata\n",
    "from tensorflow.keras.preprocessing.text import Tokenizer\n",
    "from tensorflow.keras.preprocessing.sequence import pad_sequences\n",
    "from tensorflow.keras.utils import to_categorical, plot_model\n",
    "\n",
    "# Model\n",
    "from tensorflow.keras import layers, Sequential\n",
    "from tensorflow.keras.callbacks import EarlyStopping\n",
    "\n",
    "# NLTK\n",
    "import nltk\n",
    "nltk.download('stopwords')\n",
    "from nltk.corpus import stopwords\n",
    "nltk.download('wordnet')\n",
    "from nltk.stem import WordNetLemmatizer\n",
    "\n",
    "# sklearn\n",
    "from sklearn.metrics import accuracy_score\n",
    "from sklearn.metrics import roc_auc_score\n",
    "from sklearn.metrics import classification_report\n",
    "from sklearn.metrics import confusion_matrix, plot_confusion_matrix, ConfusionMatrixDisplay\n",
    "from sklearn.metrics import roc_curve\n",
    "from sklearn.metrics import auc\n",
    "from sklearn import metrics"
   ]
  },
  {
   "cell_type": "markdown",
   "metadata": {},
   "source": [
    "# 2.  Loading data"
   ]
  },
  {
   "cell_type": "code",
   "execution_count": 2,
   "metadata": {
    "execution": {
     "iopub.execute_input": "2021-08-23T20:19:12.998813Z",
     "iopub.status.busy": "2021-08-23T20:19:12.998185Z",
     "iopub.status.idle": "2021-08-23T20:19:13.245292Z",
     "shell.execute_reply": "2021-08-23T20:19:13.244242Z",
     "shell.execute_reply.started": "2021-08-23T20:19:12.998770Z"
    }
   },
   "outputs": [],
   "source": [
    "df_train = pd.read_csv(\"./Data/Corona_NLP_train.csv\", encoding=\"latin_1\")\n",
    "df_test = pd.read_csv(\"./Data/Corona_NLP_test.csv\", encoding=\"latin_1\")"
   ]
  },
  {
   "cell_type": "markdown",
   "metadata": {},
   "source": [
    "# 3.  Data overview"
   ]
  },
  {
   "cell_type": "code",
   "execution_count": 3,
   "metadata": {
    "execution": {
     "iopub.execute_input": "2021-08-23T20:19:14.334110Z",
     "iopub.status.busy": "2021-08-23T20:19:14.333698Z",
     "iopub.status.idle": "2021-08-23T20:19:14.347591Z",
     "shell.execute_reply": "2021-08-23T20:19:14.346616Z",
     "shell.execute_reply.started": "2021-08-23T20:19:14.334080Z"
    }
   },
   "outputs": [
    {
     "data": {
      "text/html": [
       "<div>\n",
       "<style scoped>\n",
       "    .dataframe tbody tr th:only-of-type {\n",
       "        vertical-align: middle;\n",
       "    }\n",
       "\n",
       "    .dataframe tbody tr th {\n",
       "        vertical-align: top;\n",
       "    }\n",
       "\n",
       "    .dataframe thead th {\n",
       "        text-align: right;\n",
       "    }\n",
       "</style>\n",
       "<table border=\"1\" class=\"dataframe\">\n",
       "  <thead>\n",
       "    <tr style=\"text-align: right;\">\n",
       "      <th></th>\n",
       "      <th>UserName</th>\n",
       "      <th>ScreenName</th>\n",
       "      <th>Location</th>\n",
       "      <th>TweetAt</th>\n",
       "      <th>OriginalTweet</th>\n",
       "      <th>Sentiment</th>\n",
       "    </tr>\n",
       "  </thead>\n",
       "  <tbody>\n",
       "    <tr>\n",
       "      <th>7519</th>\n",
       "      <td>11318</td>\n",
       "      <td>56270</td>\n",
       "      <td>New York, NY</td>\n",
       "      <td>19-03-2020</td>\n",
       "      <td>Minnesota has classified grocery store workers...</td>\n",
       "      <td>Positive</td>\n",
       "    </tr>\n",
       "    <tr>\n",
       "      <th>35730</th>\n",
       "      <td>39529</td>\n",
       "      <td>84481</td>\n",
       "      <td>Cambridge, UK</td>\n",
       "      <td>09-04-2020</td>\n",
       "      <td>Unconfirmed location South Africa desperate hu...</td>\n",
       "      <td>Negative</td>\n",
       "    </tr>\n",
       "    <tr>\n",
       "      <th>34635</th>\n",
       "      <td>38434</td>\n",
       "      <td>83386</td>\n",
       "      <td>NaN</td>\n",
       "      <td>08-04-2020</td>\n",
       "      <td>Trends in connected health are rapidly acceler...</td>\n",
       "      <td>Positive</td>\n",
       "    </tr>\n",
       "    <tr>\n",
       "      <th>20327</th>\n",
       "      <td>24126</td>\n",
       "      <td>69078</td>\n",
       "      <td>Birmingham, Birmingham</td>\n",
       "      <td>24-03-2020</td>\n",
       "      <td>These bastards are mocking it ..bumping up pri...</td>\n",
       "      <td>Extremely Negative</td>\n",
       "    </tr>\n",
       "    <tr>\n",
       "      <th>30230</th>\n",
       "      <td>34029</td>\n",
       "      <td>78981</td>\n",
       "      <td>India</td>\n",
       "      <td>06-04-2020</td>\n",
       "      <td>India loses out on rice export dollars\\r\\r\\nLo...</td>\n",
       "      <td>Extremely Positive</td>\n",
       "    </tr>\n",
       "  </tbody>\n",
       "</table>\n",
       "</div>"
      ],
      "text/plain": [
       "       UserName  ScreenName                Location     TweetAt  \\\n",
       "7519      11318       56270            New York, NY  19-03-2020   \n",
       "35730     39529       84481           Cambridge, UK  09-04-2020   \n",
       "34635     38434       83386                     NaN  08-04-2020   \n",
       "20327     24126       69078  Birmingham, Birmingham  24-03-2020   \n",
       "30230     34029       78981                   India  06-04-2020   \n",
       "\n",
       "                                           OriginalTweet           Sentiment  \n",
       "7519   Minnesota has classified grocery store workers...            Positive  \n",
       "35730  Unconfirmed location South Africa desperate hu...            Negative  \n",
       "34635  Trends in connected health are rapidly acceler...            Positive  \n",
       "20327  These bastards are mocking it ..bumping up pri...  Extremely Negative  \n",
       "30230  India loses out on rice export dollars\\r\\r\\nLo...  Extremely Positive  "
      ]
     },
     "execution_count": 3,
     "metadata": {},
     "output_type": "execute_result"
    }
   ],
   "source": [
    "df_train.sample(5)"
   ]
  },
  {
   "cell_type": "code",
   "execution_count": 4,
   "metadata": {
    "execution": {
     "iopub.execute_input": "2021-08-23T20:19:14.769018Z",
     "iopub.status.busy": "2021-08-23T20:19:14.768675Z",
     "iopub.status.idle": "2021-08-23T20:19:14.805185Z",
     "shell.execute_reply": "2021-08-23T20:19:14.804320Z",
     "shell.execute_reply.started": "2021-08-23T20:19:14.768985Z"
    }
   },
   "outputs": [
    {
     "name": "stdout",
     "output_type": "stream",
     "text": [
      "Longest tweet: 355 characters\n"
     ]
    }
   ],
   "source": [
    "max_tweet_length = 0\n",
    "tweet_length = []\n",
    "#\n",
    "for tweet in df_train[\"OriginalTweet\"]:\n",
    "    tweet_length.append(len(tweet))\n",
    "    if len(tweet) > max_tweet_length:\n",
    "        max_tweet_length = len(tweet)\n",
    "print(\"Longest tweet: \" + str(max_tweet_length) + \" characters\")"
   ]
  },
  {
   "cell_type": "code",
   "execution_count": 5,
   "metadata": {},
   "outputs": [
    {
     "data": {
      "text/html": [
       "<style  type=\"text/css\" >\n",
       "#T_1f637_row0_col1{\n",
       "            background-color:  #3f007d;\n",
       "            color:  #f1f1f1;\n",
       "        }#T_1f637_row1_col1{\n",
       "            background-color:  #6a51a3;\n",
       "            color:  #f1f1f1;\n",
       "        }#T_1f637_row2_col1{\n",
       "            background-color:  #bcbddc;\n",
       "            color:  #000000;\n",
       "        }#T_1f637_row3_col1{\n",
       "            background-color:  #e4e3f0;\n",
       "            color:  #000000;\n",
       "        }#T_1f637_row4_col1{\n",
       "            background-color:  #fcfbfd;\n",
       "            color:  #000000;\n",
       "        }</style><table id=\"T_1f637_\" ><thead>    <tr>        <th class=\"blank level0\" ></th>        <th class=\"col_heading level0 col0\" >Sentiment</th>        <th class=\"col_heading level0 col1\" >OriginalTweet</th>    </tr></thead><tbody>\n",
       "                <tr>\n",
       "                        <th id=\"T_1f637_level0_row0\" class=\"row_heading level0 row0\" >4</th>\n",
       "                        <td id=\"T_1f637_row0_col0\" class=\"data row0 col0\" >Positive</td>\n",
       "                        <td id=\"T_1f637_row0_col1\" class=\"data row0 col1\" >11422</td>\n",
       "            </tr>\n",
       "            <tr>\n",
       "                        <th id=\"T_1f637_level0_row1\" class=\"row_heading level0 row1\" >2</th>\n",
       "                        <td id=\"T_1f637_row1_col0\" class=\"data row1 col0\" >Negative</td>\n",
       "                        <td id=\"T_1f637_row1_col1\" class=\"data row1 col1\" >9917</td>\n",
       "            </tr>\n",
       "            <tr>\n",
       "                        <th id=\"T_1f637_level0_row2\" class=\"row_heading level0 row2\" >3</th>\n",
       "                        <td id=\"T_1f637_row2_col0\" class=\"data row2 col0\" >Neutral</td>\n",
       "                        <td id=\"T_1f637_row2_col1\" class=\"data row2 col1\" >7713</td>\n",
       "            </tr>\n",
       "            <tr>\n",
       "                        <th id=\"T_1f637_level0_row3\" class=\"row_heading level0 row3\" >1</th>\n",
       "                        <td id=\"T_1f637_row3_col0\" class=\"data row3 col0\" >Extremely Positive</td>\n",
       "                        <td id=\"T_1f637_row3_col1\" class=\"data row3 col1\" >6624</td>\n",
       "            </tr>\n",
       "            <tr>\n",
       "                        <th id=\"T_1f637_level0_row4\" class=\"row_heading level0 row4\" >0</th>\n",
       "                        <td id=\"T_1f637_row4_col0\" class=\"data row4 col0\" >Extremely Negative</td>\n",
       "                        <td id=\"T_1f637_row4_col1\" class=\"data row4 col1\" >5481</td>\n",
       "            </tr>\n",
       "    </tbody></table>"
      ],
      "text/plain": [
       "<pandas.io.formats.style.Styler at 0x7f5690b4adf0>"
      ]
     },
     "execution_count": 5,
     "metadata": {},
     "output_type": "execute_result"
    }
   ],
   "source": [
    "temp = df_train.groupby('Sentiment').count()['OriginalTweet'].reset_index().sort_values(by='OriginalTweet',ascending=False)\n",
    "temp.style.background_gradient(cmap='Purples')"
   ]
  },
  {
   "cell_type": "code",
   "execution_count": 6,
   "metadata": {},
   "outputs": [
    {
     "data": {
      "image/png": "[encoded data removed]",
      "text/plain": [
       "<Figure size 864x432 with 1 Axes>"
      ]
     },
     "metadata": {
      "needs_background": "light"
     },
     "output_type": "display_data"
    }
   ],
   "source": [
    "plt.figure(figsize=(12,6))\n",
    "df_train['Sentiment'].value_counts().plot.bar()\n",
    "plt.show()"
   ]
  },
  {
   "cell_type": "code",
   "execution_count": 7,
   "metadata": {},
   "outputs": [
    {
     "data": {
      "text/html": [
       "<style  type=\"text/css\" >\n",
       "#T_08a7b_row0_col1{\n",
       "            background-color:  #00ff80;\n",
       "            color:  #000000;\n",
       "        }#T_08a7b_row1_col1{\n",
       "            background-color:  #00bfa0;\n",
       "            color:  #000000;\n",
       "        }#T_08a7b_row2_col1{\n",
       "            background-color:  #0060cf;\n",
       "            color:  #f1f1f1;\n",
       "        }#T_08a7b_row3_col1{\n",
       "            background-color:  #0031e6;\n",
       "            color:  #f1f1f1;\n",
       "        }#T_08a7b_row4_col1{\n",
       "            background-color:  #0000ff;\n",
       "            color:  #f1f1f1;\n",
       "        }</style><table id=\"T_08a7b_\" ><thead>    <tr>        <th class=\"blank level0\" ></th>        <th class=\"col_heading level0 col0\" >Sentiment</th>        <th class=\"col_heading level0 col1\" >OriginalTweet</th>    </tr></thead><tbody>\n",
       "                <tr>\n",
       "                        <th id=\"T_08a7b_level0_row0\" class=\"row_heading level0 row0\" >4</th>\n",
       "                        <td id=\"T_08a7b_row0_col0\" class=\"data row0 col0\" >Positive</td>\n",
       "                        <td id=\"T_08a7b_row0_col1\" class=\"data row0 col1\" >11422</td>\n",
       "            </tr>\n",
       "            <tr>\n",
       "                        <th id=\"T_08a7b_level0_row1\" class=\"row_heading level0 row1\" >2</th>\n",
       "                        <td id=\"T_08a7b_row1_col0\" class=\"data row1 col0\" >Negative</td>\n",
       "                        <td id=\"T_08a7b_row1_col1\" class=\"data row1 col1\" >9917</td>\n",
       "            </tr>\n",
       "            <tr>\n",
       "                        <th id=\"T_08a7b_level0_row2\" class=\"row_heading level0 row2\" >3</th>\n",
       "                        <td id=\"T_08a7b_row2_col0\" class=\"data row2 col0\" >Neutral</td>\n",
       "                        <td id=\"T_08a7b_row2_col1\" class=\"data row2 col1\" >7713</td>\n",
       "            </tr>\n",
       "            <tr>\n",
       "                        <th id=\"T_08a7b_level0_row3\" class=\"row_heading level0 row3\" >1</th>\n",
       "                        <td id=\"T_08a7b_row3_col0\" class=\"data row3 col0\" >Extremely Positive</td>\n",
       "                        <td id=\"T_08a7b_row3_col1\" class=\"data row3 col1\" >6624</td>\n",
       "            </tr>\n",
       "            <tr>\n",
       "                        <th id=\"T_08a7b_level0_row4\" class=\"row_heading level0 row4\" >0</th>\n",
       "                        <td id=\"T_08a7b_row4_col0\" class=\"data row4 col0\" >Extremely Negative</td>\n",
       "                        <td id=\"T_08a7b_row4_col1\" class=\"data row4 col1\" >5481</td>\n",
       "            </tr>\n",
       "    </tbody></table>"
      ],
      "text/plain": [
       "<pandas.io.formats.style.Styler at 0x7f5762fcbeb0>"
      ]
     },
     "execution_count": 7,
     "metadata": {},
     "output_type": "execute_result"
    }
   ],
   "source": [
    "class_df = df_train.groupby('Sentiment').count()['OriginalTweet'].reset_index().sort_values(by='OriginalTweet',ascending=False)\n",
    "class_df.style.background_gradient(cmap='winter')"
   ]
  },
  {
   "cell_type": "code",
   "execution_count": 8,
   "metadata": {},
   "outputs": [
    {
     "data": {
      "image/png": "[encoded data removed]",
      "text/plain": [
       "<Figure size 432x288 with 1 Axes>"
      ]
     },
     "metadata": {},
     "output_type": "display_data"
    }
   ],
   "source": [
    "percent_class=class_df.OriginalTweet\n",
    "labels= class_df.Sentiment\n",
    "\n",
    "colors = ['#17C37B','#F92969','#FACA0C']\n",
    "\n",
    "my_pie,_,_ = plt.pie(percent_class,radius = 1.2,labels=labels,colors=colors,autopct=\"%.1f%%\")\n",
    "\n",
    "plt.setp(my_pie, width=0.6, edgecolor='white') \n",
    "\n",
    "plt.show()"
   ]
  },
  {
   "cell_type": "markdown",
   "metadata": {},
   "source": [
    "# 4.  Turning 5 categories into 3 categories\n",
    "Here we convert <b>extremely positive</b> tweets into <b style=\"color: green\">positive</b> and <b>extremely negative</b> tweets into <b style=\"color: red\">negative</b>."
   ]
  },
  {
   "cell_type": "code",
   "execution_count": 9,
   "metadata": {
    "execution": {
     "iopub.execute_input": "2021-08-23T20:19:15.938833Z",
     "iopub.status.busy": "2021-08-23T20:19:15.938586Z",
     "iopub.status.idle": "2021-08-23T20:19:15.945676Z",
     "shell.execute_reply": "2021-08-23T20:19:15.944671Z",
     "shell.execute_reply.started": "2021-08-23T20:19:15.938806Z"
    }
   },
   "outputs": [],
   "source": [
    "def set_3_classes(x):\n",
    "    if x==\"Extremely Negative\":\n",
    "        return \"Negative\"\n",
    "    elif x==\"Extremely Positive\":\n",
    "        return \"Positive\"\n",
    "    else:\n",
    "        return x"
   ]
  },
  {
   "cell_type": "code",
   "execution_count": 10,
   "metadata": {
    "execution": {
     "iopub.execute_input": "2021-08-23T20:19:15.984505Z",
     "iopub.status.busy": "2021-08-23T20:19:15.984254Z",
     "iopub.status.idle": "2021-08-23T20:19:16.002997Z",
     "shell.execute_reply": "2021-08-23T20:19:16.002055Z",
     "shell.execute_reply.started": "2021-08-23T20:19:15.984479Z"
    }
   },
   "outputs": [],
   "source": [
    "df_train[\"Sentiment\"] = df_train[\"Sentiment\"].apply(set_3_classes)\n",
    "df_test[\"Sentiment\"] = df_test[\"Sentiment\"].apply(set_3_classes)"
   ]
  },
  {
   "cell_type": "code",
   "execution_count": 11,
   "metadata": {
    "execution": {
     "iopub.execute_input": "2021-08-23T20:19:16.262124Z",
     "iopub.status.busy": "2021-08-23T20:19:16.261678Z",
     "iopub.status.idle": "2021-08-23T20:19:16.399215Z",
     "shell.execute_reply": "2021-08-23T20:19:16.398221Z",
     "shell.execute_reply.started": "2021-08-23T20:19:16.262091Z"
    }
   },
   "outputs": [
    {
     "data": {
      "image/png": "[encoded data removed]",
      "text/plain": [
       "<Figure size 432x288 with 1 Axes>"
      ]
     },
     "metadata": {
      "needs_background": "light"
     },
     "output_type": "display_data"
    }
   ],
   "source": [
    "fig, ax = plt.subplots()\n",
    "fig.suptitle(\"Count\", fontsize=12)\n",
    "df_train[\"Sentiment\"].reset_index().groupby(\"Sentiment\").count().sort_values(by= \n",
    "       \"index\").plot(kind=\"barh\", legend=False, \n",
    "        ax=ax).grid(axis='x')\n",
    "plt.show()"
   ]
  },
  {
   "cell_type": "code",
   "execution_count": 12,
   "metadata": {},
   "outputs": [
    {
     "data": {
      "text/html": [
       "<style  type=\"text/css\" >\n",
       "#T_b4982_row0_col1{\n",
       "            background-color:  #00ff80;\n",
       "            color:  #000000;\n",
       "        }#T_b4982_row1_col1{\n",
       "            background-color:  #00bea0;\n",
       "            color:  #000000;\n",
       "        }#T_b4982_row2_col1{\n",
       "            background-color:  #0000ff;\n",
       "            color:  #f1f1f1;\n",
       "        }</style><table id=\"T_b4982_\" ><thead>    <tr>        <th class=\"blank level0\" ></th>        <th class=\"col_heading level0 col0\" >Sentiment</th>        <th class=\"col_heading level0 col1\" >OriginalTweet</th>    </tr></thead><tbody>\n",
       "                <tr>\n",
       "                        <th id=\"T_b4982_level0_row0\" class=\"row_heading level0 row0\" >2</th>\n",
       "                        <td id=\"T_b4982_row0_col0\" class=\"data row0 col0\" >Positive</td>\n",
       "                        <td id=\"T_b4982_row0_col1\" class=\"data row0 col1\" >18046</td>\n",
       "            </tr>\n",
       "            <tr>\n",
       "                        <th id=\"T_b4982_level0_row1\" class=\"row_heading level0 row1\" >0</th>\n",
       "                        <td id=\"T_b4982_row1_col0\" class=\"data row1 col0\" >Negative</td>\n",
       "                        <td id=\"T_b4982_row1_col1\" class=\"data row1 col1\" >15398</td>\n",
       "            </tr>\n",
       "            <tr>\n",
       "                        <th id=\"T_b4982_level0_row2\" class=\"row_heading level0 row2\" >1</th>\n",
       "                        <td id=\"T_b4982_row2_col0\" class=\"data row2 col0\" >Neutral</td>\n",
       "                        <td id=\"T_b4982_row2_col1\" class=\"data row2 col1\" >7713</td>\n",
       "            </tr>\n",
       "    </tbody></table>"
      ],
      "text/plain": [
       "<pandas.io.formats.style.Styler at 0x7f568f60ff40>"
      ]
     },
     "execution_count": 12,
     "metadata": {},
     "output_type": "execute_result"
    }
   ],
   "source": [
    "class_df = df_train.groupby('Sentiment').count()['OriginalTweet'].reset_index().sort_values(by='OriginalTweet',ascending=False)\n",
    "class_df.style.background_gradient(cmap='winter')"
   ]
  },
  {
   "cell_type": "code",
   "execution_count": 13,
   "metadata": {},
   "outputs": [
    {
     "data": {
      "image/png": "[encoded data removed]",
      "text/plain": [
       "<Figure size 432x288 with 1 Axes>"
      ]
     },
     "metadata": {},
     "output_type": "display_data"
    }
   ],
   "source": [
    "percent_class=class_df.OriginalTweet\n",
    "labels= class_df.Sentiment\n",
    "\n",
    "colors = ['#17C37B','#F92969','#FACA0C']\n",
    "\n",
    "my_pie,_,_ = plt.pie(percent_class,radius = 1.2,labels=labels,colors=colors,autopct=\"%.1f%%\")\n",
    "\n",
    "plt.setp(my_pie, width=0.6, edgecolor='white') \n",
    "\n",
    "plt.show()"
   ]
  },
  {
   "cell_type": "markdown",
   "metadata": {},
   "source": [
    "# 5. Cleaning tweets"
   ]
  },
  {
   "cell_type": "code",
   "execution_count": 14,
   "metadata": {
    "execution": {
     "iopub.execute_input": "2021-08-23T20:19:16.827402Z",
     "iopub.status.busy": "2021-08-23T20:19:16.827058Z",
     "iopub.status.idle": "2021-08-23T20:19:16.852324Z",
     "shell.execute_reply": "2021-08-23T20:19:16.851480Z",
     "shell.execute_reply.started": "2021-08-23T20:19:16.827374Z"
    }
   },
   "outputs": [
    {
     "data": {
      "text/html": [
       "<div>\n",
       "<style scoped>\n",
       "    .dataframe tbody tr th:only-of-type {\n",
       "        vertical-align: middle;\n",
       "    }\n",
       "\n",
       "    .dataframe tbody tr th {\n",
       "        vertical-align: top;\n",
       "    }\n",
       "\n",
       "    .dataframe thead th {\n",
       "        text-align: right;\n",
       "    }\n",
       "</style>\n",
       "<table border=\"1\" class=\"dataframe\">\n",
       "  <thead>\n",
       "    <tr style=\"text-align: right;\">\n",
       "      <th></th>\n",
       "      <th>UserName</th>\n",
       "      <th>ScreenName</th>\n",
       "      <th>Location</th>\n",
       "      <th>TweetAt</th>\n",
       "      <th>OriginalTweet</th>\n",
       "      <th>Sentiment</th>\n",
       "      <th>CleanTweet</th>\n",
       "    </tr>\n",
       "  </thead>\n",
       "  <tbody>\n",
       "    <tr>\n",
       "      <th>5498</th>\n",
       "      <td>9297</td>\n",
       "      <td>54249</td>\n",
       "      <td>Jersey girl. Fuhgeddaboutit!</td>\n",
       "      <td>19-03-2020</td>\n",
       "      <td>Paramedics struggling to get food as UK panic ...</td>\n",
       "      <td>Negative</td>\n",
       "      <td>Paramedics struggling to get food as UK panic ...</td>\n",
       "    </tr>\n",
       "    <tr>\n",
       "      <th>12830</th>\n",
       "      <td>16629</td>\n",
       "      <td>61581</td>\n",
       "      <td>Washington, DC</td>\n",
       "      <td>21-03-2020</td>\n",
       "      <td>Lol at Verizon sending me an email about how t...</td>\n",
       "      <td>Positive</td>\n",
       "      <td>Lol at Verizon sending me an email about how t...</td>\n",
       "    </tr>\n",
       "    <tr>\n",
       "      <th>13160</th>\n",
       "      <td>16959</td>\n",
       "      <td>61911</td>\n",
       "      <td>2x as far from middle to there</td>\n",
       "      <td>21-03-2020</td>\n",
       "      <td>You just know the same cunts that moaned about...</td>\n",
       "      <td>Negative</td>\n",
       "      <td>You just know the same cunts that moaned about...</td>\n",
       "    </tr>\n",
       "  </tbody>\n",
       "</table>\n",
       "</div>"
      ],
      "text/plain": [
       "       UserName  ScreenName                        Location     TweetAt  \\\n",
       "5498       9297       54249    Jersey girl. Fuhgeddaboutit!  19-03-2020   \n",
       "12830     16629       61581                  Washington, DC  21-03-2020   \n",
       "13160     16959       61911  2x as far from middle to there  21-03-2020   \n",
       "\n",
       "                                           OriginalTweet Sentiment  \\\n",
       "5498   Paramedics struggling to get food as UK panic ...  Negative   \n",
       "12830  Lol at Verizon sending me an email about how t...  Positive   \n",
       "13160  You just know the same cunts that moaned about...  Negative   \n",
       "\n",
       "                                              CleanTweet  \n",
       "5498   Paramedics struggling to get food as UK panic ...  \n",
       "12830  Lol at Verizon sending me an email about how t...  \n",
       "13160  You just know the same cunts that moaned about...  "
      ]
     },
     "execution_count": 14,
     "metadata": {},
     "output_type": "execute_result"
    }
   ],
   "source": [
    "df_train[\"CleanTweet\"] = df_train[\"OriginalTweet\"]\n",
    "df_train.sample(3)"
   ]
  },
  {
   "cell_type": "markdown",
   "metadata": {},
   "source": [
    "<b>Removing end-of-line, tabulation and carriage return. Turning into lower case:</b>"
   ]
  },
  {
   "cell_type": "code",
   "execution_count": 15,
   "metadata": {
    "execution": {
     "iopub.execute_input": "2021-08-23T20:19:17.479026Z",
     "iopub.status.busy": "2021-08-23T20:19:17.478674Z",
     "iopub.status.idle": "2021-08-23T20:19:17.570531Z",
     "shell.execute_reply": "2021-08-23T20:19:17.569646Z",
     "shell.execute_reply.started": "2021-08-23T20:19:17.478991Z"
    }
   },
   "outputs": [],
   "source": [
    "def clean_eol_tabs(df, label):\n",
    "    \"\"\" text lowercase\n",
    "        removes \\n\n",
    "        removes \\t\n",
    "        removes \\r \"\"\"\n",
    "    df[label] = df[label].str.lower()\n",
    "    df[label] = df[label].apply(lambda x: x.replace(\"\\n\", \" \"))\n",
    "    df[label] = df[label].apply(lambda x: x.replace(\"\\r\", \" \"))\n",
    "    df[label] = df[label].apply(lambda x: x.replace(\"\\t\", \" \"))\n",
    "    return df\n",
    "#\n",
    "df_train = clean_eol_tabs(df_train, \"CleanTweet\")"
   ]
  },
  {
   "cell_type": "markdown",
   "metadata": {},
   "source": [
    "<b>Removing e-mails:</b>"
   ]
  },
  {
   "cell_type": "code",
   "execution_count": 16,
   "metadata": {
    "execution": {
     "iopub.execute_input": "2021-08-23T20:19:18.019392Z",
     "iopub.status.busy": "2021-08-23T20:19:18.018991Z",
     "iopub.status.idle": "2021-08-23T20:19:22.758405Z",
     "shell.execute_reply": "2021-08-23T20:19:22.757554Z",
     "shell.execute_reply.started": "2021-08-23T20:19:18.019361Z"
    }
   },
   "outputs": [],
   "source": [
    "def remove_emails(df, label):\n",
    "    \"\"\" This function removes email adresses\n",
    "        inputs:\n",
    "         - text \"\"\"\n",
    "    df[label] = df[label].apply(lambda x: re.sub(r\"\"\"(?:[a-z0-9!#$%&'*+/=?^_`{|}~-]+(?:\\.[a-z0-9!#$%&'*+/=?^_`{|}~-]+)*|\"(?:[\\x01-\\x08\\x0b\\x0c\\x0e-\\x1f\\x21\\x23-\\x5b\\x5d-\\x7f]|\\\\[\\x01-\\x09\\x0b\\x0c\\x0e-\\x7f])*\")@(?:(?:[a-z0-9](?:[a-z0-9-]*[a-z0-9])?\\.)+[a-z0-9](?:[a-z0-9-]*[a-z0-9])?|\\[(?:(?:(2(5[0-5]|[0-4][0-9])|1[0-9][0-9]|[1-9]?[0-9]))\\.){3}(?:(2(5[0-5]|[0-4][0-9])|1[0-9][0-9]|[1-9]?[0-9])|[a-z0-9-]*[a-z0-9]:(?:[\\x01-\\x08\\x0b\\x0c\\x0e-\\x1f\\x21-\\x5a\\x53-\\x7f]|\\\\[\\x01-\\x09\\x0b\\x0c\\x0e-\\x7f])+)\\])\"\"\", \" \", x))\n",
    "    return df\n",
    "#\n",
    "df_train = remove_emails(df_train, \"CleanTweet\")"
   ]
  },
  {
   "cell_type": "markdown",
   "metadata": {},
   "source": [
    "<b>Removing mentions:</b>"
   ]
  },
  {
   "cell_type": "code",
   "execution_count": 17,
   "metadata": {
    "execution": {
     "iopub.execute_input": "2021-08-23T20:19:22.760423Z",
     "iopub.status.busy": "2021-08-23T20:19:22.759914Z",
     "iopub.status.idle": "2021-08-23T20:19:22.833741Z",
     "shell.execute_reply": "2021-08-23T20:19:22.832975Z",
     "shell.execute_reply.started": "2021-08-23T20:19:22.760385Z"
    }
   },
   "outputs": [],
   "source": [
    "def remove_mentions(df, label):\n",
    "    \"\"\" This function removes mentions (Twitter - starting with @) from texts\n",
    "        inputs:\n",
    "         - text \"\"\"\n",
    "    df[label] = df[label].apply(lambda x: re.sub(r\"@([a-zA-Z0-9_.-]{1,100})\", \" \", x))\n",
    "    return df\n",
    "#\n",
    "df_train = remove_mentions(df_train, \"CleanTweet\")"
   ]
  },
  {
   "cell_type": "markdown",
   "metadata": {},
   "source": [
    "<b>Removing hyperlinks:</b>"
   ]
  },
  {
   "cell_type": "code",
   "execution_count": 18,
   "metadata": {
    "execution": {
     "iopub.execute_input": "2021-08-23T20:19:22.835932Z",
     "iopub.status.busy": "2021-08-23T20:19:22.835571Z",
     "iopub.status.idle": "2021-08-23T20:19:22.917271Z",
     "shell.execute_reply": "2021-08-23T20:19:22.916506Z",
     "shell.execute_reply.started": "2021-08-23T20:19:22.835895Z"
    }
   },
   "outputs": [],
   "source": [
    "def remove_hyperlinks(df, label):\n",
    "    \"\"\" This function removes hyperlinks from texts\n",
    "        inputs:\n",
    "         - text \"\"\"\n",
    "    df[label] = df[label].apply(lambda x: re.sub(r\"http\\S+\", \" \", x))\n",
    "    return df\n",
    "#\n",
    "df_train = remove_hyperlinks(df_train, \"CleanTweet\")"
   ]
  },
  {
   "cell_type": "markdown",
   "metadata": {},
   "source": [
    "<b>Removing hashtags:</b>"
   ]
  },
  {
   "cell_type": "code",
   "execution_count": 19,
   "metadata": {
    "execution": {
     "iopub.execute_input": "2021-08-23T20:19:22.919130Z",
     "iopub.status.busy": "2021-08-23T20:19:22.918768Z",
     "iopub.status.idle": "2021-08-23T20:19:23.024101Z",
     "shell.execute_reply": "2021-08-23T20:19:23.023264Z",
     "shell.execute_reply.started": "2021-08-23T20:19:22.919093Z"
    }
   },
   "outputs": [],
   "source": [
    "def remove_hashtags(df, label):\n",
    "    \"\"\" This function removes hashtags\n",
    "        inputs:\n",
    "         - text \"\"\"\n",
    "    df[label] = df[label].apply(lambda x: re.sub(r\"#\\w+\", \" \", x))\n",
    "    return df\n",
    "#\n",
    "df_train = remove_hashtags(df_train, \"CleanTweet\")"
   ]
  },
  {
   "cell_type": "markdown",
   "metadata": {},
   "source": [
    "<b>Removing html tags:</b>"
   ]
  },
  {
   "cell_type": "code",
   "execution_count": 20,
   "metadata": {
    "execution": {
     "iopub.execute_input": "2021-08-23T20:19:23.025858Z",
     "iopub.status.busy": "2021-08-23T20:19:23.025514Z",
     "iopub.status.idle": "2021-08-23T20:19:23.092686Z",
     "shell.execute_reply": "2021-08-23T20:19:23.091862Z",
     "shell.execute_reply.started": "2021-08-23T20:19:23.025821Z"
    }
   },
   "outputs": [],
   "source": [
    "def remove_html_tags(df, label):\n",
    "    \"\"\" This function removes html tags from texts\n",
    "        inputs:\n",
    "         - text \"\"\"\n",
    "    df[label] = df[label].apply(lambda x: re.sub(r\"<.*?>\", \" \", x))\n",
    "    return df\n",
    "#\n",
    "df_train = remove_html_tags(df_train, \"CleanTweet\")"
   ]
  },
  {
   "cell_type": "markdown",
   "metadata": {},
   "source": [
    "<b>Removing numbers:</b>"
   ]
  },
  {
   "cell_type": "code",
   "execution_count": 21,
   "metadata": {
    "execution": {
     "iopub.execute_input": "2021-08-23T20:19:23.094474Z",
     "iopub.status.busy": "2021-08-23T20:19:23.093976Z",
     "iopub.status.idle": "2021-08-23T20:19:23.372123Z",
     "shell.execute_reply": "2021-08-23T20:19:23.371262Z",
     "shell.execute_reply.started": "2021-08-23T20:19:23.094428Z"
    }
   },
   "outputs": [],
   "source": [
    "def remove_numbers(df, label):\n",
    "    \"\"\" This function removes numbers from a text\n",
    "        inputs:\n",
    "         - text \"\"\"\n",
    "    df[label] = df[label].apply(lambda x: re.sub(r\"\\d+\", \" \", x))\n",
    "    return df\n",
    "#\n",
    "df_train = remove_numbers(df_train, \"CleanTweet\")"
   ]
  },
  {
   "cell_type": "markdown",
   "metadata": {},
   "source": [
    "<b>Encode unknown characters:</b>"
   ]
  },
  {
   "cell_type": "code",
   "execution_count": 22,
   "metadata": {
    "execution": {
     "iopub.execute_input": "2021-08-23T20:19:23.373871Z",
     "iopub.status.busy": "2021-08-23T20:19:23.373372Z",
     "iopub.status.idle": "2021-08-23T20:19:23.445210Z",
     "shell.execute_reply": "2021-08-23T20:19:23.444382Z",
     "shell.execute_reply.started": "2021-08-23T20:19:23.373831Z"
    }
   },
   "outputs": [],
   "source": [
    "def encode_unknown(df, label):\n",
    "    \"\"\" This function encodes special caracters \"\"\"\n",
    "    df[label] = df[label].apply(lambda x: unicodedata.normalize(\"NFD\", x).encode('ascii', 'ignore').decode(\"utf-8\"))\n",
    "    return df\n",
    "#\n",
    "df_train = encode_unknown(df_train, \"CleanTweet\")"
   ]
  },
  {
   "cell_type": "markdown",
   "metadata": {},
   "source": [
    "<b>Removing punctuations and special characters:</b><br>\n",
    "*Note this function will remove punctuation AND accented characters. Thus it is not necessary usable on languages that have accented characters. But for english it is ok.*"
   ]
  },
  {
   "cell_type": "code",
   "execution_count": 23,
   "metadata": {
    "execution": {
     "iopub.execute_input": "2021-08-23T20:19:23.447690Z",
     "iopub.status.busy": "2021-08-23T20:19:23.447324Z",
     "iopub.status.idle": "2021-08-23T20:19:23.757571Z",
     "shell.execute_reply": "2021-08-23T20:19:23.756687Z",
     "shell.execute_reply.started": "2021-08-23T20:19:23.447652Z"
    }
   },
   "outputs": [],
   "source": [
    "def clean_punctuation_no_accent(df, label):\n",
    "    \"\"\" This function removes punctuation and accented characters from texts in a dataframe \n",
    "        To be appplied to languages that have no accents, ex: english \n",
    "    \"\"\"\n",
    "    df[label] = df[label].apply(lambda x: re.sub(r'[^\\w\\s]', ' ', x))\n",
    "    return df\n",
    "#\n",
    "df_train = clean_punctuation_no_accent(df_train, \"CleanTweet\")"
   ]
  },
  {
   "cell_type": "markdown",
   "metadata": {},
   "source": [
    "<b>Removing stop words. Here, the list is from nltk stopwords library:</b>"
   ]
  },
  {
   "cell_type": "code",
   "execution_count": 24,
   "metadata": {
    "execution": {
     "iopub.execute_input": "2021-08-23T20:19:23.759453Z",
     "iopub.status.busy": "2021-08-23T20:19:23.759097Z",
     "iopub.status.idle": "2021-08-23T20:19:24.190029Z",
     "shell.execute_reply": "2021-08-23T20:19:24.188985Z",
     "shell.execute_reply.started": "2021-08-23T20:19:23.759403Z"
    }
   },
   "outputs": [],
   "source": [
    "def remove_stop_words(text, stopwords=set(stopwords.words('english'))):\n",
    "    \"\"\" This function removes stop words from a text\n",
    "        inputs:\n",
    "         - stopword list\n",
    "         - text \"\"\"\n",
    "\n",
    "    # prepare new text\n",
    "    text_splitted = text.split(\" \")\n",
    "    text_new = list()\n",
    "    \n",
    "    # stop words updated\n",
    "    #stopwords = stopwords.union({\"amp\", \"grocery store\", \"covid\", \"supermarket\", \"people\", \"grocery\", \"store\", \"price\", \"time\", \"consumer\"})\n",
    "    \n",
    "    # loop\n",
    "    for word in text_splitted:\n",
    "        if word not in stopwords:\n",
    "            text_new.append(word)\n",
    "    return \" \".join(text_new)\n",
    "\n",
    "def clean_stopwords(df, label):\n",
    "    \"\"\" This function removes stopwords \"\"\"\n",
    "    df[label] = df[label].apply(lambda x: remove_stop_words(x))\n",
    "    return df\n",
    "#\n",
    "df_train = clean_stopwords(df_train, \"CleanTweet\")"
   ]
  },
  {
   "cell_type": "markdown",
   "metadata": {},
   "source": [
    "<b>Removing one and two letters words, removing unnecessary spaces, droping empty lines:</b>"
   ]
  },
  {
   "cell_type": "code",
   "execution_count": 25,
   "metadata": {
    "execution": {
     "iopub.execute_input": "2021-08-23T20:19:24.196842Z",
     "iopub.status.busy": "2021-08-23T20:19:24.194721Z",
     "iopub.status.idle": "2021-08-23T20:19:24.957770Z",
     "shell.execute_reply": "2021-08-23T20:19:24.956905Z",
     "shell.execute_reply.started": "2021-08-23T20:19:24.196800Z"
    }
   },
   "outputs": [],
   "source": [
    "def more_cleaning(df, label):\n",
    "    \"\"\" This function\n",
    "     1) removes remaining one-letter words and two letters words\n",
    "     2) replaces multiple spaces by one single space\n",
    "     3) drop empty lines \"\"\"\n",
    "    df[label] = df[label].apply(lambda x: re.sub(r'\\b\\w{1,2}\\b', \" \", x))\n",
    "    df[label] = df[label].apply(lambda x: re.sub(r\"[ \\t]{2,}\", \" \", x))\n",
    "    df[label] = df[label].apply(lambda x: x if len(x) != 1 else '')\n",
    "    df[label] = df[label].apply(lambda x: np.nan if x == '' else x)\n",
    "    df = df.dropna(subset=[label], axis=0).reset_index(drop=True).copy()\n",
    "    return df\n",
    "#\n",
    "df_train = more_cleaning(df_train, \"CleanTweet\")"
   ]
  },
  {
   "cell_type": "markdown",
   "metadata": {},
   "source": [
    "<b>Lemmatizing words:</b><br>\n",
    "*Note: Here the lemmatizer works only for its default parameter which is <b>nouns</b>. That is to say, it will only find the closest root for nouns and will not work on verbs or adjectives ect ... I tried with lemmatization of everything but the accuracy was lower*"
   ]
  },
  {
   "cell_type": "code",
   "execution_count": 26,
   "metadata": {
    "execution": {
     "iopub.execute_input": "2021-08-23T20:19:24.959838Z",
     "iopub.status.busy": "2021-08-23T20:19:24.959507Z",
     "iopub.status.idle": "2021-08-23T20:19:28.062572Z",
     "shell.execute_reply": "2021-08-23T20:19:28.061720Z",
     "shell.execute_reply.started": "2021-08-23T20:19:24.959799Z"
    }
   },
   "outputs": [],
   "source": [
    "def lemmatize_one_text(text):\n",
    "    \"\"\" This function lemmatizes words in text (it changes word to most close root word)\n",
    "        inputs:\n",
    "         - lemmatizer\n",
    "         - text \"\"\"\n",
    "\n",
    "    # initialize lemmatizer\n",
    "    lemmatizer = WordNetLemmatizer()\n",
    "    \n",
    "    # tags\n",
    "    lem_tags = ['a', 'r', 'n', 'v']\n",
    "\n",
    "    # prepare new text\n",
    "    text_splitted = text.split(\" \")\n",
    "    text_new = list()\n",
    "\n",
    "    # change bool\n",
    "    changed = ''\n",
    "    \n",
    "    # loop\n",
    "    for word in text_splitted:\n",
    "        text_new.append(lemmatizer.lemmatize(word))\n",
    "        #changed = ''\n",
    "        #for tag in lem_tags:\n",
    "        #    if lemmatizer.lemmatize(word, tag) != word:\n",
    "        #        changed = tag\n",
    "        #if changed == '':\n",
    "        #    text_new.append(word)\n",
    "        #else:\n",
    "        #    text_new.append(lemmatizer.lemmatize(word, changed))\n",
    "\n",
    "    return \" \".join(text_new)\n",
    "\n",
    "def lemmatize(df, label):\n",
    "    \"\"\" This function lemmatizes texts \"\"\"\n",
    "    df[label] = df[label].apply(lambda x: lemmatize_one_text(x))\n",
    "    return df\n",
    "#\n",
    "df_train = lemmatize(df_train, \"CleanTweet\")"
   ]
  },
  {
   "cell_type": "code",
   "execution_count": 27,
   "metadata": {
    "execution": {
     "iopub.execute_input": "2021-08-23T20:19:28.064360Z",
     "iopub.status.busy": "2021-08-23T20:19:28.064040Z",
     "iopub.status.idle": "2021-08-23T20:19:28.080728Z",
     "shell.execute_reply": "2021-08-23T20:19:28.079849Z",
     "shell.execute_reply.started": "2021-08-23T20:19:28.064325Z"
    }
   },
   "outputs": [
    {
     "data": {
      "text/html": [
       "<div>\n",
       "<style scoped>\n",
       "    .dataframe tbody tr th:only-of-type {\n",
       "        vertical-align: middle;\n",
       "    }\n",
       "\n",
       "    .dataframe tbody tr th {\n",
       "        vertical-align: top;\n",
       "    }\n",
       "\n",
       "    .dataframe thead th {\n",
       "        text-align: right;\n",
       "    }\n",
       "</style>\n",
       "<table border=\"1\" class=\"dataframe\">\n",
       "  <thead>\n",
       "    <tr style=\"text-align: right;\">\n",
       "      <th></th>\n",
       "      <th>UserName</th>\n",
       "      <th>ScreenName</th>\n",
       "      <th>Location</th>\n",
       "      <th>TweetAt</th>\n",
       "      <th>OriginalTweet</th>\n",
       "      <th>Sentiment</th>\n",
       "      <th>CleanTweet</th>\n",
       "    </tr>\n",
       "  </thead>\n",
       "  <tbody>\n",
       "    <tr>\n",
       "      <th>21064</th>\n",
       "      <td>24894</td>\n",
       "      <td>69846</td>\n",
       "      <td>Norwalk, CT</td>\n",
       "      <td>25-03-2020</td>\n",
       "      <td>So proud of @RRRepellents and their work to he...</td>\n",
       "      <td>Positive</td>\n",
       "      <td>proud work help health crisis moved fast begin...</td>\n",
       "    </tr>\n",
       "    <tr>\n",
       "      <th>5409</th>\n",
       "      <td>9218</td>\n",
       "      <td>54170</td>\n",
       "      <td>Los Angeles, CA</td>\n",
       "      <td>19-03-2020</td>\n",
       "      <td>@Brooklyn9_1_1 @scottgurvey @weijia @fema @US_...</td>\n",
       "      <td>Neutral</td>\n",
       "      <td>pin pad atm machine grocery store register di...</td>\n",
       "    </tr>\n",
       "    <tr>\n",
       "      <th>14277</th>\n",
       "      <td>18097</td>\n",
       "      <td>63049</td>\n",
       "      <td>South Africa</td>\n",
       "      <td>21-03-2020</td>\n",
       "      <td>President of Russia Vladimir Putin being asked...</td>\n",
       "      <td>Positive</td>\n",
       "      <td>president russia vladimir putin asked done com...</td>\n",
       "    </tr>\n",
       "    <tr>\n",
       "      <th>31156</th>\n",
       "      <td>34994</td>\n",
       "      <td>79946</td>\n",
       "      <td>Sussex, UK</td>\n",
       "      <td>06-04-2020</td>\n",
       "      <td>#StayHomeSaveLives but how when you can't get ...</td>\n",
       "      <td>Neutral</td>\n",
       "      <td>get supermarket delivery slot</td>\n",
       "    </tr>\n",
       "    <tr>\n",
       "      <th>22332</th>\n",
       "      <td>26162</td>\n",
       "      <td>71114</td>\n",
       "      <td>United Kingdom</td>\n",
       "      <td>25-03-2020</td>\n",
       "      <td>#House prices expected to fall due to #COVID19...</td>\n",
       "      <td>Neutral</td>\n",
       "      <td>price expected fall due</td>\n",
       "    </tr>\n",
       "  </tbody>\n",
       "</table>\n",
       "</div>"
      ],
      "text/plain": [
       "       UserName  ScreenName         Location     TweetAt  \\\n",
       "21064     24894       69846      Norwalk, CT  25-03-2020   \n",
       "5409       9218       54170  Los Angeles, CA  19-03-2020   \n",
       "14277     18097       63049     South Africa  21-03-2020   \n",
       "31156     34994       79946       Sussex, UK  06-04-2020   \n",
       "22332     26162       71114   United Kingdom  25-03-2020   \n",
       "\n",
       "                                           OriginalTweet Sentiment  \\\n",
       "21064  So proud of @RRRepellents and their work to he...  Positive   \n",
       "5409   @Brooklyn9_1_1 @scottgurvey @weijia @fema @US_...   Neutral   \n",
       "14277  President of Russia Vladimir Putin being asked...  Positive   \n",
       "31156  #StayHomeSaveLives but how when you can't get ...   Neutral   \n",
       "22332  #House prices expected to fall due to #COVID19...   Neutral   \n",
       "\n",
       "                                              CleanTweet  \n",
       "21064  proud work help health crisis moved fast begin...  \n",
       "5409    pin pad atm machine grocery store register di...  \n",
       "14277  president russia vladimir putin asked done com...  \n",
       "31156                     get supermarket delivery slot   \n",
       "22332                           price expected fall due   "
      ]
     },
     "execution_count": 27,
     "metadata": {},
     "output_type": "execute_result"
    }
   ],
   "source": [
    "df_train.sample(5)"
   ]
  },
  {
   "cell_type": "markdown",
   "metadata": {},
   "source": [
    "### Let's apply all of these cleaning on test data set as well:"
   ]
  },
  {
   "cell_type": "code",
   "execution_count": 28,
   "metadata": {
    "execution": {
     "iopub.execute_input": "2021-08-23T20:19:28.082582Z",
     "iopub.status.busy": "2021-08-23T20:19:28.082220Z",
     "iopub.status.idle": "2021-08-23T20:19:29.062560Z",
     "shell.execute_reply": "2021-08-23T20:19:29.061623Z",
     "shell.execute_reply.started": "2021-08-23T20:19:28.082545Z"
    }
   },
   "outputs": [],
   "source": [
    "df_test[\"CleanTweet\"] = df_test[\"OriginalTweet\"]\n",
    "df_test = clean_eol_tabs(df_test, \"CleanTweet\")\n",
    "df_test = remove_emails(df_test, \"CleanTweet\")\n",
    "df_test = remove_mentions(df_test, \"CleanTweet\")\n",
    "df_test = remove_hyperlinks(df_test, \"CleanTweet\")\n",
    "df_test = remove_hashtags(df_test, \"CleanTweet\")\n",
    "df_test = remove_html_tags(df_test, \"CleanTweet\")\n",
    "df_test = remove_numbers(df_test, \"CleanTweet\")\n",
    "df_test = encode_unknown(df_test, \"CleanTweet\")\n",
    "df_test = clean_punctuation_no_accent(df_test, \"CleanTweet\")\n",
    "df_test = clean_stopwords(df_test, \"CleanTweet\")\n",
    "df_test = more_cleaning(df_test, \"CleanTweet\")\n",
    "df_test = lemmatize(df_test, \"CleanTweet\")"
   ]
  },
  {
   "cell_type": "code",
   "execution_count": 29,
   "metadata": {
    "execution": {
     "iopub.execute_input": "2021-08-23T20:19:29.064878Z",
     "iopub.status.busy": "2021-08-23T20:19:29.064490Z",
     "iopub.status.idle": "2021-08-23T20:19:29.079519Z",
     "shell.execute_reply": "2021-08-23T20:19:29.078480Z",
     "shell.execute_reply.started": "2021-08-23T20:19:29.064838Z"
    }
   },
   "outputs": [
    {
     "data": {
      "text/html": [
       "<div>\n",
       "<style scoped>\n",
       "    .dataframe tbody tr th:only-of-type {\n",
       "        vertical-align: middle;\n",
       "    }\n",
       "\n",
       "    .dataframe tbody tr th {\n",
       "        vertical-align: top;\n",
       "    }\n",
       "\n",
       "    .dataframe thead th {\n",
       "        text-align: right;\n",
       "    }\n",
       "</style>\n",
       "<table border=\"1\" class=\"dataframe\">\n",
       "  <thead>\n",
       "    <tr style=\"text-align: right;\">\n",
       "      <th></th>\n",
       "      <th>UserName</th>\n",
       "      <th>ScreenName</th>\n",
       "      <th>Location</th>\n",
       "      <th>TweetAt</th>\n",
       "      <th>OriginalTweet</th>\n",
       "      <th>Sentiment</th>\n",
       "      <th>CleanTweet</th>\n",
       "    </tr>\n",
       "  </thead>\n",
       "  <tbody>\n",
       "    <tr>\n",
       "      <th>939</th>\n",
       "      <td>940</td>\n",
       "      <td>45892</td>\n",
       "      <td>Donegal, Ireland</td>\n",
       "      <td>12-03-2020</td>\n",
       "      <td>All of Ireland on lockdown, all school/collage...</td>\n",
       "      <td>Negative</td>\n",
       "      <td>ireland lockdown school collage closed today e...</td>\n",
       "    </tr>\n",
       "    <tr>\n",
       "      <th>46</th>\n",
       "      <td>47</td>\n",
       "      <td>44999</td>\n",
       "      <td>Colorado, USA</td>\n",
       "      <td>09-03-2020</td>\n",
       "      <td>I have instructed that insurance companies mak...</td>\n",
       "      <td>Positive</td>\n",
       "      <td>instructed insurance company make covid testin...</td>\n",
       "    </tr>\n",
       "    <tr>\n",
       "      <th>1534</th>\n",
       "      <td>1535</td>\n",
       "      <td>46487</td>\n",
       "      <td>Canada</td>\n",
       "      <td>13-03-2020</td>\n",
       "      <td>Hey everyone, donÂt forget to check your pets...</td>\n",
       "      <td>Negative</td>\n",
       "      <td>hey everyone donat forget check pet food suppl...</td>\n",
       "    </tr>\n",
       "  </tbody>\n",
       "</table>\n",
       "</div>"
      ],
      "text/plain": [
       "      UserName  ScreenName          Location     TweetAt  \\\n",
       "939        940       45892  Donegal, Ireland  12-03-2020   \n",
       "46          47       44999     Colorado, USA  09-03-2020   \n",
       "1534      1535       46487            Canada  13-03-2020   \n",
       "\n",
       "                                          OriginalTweet Sentiment  \\\n",
       "939   All of Ireland on lockdown, all school/collage...  Negative   \n",
       "46    I have instructed that insurance companies mak...  Positive   \n",
       "1534  Hey everyone, donÂt forget to check your pets...  Negative   \n",
       "\n",
       "                                             CleanTweet  \n",
       "939   ireland lockdown school collage closed today e...  \n",
       "46    instructed insurance company make covid testin...  \n",
       "1534  hey everyone donat forget check pet food suppl...  "
      ]
     },
     "execution_count": 29,
     "metadata": {},
     "output_type": "execute_result"
    }
   ],
   "source": [
    "df_test.sample(3)"
   ]
  },
  {
   "cell_type": "markdown",
   "metadata": {},
   "source": [
    "### Let's have a look on before/after cleaning on several tweets:"
   ]
  },
  {
   "cell_type": "code",
   "execution_count": 30,
   "metadata": {
    "execution": {
     "iopub.execute_input": "2021-08-23T20:19:31.101170Z",
     "iopub.status.busy": "2021-08-23T20:19:31.100820Z",
     "iopub.status.idle": "2021-08-23T20:19:31.108672Z",
     "shell.execute_reply": "2021-08-23T20:19:31.107544Z",
     "shell.execute_reply.started": "2021-08-23T20:19:31.101139Z"
    }
   },
   "outputs": [
    {
     "name": "stdout",
     "output_type": "stream",
     "text": [
      "############################# Original Tweet #############################\n",
      "We are so pleased to be able to help local aldershot resident David UK Man 70 was living solely on Domino s pizza Daily Mail Online\n",
      "\n",
      "\n",
      "############################# Clean Tweet ################################\n",
      "pleased able help local aldershot resident david man living solely domino pizza daily mail online\n"
     ]
    }
   ],
   "source": [
    "tweet_num = random.randint(0, df_train.shape[0])\n",
    "print(\"############################# Original Tweet #############################\")\n",
    "print(df_train.iloc[tweet_num].at[\"OriginalTweet\"])\n",
    "print(\"\\n\")\n",
    "print(\"############################# Clean Tweet ################################\")\n",
    "print(df_train.iloc[tweet_num].at[\"CleanTweet\"])"
   ]
  },
  {
   "cell_type": "code",
   "execution_count": 31,
   "metadata": {
    "execution": {
     "iopub.execute_input": "2021-08-23T20:19:32.428649Z",
     "iopub.status.busy": "2021-08-23T20:19:32.428221Z",
     "iopub.status.idle": "2021-08-23T20:19:32.436449Z",
     "shell.execute_reply": "2021-08-23T20:19:32.435687Z",
     "shell.execute_reply.started": "2021-08-23T20:19:32.428611Z"
    }
   },
   "outputs": [
    {
     "name": "stdout",
     "output_type": "stream",
     "text": [
      "############################# Original Tweet #############################\n",
      "@stacieco13 @CBSNews COVID-19 infecting entire teams of workers, the stress and pressure put on retail and food service workers to put out groceries and essentials in the face of panic buyers, the stress and pressure put on healthcare workers from increas\n",
      "\n",
      "\n",
      "############################# Clean Tweet ################################\n",
      " covid infecting entire team worker stress pressure put retail food service worker put grocery essential face panic buyer stress pressure put healthcare worker increas\n"
     ]
    }
   ],
   "source": [
    "tweet_num = random.randint(0, df_train.shape[0])\n",
    "print(\"############################# Original Tweet #############################\")\n",
    "print(df_train.iloc[tweet_num].at[\"OriginalTweet\"])\n",
    "print(\"\\n\")\n",
    "print(\"############################# Clean Tweet ################################\")\n",
    "print(df_train.iloc[tweet_num].at[\"CleanTweet\"])"
   ]
  },
  {
   "cell_type": "markdown",
   "metadata": {},
   "source": [
    "It looks good"
   ]
  },
  {
   "cell_type": "markdown",
   "metadata": {},
   "source": [
    "# 6.  Looking at data"
   ]
  },
  {
   "cell_type": "markdown",
   "metadata": {},
   "source": [
    "<b>Sentiment repartition:</b>"
   ]
  },
  {
   "cell_type": "code",
   "execution_count": 32,
   "metadata": {
    "execution": {
     "iopub.execute_input": "2021-08-23T20:19:37.669224Z",
     "iopub.status.busy": "2021-08-23T20:19:37.668860Z",
     "iopub.status.idle": "2021-08-23T20:19:37.939222Z",
     "shell.execute_reply": "2021-08-23T20:19:37.938430Z",
     "shell.execute_reply.started": "2021-08-23T20:19:37.669192Z"
    }
   },
   "outputs": [
    {
     "data": {
      "image/png": "[encoded data removed]",
      "text/plain": [
       "<Figure size 1332x360 with 2 Axes>"
      ]
     },
     "metadata": {
      "needs_background": "light"
     },
     "output_type": "display_data"
    }
   ],
   "source": [
    "fig, (ax1, ax2) = plt.subplots(1, 2)\n",
    "fig.set_size_inches(18.5, 5)\n",
    "fig.suptitle('Sentiment repartition among tweets in train and test sets')\n",
    "df_train[\"Sentiment\"].value_counts().plot(kind=\"bar\", ax=ax1);\n",
    "df_test[\"Sentiment\"].value_counts().plot(kind=\"bar\", ax=ax2);"
   ]
  },
  {
   "cell_type": "markdown",
   "metadata": {},
   "source": [
    "<b>Word cloud in each sentiment categories:</b>"
   ]
  },
  {
   "cell_type": "code",
   "execution_count": 33,
   "metadata": {
    "execution": {
     "iopub.execute_input": "2021-08-23T20:19:38.558255Z",
     "iopub.status.busy": "2021-08-23T20:19:38.557884Z",
     "iopub.status.idle": "2021-08-23T20:19:38.600890Z",
     "shell.execute_reply": "2021-08-23T20:19:38.600030Z",
     "shell.execute_reply.started": "2021-08-23T20:19:38.558223Z"
    }
   },
   "outputs": [],
   "source": [
    "# all_words_positive = \" \".join([text for text in df_train[df_train[\"Sentiment\"]==\"Positive\"][\"CleanTweet\"]])\n",
    "# all_words_neutral = \" \".join([text for text in df_train[df_train[\"Sentiment\"]==\"Neutral\"][\"CleanTweet\"]])\n",
    "# all_words_negative = \" \".join([text for text in df_train[df_train[\"Sentiment\"]==\"Negative\"][\"CleanTweet\"]])"
   ]
  },
  {
   "cell_type": "code",
   "execution_count": 34,
   "metadata": {
    "execution": {
     "iopub.execute_input": "2021-08-23T20:19:38.951368Z",
     "iopub.status.busy": "2021-08-23T20:19:38.951045Z",
     "iopub.status.idle": "2021-08-23T20:19:45.979234Z",
     "shell.execute_reply": "2021-08-23T20:19:45.977508Z",
     "shell.execute_reply.started": "2021-08-23T20:19:38.951338Z"
    }
   },
   "outputs": [],
   "source": [
    "# wordcloud_positive = WordCloud(width=800, height=600, max_font_size=120, background_color=\"white\", colormap=\"Greens\").generate(all_words_positive)\n",
    "# wordcloud_neutral = WordCloud(width=800, height=600, max_font_size=120, background_color=\"white\", colormap=\"YlOrBr\").generate(all_words_neutral)\n",
    "# wordcloud_negative = WordCloud(width=800, height=600, max_font_size=120, background_color=\"white\", colormap=\"Reds\").generate(all_words_negative)"
   ]
  },
  {
   "cell_type": "code",
   "execution_count": 35,
   "metadata": {
    "execution": {
     "iopub.execute_input": "2021-08-23T20:19:45.981105Z",
     "iopub.status.busy": "2021-08-23T20:19:45.980759Z",
     "iopub.status.idle": "2021-08-23T20:19:46.746815Z",
     "shell.execute_reply": "2021-08-23T20:19:46.745838Z",
     "shell.execute_reply.started": "2021-08-23T20:19:45.981068Z"
    }
   },
   "outputs": [],
   "source": [
    "# parameters = {'axes.labelsize': 12,\n",
    "#               'axes.titlesize': 10}\n",
    "# #\n",
    "# fig, (ax1, ax2, ax3) = plt.subplots(1, 3)\n",
    "# fig.set_size_inches(18.5, 7)\n",
    "# ax1.imshow(wordcloud_positive, interpolation='bilinear')\n",
    "# ax1.axis(\"off\")\n",
    "# ax1.set_title(\"WordCloud of positive tweets\", fontsize=12)\n",
    "# ax2.imshow(wordcloud_neutral, interpolation='bilinear')\n",
    "# ax2.axis(\"off\")\n",
    "# ax2.set_title(\"WordCloud of neutral tweets\", fontsize=12)\n",
    "# ax3.imshow(wordcloud_negative, interpolation='bilinear')\n",
    "# ax3.axis(\"off\")\n",
    "# ax3.set_title(\"WordCloud of negative tweets\", fontsize=12)\n",
    "# plt.rcParams.update(parameters)\n",
    "# plt.show()"
   ]
  },
  {
   "cell_type": "markdown",
   "metadata": {},
   "source": [
    "# 7. Sentiment encoding"
   ]
  },
  {
   "cell_type": "code",
   "execution_count": 36,
   "metadata": {
    "execution": {
     "iopub.execute_input": "2021-08-23T20:19:50.075026Z",
     "iopub.status.busy": "2021-08-23T20:19:50.074677Z",
     "iopub.status.idle": "2021-08-23T20:19:50.084295Z",
     "shell.execute_reply": "2021-08-23T20:19:50.082853Z",
     "shell.execute_reply.started": "2021-08-23T20:19:50.074990Z"
    }
   },
   "outputs": [
    {
     "name": "stdout",
     "output_type": "stream",
     "text": [
      "train set shape: (41100, 7)\n",
      "test set shape: (3795, 7)\n"
     ]
    }
   ],
   "source": [
    "df_train_encoded = df_train.copy()\n",
    "df_test_encoded = df_test.copy()\n",
    "#\n",
    "print(\"train set shape: \" + str(df_train_encoded.shape))\n",
    "print(\"test set shape: \" + str(df_test_encoded.shape))"
   ]
  },
  {
   "cell_type": "code",
   "execution_count": 37,
   "metadata": {
    "execution": {
     "iopub.execute_input": "2021-08-23T20:19:50.564630Z",
     "iopub.status.busy": "2021-08-23T20:19:50.564300Z",
     "iopub.status.idle": "2021-08-23T20:19:50.580315Z",
     "shell.execute_reply": "2021-08-23T20:19:50.579414Z",
     "shell.execute_reply.started": "2021-08-23T20:19:50.564601Z"
    }
   },
   "outputs": [],
   "source": [
    "map_sentiment = {\"Neutral\":0, \"Positive\":1,\"Negative\":2}\n",
    "df_train_encoded['Sentiment'] = df_train_encoded['Sentiment'].map(map_sentiment)\n",
    "df_test_encoded['Sentiment']  = df_test_encoded['Sentiment'].map(map_sentiment)"
   ]
  },
  {
   "cell_type": "markdown",
   "metadata": {},
   "source": [
    "# 8. Feature and target preparation"
   ]
  },
  {
   "cell_type": "code",
   "execution_count": 38,
   "metadata": {
    "execution": {
     "iopub.execute_input": "2021-08-23T20:19:53.326324Z",
     "iopub.status.busy": "2021-08-23T20:19:53.325994Z",
     "iopub.status.idle": "2021-08-23T20:19:53.339735Z",
     "shell.execute_reply": "2021-08-23T20:19:53.338650Z",
     "shell.execute_reply.started": "2021-08-23T20:19:53.326295Z"
    }
   },
   "outputs": [],
   "source": [
    "y_train = df_train['Sentiment'].copy()\n",
    "y_test = df_test['Sentiment'].copy()\n",
    "#\n",
    "y_train_encoded = to_categorical(df_train_encoded['Sentiment'], 3)\n",
    "y_test_encoded = to_categorical(df_test_encoded['Sentiment'], 3)\n",
    "#\n",
    "y_train_mapped = df_train_encoded['Sentiment'].copy()\n",
    "y_test_mapped = df_test_encoded['Sentiment'].copy()\n",
    "#\n",
    "X_train = df_train_encoded[['CleanTweet']].copy()\n",
    "X_test = df_test_encoded[['CleanTweet']].copy()"
   ]
  },
  {
   "cell_type": "markdown",
   "metadata": {},
   "source": [
    "# 9. Tokenization, sequences, padding"
   ]
  },
  {
   "cell_type": "markdown",
   "metadata": {},
   "source": [
    "<b>The result of tokenizer is a dictionnary with:</b><br>\n",
    "* key = word<br>\n",
    "* value = unique number"
   ]
  },
  {
   "cell_type": "code",
   "execution_count": 39,
   "metadata": {
    "execution": {
     "iopub.execute_input": "2021-08-23T20:19:54.795129Z",
     "iopub.status.busy": "2021-08-23T20:19:54.794763Z",
     "iopub.status.idle": "2021-08-23T20:19:55.571263Z",
     "shell.execute_reply": "2021-08-23T20:19:55.570283Z",
     "shell.execute_reply.started": "2021-08-23T20:19:54.795095Z"
    }
   },
   "outputs": [
    {
     "data": {
      "text/plain": [
       "30445"
      ]
     },
     "execution_count": 39,
     "metadata": {},
     "output_type": "execute_result"
    }
   ],
   "source": [
    "tokenizer = Tokenizer()\n",
    "tokenizer.fit_on_texts(X_train[\"CleanTweet\"])\n",
    "vocab_length = len(tokenizer.word_index) + 1\n",
    "vocab_length"
   ]
  },
  {
   "cell_type": "markdown",
   "metadata": {},
   "source": [
    "The <b>texts_to_sequences</b> function first transforms a text into list of words. Then, thanks to the dictionnary previously created by the tokenizer (see above), transforms list of list of words into list of list of numbers"
   ]
  },
  {
   "cell_type": "code",
   "execution_count": 40,
   "metadata": {
    "execution": {
     "iopub.execute_input": "2021-08-23T20:19:55.573226Z",
     "iopub.status.busy": "2021-08-23T20:19:55.572862Z",
     "iopub.status.idle": "2021-08-23T20:19:56.223847Z",
     "shell.execute_reply": "2021-08-23T20:19:56.222995Z",
     "shell.execute_reply.started": "2021-08-23T20:19:55.573190Z"
    }
   },
   "outputs": [],
   "source": [
    "X_train = tokenizer.texts_to_sequences(X_train[\"CleanTweet\"])\n",
    "X_test = tokenizer.texts_to_sequences(X_test[\"CleanTweet\"])"
   ]
  },
  {
   "cell_type": "markdown",
   "metadata": {},
   "source": [
    "Each tweets has differents length. Thus the result of the <b>texts_to_sequences</b> function will be a list of list of numbers of different length: "
   ]
  },
  {
   "cell_type": "code",
   "execution_count": 41,
   "metadata": {
    "execution": {
     "iopub.execute_input": "2021-08-23T20:19:56.278783Z",
     "iopub.status.busy": "2021-08-23T20:19:56.278476Z",
     "iopub.status.idle": "2021-08-23T20:19:56.285341Z",
     "shell.execute_reply": "2021-08-23T20:19:56.284382Z",
     "shell.execute_reply.started": "2021-08-23T20:19:56.278753Z"
    }
   },
   "outputs": [
    {
     "name": "stdout",
     "output_type": "stream",
     "text": [
      "First tweet encoded:\n",
      "[387, 492, 1463, 96, 2123, 605, 260, 911, 303, 257, 605, 260, 1463, 352, 1620, 1892, 341, 11, 10, 781, 4020, 2618, 27, 854, 1977, 91]\n",
      "\n",
      "Second tweet encoded:\n",
      "[23, 769, 3734, 173, 220, 1235, 1526, 10, 105, 87, 1, 65]\n",
      "\n",
      "Third tweet encoded:\n",
      "[5, 25, 26, 133, 36, 18, 156, 5, 74, 59, 12, 45, 812, 45, 90]\n"
     ]
    }
   ],
   "source": [
    "print(\"First tweet encoded:\")\n",
    "print(X_train[0])\n",
    "print(\"\\nSecond tweet encoded:\")\n",
    "print(X_train[1])\n",
    "print(\"\\nThird tweet encoded:\")\n",
    "print(X_train[2])"
   ]
  },
  {
   "cell_type": "markdown",
   "metadata": {},
   "source": [
    "To feed the deep learning model, we need all these lists to be the same length. Thus we need to apply padding. In other words, we are going to add several zeros (0) at the end of the shortest tweets so that at the end, all of our lists have the same length. <br><br>\n",
    "First let's get the maximum number of words in one tweet:"
   ]
  },
  {
   "cell_type": "code",
   "execution_count": 42,
   "metadata": {
    "execution": {
     "iopub.execute_input": "2021-08-23T20:19:57.180873Z",
     "iopub.status.busy": "2021-08-23T20:19:57.180456Z",
     "iopub.status.idle": "2021-08-23T20:19:57.224910Z",
     "shell.execute_reply": "2021-08-23T20:19:57.223978Z",
     "shell.execute_reply.started": "2021-08-23T20:19:57.180835Z"
    }
   },
   "outputs": [
    {
     "name": "stdout",
     "output_type": "stream",
     "text": [
      "Maximum number of word in one tweet: 37 words\n"
     ]
    }
   ],
   "source": [
    "max_word_count = 0\n",
    "word_count = []\n",
    "#\n",
    "for encoded_tweet in X_train:\n",
    "    word_count.append(len(encoded_tweet))\n",
    "    if len(encoded_tweet) > max_word_count:\n",
    "        max_word_count = len(encoded_tweet)\n",
    "print(\"Maximum number of word in one tweet: \" + str(max_word_count) + \" words\")"
   ]
  },
  {
   "cell_type": "markdown",
   "metadata": {},
   "source": [
    "So the longest tweet we have is composed of 37 words. We are going to pad the sequences with a maximum length of 37."
   ]
  },
  {
   "cell_type": "code",
   "execution_count": 43,
   "metadata": {
    "execution": {
     "iopub.execute_input": "2021-08-23T20:19:58.669892Z",
     "iopub.status.busy": "2021-08-23T20:19:58.669563Z",
     "iopub.status.idle": "2021-08-23T20:19:59.021856Z",
     "shell.execute_reply": "2021-08-23T20:19:59.020851Z",
     "shell.execute_reply.started": "2021-08-23T20:19:58.669859Z"
    }
   },
   "outputs": [
    {
     "data": {
      "text/plain": [
       "(41100, 37)"
      ]
     },
     "execution_count": 43,
     "metadata": {},
     "output_type": "execute_result"
    }
   ],
   "source": [
    "X_train = pad_sequences(X_train, maxlen=max_word_count, padding='post')\n",
    "X_test = pad_sequences(X_test, maxlen=max_word_count, padding='post')\n",
    "X_train.shape"
   ]
  },
  {
   "cell_type": "markdown",
   "metadata": {},
   "source": [
    "Let's have a look at the encoded 3 tweets after padding:"
   ]
  },
  {
   "cell_type": "code",
   "execution_count": 44,
   "metadata": {
    "execution": {
     "iopub.execute_input": "2021-08-23T20:19:59.024107Z",
     "iopub.status.busy": "2021-08-23T20:19:59.023745Z",
     "iopub.status.idle": "2021-08-23T20:19:59.032120Z",
     "shell.execute_reply": "2021-08-23T20:19:59.031168Z",
     "shell.execute_reply.started": "2021-08-23T20:19:59.024069Z"
    }
   },
   "outputs": [
    {
     "name": "stdout",
     "output_type": "stream",
     "text": [
      "First tweet encoded: Size =  37\n",
      "[ 387  492 1463   96 2123  605  260  911  303  257  605  260 1463  352\n",
      " 1620 1892  341   11   10  781 4020 2618   27  854 1977   91    0    0\n",
      "    0    0    0    0    0    0    0    0    0]\n",
      "\n",
      "Second tweet encoded: Size =  37\n",
      "[  23  769 3734  173  220 1235 1526   10  105   87    1   65    0    0\n",
      "    0    0    0    0    0    0    0    0    0    0    0    0    0    0\n",
      "    0    0    0    0    0    0    0    0    0]\n",
      "\n",
      "Third tweet encoded: Size =  37\n",
      "[  5  25  26 133  36  18 156   5  74  59  12  45 812  45  90   0   0   0\n",
      "   0   0   0   0   0   0   0   0   0   0   0   0   0   0   0   0   0   0\n",
      "   0]\n"
     ]
    }
   ],
   "source": [
    "print(\"First tweet encoded:\", \"Size = \", len(X_train[0]))\n",
    "print(X_train[0])\n",
    "print(\"\\nSecond tweet encoded:\", \"Size = \", len(X_train[1]))\n",
    "print(X_train[1])\n",
    "print(\"\\nThird tweet encoded:\", \"Size = \", len(X_train[2]))\n",
    "print(X_train[2])"
   ]
  },
  {
   "cell_type": "markdown",
   "metadata": {},
   "source": [
    "Now every encoded tweet has the same length, the data is ready for the model."
   ]
  },
  {
   "cell_type": "markdown",
   "metadata": {},
   "source": [
    "# 10. Model"
   ]
  },
  {
   "cell_type": "markdown",
   "metadata": {},
   "source": [
    "<b>The model is composed of:</b>\n",
    "1. <b>An embedding layer with parameters</b>\n",
    "    * input dim = vocabulary size\n",
    "    * output dim = 32\n",
    "    * input length = size of padded sequences\n",
    "    * mask_zero = True to ignore 0 (from padding)\n",
    "2. <b>An LSTM (Long Short Term Memory) Layer with parameter</b>\n",
    "    * units = 100 (the resulting accuracy is almost the same regardless this value)\n",
    "3. <b>Three Dense layers</b>\n",
    "4. <b>An output dense layer with parameters</b>\n",
    "    * units = 3 (output dim)\n",
    "    * activation = softmax (for multiclassification problem)\n",
    "\n",
    "<b>Compilation with parameters:</b>\n",
    "1. loss = categorical_crossentropy (for multiclassification problem)\n",
    "2. optimizer = adam\n",
    "3. metrics = accuracy"
   ]
  },
  {
   "cell_type": "code",
   "execution_count": 45,
   "metadata": {
    "execution": {
     "iopub.execute_input": "2021-08-23T20:20:00.812300Z",
     "iopub.status.busy": "2021-08-23T20:20:00.811824Z",
     "iopub.status.idle": "2021-08-23T20:20:01.521340Z",
     "shell.execute_reply": "2021-08-23T20:20:01.520348Z",
     "shell.execute_reply.started": "2021-08-23T20:20:00.812264Z"
    }
   },
   "outputs": [
    {
     "name": "stdout",
     "output_type": "stream",
     "text": [
      "Model: \"sequential\"\n",
      "_________________________________________________________________\n",
      "Layer (type)                 Output Shape              Param #   \n",
      "=================================================================\n",
      "embedding (Embedding)        (None, 37, 32)            974240    \n",
      "_________________________________________________________________\n",
      "lstm (LSTM)                  (None, 100)               53200     \n",
      "_________________________________________________________________\n",
      "dense (Dense)                (None, 64)                6464      \n",
      "_________________________________________________________________\n",
      "dense_1 (Dense)              (None, 32)                2080      \n",
      "_________________________________________________________________\n",
      "dense_2 (Dense)              (None, 16)                528       \n",
      "_________________________________________________________________\n",
      "dense_3 (Dense)              (None, 3)                 51        \n",
      "=================================================================\n",
      "Total params: 1,036,563\n",
      "Trainable params: 1,036,563\n",
      "Non-trainable params: 0\n",
      "_________________________________________________________________\n",
      "None\n"
     ]
    }
   ],
   "source": [
    "model_LSTM = Sequential()\n",
    "model_LSTM.add(layers.Embedding(vocab_length, output_dim=32, input_length=max_word_count, mask_zero=True))\n",
    "model_LSTM.add(layers.LSTM(100))\n",
    "model_LSTM.add(layers.Dense(64, activation=\"relu\"))\n",
    "model_LSTM.add(layers.Dense(32, activation=\"relu\"))\n",
    "model_LSTM.add(layers.Dense(16, activation=\"relu\"))\n",
    "model_LSTM.add(layers.Dense(3, activation='softmax'))\n",
    "model_LSTM.compile(loss='categorical_crossentropy', optimizer='adam', metrics=['accuracy'])\n",
    "print(model_LSTM.summary())"
   ]
  },
  {
   "cell_type": "markdown",
   "metadata": {},
   "source": [
    "Here I set an early stopping after 10 epochs and set the parameter <i><b>restore_best_weights</b></i> to <b style=\"color:green\">True</b> so that the weights of best score on monitored metric - here <b>val_accuracy</b> (accuracy on test set) - are restored when training stops. This way the model has the best accuracy possible on unseen data."
   ]
  },
  {
   "cell_type": "code",
   "execution_count": 46,
   "metadata": {
    "execution": {
     "iopub.execute_input": "2021-08-23T20:20:03.414379Z",
     "iopub.status.busy": "2021-08-23T20:20:03.414046Z",
     "iopub.status.idle": "2021-08-23T20:28:25.636475Z",
     "shell.execute_reply": "2021-08-23T20:28:25.635661Z",
     "shell.execute_reply.started": "2021-08-23T20:20:03.414350Z"
    }
   },
   "outputs": [
    {
     "name": "stdout",
     "output_type": "stream",
     "text": [
      "Epoch 1/30\n",
      "2569/2569 [==============================] - 69s 25ms/step - loss: 0.8057 - accuracy: 0.6059 - val_loss: 0.4534 - val_accuracy: 0.8448\n",
      "Epoch 2/30\n",
      "2569/2569 [==============================] - 62s 24ms/step - loss: 0.3252 - accuracy: 0.8940 - val_loss: 0.4522 - val_accuracy: 0.8408\n",
      "Epoch 3/30\n",
      "2569/2569 [==============================] - 62s 24ms/step - loss: 0.2227 - accuracy: 0.9301 - val_loss: 0.4865 - val_accuracy: 0.8393\n",
      "Epoch 4/30\n",
      "2569/2569 [==============================] - 62s 24ms/step - loss: 0.1729 - accuracy: 0.9447 - val_loss: 0.5881 - val_accuracy: 0.8311\n",
      "Epoch 5/30\n",
      "2569/2569 [==============================] - 61s 24ms/step - loss: 0.1258 - accuracy: 0.9575 - val_loss: 0.6711 - val_accuracy: 0.8237\n",
      "Epoch 6/30\n",
      "2569/2569 [==============================] - 61s 24ms/step - loss: 0.0963 - accuracy: 0.9675 - val_loss: 0.7456 - val_accuracy: 0.8208\n",
      "Epoch 7/30\n",
      "2569/2569 [==============================] - 62s 24ms/step - loss: 0.0688 - accuracy: 0.9768 - val_loss: 0.8396 - val_accuracy: 0.8177\n",
      "Epoch 8/30\n",
      "2569/2569 [==============================] - 62s 24ms/step - loss: 0.0516 - accuracy: 0.9832 - val_loss: 0.9635 - val_accuracy: 0.8063\n",
      "Epoch 9/30\n",
      "2569/2569 [==============================] - 62s 24ms/step - loss: 0.0390 - accuracy: 0.9875 - val_loss: 0.9470 - val_accuracy: 0.8103\n",
      "Epoch 10/30\n",
      "2569/2569 [==============================] - 62s 24ms/step - loss: 0.0258 - accuracy: 0.9923 - val_loss: 1.1084 - val_accuracy: 0.7895\n",
      "Epoch 11/30\n",
      "2569/2569 [==============================] - 61s 24ms/step - loss: 0.0193 - accuracy: 0.9931 - val_loss: 1.3396 - val_accuracy: 0.7950\n"
     ]
    }
   ],
   "source": [
    "es = EarlyStopping(patience=10, monitor='val_accuracy', restore_best_weights=True)\n",
    "history = model_LSTM.fit(X_train,\n",
    "                         y_train_encoded,\n",
    "                         validation_data=(X_test, y_test_encoded),\n",
    "                         epochs=30,\n",
    "                         batch_size=16,\n",
    "                         verbose=1,\n",
    "                         callbacks=[es]\n",
    "                        )"
   ]
  },
  {
   "cell_type": "markdown",
   "metadata": {},
   "source": [
    "We can see that after epoch 2, the accuracy on test set - val_accuracy - doesn't increase any more while accuracy on train set continues to increase untill almost 100%! The model is overfitting from epoch 2 and is not able to generalize well on unseen data from there."
   ]
  },
  {
   "cell_type": "markdown",
   "metadata": {},
   "source": [
    "# 11. Model Evaluation"
   ]
  },
  {
   "cell_type": "markdown",
   "metadata": {},
   "source": [
    "<b>Prediction on test set:</b>"
   ]
  },
  {
   "cell_type": "code",
   "execution_count": 53,
   "metadata": {
    "execution": {
     "iopub.execute_input": "2021-08-23T20:28:30.654299Z",
     "iopub.status.busy": "2021-08-23T20:28:30.653926Z",
     "iopub.status.idle": "2021-08-23T20:28:31.965938Z",
     "shell.execute_reply": "2021-08-23T20:28:31.964972Z",
     "shell.execute_reply.started": "2021-08-23T20:28:30.654268Z"
    }
   },
   "outputs": [],
   "source": [
    "predicted = model_LSTM.predict(X_test)\n",
    "y_pred = predicted.argmax(axis=-1)"
   ]
  },
  {
   "cell_type": "markdown",
   "metadata": {},
   "source": [
    "<b>Calculation of accuracy and Area Under (ROC) Curve - AUC - scores:</b>"
   ]
  },
  {
   "cell_type": "code",
   "execution_count": 54,
   "metadata": {
    "execution": {
     "iopub.execute_input": "2021-08-23T20:28:34.635275Z",
     "iopub.status.busy": "2021-08-23T20:28:34.634902Z",
     "iopub.status.idle": "2021-08-23T20:28:34.647483Z",
     "shell.execute_reply": "2021-08-23T20:28:34.646650Z",
     "shell.execute_reply.started": "2021-08-23T20:28:34.635244Z"
    }
   },
   "outputs": [],
   "source": [
    "acc_score = accuracy_score(y_test_mapped, y_pred)\n",
    "auc_score = roc_auc_score(y_test_mapped, predicted, multi_class=\"ovr\")"
   ]
  },
  {
   "cell_type": "markdown",
   "metadata": {},
   "source": [
    "<b>Classification report:</b>"
   ]
  },
  {
   "cell_type": "code",
   "execution_count": 55,
   "metadata": {
    "execution": {
     "iopub.execute_input": "2021-08-23T20:28:37.393387Z",
     "iopub.status.busy": "2021-08-23T20:28:37.393054Z",
     "iopub.status.idle": "2021-08-23T20:28:37.427823Z",
     "shell.execute_reply": "2021-08-23T20:28:37.426854Z",
     "shell.execute_reply.started": "2021-08-23T20:28:37.393357Z"
    }
   },
   "outputs": [
    {
     "data": {
      "text/html": [
       "<div>\n",
       "<style scoped>\n",
       "    .dataframe tbody tr th:only-of-type {\n",
       "        vertical-align: middle;\n",
       "    }\n",
       "\n",
       "    .dataframe tbody tr th {\n",
       "        vertical-align: top;\n",
       "    }\n",
       "\n",
       "    .dataframe thead th {\n",
       "        text-align: right;\n",
       "    }\n",
       "</style>\n",
       "<table border=\"1\" class=\"dataframe\">\n",
       "  <thead>\n",
       "    <tr style=\"text-align: right;\">\n",
       "      <th></th>\n",
       "      <th>Neutral</th>\n",
       "      <th>Positive</th>\n",
       "      <th>Negative</th>\n",
       "      <th>macro avg</th>\n",
       "      <th>weighted avg</th>\n",
       "      <th>accuracy</th>\n",
       "      <th>roc_auc</th>\n",
       "    </tr>\n",
       "  </thead>\n",
       "  <tbody>\n",
       "    <tr>\n",
       "      <th>precision</th>\n",
       "      <td>0.88</td>\n",
       "      <td>0.83</td>\n",
       "      <td>0.8</td>\n",
       "      <td>0.84</td>\n",
       "      <td>0.85</td>\n",
       "      <td></td>\n",
       "      <td></td>\n",
       "    </tr>\n",
       "    <tr>\n",
       "      <th>recall</th>\n",
       "      <td>0.82</td>\n",
       "      <td>0.89</td>\n",
       "      <td>0.8</td>\n",
       "      <td>0.84</td>\n",
       "      <td>0.84</td>\n",
       "      <td></td>\n",
       "      <td></td>\n",
       "    </tr>\n",
       "    <tr>\n",
       "      <th>f1-score</th>\n",
       "      <td>0.85</td>\n",
       "      <td>0.86</td>\n",
       "      <td>0.8</td>\n",
       "      <td>0.84</td>\n",
       "      <td>0.84</td>\n",
       "      <td></td>\n",
       "      <td></td>\n",
       "    </tr>\n",
       "    <tr>\n",
       "      <th>support</th>\n",
       "      <td>1633.00</td>\n",
       "      <td>1546.00</td>\n",
       "      <td>616.0</td>\n",
       "      <td>3795.00</td>\n",
       "      <td>3795.00</td>\n",
       "      <td>0.84</td>\n",
       "      <td>0.94</td>\n",
       "    </tr>\n",
       "  </tbody>\n",
       "</table>\n",
       "</div>"
      ],
      "text/plain": [
       "           Neutral  Positive  Negative  macro avg  weighted avg accuracy  \\\n",
       "precision     0.88      0.83       0.8       0.84          0.85            \n",
       "recall        0.82      0.89       0.8       0.84          0.84            \n",
       "f1-score      0.85      0.86       0.8       0.84          0.84            \n",
       "support    1633.00   1546.00     616.0    3795.00       3795.00     0.84   \n",
       "\n",
       "          roc_auc  \n",
       "precision          \n",
       "recall             \n",
       "f1-score           \n",
       "support      0.94  "
      ]
     },
     "execution_count": 55,
     "metadata": {},
     "output_type": "execute_result"
    }
   ],
   "source": [
    "report = classification_report(y_test_mapped, y_pred, target_names=list(y_test.unique()), output_dict=True)\n",
    "\n",
    "accuracy_col = ([\"\"]*3) + [round(acc_score, 2)]\n",
    "roc_auc_col = ([\"\"]*3) + [round(auc_score, 2)]\n",
    "accuracy_col = pd.Series(accuracy_col, index=list(report[\"Neutral\"].keys()))\n",
    "roc_auc_col = pd.Series(roc_auc_col, index=list(report[\"Neutral\"].keys()))\n",
    "df_report = pd.DataFrame(report)[[\"Neutral\", \"Positive\", \"Negative\", \"macro avg\", \"weighted avg\"]].apply(lambda x: round(x, 2))\n",
    "df_report[\"accuracy\"] = accuracy_col\n",
    "df_report[\"roc_auc\"] = roc_auc_col\n",
    "df_report"
   ]
  },
  {
   "cell_type": "markdown",
   "metadata": {},
   "source": [
    "<b>Confusion Matrix:</b>"
   ]
  },
  {
   "cell_type": "code",
   "execution_count": 56,
   "metadata": {},
   "outputs": [
    {
     "data": {
      "image/png": "[encoded data removed]",
      "text/plain": [
       "<Figure size 432x288 with 2 Axes>"
      ]
     },
     "metadata": {
      "needs_background": "light"
     },
     "output_type": "display_data"
    }
   ],
   "source": [
    "cm = confusion_matrix(y_test_mapped, y_pred)\n",
    "disp = ConfusionMatrixDisplay(confusion_matrix = cm, display_labels = np.unique(y_test))\n",
    "disp.plot()\n",
    "plt.show()"
   ]
  },
  {
   "cell_type": "markdown",
   "metadata": {},
   "source": [
    "<b>ROC and precision-recall curves</b>"
   ]
  },
  {
   "cell_type": "code",
   "execution_count": 57,
   "metadata": {
    "execution": {
     "iopub.execute_input": "2021-08-23T20:28:47.299340Z",
     "iopub.status.busy": "2021-08-23T20:28:47.299002Z",
     "iopub.status.idle": "2021-08-23T20:28:47.309976Z",
     "shell.execute_reply": "2021-08-23T20:28:47.309122Z",
     "shell.execute_reply.started": "2021-08-23T20:28:47.299308Z"
    }
   },
   "outputs": [],
   "source": [
    "y_test_array = pd.get_dummies(y_test_mapped, drop_first=False).values\n",
    "classes = y_train.unique()"
   ]
  },
  {
   "cell_type": "code",
   "execution_count": 58,
   "metadata": {
    "execution": {
     "iopub.execute_input": "2021-08-23T20:28:50.198398Z",
     "iopub.status.busy": "2021-08-23T20:28:50.198082Z",
     "iopub.status.idle": "2021-08-23T20:28:50.517573Z",
     "shell.execute_reply": "2021-08-23T20:28:50.516586Z",
     "shell.execute_reply.started": "2021-08-23T20:28:50.198368Z"
    }
   },
   "outputs": [
    {
     "data": {
      "image/png": "[encoded data removed]",
      "text/plain": [
       "<Figure size 1332x360 with 2 Axes>"
      ]
     },
     "metadata": {
      "needs_background": "light"
     },
     "output_type": "display_data"
    }
   ],
   "source": [
    "fig, ax = plt.subplots(nrows=1, ncols=2)\n",
    "fig.set_size_inches(18.5, 5)\n",
    "## Plot roc\n",
    "for i in range(len(classes)):\n",
    "    fpr, tpr, thresholds = roc_curve(y_test_array[:,i], predicted[:,i])\n",
    "    ax[0].plot(fpr, tpr, lw=3, \n",
    "              label='{0} (area (AUC) = {1:0.2f})'.format(classes[i], metrics.auc(fpr, tpr))\n",
    "               )\n",
    "ax[0].plot([0,1], [0,1], color='navy', lw=3, linestyle='--')\n",
    "ax[0].set(xlim=[-0.05,1.0], ylim=[0.0,1.05], \n",
    "          xlabel='False Positive Rate', \n",
    "          ylabel=\"True Positive Rate (Recall)\", \n",
    "          title=\"Receiver operating characteristic\")\n",
    "ax[0].legend(loc=\"lower right\")\n",
    "ax[0].grid(True)\n",
    "\n",
    "## Plot precision-recall curve\n",
    "for i in range(len(classes)):\n",
    "    precision, recall, thresholds = metrics.precision_recall_curve(\n",
    "                 y_test_array[:,i], predicted[:,i])\n",
    "    ax[1].plot(recall, precision, lw=3, \n",
    "               label='{0} (area ={1:0.2f})'.format(classes[i], metrics.auc(recall, precision))\n",
    "              )\n",
    "ax[1].set(xlim=[0.0,1.05], ylim=[0.0,1.05], xlabel='Recall', \n",
    "          ylabel=\"Precision\", title=\"Precision-Recall curve\")\n",
    "ax[1].legend(loc=\"best\")\n",
    "ax[1].grid(True)\n",
    "plt.show()"
   ]
  },
  {
   "cell_type": "code",
   "execution_count": null,
   "metadata": {},
   "outputs": [],
   "source": []
  }
 ],
 "metadata": {
  "kernelspec": {
   "display_name": "Python 3",
   "language": "python",
   "name": "python3"
  },
  "language_info": {
   "codemirror_mode": {
    "name": "ipython",
    "version": 3
   },
   "file_extension": ".py",
   "mimetype": "text/x-python",
   "name": "python",
   "nbconvert_exporter": "python",
   "pygments_lexer": "ipython3",
   "version": "3.8.7"
  }
 },
 "nbformat": 4,
 "nbformat_minor": 4
}
