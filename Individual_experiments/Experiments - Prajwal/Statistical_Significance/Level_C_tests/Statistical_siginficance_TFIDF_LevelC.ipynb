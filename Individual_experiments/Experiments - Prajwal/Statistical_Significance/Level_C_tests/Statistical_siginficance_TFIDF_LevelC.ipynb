{
 "cells": [
  {
   "cell_type": "code",
   "execution_count": 1,
   "metadata": {
    "scrolled": true
   },
   "outputs": [
    {
     "name": "stdout",
     "output_type": "stream",
     "text": [
      "Requirement already satisfied: pingouin in /Users/prajwalkrishn/opt/anaconda3/lib/python3.8/site-packages (0.5.0)\n",
      "Requirement already satisfied: tabulate in /Users/prajwalkrishn/opt/anaconda3/lib/python3.8/site-packages (from pingouin) (0.8.9)\n",
      "Requirement already satisfied: pandas>=1.0 in /Users/prajwalkrishn/opt/anaconda3/lib/python3.8/site-packages (from pingouin) (1.1.3)\n",
      "Requirement already satisfied: outdated in /Users/prajwalkrishn/opt/anaconda3/lib/python3.8/site-packages (from pingouin) (0.2.1)\n",
      "Requirement already satisfied: matplotlib>=3.0.2 in /Users/prajwalkrishn/opt/anaconda3/lib/python3.8/site-packages (from pingouin) (3.3.2)\n",
      "Requirement already satisfied: statsmodels>=0.12.0 in /Users/prajwalkrishn/opt/anaconda3/lib/python3.8/site-packages (from pingouin) (0.12.0)\n",
      "Requirement already satisfied: seaborn>=0.9.0 in /Users/prajwalkrishn/opt/anaconda3/lib/python3.8/site-packages (from pingouin) (0.11.0)\n",
      "Requirement already satisfied: scipy>=1.7 in /Users/prajwalkrishn/opt/anaconda3/lib/python3.8/site-packages (from pingouin) (1.7.1)\n",
      "Requirement already satisfied: numpy>=1.19 in /Users/prajwalkrishn/opt/anaconda3/lib/python3.8/site-packages (from pingouin) (1.19.2)\n",
      "Requirement already satisfied: scikit-learn in /Users/prajwalkrishn/opt/anaconda3/lib/python3.8/site-packages (from pingouin) (0.24.2)\n",
      "Requirement already satisfied: pandas-flavor>=0.2.0 in /Users/prajwalkrishn/opt/anaconda3/lib/python3.8/site-packages (from pingouin) (0.2.0)\n",
      "Requirement already satisfied: kiwisolver>=1.0.1 in /Users/prajwalkrishn/opt/anaconda3/lib/python3.8/site-packages (from matplotlib>=3.0.2->pingouin) (1.3.0)\n",
      "Requirement already satisfied: pyparsing!=2.0.4,!=2.1.2,!=2.1.6,>=2.0.3 in /Users/prajwalkrishn/opt/anaconda3/lib/python3.8/site-packages (from matplotlib>=3.0.2->pingouin) (2.4.7)\n",
      "Requirement already satisfied: cycler>=0.10 in /Users/prajwalkrishn/opt/anaconda3/lib/python3.8/site-packages (from matplotlib>=3.0.2->pingouin) (0.10.0)\n",
      "Requirement already satisfied: pillow>=6.2.0 in /Users/prajwalkrishn/opt/anaconda3/lib/python3.8/site-packages (from matplotlib>=3.0.2->pingouin) (8.0.1)\n",
      "Requirement already satisfied: python-dateutil>=2.1 in /Users/prajwalkrishn/opt/anaconda3/lib/python3.8/site-packages (from matplotlib>=3.0.2->pingouin) (2.8.1)\n",
      "Requirement already satisfied: certifi>=2020.06.20 in /Users/prajwalkrishn/opt/anaconda3/lib/python3.8/site-packages (from matplotlib>=3.0.2->pingouin) (2020.6.20)\n",
      "Requirement already satisfied: pytz>=2017.2 in /Users/prajwalkrishn/opt/anaconda3/lib/python3.8/site-packages (from pandas>=1.0->pingouin) (2020.1)\n",
      "Requirement already satisfied: xarray in /Users/prajwalkrishn/opt/anaconda3/lib/python3.8/site-packages (from pandas-flavor>=0.2.0->pingouin) (0.19.0)\n",
      "Requirement already satisfied: patsy>=0.5 in /Users/prajwalkrishn/opt/anaconda3/lib/python3.8/site-packages (from statsmodels>=0.12.0->pingouin) (0.5.1)\n",
      "Requirement already satisfied: littleutils in /Users/prajwalkrishn/opt/anaconda3/lib/python3.8/site-packages (from outdated->pingouin) (0.2.2)\n",
      "Requirement already satisfied: requests in /Users/prajwalkrishn/opt/anaconda3/lib/python3.8/site-packages (from outdated->pingouin) (2.24.0)\n",
      "Requirement already satisfied: joblib>=0.11 in /Users/prajwalkrishn/opt/anaconda3/lib/python3.8/site-packages (from scikit-learn->pingouin) (0.17.0)\n",
      "Requirement already satisfied: threadpoolctl>=2.0.0 in /Users/prajwalkrishn/opt/anaconda3/lib/python3.8/site-packages (from scikit-learn->pingouin) (2.1.0)\n",
      "Requirement already satisfied: six in /Users/prajwalkrishn/opt/anaconda3/lib/python3.8/site-packages (from cycler>=0.10->matplotlib>=3.0.2->pingouin) (1.15.0)\n",
      "Requirement already satisfied: idna<3,>=2.5 in /Users/prajwalkrishn/opt/anaconda3/lib/python3.8/site-packages (from requests->outdated->pingouin) (2.10)\n",
      "Requirement already satisfied: chardet<4,>=3.0.2 in /Users/prajwalkrishn/opt/anaconda3/lib/python3.8/site-packages (from requests->outdated->pingouin) (3.0.4)\n",
      "Requirement already satisfied: urllib3!=1.25.0,!=1.25.1,<1.26,>=1.21.1 in /Users/prajwalkrishn/opt/anaconda3/lib/python3.8/site-packages (from requests->outdated->pingouin) (1.25.11)\n",
      "Requirement already satisfied: setuptools>=40.4 in /Users/prajwalkrishn/opt/anaconda3/lib/python3.8/site-packages (from xarray->pandas-flavor>=0.2.0->pingouin) (50.3.1.post20201107)\n"
     ]
    }
   ],
   "source": [
    "!pip install pingouin"
   ]
  },
  {
   "cell_type": "code",
   "execution_count": 2,
   "metadata": {},
   "outputs": [],
   "source": [
    "import pandas as pd\n",
    "import scipy\n",
    "from scipy import stats\n",
    "from scipy.stats import mannwhitneyu\n",
    "import pingouin as pg"
   ]
  },
  {
   "cell_type": "code",
   "execution_count": 3,
   "metadata": {},
   "outputs": [],
   "source": [
    "tfidf_level_C_df = pd.read_csv(\"Results_TFIDF_level_C.csv\")"
   ]
  },
  {
   "cell_type": "code",
   "execution_count": 4,
   "metadata": {},
   "outputs": [
    {
     "data": {
      "text/html": [
       "<div>\n",
       "<style scoped>\n",
       "    .dataframe tbody tr th:only-of-type {\n",
       "        vertical-align: middle;\n",
       "    }\n",
       "\n",
       "    .dataframe tbody tr th {\n",
       "        vertical-align: top;\n",
       "    }\n",
       "\n",
       "    .dataframe thead th {\n",
       "        text-align: right;\n",
       "    }\n",
       "</style>\n",
       "<table border=\"1\" class=\"dataframe\">\n",
       "  <thead>\n",
       "    <tr style=\"text-align: right;\">\n",
       "      <th></th>\n",
       "      <th>MNB</th>\n",
       "      <th>SVC</th>\n",
       "      <th>RandomForests</th>\n",
       "      <th>DecisionTreeClassifier</th>\n",
       "    </tr>\n",
       "  </thead>\n",
       "  <tbody>\n",
       "    <tr>\n",
       "      <th>0</th>\n",
       "      <td>37.97</td>\n",
       "      <td>65.82</td>\n",
       "      <td>95.57</td>\n",
       "      <td>94.94</td>\n",
       "    </tr>\n",
       "    <tr>\n",
       "      <th>1</th>\n",
       "      <td>39.33</td>\n",
       "      <td>67.32</td>\n",
       "      <td>95.57</td>\n",
       "      <td>93.87</td>\n",
       "    </tr>\n",
       "    <tr>\n",
       "      <th>2</th>\n",
       "      <td>37.97</td>\n",
       "      <td>65.82</td>\n",
       "      <td>96.57</td>\n",
       "      <td>94.94</td>\n",
       "    </tr>\n",
       "    <tr>\n",
       "      <th>3</th>\n",
       "      <td>38.33</td>\n",
       "      <td>66.78</td>\n",
       "      <td>97.06</td>\n",
       "      <td>92.22</td>\n",
       "    </tr>\n",
       "    <tr>\n",
       "      <th>4</th>\n",
       "      <td>37.97</td>\n",
       "      <td>68.44</td>\n",
       "      <td>95.57</td>\n",
       "      <td>90.45</td>\n",
       "    </tr>\n",
       "  </tbody>\n",
       "</table>\n",
       "</div>"
      ],
      "text/plain": [
       "     MNB    SVC  RandomForests  DecisionTreeClassifier\n",
       "0  37.97  65.82          95.57                   94.94\n",
       "1  39.33  67.32          95.57                   93.87\n",
       "2  37.97  65.82          96.57                   94.94\n",
       "3  38.33  66.78          97.06                   92.22\n",
       "4  37.97  68.44          95.57                   90.45"
      ]
     },
     "execution_count": 4,
     "metadata": {},
     "output_type": "execute_result"
    }
   ],
   "source": [
    "tfidf_level_C_df.head()"
   ]
  },
  {
   "cell_type": "code",
   "execution_count": 5,
   "metadata": {
    "scrolled": true
   },
   "outputs": [
    {
     "data": {
      "text/html": [
       "<div>\n",
       "<style scoped>\n",
       "    .dataframe tbody tr th:only-of-type {\n",
       "        vertical-align: middle;\n",
       "    }\n",
       "\n",
       "    .dataframe tbody tr th {\n",
       "        vertical-align: top;\n",
       "    }\n",
       "\n",
       "    .dataframe thead th {\n",
       "        text-align: right;\n",
       "    }\n",
       "</style>\n",
       "<table border=\"1\" class=\"dataframe\">\n",
       "  <thead>\n",
       "    <tr style=\"text-align: right;\">\n",
       "      <th></th>\n",
       "      <th>MNB</th>\n",
       "      <th>SVC</th>\n",
       "      <th>RandomForests</th>\n",
       "      <th>DecisionTreeClassifier</th>\n",
       "    </tr>\n",
       "  </thead>\n",
       "  <tbody>\n",
       "    <tr>\n",
       "      <th>count</th>\n",
       "      <td>10.000000</td>\n",
       "      <td>10.000000</td>\n",
       "      <td>10.000000</td>\n",
       "      <td>10.000000</td>\n",
       "    </tr>\n",
       "    <tr>\n",
       "      <th>mean</th>\n",
       "      <td>38.056000</td>\n",
       "      <td>66.446000</td>\n",
       "      <td>94.712000</td>\n",
       "      <td>94.112000</td>\n",
       "    </tr>\n",
       "    <tr>\n",
       "      <th>std</th>\n",
       "      <td>0.542099</td>\n",
       "      <td>0.913457</td>\n",
       "      <td>2.092318</td>\n",
       "      <td>1.558046</td>\n",
       "    </tr>\n",
       "    <tr>\n",
       "      <th>min</th>\n",
       "      <td>37.110000</td>\n",
       "      <td>65.820000</td>\n",
       "      <td>91.210000</td>\n",
       "      <td>90.450000</td>\n",
       "    </tr>\n",
       "    <tr>\n",
       "      <th>25%</th>\n",
       "      <td>37.970000</td>\n",
       "      <td>65.820000</td>\n",
       "      <td>93.807500</td>\n",
       "      <td>94.137500</td>\n",
       "    </tr>\n",
       "    <tr>\n",
       "      <th>50%</th>\n",
       "      <td>37.970000</td>\n",
       "      <td>65.820000</td>\n",
       "      <td>95.570000</td>\n",
       "      <td>94.940000</td>\n",
       "    </tr>\n",
       "    <tr>\n",
       "      <th>75%</th>\n",
       "      <td>37.970000</td>\n",
       "      <td>66.945000</td>\n",
       "      <td>95.570000</td>\n",
       "      <td>94.940000</td>\n",
       "    </tr>\n",
       "    <tr>\n",
       "      <th>max</th>\n",
       "      <td>39.330000</td>\n",
       "      <td>68.440000</td>\n",
       "      <td>97.060000</td>\n",
       "      <td>94.940000</td>\n",
       "    </tr>\n",
       "  </tbody>\n",
       "</table>\n",
       "</div>"
      ],
      "text/plain": [
       "             MNB        SVC  RandomForests  DecisionTreeClassifier\n",
       "count  10.000000  10.000000      10.000000               10.000000\n",
       "mean   38.056000  66.446000      94.712000               94.112000\n",
       "std     0.542099   0.913457       2.092318                1.558046\n",
       "min    37.110000  65.820000      91.210000               90.450000\n",
       "25%    37.970000  65.820000      93.807500               94.137500\n",
       "50%    37.970000  65.820000      95.570000               94.940000\n",
       "75%    37.970000  66.945000      95.570000               94.940000\n",
       "max    39.330000  68.440000      97.060000               94.940000"
      ]
     },
     "execution_count": 5,
     "metadata": {},
     "output_type": "execute_result"
    }
   ],
   "source": [
    "tfidf_level_C_df.describe()"
   ]
  },
  {
   "cell_type": "code",
   "execution_count": 6,
   "metadata": {},
   "outputs": [
    {
     "data": {
      "text/plain": [
       "<AxesSubplot:>"
      ]
     },
     "execution_count": 6,
     "metadata": {},
     "output_type": "execute_result"
    },
    {
     "data": {
      "image/png": "[encoded data removed]",
      "text/plain": [
       "<Figure size 432x288 with 1 Axes>"
      ]
     },
     "metadata": {
      "needs_background": "light"
     },
     "output_type": "display_data"
    }
   ],
   "source": [
    "tfidf_level_C_df.boxplot(column=['MNB','SVC','RandomForests','DecisionTreeClassifier'])"
   ]
  },
  {
   "cell_type": "markdown",
   "metadata": {},
   "source": [
    "#### The box plot doesnt give any extra information than what we obtained by calculating the mean, it is just a visual representation"
   ]
  },
  {
   "cell_type": "markdown",
   "metadata": {},
   "source": [
    "# Hypothesis Testing\n",
    "\n",
    "- Null hypothesis (H0) - There is no difference in the mean precision.\n",
    "- Alternate hypothesis (H1) - The difference is significant.\n",
    "- t-test is used for the same, as the classifiers are run on the same dataset, we perform paired t-test.\n",
    "- p-value is P(D|H0), so smaller the p-value, more confident we are of Null Hypothesis being false.\n",
    "- If they are below siginificance level like 0.05 or 0.01 then we can reject the null hypothesis."
   ]
  },
  {
   "cell_type": "markdown",
   "metadata": {},
   "source": [
    "### T-tests between SVC and RF"
   ]
  },
  {
   "cell_type": "code",
   "execution_count": 7,
   "metadata": {},
   "outputs": [
    {
     "data": {
      "text/plain": [
       "Ttest_relResult(statistic=-46.46424599311342, pvalue=4.959176171787839e-12)"
      ]
     },
     "execution_count": 7,
     "metadata": {},
     "output_type": "execute_result"
    }
   ],
   "source": [
    "stats.ttest_rel(tfidf_level_C_df.iloc[:,1], tfidf_level_C_df.iloc[:,2])"
   ]
  },
  {
   "cell_type": "markdown",
   "metadata": {},
   "source": [
    "### T-Tests between SVC and DTC"
   ]
  },
  {
   "cell_type": "code",
   "execution_count": 8,
   "metadata": {},
   "outputs": [
    {
     "data": {
      "text/plain": [
       "Ttest_relResult(statistic=-36.769930204808865, pvalue=4.033179887109012e-11)"
      ]
     },
     "execution_count": 8,
     "metadata": {},
     "output_type": "execute_result"
    }
   ],
   "source": [
    "stats.ttest_rel(tfidf_level_C_df.iloc[:,1], tfidf_level_C_df.iloc[:,3])"
   ]
  },
  {
   "cell_type": "markdown",
   "metadata": {},
   "source": [
    "### T-Tests between RF and SVC"
   ]
  },
  {
   "cell_type": "code",
   "execution_count": 9,
   "metadata": {},
   "outputs": [
    {
     "data": {
      "text/plain": [
       "Ttest_relResult(statistic=46.46424599311342, pvalue=4.959176171787839e-12)"
      ]
     },
     "execution_count": 9,
     "metadata": {},
     "output_type": "execute_result"
    }
   ],
   "source": [
    "stats.ttest_rel(tfidf_level_C_df.iloc[:,2], tfidf_level_C_df.iloc[:,1])"
   ]
  },
  {
   "cell_type": "markdown",
   "metadata": {},
   "source": [
    "### T-Tests between RF and DTC"
   ]
  },
  {
   "cell_type": "code",
   "execution_count": 10,
   "metadata": {},
   "outputs": [
    {
     "data": {
      "text/plain": [
       "Ttest_relResult(statistic=0.6226852979594253, pvalue=0.5489416494508363)"
      ]
     },
     "execution_count": 10,
     "metadata": {},
     "output_type": "execute_result"
    }
   ],
   "source": [
    "stats.ttest_rel(tfidf_level_C_df.iloc[:,2], tfidf_level_C_df.iloc[:,3])"
   ]
  },
  {
   "cell_type": "markdown",
   "metadata": {},
   "source": [
    "### T-Tests between DTC and SVC"
   ]
  },
  {
   "cell_type": "code",
   "execution_count": 11,
   "metadata": {},
   "outputs": [
    {
     "data": {
      "text/plain": [
       "Ttest_relResult(statistic=36.769930204808865, pvalue=4.033179887109012e-11)"
      ]
     },
     "execution_count": 11,
     "metadata": {},
     "output_type": "execute_result"
    }
   ],
   "source": [
    "stats.ttest_rel(tfidf_level_C_df.iloc[:,3], tfidf_level_C_df.iloc[:,1])"
   ]
  },
  {
   "cell_type": "markdown",
   "metadata": {},
   "source": [
    "### T-Tests between DTC and RF"
   ]
  },
  {
   "cell_type": "code",
   "execution_count": 12,
   "metadata": {},
   "outputs": [
    {
     "data": {
      "text/plain": [
       "Ttest_relResult(statistic=-0.6226852979594253, pvalue=0.5489416494508363)"
      ]
     },
     "execution_count": 12,
     "metadata": {},
     "output_type": "execute_result"
    }
   ],
   "source": [
    "stats.ttest_rel(tfidf_level_C_df.iloc[:,3], tfidf_level_C_df.iloc[:,2])"
   ]
  },
  {
   "cell_type": "markdown",
   "metadata": {},
   "source": [
    "# ANOVA TEST"
   ]
  },
  {
   "cell_type": "code",
   "execution_count": 13,
   "metadata": {},
   "outputs": [
    {
     "data": {
      "text/html": [
       "<div>\n",
       "<style scoped>\n",
       "    .dataframe tbody tr th:only-of-type {\n",
       "        vertical-align: middle;\n",
       "    }\n",
       "\n",
       "    .dataframe tbody tr th {\n",
       "        vertical-align: top;\n",
       "    }\n",
       "\n",
       "    .dataframe thead th {\n",
       "        text-align: right;\n",
       "    }\n",
       "</style>\n",
       "<table border=\"1\" class=\"dataframe\">\n",
       "  <thead>\n",
       "    <tr style=\"text-align: right;\">\n",
       "      <th></th>\n",
       "      <th>Source</th>\n",
       "      <th>ddof1</th>\n",
       "      <th>ddof2</th>\n",
       "      <th>F</th>\n",
       "      <th>p-unc</th>\n",
       "      <th>p-GG-corr</th>\n",
       "      <th>np2</th>\n",
       "      <th>eps</th>\n",
       "      <th>sphericity</th>\n",
       "      <th>W-spher</th>\n",
       "      <th>p-spher</th>\n",
       "    </tr>\n",
       "  </thead>\n",
       "  <tbody>\n",
       "    <tr>\n",
       "      <th>0</th>\n",
       "      <td>Within</td>\n",
       "      <td>2</td>\n",
       "      <td>18</td>\n",
       "      <td>5760.836658</td>\n",
       "      <td>5.466520e-26</td>\n",
       "      <td>2.058796e-17</td>\n",
       "      <td>0.99844</td>\n",
       "      <td>0.64369</td>\n",
       "      <td>False</td>\n",
       "      <td>0.446456</td>\n",
       "      <td>0.03973</td>\n",
       "    </tr>\n",
       "  </tbody>\n",
       "</table>\n",
       "</div>"
      ],
      "text/plain": [
       "   Source  ddof1  ddof2            F         p-unc     p-GG-corr      np2  \\\n",
       "0  Within      2     18  5760.836658  5.466520e-26  2.058796e-17  0.99844   \n",
       "\n",
       "       eps  sphericity   W-spher  p-spher  \n",
       "0  0.64369       False  0.446456  0.03973  "
      ]
     },
     "execution_count": 13,
     "metadata": {},
     "output_type": "execute_result"
    }
   ],
   "source": [
    "pg.rm_anova(tfidf_level_C_df.iloc[:,0:3])"
   ]
  },
  {
   "cell_type": "markdown",
   "metadata": {},
   "source": [
    "# MANN-Whitney U Tests"
   ]
  },
  {
   "cell_type": "code",
   "execution_count": 14,
   "metadata": {},
   "outputs": [],
   "source": [
    "# Between MNB and DTC\n",
    "\n",
    "U1, p = mannwhitneyu(tfidf_level_C_df.iloc[:,0],tfidf_level_C_df.iloc[:,3],method=\"asymptotic\")"
   ]
  },
  {
   "cell_type": "code",
   "execution_count": 15,
   "metadata": {},
   "outputs": [
    {
     "data": {
      "text/plain": [
       "0.0"
      ]
     },
     "execution_count": 15,
     "metadata": {},
     "output_type": "execute_result"
    }
   ],
   "source": [
    "U1"
   ]
  },
  {
   "cell_type": "code",
   "execution_count": 16,
   "metadata": {},
   "outputs": [
    {
     "data": {
      "text/plain": [
       "9.225624648599575e-05"
      ]
     },
     "execution_count": 16,
     "metadata": {},
     "output_type": "execute_result"
    }
   ],
   "source": [
    "p"
   ]
  },
  {
   "cell_type": "code",
   "execution_count": 17,
   "metadata": {},
   "outputs": [],
   "source": [
    "# between SVC and DT\n",
    "\n",
    "U1, p = mannwhitneyu(tfidf_level_C_df.iloc[:,1],tfidf_level_C_df.iloc[:,3],method=\"asymptotic\")"
   ]
  },
  {
   "cell_type": "code",
   "execution_count": 18,
   "metadata": {},
   "outputs": [
    {
     "data": {
      "text/plain": [
       "0.0"
      ]
     },
     "execution_count": 18,
     "metadata": {},
     "output_type": "execute_result"
    }
   ],
   "source": [
    "U1"
   ]
  },
  {
   "cell_type": "code",
   "execution_count": 19,
   "metadata": {},
   "outputs": [
    {
     "data": {
      "text/plain": [
       "0.00010582785755376433"
      ]
     },
     "execution_count": 19,
     "metadata": {},
     "output_type": "execute_result"
    }
   ],
   "source": [
    "p"
   ]
  },
  {
   "cell_type": "code",
   "execution_count": 23,
   "metadata": {},
   "outputs": [],
   "source": [
    "# between RF and SVC\n",
    "\n",
    "U1, p = mannwhitneyu(tfidf_level_C_df.iloc[:,2],tfidf_level_C_df.iloc[:,3],method=\"asymptotic\")"
   ]
  },
  {
   "cell_type": "code",
   "execution_count": 24,
   "metadata": {},
   "outputs": [
    {
     "data": {
      "text/plain": [
       "74.0"
      ]
     },
     "execution_count": 24,
     "metadata": {},
     "output_type": "execute_result"
    }
   ],
   "source": [
    "U1"
   ]
  },
  {
   "cell_type": "code",
   "execution_count": 25,
   "metadata": {},
   "outputs": [
    {
     "data": {
      "text/plain": [
       "0.06721967755124424"
      ]
     },
     "execution_count": 25,
     "metadata": {},
     "output_type": "execute_result"
    }
   ],
   "source": [
    "p"
   ]
  },
  {
   "cell_type": "markdown",
   "metadata": {},
   "source": [
    "### From the above tests we can clearly see that RF and also DTC have similar significant difference in the mean results and we can conclude that RF and DTC has been the most accurate model among the classical models expermiments for Level C classifications."
   ]
  },
  {
   "cell_type": "code",
   "execution_count": null,
   "metadata": {},
   "outputs": [],
   "source": []
  }
 ],
 "metadata": {
  "kernelspec": {
   "display_name": "Python 3",
   "language": "python",
   "name": "python3"
  },
  "language_info": {
   "codemirror_mode": {
    "name": "ipython",
    "version": 3
   },
   "file_extension": ".py",
   "mimetype": "text/x-python",
   "name": "python",
   "nbconvert_exporter": "python",
   "pygments_lexer": "ipython3",
   "version": "3.8.5"
  }
 },
 "nbformat": 4,
 "nbformat_minor": 4
}
