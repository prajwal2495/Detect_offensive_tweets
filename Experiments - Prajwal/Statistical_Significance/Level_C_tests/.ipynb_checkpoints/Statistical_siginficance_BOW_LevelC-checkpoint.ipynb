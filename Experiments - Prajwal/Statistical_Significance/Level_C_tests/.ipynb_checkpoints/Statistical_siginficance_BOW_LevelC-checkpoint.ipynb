{
 "cells": [
  {
   "cell_type": "code",
   "execution_count": 1,
   "metadata": {},
   "outputs": [
    {
     "name": "stdout",
     "output_type": "stream",
     "text": [
      "Requirement already satisfied: pingouin in /Users/prajwalkrishn/opt/anaconda3/lib/python3.8/site-packages (0.5.0)\n",
      "Requirement already satisfied: seaborn>=0.9.0 in /Users/prajwalkrishn/opt/anaconda3/lib/python3.8/site-packages (from pingouin) (0.11.0)\n",
      "Requirement already satisfied: numpy>=1.19 in /Users/prajwalkrishn/opt/anaconda3/lib/python3.8/site-packages (from pingouin) (1.19.2)\n",
      "Requirement already satisfied: pandas>=1.0 in /Users/prajwalkrishn/opt/anaconda3/lib/python3.8/site-packages (from pingouin) (1.1.3)\n",
      "Requirement already satisfied: scikit-learn in /Users/prajwalkrishn/opt/anaconda3/lib/python3.8/site-packages (from pingouin) (0.24.2)\n",
      "Requirement already satisfied: outdated in /Users/prajwalkrishn/opt/anaconda3/lib/python3.8/site-packages (from pingouin) (0.2.1)\n",
      "Requirement already satisfied: matplotlib>=3.0.2 in /Users/prajwalkrishn/opt/anaconda3/lib/python3.8/site-packages (from pingouin) (3.3.2)\n",
      "Requirement already satisfied: scipy>=1.7 in /Users/prajwalkrishn/opt/anaconda3/lib/python3.8/site-packages (from pingouin) (1.7.1)\n",
      "Requirement already satisfied: pandas-flavor>=0.2.0 in /Users/prajwalkrishn/opt/anaconda3/lib/python3.8/site-packages (from pingouin) (0.2.0)\n",
      "Requirement already satisfied: statsmodels>=0.12.0 in /Users/prajwalkrishn/opt/anaconda3/lib/python3.8/site-packages (from pingouin) (0.12.0)\n",
      "Requirement already satisfied: tabulate in /Users/prajwalkrishn/opt/anaconda3/lib/python3.8/site-packages (from pingouin) (0.8.9)\n",
      "Requirement already satisfied: cycler>=0.10 in /Users/prajwalkrishn/opt/anaconda3/lib/python3.8/site-packages (from matplotlib>=3.0.2->pingouin) (0.10.0)\n",
      "Requirement already satisfied: kiwisolver>=1.0.1 in /Users/prajwalkrishn/opt/anaconda3/lib/python3.8/site-packages (from matplotlib>=3.0.2->pingouin) (1.3.0)\n",
      "Requirement already satisfied: python-dateutil>=2.1 in /Users/prajwalkrishn/opt/anaconda3/lib/python3.8/site-packages (from matplotlib>=3.0.2->pingouin) (2.8.1)\n",
      "Requirement already satisfied: pyparsing!=2.0.4,!=2.1.2,!=2.1.6,>=2.0.3 in /Users/prajwalkrishn/opt/anaconda3/lib/python3.8/site-packages (from matplotlib>=3.0.2->pingouin) (2.4.7)\n",
      "Requirement already satisfied: certifi>=2020.06.20 in /Users/prajwalkrishn/opt/anaconda3/lib/python3.8/site-packages (from matplotlib>=3.0.2->pingouin) (2020.6.20)\n",
      "Requirement already satisfied: pillow>=6.2.0 in /Users/prajwalkrishn/opt/anaconda3/lib/python3.8/site-packages (from matplotlib>=3.0.2->pingouin) (8.0.1)\n",
      "Requirement already satisfied: pytz>=2017.2 in /Users/prajwalkrishn/opt/anaconda3/lib/python3.8/site-packages (from pandas>=1.0->pingouin) (2020.1)\n",
      "Requirement already satisfied: xarray in /Users/prajwalkrishn/opt/anaconda3/lib/python3.8/site-packages (from pandas-flavor>=0.2.0->pingouin) (0.19.0)\n",
      "Requirement already satisfied: patsy>=0.5 in /Users/prajwalkrishn/opt/anaconda3/lib/python3.8/site-packages (from statsmodels>=0.12.0->pingouin) (0.5.1)\n",
      "Requirement already satisfied: littleutils in /Users/prajwalkrishn/opt/anaconda3/lib/python3.8/site-packages (from outdated->pingouin) (0.2.2)\n",
      "Requirement already satisfied: requests in /Users/prajwalkrishn/opt/anaconda3/lib/python3.8/site-packages (from outdated->pingouin) (2.24.0)\n",
      "Requirement already satisfied: joblib>=0.11 in /Users/prajwalkrishn/opt/anaconda3/lib/python3.8/site-packages (from scikit-learn->pingouin) (0.17.0)\n",
      "Requirement already satisfied: threadpoolctl>=2.0.0 in /Users/prajwalkrishn/opt/anaconda3/lib/python3.8/site-packages (from scikit-learn->pingouin) (2.1.0)\n",
      "Requirement already satisfied: six in /Users/prajwalkrishn/opt/anaconda3/lib/python3.8/site-packages (from cycler>=0.10->matplotlib>=3.0.2->pingouin) (1.15.0)\n",
      "Requirement already satisfied: urllib3!=1.25.0,!=1.25.1,<1.26,>=1.21.1 in /Users/prajwalkrishn/opt/anaconda3/lib/python3.8/site-packages (from requests->outdated->pingouin) (1.25.11)\n",
      "Requirement already satisfied: idna<3,>=2.5 in /Users/prajwalkrishn/opt/anaconda3/lib/python3.8/site-packages (from requests->outdated->pingouin) (2.10)\n",
      "Requirement already satisfied: chardet<4,>=3.0.2 in /Users/prajwalkrishn/opt/anaconda3/lib/python3.8/site-packages (from requests->outdated->pingouin) (3.0.4)\n",
      "Requirement already satisfied: setuptools>=40.4 in /Users/prajwalkrishn/opt/anaconda3/lib/python3.8/site-packages (from xarray->pandas-flavor>=0.2.0->pingouin) (50.3.1.post20201107)\n"
     ]
    }
   ],
   "source": [
    "!pip install pingouin"
   ]
  },
  {
   "cell_type": "code",
   "execution_count": 2,
   "metadata": {},
   "outputs": [],
   "source": [
    "import pandas as pd\n",
    "import scipy\n",
    "from scipy import stats\n",
    "from scipy.stats import mannwhitneyu\n",
    "import pingouin as pg"
   ]
  },
  {
   "cell_type": "code",
   "execution_count": 3,
   "metadata": {},
   "outputs": [],
   "source": [
    "bow_level_c_df = pd.read_csv(\"Results_BOW_level_C.csv\")"
   ]
  },
  {
   "cell_type": "code",
   "execution_count": 4,
   "metadata": {},
   "outputs": [
    {
     "data": {
      "text/html": [
       "<div>\n",
       "<style scoped>\n",
       "    .dataframe tbody tr th:only-of-type {\n",
       "        vertical-align: middle;\n",
       "    }\n",
       "\n",
       "    .dataframe tbody tr th {\n",
       "        vertical-align: top;\n",
       "    }\n",
       "\n",
       "    .dataframe thead th {\n",
       "        text-align: right;\n",
       "    }\n",
       "</style>\n",
       "<table border=\"1\" class=\"dataframe\">\n",
       "  <thead>\n",
       "    <tr style=\"text-align: right;\">\n",
       "      <th></th>\n",
       "      <th>MNB</th>\n",
       "      <th>SVC</th>\n",
       "      <th>RandomForests</th>\n",
       "      <th>DecisionTreeClassifier</th>\n",
       "    </tr>\n",
       "  </thead>\n",
       "  <tbody>\n",
       "    <tr>\n",
       "      <th>0</th>\n",
       "      <td>65.82</td>\n",
       "      <td>63.29</td>\n",
       "      <td>95.57</td>\n",
       "      <td>94.94</td>\n",
       "    </tr>\n",
       "    <tr>\n",
       "      <th>1</th>\n",
       "      <td>67.98</td>\n",
       "      <td>63.29</td>\n",
       "      <td>96.78</td>\n",
       "      <td>94.31</td>\n",
       "    </tr>\n",
       "    <tr>\n",
       "      <th>2</th>\n",
       "      <td>65.82</td>\n",
       "      <td>63.00</td>\n",
       "      <td>95.57</td>\n",
       "      <td>94.94</td>\n",
       "    </tr>\n",
       "    <tr>\n",
       "      <th>3</th>\n",
       "      <td>64.32</td>\n",
       "      <td>63.29</td>\n",
       "      <td>97.56</td>\n",
       "      <td>93.45</td>\n",
       "    </tr>\n",
       "    <tr>\n",
       "      <th>4</th>\n",
       "      <td>65.82</td>\n",
       "      <td>63.29</td>\n",
       "      <td>95.57</td>\n",
       "      <td>91.23</td>\n",
       "    </tr>\n",
       "  </tbody>\n",
       "</table>\n",
       "</div>"
      ],
      "text/plain": [
       "     MNB    SVC  RandomForests  DecisionTreeClassifier\n",
       "0  65.82  63.29          95.57                   94.94\n",
       "1  67.98  63.29          96.78                   94.31\n",
       "2  65.82  63.00          95.57                   94.94\n",
       "3  64.32  63.29          97.56                   93.45\n",
       "4  65.82  63.29          95.57                   91.23"
      ]
     },
     "execution_count": 4,
     "metadata": {},
     "output_type": "execute_result"
    }
   ],
   "source": [
    "bow_level_c_df.head()"
   ]
  },
  {
   "cell_type": "code",
   "execution_count": 5,
   "metadata": {},
   "outputs": [
    {
     "data": {
      "text/html": [
       "<div>\n",
       "<style scoped>\n",
       "    .dataframe tbody tr th:only-of-type {\n",
       "        vertical-align: middle;\n",
       "    }\n",
       "\n",
       "    .dataframe tbody tr th {\n",
       "        vertical-align: top;\n",
       "    }\n",
       "\n",
       "    .dataframe thead th {\n",
       "        text-align: right;\n",
       "    }\n",
       "</style>\n",
       "<table border=\"1\" class=\"dataframe\">\n",
       "  <thead>\n",
       "    <tr style=\"text-align: right;\">\n",
       "      <th></th>\n",
       "      <th>MNB</th>\n",
       "      <th>SVC</th>\n",
       "      <th>RandomForests</th>\n",
       "      <th>DecisionTreeClassifier</th>\n",
       "    </tr>\n",
       "  </thead>\n",
       "  <tbody>\n",
       "    <tr>\n",
       "      <th>count</th>\n",
       "      <td>10.000000</td>\n",
       "      <td>10.000000</td>\n",
       "      <td>10.000000</td>\n",
       "      <td>10.000000</td>\n",
       "    </tr>\n",
       "    <tr>\n",
       "      <th>mean</th>\n",
       "      <td>66.353000</td>\n",
       "      <td>63.628000</td>\n",
       "      <td>94.962000</td>\n",
       "      <td>94.123000</td>\n",
       "    </tr>\n",
       "    <tr>\n",
       "      <th>std</th>\n",
       "      <td>1.445899</td>\n",
       "      <td>0.866844</td>\n",
       "      <td>1.858929</td>\n",
       "      <td>1.367382</td>\n",
       "    </tr>\n",
       "    <tr>\n",
       "      <th>min</th>\n",
       "      <td>64.320000</td>\n",
       "      <td>63.000000</td>\n",
       "      <td>91.780000</td>\n",
       "      <td>91.230000</td>\n",
       "    </tr>\n",
       "    <tr>\n",
       "      <th>25%</th>\n",
       "      <td>65.820000</td>\n",
       "      <td>63.290000</td>\n",
       "      <td>93.947500</td>\n",
       "      <td>93.665000</td>\n",
       "    </tr>\n",
       "    <tr>\n",
       "      <th>50%</th>\n",
       "      <td>65.820000</td>\n",
       "      <td>63.290000</td>\n",
       "      <td>95.570000</td>\n",
       "      <td>94.750000</td>\n",
       "    </tr>\n",
       "    <tr>\n",
       "      <th>75%</th>\n",
       "      <td>66.532500</td>\n",
       "      <td>63.290000</td>\n",
       "      <td>95.570000</td>\n",
       "      <td>94.940000</td>\n",
       "    </tr>\n",
       "    <tr>\n",
       "      <th>max</th>\n",
       "      <td>69.540000</td>\n",
       "      <td>65.780000</td>\n",
       "      <td>97.560000</td>\n",
       "      <td>95.550000</td>\n",
       "    </tr>\n",
       "  </tbody>\n",
       "</table>\n",
       "</div>"
      ],
      "text/plain": [
       "             MNB        SVC  RandomForests  DecisionTreeClassifier\n",
       "count  10.000000  10.000000      10.000000               10.000000\n",
       "mean   66.353000  63.628000      94.962000               94.123000\n",
       "std     1.445899   0.866844       1.858929                1.367382\n",
       "min    64.320000  63.000000      91.780000               91.230000\n",
       "25%    65.820000  63.290000      93.947500               93.665000\n",
       "50%    65.820000  63.290000      95.570000               94.750000\n",
       "75%    66.532500  63.290000      95.570000               94.940000\n",
       "max    69.540000  65.780000      97.560000               95.550000"
      ]
     },
     "execution_count": 5,
     "metadata": {},
     "output_type": "execute_result"
    }
   ],
   "source": [
    "bow_level_c_df.describe()"
   ]
  },
  {
   "cell_type": "code",
   "execution_count": 6,
   "metadata": {},
   "outputs": [
    {
     "data": {
      "text/plain": [
       "<AxesSubplot:>"
      ]
     },
     "execution_count": 6,
     "metadata": {},
     "output_type": "execute_result"
    },
    {
     "data": {
      "image/png": "[encoded data removed]",
      "text/plain": [
       "<Figure size 432x288 with 1 Axes>"
      ]
     },
     "metadata": {
      "needs_background": "light"
     },
     "output_type": "display_data"
    }
   ],
   "source": [
    "bow_level_c_df.boxplot(column=['MNB','SVC','RandomForests','DecisionTreeClassifier'])"
   ]
  },
  {
   "cell_type": "markdown",
   "metadata": {},
   "source": [
    "#### The box plot doesnt give any extra information than what we obtained by calculating the mean, it is just a visual representation"
   ]
  },
  {
   "cell_type": "markdown",
   "metadata": {},
   "source": [
    "# Hypothesis Testing\n",
    "\n",
    "- Null hypothesis (H0) - There is no difference in the mean precision.\n",
    "- Alternate hypothesis (H1) - The difference is significant.\n",
    "- t-test is used for the same, as the classifiers are run on the same dataset, we perform paired t-test.\n",
    "- p-value is P(D|H0), so smaller the p-value, more confident we are of Null Hypothesis being false.\n",
    "- If they are below siginificance level like 0.05 or 0.01 then we can reject the null hypothesis."
   ]
  },
  {
   "cell_type": "markdown",
   "metadata": {},
   "source": [
    "### T-tests between SVC and RF"
   ]
  },
  {
   "cell_type": "code",
   "execution_count": 7,
   "metadata": {},
   "outputs": [
    {
     "data": {
      "text/plain": [
       "Ttest_relResult(statistic=-44.66803063553986, pvalue=7.0616027684251635e-12)"
      ]
     },
     "execution_count": 7,
     "metadata": {},
     "output_type": "execute_result"
    }
   ],
   "source": [
    "stats.ttest_rel(bow_level_c_df.iloc[:,1], bow_level_c_df.iloc[:,2])"
   ]
  },
  {
   "cell_type": "markdown",
   "metadata": {},
   "source": [
    "### T-Tests between SVC and DTC"
   ]
  },
  {
   "cell_type": "code",
   "execution_count": 8,
   "metadata": {},
   "outputs": [
    {
     "data": {
      "text/plain": [
       "Ttest_relResult(statistic=-68.94991384994186, pvalue=1.4345213305452104e-13)"
      ]
     },
     "execution_count": 8,
     "metadata": {},
     "output_type": "execute_result"
    }
   ],
   "source": [
    "stats.ttest_rel(bow_level_c_df.iloc[:,1], bow_level_c_df.iloc[:,3])"
   ]
  },
  {
   "cell_type": "markdown",
   "metadata": {},
   "source": [
    "### T-Tests between RF and SVC"
   ]
  },
  {
   "cell_type": "code",
   "execution_count": 9,
   "metadata": {},
   "outputs": [
    {
     "data": {
      "text/plain": [
       "Ttest_relResult(statistic=44.66803063553986, pvalue=7.0616027684251635e-12)"
      ]
     },
     "execution_count": 9,
     "metadata": {},
     "output_type": "execute_result"
    }
   ],
   "source": [
    "stats.ttest_rel(bow_level_c_df.iloc[:,2], bow_level_c_df.iloc[:,1])"
   ]
  },
  {
   "cell_type": "markdown",
   "metadata": {},
   "source": [
    "### T-Tests between RF and DTC"
   ]
  },
  {
   "cell_type": "code",
   "execution_count": 10,
   "metadata": {},
   "outputs": [
    {
     "data": {
      "text/plain": [
       "Ttest_relResult(statistic=0.973777166877829, pvalue=0.3556111267984523)"
      ]
     },
     "execution_count": 10,
     "metadata": {},
     "output_type": "execute_result"
    }
   ],
   "source": [
    "stats.ttest_rel(bow_level_c_df.iloc[:,2], bow_level_c_df.iloc[:,3])"
   ]
  },
  {
   "cell_type": "markdown",
   "metadata": {},
   "source": [
    "### T-Tests between DTC and SVC"
   ]
  },
  {
   "cell_type": "code",
   "execution_count": 11,
   "metadata": {},
   "outputs": [
    {
     "data": {
      "text/plain": [
       "Ttest_relResult(statistic=68.94991384994186, pvalue=1.4345213305452104e-13)"
      ]
     },
     "execution_count": 11,
     "metadata": {},
     "output_type": "execute_result"
    }
   ],
   "source": [
    "stats.ttest_rel(bow_level_c_df.iloc[:,3], bow_level_c_df.iloc[:,1])"
   ]
  },
  {
   "cell_type": "markdown",
   "metadata": {},
   "source": [
    "### T-Tests between DTC and RF"
   ]
  },
  {
   "cell_type": "code",
   "execution_count": 12,
   "metadata": {},
   "outputs": [
    {
     "data": {
      "text/plain": [
       "Ttest_relResult(statistic=-0.973777166877829, pvalue=0.3556111267984523)"
      ]
     },
     "execution_count": 12,
     "metadata": {},
     "output_type": "execute_result"
    }
   ],
   "source": [
    "stats.ttest_rel(bow_level_c_df.iloc[:,3], bow_level_c_df.iloc[:,2])"
   ]
  },
  {
   "cell_type": "markdown",
   "metadata": {},
   "source": [
    "# ANOVA TEST"
   ]
  },
  {
   "cell_type": "code",
   "execution_count": 13,
   "metadata": {},
   "outputs": [
    {
     "data": {
      "text/html": [
       "<div>\n",
       "<style scoped>\n",
       "    .dataframe tbody tr th:only-of-type {\n",
       "        vertical-align: middle;\n",
       "    }\n",
       "\n",
       "    .dataframe tbody tr th {\n",
       "        vertical-align: top;\n",
       "    }\n",
       "\n",
       "    .dataframe thead th {\n",
       "        text-align: right;\n",
       "    }\n",
       "</style>\n",
       "<table border=\"1\" class=\"dataframe\">\n",
       "  <thead>\n",
       "    <tr style=\"text-align: right;\">\n",
       "      <th></th>\n",
       "      <th>Source</th>\n",
       "      <th>ddof1</th>\n",
       "      <th>ddof2</th>\n",
       "      <th>F</th>\n",
       "      <th>p-unc</th>\n",
       "      <th>np2</th>\n",
       "      <th>eps</th>\n",
       "    </tr>\n",
       "  </thead>\n",
       "  <tbody>\n",
       "    <tr>\n",
       "      <th>0</th>\n",
       "      <td>Within</td>\n",
       "      <td>2</td>\n",
       "      <td>18</td>\n",
       "      <td>1134.305704</td>\n",
       "      <td>1.160703e-19</td>\n",
       "      <td>0.992128</td>\n",
       "      <td>0.764091</td>\n",
       "    </tr>\n",
       "  </tbody>\n",
       "</table>\n",
       "</div>"
      ],
      "text/plain": [
       "   Source  ddof1  ddof2            F         p-unc       np2       eps\n",
       "0  Within      2     18  1134.305704  1.160703e-19  0.992128  0.764091"
      ]
     },
     "execution_count": 13,
     "metadata": {},
     "output_type": "execute_result"
    }
   ],
   "source": [
    "pg.rm_anova(bow_level_c_df.iloc[:,0:3])"
   ]
  },
  {
   "cell_type": "markdown",
   "metadata": {},
   "source": [
    "# MANN-Whitney U Tests"
   ]
  },
  {
   "cell_type": "code",
   "execution_count": 14,
   "metadata": {},
   "outputs": [],
   "source": [
    "# Between MNB and DTC\n",
    "\n",
    "U1, p = mannwhitneyu(bow_level_c_df.iloc[:,0],bow_level_c_df.iloc[:,3],method=\"asymptotic\")"
   ]
  },
  {
   "cell_type": "code",
   "execution_count": 15,
   "metadata": {},
   "outputs": [
    {
     "data": {
      "text/plain": [
       "0.0"
      ]
     },
     "execution_count": 15,
     "metadata": {},
     "output_type": "execute_result"
    }
   ],
   "source": [
    "U1"
   ]
  },
  {
   "cell_type": "code",
   "execution_count": 16,
   "metadata": {},
   "outputs": [
    {
     "data": {
      "text/plain": [
       "0.00014077465089962942"
      ]
     },
     "execution_count": 16,
     "metadata": {},
     "output_type": "execute_result"
    }
   ],
   "source": [
    "p"
   ]
  },
  {
   "cell_type": "code",
   "execution_count": 17,
   "metadata": {},
   "outputs": [],
   "source": [
    "# between SVC and DT\n",
    "\n",
    "U1, p = mannwhitneyu(bow_level_c_df.iloc[:,1],bow_level_c_df.iloc[:,3],method=\"asymptotic\")"
   ]
  },
  {
   "cell_type": "code",
   "execution_count": 18,
   "metadata": {},
   "outputs": [
    {
     "data": {
      "text/plain": [
       "0.0"
      ]
     },
     "execution_count": 18,
     "metadata": {},
     "output_type": "execute_result"
    }
   ],
   "source": [
    "U1"
   ]
  },
  {
   "cell_type": "code",
   "execution_count": 19,
   "metadata": {},
   "outputs": [
    {
     "data": {
      "text/plain": [
       "0.00014077465089962942"
      ]
     },
     "execution_count": 19,
     "metadata": {},
     "output_type": "execute_result"
    }
   ],
   "source": [
    "p"
   ]
  },
  {
   "cell_type": "code",
   "execution_count": 20,
   "metadata": {},
   "outputs": [],
   "source": [
    "# between RF and SVC\n",
    "\n",
    "U1, p = mannwhitneyu(bow_level_c_df.iloc[:,2],bow_level_c_df.iloc[:,1],method=\"asymptotic\")"
   ]
  },
  {
   "cell_type": "code",
   "execution_count": 21,
   "metadata": {},
   "outputs": [
    {
     "data": {
      "text/plain": [
       "100.0"
      ]
     },
     "execution_count": 21,
     "metadata": {},
     "output_type": "execute_result"
    }
   ],
   "source": [
    "U1"
   ]
  },
  {
   "cell_type": "code",
   "execution_count": 22,
   "metadata": {},
   "outputs": [
    {
     "data": {
      "text/plain": [
       "0.00014077465089962942"
      ]
     },
     "execution_count": 22,
     "metadata": {},
     "output_type": "execute_result"
    }
   ],
   "source": [
    "p"
   ]
  },
  {
   "cell_type": "markdown",
   "metadata": {},
   "source": [
    "### From the above tests we can clearly see that RF has the significant difference in the mean results and we can conclude that RF has been the most accurate model among the classical models expermiments."
   ]
  },
  {
   "cell_type": "code",
   "execution_count": null,
   "metadata": {},
   "outputs": [],
   "source": []
  }
 ],
 "metadata": {
  "kernelspec": {
   "display_name": "Python 3",
   "language": "python",
   "name": "python3"
  },
  "language_info": {
   "codemirror_mode": {
    "name": "ipython",
    "version": 3
   },
   "file_extension": ".py",
   "mimetype": "text/x-python",
   "name": "python",
   "nbconvert_exporter": "python",
   "pygments_lexer": "ipython3",
   "version": "3.8.5"
  }
 },
 "nbformat": 4,
 "nbformat_minor": 4
}
