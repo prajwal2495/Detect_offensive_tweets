{
 "cells": [
  {
   "cell_type": "code",
   "execution_count": 1,
   "metadata": {},
   "outputs": [
    {
     "name": "stdout",
     "output_type": "stream",
     "text": [
      "Requirement already satisfied: pingouin in /Users/prajwalkrishn/opt/anaconda3/lib/python3.8/site-packages (0.5.0)\n",
      "Requirement already satisfied: scikit-learn in /Users/prajwalkrishn/opt/anaconda3/lib/python3.8/site-packages (from pingouin) (0.24.2)\n",
      "Requirement already satisfied: outdated in /Users/prajwalkrishn/opt/anaconda3/lib/python3.8/site-packages (from pingouin) (0.2.1)\n",
      "Requirement already satisfied: numpy>=1.19 in /Users/prajwalkrishn/opt/anaconda3/lib/python3.8/site-packages (from pingouin) (1.19.2)\n",
      "Requirement already satisfied: statsmodels>=0.12.0 in /Users/prajwalkrishn/opt/anaconda3/lib/python3.8/site-packages (from pingouin) (0.12.0)\n",
      "Requirement already satisfied: tabulate in /Users/prajwalkrishn/opt/anaconda3/lib/python3.8/site-packages (from pingouin) (0.8.9)\n",
      "Requirement already satisfied: pandas-flavor>=0.2.0 in /Users/prajwalkrishn/opt/anaconda3/lib/python3.8/site-packages (from pingouin) (0.2.0)\n",
      "Requirement already satisfied: scipy>=1.7 in /Users/prajwalkrishn/opt/anaconda3/lib/python3.8/site-packages (from pingouin) (1.7.1)\n",
      "Requirement already satisfied: seaborn>=0.9.0 in /Users/prajwalkrishn/opt/anaconda3/lib/python3.8/site-packages (from pingouin) (0.11.0)\n",
      "Requirement already satisfied: matplotlib>=3.0.2 in /Users/prajwalkrishn/opt/anaconda3/lib/python3.8/site-packages (from pingouin) (3.3.2)\n",
      "Requirement already satisfied: pandas>=1.0 in /Users/prajwalkrishn/opt/anaconda3/lib/python3.8/site-packages (from pingouin) (1.1.3)\n",
      "Requirement already satisfied: cycler>=0.10 in /Users/prajwalkrishn/opt/anaconda3/lib/python3.8/site-packages (from matplotlib>=3.0.2->pingouin) (0.10.0)\n",
      "Requirement already satisfied: pyparsing!=2.0.4,!=2.1.2,!=2.1.6,>=2.0.3 in /Users/prajwalkrishn/opt/anaconda3/lib/python3.8/site-packages (from matplotlib>=3.0.2->pingouin) (2.4.7)\n",
      "Requirement already satisfied: pillow>=6.2.0 in /Users/prajwalkrishn/opt/anaconda3/lib/python3.8/site-packages (from matplotlib>=3.0.2->pingouin) (8.0.1)\n",
      "Requirement already satisfied: python-dateutil>=2.1 in /Users/prajwalkrishn/opt/anaconda3/lib/python3.8/site-packages (from matplotlib>=3.0.2->pingouin) (2.8.1)\n",
      "Requirement already satisfied: certifi>=2020.06.20 in /Users/prajwalkrishn/opt/anaconda3/lib/python3.8/site-packages (from matplotlib>=3.0.2->pingouin) (2020.6.20)\n",
      "Requirement already satisfied: kiwisolver>=1.0.1 in /Users/prajwalkrishn/opt/anaconda3/lib/python3.8/site-packages (from matplotlib>=3.0.2->pingouin) (1.3.0)\n",
      "Requirement already satisfied: pytz>=2017.2 in /Users/prajwalkrishn/opt/anaconda3/lib/python3.8/site-packages (from pandas>=1.0->pingouin) (2020.1)\n",
      "Requirement already satisfied: xarray in /Users/prajwalkrishn/opt/anaconda3/lib/python3.8/site-packages (from pandas-flavor>=0.2.0->pingouin) (0.19.0)\n",
      "Requirement already satisfied: patsy>=0.5 in /Users/prajwalkrishn/opt/anaconda3/lib/python3.8/site-packages (from statsmodels>=0.12.0->pingouin) (0.5.1)\n",
      "Requirement already satisfied: littleutils in /Users/prajwalkrishn/opt/anaconda3/lib/python3.8/site-packages (from outdated->pingouin) (0.2.2)\n",
      "Requirement already satisfied: requests in /Users/prajwalkrishn/opt/anaconda3/lib/python3.8/site-packages (from outdated->pingouin) (2.24.0)\n",
      "Requirement already satisfied: threadpoolctl>=2.0.0 in /Users/prajwalkrishn/opt/anaconda3/lib/python3.8/site-packages (from scikit-learn->pingouin) (2.1.0)\n",
      "Requirement already satisfied: joblib>=0.11 in /Users/prajwalkrishn/opt/anaconda3/lib/python3.8/site-packages (from scikit-learn->pingouin) (0.17.0)\n",
      "Requirement already satisfied: six in /Users/prajwalkrishn/opt/anaconda3/lib/python3.8/site-packages (from cycler>=0.10->matplotlib>=3.0.2->pingouin) (1.15.0)\n",
      "Requirement already satisfied: idna<3,>=2.5 in /Users/prajwalkrishn/opt/anaconda3/lib/python3.8/site-packages (from requests->outdated->pingouin) (2.10)\n",
      "Requirement already satisfied: urllib3!=1.25.0,!=1.25.1,<1.26,>=1.21.1 in /Users/prajwalkrishn/opt/anaconda3/lib/python3.8/site-packages (from requests->outdated->pingouin) (1.25.11)\n",
      "Requirement already satisfied: chardet<4,>=3.0.2 in /Users/prajwalkrishn/opt/anaconda3/lib/python3.8/site-packages (from requests->outdated->pingouin) (3.0.4)\n",
      "Requirement already satisfied: setuptools>=40.4 in /Users/prajwalkrishn/opt/anaconda3/lib/python3.8/site-packages (from xarray->pandas-flavor>=0.2.0->pingouin) (50.3.1.post20201107)\n"
     ]
    }
   ],
   "source": [
    "!pip install pingouin"
   ]
  },
  {
   "cell_type": "code",
   "execution_count": 2,
   "metadata": {},
   "outputs": [],
   "source": [
    "import pandas as pd\n",
    "import scipy\n",
    "from scipy import stats\n",
    "from scipy.stats import mannwhitneyu\n",
    "import pingouin as pg"
   ]
  },
  {
   "cell_type": "code",
   "execution_count": 3,
   "metadata": {},
   "outputs": [],
   "source": [
    "levelA_df = pd.read_csv(\"Results_level_A.csv\")"
   ]
  },
  {
   "cell_type": "code",
   "execution_count": 4,
   "metadata": {},
   "outputs": [
    {
     "data": {
      "text/html": [
       "<div>\n",
       "<style scoped>\n",
       "    .dataframe tbody tr th:only-of-type {\n",
       "        vertical-align: middle;\n",
       "    }\n",
       "\n",
       "    .dataframe tbody tr th {\n",
       "        vertical-align: top;\n",
       "    }\n",
       "\n",
       "    .dataframe thead th {\n",
       "        text-align: right;\n",
       "    }\n",
       "</style>\n",
       "<table border=\"1\" class=\"dataframe\">\n",
       "  <thead>\n",
       "    <tr style=\"text-align: right;\">\n",
       "      <th></th>\n",
       "      <th>MNB</th>\n",
       "      <th>SVC</th>\n",
       "      <th>RandomForests</th>\n",
       "      <th>DecisionTreeClassifier</th>\n",
       "    </tr>\n",
       "  </thead>\n",
       "  <tbody>\n",
       "    <tr>\n",
       "      <th>0</th>\n",
       "      <td>69</td>\n",
       "      <td>87.25</td>\n",
       "      <td>92.15</td>\n",
       "      <td>86.07</td>\n",
       "    </tr>\n",
       "    <tr>\n",
       "      <th>1</th>\n",
       "      <td>69</td>\n",
       "      <td>87.00</td>\n",
       "      <td>90.70</td>\n",
       "      <td>87.64</td>\n",
       "    </tr>\n",
       "    <tr>\n",
       "      <th>2</th>\n",
       "      <td>69</td>\n",
       "      <td>87.34</td>\n",
       "      <td>92.35</td>\n",
       "      <td>87.00</td>\n",
       "    </tr>\n",
       "    <tr>\n",
       "      <th>3</th>\n",
       "      <td>69</td>\n",
       "      <td>88.00</td>\n",
       "      <td>91.37</td>\n",
       "      <td>87.50</td>\n",
       "    </tr>\n",
       "    <tr>\n",
       "      <th>4</th>\n",
       "      <td>69</td>\n",
       "      <td>87.00</td>\n",
       "      <td>90.00</td>\n",
       "      <td>87.00</td>\n",
       "    </tr>\n",
       "    <tr>\n",
       "      <th>5</th>\n",
       "      <td>69</td>\n",
       "      <td>87.00</td>\n",
       "      <td>91.17</td>\n",
       "      <td>86.86</td>\n",
       "    </tr>\n",
       "    <tr>\n",
       "      <th>6</th>\n",
       "      <td>69</td>\n",
       "      <td>87.25</td>\n",
       "      <td>91.00</td>\n",
       "      <td>86.86</td>\n",
       "    </tr>\n",
       "    <tr>\n",
       "      <th>7</th>\n",
       "      <td>69</td>\n",
       "      <td>87.25</td>\n",
       "      <td>91.56</td>\n",
       "      <td>87.05</td>\n",
       "    </tr>\n",
       "    <tr>\n",
       "      <th>8</th>\n",
       "      <td>69</td>\n",
       "      <td>87.88</td>\n",
       "      <td>91.56</td>\n",
       "      <td>88.23</td>\n",
       "    </tr>\n",
       "    <tr>\n",
       "      <th>9</th>\n",
       "      <td>69</td>\n",
       "      <td>87.56</td>\n",
       "      <td>91.17</td>\n",
       "      <td>87.00</td>\n",
       "    </tr>\n",
       "  </tbody>\n",
       "</table>\n",
       "</div>"
      ],
      "text/plain": [
       "   MNB    SVC  RandomForests  DecisionTreeClassifier\n",
       "0   69  87.25          92.15                   86.07\n",
       "1   69  87.00          90.70                   87.64\n",
       "2   69  87.34          92.35                   87.00\n",
       "3   69  88.00          91.37                   87.50\n",
       "4   69  87.00          90.00                   87.00\n",
       "5   69  87.00          91.17                   86.86\n",
       "6   69  87.25          91.00                   86.86\n",
       "7   69  87.25          91.56                   87.05\n",
       "8   69  87.88          91.56                   88.23\n",
       "9   69  87.56          91.17                   87.00"
      ]
     },
     "execution_count": 4,
     "metadata": {},
     "output_type": "execute_result"
    }
   ],
   "source": [
    "levelA_df"
   ]
  },
  {
   "cell_type": "code",
   "execution_count": 5,
   "metadata": {},
   "outputs": [
    {
     "data": {
      "text/html": [
       "<div>\n",
       "<style scoped>\n",
       "    .dataframe tbody tr th:only-of-type {\n",
       "        vertical-align: middle;\n",
       "    }\n",
       "\n",
       "    .dataframe tbody tr th {\n",
       "        vertical-align: top;\n",
       "    }\n",
       "\n",
       "    .dataframe thead th {\n",
       "        text-align: right;\n",
       "    }\n",
       "</style>\n",
       "<table border=\"1\" class=\"dataframe\">\n",
       "  <thead>\n",
       "    <tr style=\"text-align: right;\">\n",
       "      <th></th>\n",
       "      <th>MNB</th>\n",
       "      <th>SVC</th>\n",
       "      <th>RandomForests</th>\n",
       "      <th>DecisionTreeClassifier</th>\n",
       "    </tr>\n",
       "  </thead>\n",
       "  <tbody>\n",
       "    <tr>\n",
       "      <th>count</th>\n",
       "      <td>10.0</td>\n",
       "      <td>10.000000</td>\n",
       "      <td>10.000000</td>\n",
       "      <td>10.000000</td>\n",
       "    </tr>\n",
       "    <tr>\n",
       "      <th>mean</th>\n",
       "      <td>69.0</td>\n",
       "      <td>87.353000</td>\n",
       "      <td>91.303000</td>\n",
       "      <td>87.121000</td>\n",
       "    </tr>\n",
       "    <tr>\n",
       "      <th>std</th>\n",
       "      <td>0.0</td>\n",
       "      <td>0.356684</td>\n",
       "      <td>0.678136</td>\n",
       "      <td>0.570837</td>\n",
       "    </tr>\n",
       "    <tr>\n",
       "      <th>min</th>\n",
       "      <td>69.0</td>\n",
       "      <td>87.000000</td>\n",
       "      <td>90.000000</td>\n",
       "      <td>86.070000</td>\n",
       "    </tr>\n",
       "    <tr>\n",
       "      <th>25%</th>\n",
       "      <td>69.0</td>\n",
       "      <td>87.062500</td>\n",
       "      <td>91.042500</td>\n",
       "      <td>86.895000</td>\n",
       "    </tr>\n",
       "    <tr>\n",
       "      <th>50%</th>\n",
       "      <td>69.0</td>\n",
       "      <td>87.250000</td>\n",
       "      <td>91.270000</td>\n",
       "      <td>87.000000</td>\n",
       "    </tr>\n",
       "    <tr>\n",
       "      <th>75%</th>\n",
       "      <td>69.0</td>\n",
       "      <td>87.505000</td>\n",
       "      <td>91.560000</td>\n",
       "      <td>87.387500</td>\n",
       "    </tr>\n",
       "    <tr>\n",
       "      <th>max</th>\n",
       "      <td>69.0</td>\n",
       "      <td>88.000000</td>\n",
       "      <td>92.350000</td>\n",
       "      <td>88.230000</td>\n",
       "    </tr>\n",
       "  </tbody>\n",
       "</table>\n",
       "</div>"
      ],
      "text/plain": [
       "        MNB        SVC  RandomForests  DecisionTreeClassifier\n",
       "count  10.0  10.000000      10.000000               10.000000\n",
       "mean   69.0  87.353000      91.303000               87.121000\n",
       "std     0.0   0.356684       0.678136                0.570837\n",
       "min    69.0  87.000000      90.000000               86.070000\n",
       "25%    69.0  87.062500      91.042500               86.895000\n",
       "50%    69.0  87.250000      91.270000               87.000000\n",
       "75%    69.0  87.505000      91.560000               87.387500\n",
       "max    69.0  88.000000      92.350000               88.230000"
      ]
     },
     "execution_count": 5,
     "metadata": {},
     "output_type": "execute_result"
    }
   ],
   "source": [
    "levelA_df.describe()"
   ]
  },
  {
   "cell_type": "code",
   "execution_count": 6,
   "metadata": {},
   "outputs": [
    {
     "data": {
      "text/plain": [
       "<AxesSubplot:>"
      ]
     },
     "execution_count": 6,
     "metadata": {},
     "output_type": "execute_result"
    },
    {
     "data": {
      "image/png": "[encoded data removed]",
      "text/plain": [
       "<Figure size 432x288 with 1 Axes>"
      ]
     },
     "metadata": {
      "needs_background": "light"
     },
     "output_type": "display_data"
    }
   ],
   "source": [
    "levelA_df.boxplot(column=['MNB','SVC','RandomForests','DecisionTreeClassifier'])"
   ]
  },
  {
   "cell_type": "markdown",
   "metadata": {},
   "source": [
    "#### The box plot doesnt give any extra information than what we obtained by calculating the mean, it is just a visual representation"
   ]
  },
  {
   "cell_type": "markdown",
   "metadata": {},
   "source": [
    "# Hypothesis Testing\n",
    "\n",
    "- Null hypothesis (H0) - There is no difference in the mean precision.\n",
    "- Alternate hypothesis (H1) - The difference is significant.\n",
    "- t-test is used for the same, as the classifiers are run on the same dataset, we perform paired t-test.\n",
    "- p-value is P(D|H0), so smaller the p-value, more confident we are of Null Hypothesis being false.\n",
    "- If they are below siginificance level like 0.05 or 0.01 then we can reject the null hypothesis."
   ]
  },
  {
   "cell_type": "markdown",
   "metadata": {},
   "source": [
    "### T-tests between SVC and RF"
   ]
  },
  {
   "cell_type": "code",
   "execution_count": 9,
   "metadata": {},
   "outputs": [
    {
     "data": {
      "text/plain": [
       "Ttest_relResult(statistic=-162.7135346843697, pvalue=6.359952458057432e-17)"
      ]
     },
     "execution_count": 9,
     "metadata": {},
     "output_type": "execute_result"
    }
   ],
   "source": [
    "stats.ttest_rel(levelA_df.iloc[:,1], levelA_df.iloc[:,2])"
   ]
  },
  {
   "cell_type": "markdown",
   "metadata": {},
   "source": [
    "### T-Tests between SVC and DTC"
   ]
  },
  {
   "cell_type": "code",
   "execution_count": 12,
   "metadata": {},
   "outputs": [
    {
     "data": {
      "text/plain": [
       "Ttest_relResult(statistic=-19.392383609192173, pvalue=1.1916941581975987e-08)"
      ]
     },
     "execution_count": 12,
     "metadata": {},
     "output_type": "execute_result"
    }
   ],
   "source": [
    "stats.ttest_rel(levelA_df.iloc[:,1], levelA_df.iloc[:,3])"
   ]
  },
  {
   "cell_type": "markdown",
   "metadata": {},
   "source": [
    "### T-Tests between RF and SVC"
   ]
  },
  {
   "cell_type": "code",
   "execution_count": 13,
   "metadata": {},
   "outputs": [
    {
     "data": {
      "text/plain": [
       "Ttest_relResult(statistic=19.392383609192173, pvalue=1.1916941581975987e-08)"
      ]
     },
     "execution_count": 13,
     "metadata": {},
     "output_type": "execute_result"
    }
   ],
   "source": [
    "stats.ttest_rel(levelA_df.iloc[:,2], levelA_df.iloc[:,1])"
   ]
  },
  {
   "cell_type": "markdown",
   "metadata": {},
   "source": [
    "### T-Tests between RF and DTC"
   ]
  },
  {
   "cell_type": "code",
   "execution_count": 15,
   "metadata": {},
   "outputs": [
    {
     "data": {
      "text/plain": [
       "Ttest_relResult(statistic=13.55096681754482, pvalue=2.7170573863706554e-07)"
      ]
     },
     "execution_count": 15,
     "metadata": {},
     "output_type": "execute_result"
    }
   ],
   "source": [
    "stats.ttest_rel(levelA_df.iloc[:,2], levelA_df.iloc[:,3])"
   ]
  },
  {
   "cell_type": "markdown",
   "metadata": {},
   "source": [
    "### T-Tests between DTC and SVC"
   ]
  },
  {
   "cell_type": "code",
   "execution_count": 16,
   "metadata": {},
   "outputs": [
    {
     "data": {
      "text/plain": [
       "Ttest_relResult(statistic=-1.4585202605565901, pvalue=0.17869451074869722)"
      ]
     },
     "execution_count": 16,
     "metadata": {},
     "output_type": "execute_result"
    }
   ],
   "source": [
    "stats.ttest_rel(levelA_df.iloc[:,3], levelA_df.iloc[:,1])"
   ]
  },
  {
   "cell_type": "markdown",
   "metadata": {},
   "source": [
    "### T-Tests between DTC and RF"
   ]
  },
  {
   "cell_type": "code",
   "execution_count": 17,
   "metadata": {},
   "outputs": [
    {
     "data": {
      "text/plain": [
       "Ttest_relResult(statistic=-13.55096681754482, pvalue=2.7170573863706554e-07)"
      ]
     },
     "execution_count": 17,
     "metadata": {},
     "output_type": "execute_result"
    }
   ],
   "source": [
    "stats.ttest_rel(levelA_df.iloc[:,3], levelA_df.iloc[:,2])"
   ]
  },
  {
   "cell_type": "markdown",
   "metadata": {},
   "source": [
    "# ANOVA TEST"
   ]
  },
  {
   "cell_type": "code",
   "execution_count": 19,
   "metadata": {},
   "outputs": [
    {
     "data": {
      "text/html": [
       "<div>\n",
       "<style scoped>\n",
       "    .dataframe tbody tr th:only-of-type {\n",
       "        vertical-align: middle;\n",
       "    }\n",
       "\n",
       "    .dataframe tbody tr th {\n",
       "        vertical-align: top;\n",
       "    }\n",
       "\n",
       "    .dataframe thead th {\n",
       "        text-align: right;\n",
       "    }\n",
       "</style>\n",
       "<table border=\"1\" class=\"dataframe\">\n",
       "  <thead>\n",
       "    <tr style=\"text-align: right;\">\n",
       "      <th></th>\n",
       "      <th>Source</th>\n",
       "      <th>ddof1</th>\n",
       "      <th>ddof2</th>\n",
       "      <th>F</th>\n",
       "      <th>p-unc</th>\n",
       "      <th>np2</th>\n",
       "      <th>eps</th>\n",
       "    </tr>\n",
       "  </thead>\n",
       "  <tbody>\n",
       "    <tr>\n",
       "      <th>0</th>\n",
       "      <td>Within</td>\n",
       "      <td>2</td>\n",
       "      <td>18</td>\n",
       "      <td>8481.795225</td>\n",
       "      <td>1.689069e-27</td>\n",
       "      <td>0.99894</td>\n",
       "      <td>0.719781</td>\n",
       "    </tr>\n",
       "  </tbody>\n",
       "</table>\n",
       "</div>"
      ],
      "text/plain": [
       "   Source  ddof1  ddof2            F         p-unc      np2       eps\n",
       "0  Within      2     18  8481.795225  1.689069e-27  0.99894  0.719781"
      ]
     },
     "execution_count": 19,
     "metadata": {},
     "output_type": "execute_result"
    }
   ],
   "source": [
    "pg.rm_anova(levelA_df.iloc[:,0:3])"
   ]
  },
  {
   "cell_type": "markdown",
   "metadata": {},
   "source": [
    "# MANN-Whitney U Tests"
   ]
  },
  {
   "cell_type": "code",
   "execution_count": 21,
   "metadata": {},
   "outputs": [],
   "source": [
    "# Between MNB and DTC\n",
    "\n",
    "U1, p = mannwhitneyu(levelA_df.iloc[:,0],levelA_df.iloc[:,3],method=\"asymptotic\")"
   ]
  },
  {
   "cell_type": "code",
   "execution_count": 22,
   "metadata": {},
   "outputs": [
    {
     "data": {
      "text/plain": [
       "0.0"
      ]
     },
     "execution_count": 22,
     "metadata": {},
     "output_type": "execute_result"
    }
   ],
   "source": [
    "U1"
   ]
  },
  {
   "cell_type": "code",
   "execution_count": 24,
   "metadata": {},
   "outputs": [
    {
     "data": {
      "text/plain": [
       "6.158218645749835e-05"
      ]
     },
     "execution_count": 24,
     "metadata": {},
     "output_type": "execute_result"
    }
   ],
   "source": [
    "p"
   ]
  },
  {
   "cell_type": "code",
   "execution_count": 25,
   "metadata": {},
   "outputs": [],
   "source": [
    "# between SVC and DT\n",
    "\n",
    "U1, p = mannwhitneyu(levelA_df.iloc[:,1],levelA_df.iloc[:,3],method=\"asymptotic\")"
   ]
  },
  {
   "cell_type": "code",
   "execution_count": 27,
   "metadata": {},
   "outputs": [
    {
     "data": {
      "text/plain": [
       "67.5"
      ]
     },
     "execution_count": 27,
     "metadata": {},
     "output_type": "execute_result"
    }
   ],
   "source": [
    "U1"
   ]
  },
  {
   "cell_type": "code",
   "execution_count": 28,
   "metadata": {},
   "outputs": [
    {
     "data": {
      "text/plain": [
       "0.19194365082868547"
      ]
     },
     "execution_count": 28,
     "metadata": {},
     "output_type": "execute_result"
    }
   ],
   "source": [
    "p"
   ]
  },
  {
   "cell_type": "code",
   "execution_count": 29,
   "metadata": {},
   "outputs": [],
   "source": [
    "# between RF and SVC\n",
    "\n",
    "U1, p = mannwhitneyu(levelA_df.iloc[:,2],levelA_df.iloc[:,1],method=\"asymptotic\")"
   ]
  },
  {
   "cell_type": "code",
   "execution_count": 30,
   "metadata": {},
   "outputs": [
    {
     "data": {
      "text/plain": [
       "100.0"
      ]
     },
     "execution_count": 30,
     "metadata": {},
     "output_type": "execute_result"
    }
   ],
   "source": [
    "U1"
   ]
  },
  {
   "cell_type": "code",
   "execution_count": 31,
   "metadata": {},
   "outputs": [
    {
     "data": {
      "text/plain": [
       "0.00017265399688226732"
      ]
     },
     "execution_count": 31,
     "metadata": {},
     "output_type": "execute_result"
    }
   ],
   "source": [
    "p"
   ]
  },
  {
   "cell_type": "code",
   "execution_count": null,
   "metadata": {},
   "outputs": [],
   "source": [
    "# From the above tests we can clearly we"
   ]
  }
 ],
 "metadata": {
  "kernelspec": {
   "display_name": "Python 3",
   "language": "python",
   "name": "python3"
  },
  "language_info": {
   "codemirror_mode": {
    "name": "ipython",
    "version": 3
   },
   "file_extension": ".py",
   "mimetype": "text/x-python",
   "name": "python",
   "nbconvert_exporter": "python",
   "pygments_lexer": "ipython3",
   "version": "3.8.5"
  }
 },
 "nbformat": 4,
 "nbformat_minor": 4
}
