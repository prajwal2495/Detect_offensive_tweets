{
 "cells": [
  {
   "cell_type": "code",
   "execution_count": 18,
   "metadata": {},
   "outputs": [],
   "source": [
    "import numpy as np\n",
    "import pandas as pd\n",
    "import matplotlib.pyplot as plt\n"
   ]
  },
  {
   "cell_type": "code",
   "execution_count": 19,
   "metadata": {},
   "outputs": [
    {
     "data": {
      "text/html": [
       "<div>\n",
       "<style scoped>\n",
       "    .dataframe tbody tr th:only-of-type {\n",
       "        vertical-align: middle;\n",
       "    }\n",
       "\n",
       "    .dataframe tbody tr th {\n",
       "        vertical-align: top;\n",
       "    }\n",
       "\n",
       "    .dataframe thead th {\n",
       "        text-align: right;\n",
       "    }\n",
       "</style>\n",
       "<table border=\"1\" class=\"dataframe\">\n",
       "  <thead>\n",
       "    <tr style=\"text-align: right;\">\n",
       "      <th></th>\n",
       "      <th>tweet</th>\n",
       "      <th>subtask_a</th>\n",
       "      <th>subtask_b</th>\n",
       "      <th>subtask_c</th>\n",
       "    </tr>\n",
       "  </thead>\n",
       "  <tbody>\n",
       "    <tr>\n",
       "      <th>0</th>\n",
       "      <td>पूर्व लडाखमधील मुखपरी येथे प्रत्यक्ष ताबारेषेज...</td>\n",
       "      <td>not offensive</td>\n",
       "      <td>NaN</td>\n",
       "      <td>NaN</td>\n",
       "    </tr>\n",
       "    <tr>\n",
       "      <th>1</th>\n",
       "      <td>कोणत्याही  रिलेशनशिप मध्ये सुंदर दिसणं खूप महत...</td>\n",
       "      <td>not offensive</td>\n",
       "      <td>NaN</td>\n",
       "      <td>NaN</td>\n",
       "    </tr>\n",
       "    <tr>\n",
       "      <th>2</th>\n",
       "      <td>भारत  ऑगस्ट  ला स्वतंत्र झाला आणि त्यानंतर तब्...</td>\n",
       "      <td>not offensive</td>\n",
       "      <td>NaN</td>\n",
       "      <td>NaN</td>\n",
       "    </tr>\n",
       "    <tr>\n",
       "      <th>3</th>\n",
       "      <td>स्वत ला हवा तसा बाइट किंवा प्रतिक्रिया घेण्यास...</td>\n",
       "      <td>not offensive</td>\n",
       "      <td>NaN</td>\n",
       "      <td>NaN</td>\n",
       "    </tr>\n",
       "    <tr>\n",
       "      <th>4</th>\n",
       "      <td>व्या नंबरची अर्थव्यवस्था आहे भारताची जगात  पर्...</td>\n",
       "      <td>not offensive</td>\n",
       "      <td>NaN</td>\n",
       "      <td>NaN</td>\n",
       "    </tr>\n",
       "  </tbody>\n",
       "</table>\n",
       "</div>"
      ],
      "text/plain": [
       "                                               tweet      subtask_a subtask_b  \\\n",
       "0  पूर्व लडाखमधील मुखपरी येथे प्रत्यक्ष ताबारेषेज...  not offensive       NaN   \n",
       "1  कोणत्याही  रिलेशनशिप मध्ये सुंदर दिसणं खूप महत...  not offensive       NaN   \n",
       "2  भारत  ऑगस्ट  ला स्वतंत्र झाला आणि त्यानंतर तब्...  not offensive       NaN   \n",
       "3  स्वत ला हवा तसा बाइट किंवा प्रतिक्रिया घेण्यास...  not offensive       NaN   \n",
       "4  व्या नंबरची अर्थव्यवस्था आहे भारताची जगात  पर्...  not offensive       NaN   \n",
       "\n",
       "  subtask_c  \n",
       "0       NaN  \n",
       "1       NaN  \n",
       "2       NaN  \n",
       "3       NaN  \n",
       "4       NaN  "
      ]
     },
     "execution_count": 19,
     "metadata": {},
     "output_type": "execute_result"
    }
   ],
   "source": [
    "data = pd.read_csv(\"../Data/Clean_MOLD_V2.csv\")\n",
    "data.head(5)"
   ]
  },
  {
   "cell_type": "code",
   "execution_count": 20,
   "metadata": {},
   "outputs": [
    {
     "data": {
      "text/html": [
       "<div>\n",
       "<style scoped>\n",
       "    .dataframe tbody tr th:only-of-type {\n",
       "        vertical-align: middle;\n",
       "    }\n",
       "\n",
       "    .dataframe tbody tr th {\n",
       "        vertical-align: top;\n",
       "    }\n",
       "\n",
       "    .dataframe thead th {\n",
       "        text-align: right;\n",
       "    }\n",
       "</style>\n",
       "<table border=\"1\" class=\"dataframe\">\n",
       "  <thead>\n",
       "    <tr style=\"text-align: right;\">\n",
       "      <th></th>\n",
       "      <th>tweet</th>\n",
       "      <th>subtask_a</th>\n",
       "      <th>subtask_b</th>\n",
       "      <th>subtask_c</th>\n",
       "    </tr>\n",
       "  </thead>\n",
       "  <tbody>\n",
       "    <tr>\n",
       "      <th>0</th>\n",
       "      <td>पूर्व लडाखमधील मुखपरी येथे प्रत्यक्ष ताबारेषेज...</td>\n",
       "      <td>not offensive</td>\n",
       "      <td>NULL</td>\n",
       "      <td>NULL</td>\n",
       "    </tr>\n",
       "    <tr>\n",
       "      <th>1</th>\n",
       "      <td>कोणत्याही  रिलेशनशिप मध्ये सुंदर दिसणं खूप महत...</td>\n",
       "      <td>not offensive</td>\n",
       "      <td>NULL</td>\n",
       "      <td>NULL</td>\n",
       "    </tr>\n",
       "    <tr>\n",
       "      <th>2</th>\n",
       "      <td>भारत  ऑगस्ट  ला स्वतंत्र झाला आणि त्यानंतर तब्...</td>\n",
       "      <td>not offensive</td>\n",
       "      <td>NULL</td>\n",
       "      <td>NULL</td>\n",
       "    </tr>\n",
       "    <tr>\n",
       "      <th>3</th>\n",
       "      <td>स्वत ला हवा तसा बाइट किंवा प्रतिक्रिया घेण्यास...</td>\n",
       "      <td>not offensive</td>\n",
       "      <td>NULL</td>\n",
       "      <td>NULL</td>\n",
       "    </tr>\n",
       "    <tr>\n",
       "      <th>4</th>\n",
       "      <td>व्या नंबरची अर्थव्यवस्था आहे भारताची जगात  पर्...</td>\n",
       "      <td>not offensive</td>\n",
       "      <td>NULL</td>\n",
       "      <td>NULL</td>\n",
       "    </tr>\n",
       "  </tbody>\n",
       "</table>\n",
       "</div>"
      ],
      "text/plain": [
       "                                               tweet      subtask_a subtask_b  \\\n",
       "0  पूर्व लडाखमधील मुखपरी येथे प्रत्यक्ष ताबारेषेज...  not offensive      NULL   \n",
       "1  कोणत्याही  रिलेशनशिप मध्ये सुंदर दिसणं खूप महत...  not offensive      NULL   \n",
       "2  भारत  ऑगस्ट  ला स्वतंत्र झाला आणि त्यानंतर तब्...  not offensive      NULL   \n",
       "3  स्वत ला हवा तसा बाइट किंवा प्रतिक्रिया घेण्यास...  not offensive      NULL   \n",
       "4  व्या नंबरची अर्थव्यवस्था आहे भारताची जगात  पर्...  not offensive      NULL   \n",
       "\n",
       "  subtask_c  \n",
       "0      NULL  \n",
       "1      NULL  \n",
       "2      NULL  \n",
       "3      NULL  \n",
       "4      NULL  "
      ]
     },
     "execution_count": 20,
     "metadata": {},
     "output_type": "execute_result"
    }
   ],
   "source": [
    "data = data.astype(object).replace(np.nan,'NULL')\n",
    "data.head(5)"
   ]
  },
  {
   "cell_type": "code",
   "execution_count": 21,
   "metadata": {},
   "outputs": [
    {
     "data": {
      "text/plain": [
       "array(['not offensive', 'Offensive', 'offensive', 'Non-Offensive',\n",
       "       'Offensive ', 'NULL', 'Non-Offensive '], dtype=object)"
      ]
     },
     "execution_count": 21,
     "metadata": {},
     "output_type": "execute_result"
    }
   ],
   "source": [
    "data.subtask_a.unique()"
   ]
  },
  {
   "cell_type": "code",
   "execution_count": 22,
   "metadata": {},
   "outputs": [
    {
     "data": {
      "text/plain": [
       "array(['not offensive', 'Offensive', 'offensive', 'Offensive ', 'NULL'],\n",
       "      dtype=object)"
      ]
     },
     "execution_count": 22,
     "metadata": {},
     "output_type": "execute_result"
    }
   ],
   "source": [
    "data['subtask_a'] = data['subtask_a'].replace({\"Non-Offensive\":\"not offensive\",\"Non-Offensive \":\"not offensive\"}, inplace=)\n",
    "data.subtask_a.unique()"
   ]
  },
  {
   "cell_type": "code",
   "execution_count": 23,
   "metadata": {},
   "outputs": [
    {
     "data": {
      "text/plain": [
       "array(['not offensive', 'Offensive', 'NULL'], dtype=object)"
      ]
     },
     "execution_count": 23,
     "metadata": {},
     "output_type": "execute_result"
    }
   ],
   "source": [
    "data['subtask_a'] = data['subtask_a'].replace({\"offensive\":\"Offensive\",\"Offensive \":\"Offensive\"})\n",
    "data.subtask_a.unique()"
   ]
  },
  {
   "cell_type": "code",
   "execution_count": 26,
   "metadata": {},
   "outputs": [
    {
     "data": {
      "text/plain": [
       "not offensive    2291\n",
       "Offensive        1071\n",
       "NULL                1\n",
       "Name: subtask_a, dtype: int64"
      ]
     },
     "execution_count": 26,
     "metadata": {},
     "output_type": "execute_result"
    }
   ],
   "source": [
    "data['subtask_a'].value_counts()"
   ]
  },
  {
   "cell_type": "code",
   "execution_count": null,
   "metadata": {},
   "outputs": [],
   "source": []
  }
 ],
 "metadata": {
  "kernelspec": {
   "display_name": "Python 3",
   "language": "python",
   "name": "python3"
  },
  "language_info": {
   "codemirror_mode": {
    "name": "ipython",
    "version": 3
   },
   "file_extension": ".py",
   "mimetype": "text/x-python",
   "name": "python",
   "nbconvert_exporter": "python",
   "pygments_lexer": "ipython3",
   "version": "3.8.5"
  }
 },
 "nbformat": 4,
 "nbformat_minor": 4
}
