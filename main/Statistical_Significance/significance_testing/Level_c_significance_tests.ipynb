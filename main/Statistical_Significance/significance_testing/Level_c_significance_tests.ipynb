{
 "cells": [
  {
   "cell_type": "code",
   "execution_count": 1,
   "metadata": {},
   "outputs": [],
   "source": [
    "import pandas as pd\n",
    "import scipy\n",
    "from scipy import stats\n",
    "from scipy.stats import mannwhitneyu\n",
    "import pingouin as pg"
   ]
  },
  {
   "cell_type": "code",
   "execution_count": 2,
   "metadata": {},
   "outputs": [],
   "source": [
    "results_level_c = pd.read_csv('Results_level_C.csv')"
   ]
  },
  {
   "cell_type": "code",
   "execution_count": 3,
   "metadata": {},
   "outputs": [
    {
     "data": {
      "text/html": [
       "<div>\n",
       "<style scoped>\n",
       "    .dataframe tbody tr th:only-of-type {\n",
       "        vertical-align: middle;\n",
       "    }\n",
       "\n",
       "    .dataframe tbody tr th {\n",
       "        vertical-align: top;\n",
       "    }\n",
       "\n",
       "    .dataframe thead th {\n",
       "        text-align: right;\n",
       "    }\n",
       "</style>\n",
       "<table border=\"1\" class=\"dataframe\">\n",
       "  <thead>\n",
       "    <tr style=\"text-align: right;\">\n",
       "      <th></th>\n",
       "      <th>MNB</th>\n",
       "      <th>SVC</th>\n",
       "      <th>RandomForests</th>\n",
       "      <th>DecisionTreeClassifier</th>\n",
       "      <th>LSTM</th>\n",
       "    </tr>\n",
       "  </thead>\n",
       "  <tbody>\n",
       "    <tr>\n",
       "      <th>0</th>\n",
       "      <td>77</td>\n",
       "      <td>79.00</td>\n",
       "      <td>80.00</td>\n",
       "      <td>77.89</td>\n",
       "      <td>79.00</td>\n",
       "    </tr>\n",
       "    <tr>\n",
       "      <th>1</th>\n",
       "      <td>77</td>\n",
       "      <td>79.56</td>\n",
       "      <td>80.00</td>\n",
       "      <td>77.00</td>\n",
       "      <td>79.23</td>\n",
       "    </tr>\n",
       "    <tr>\n",
       "      <th>2</th>\n",
       "      <td>77</td>\n",
       "      <td>79.89</td>\n",
       "      <td>79.89</td>\n",
       "      <td>77.56</td>\n",
       "      <td>79.56</td>\n",
       "    </tr>\n",
       "    <tr>\n",
       "      <th>3</th>\n",
       "      <td>77</td>\n",
       "      <td>79.00</td>\n",
       "      <td>80.43</td>\n",
       "      <td>77.34</td>\n",
       "      <td>78.00</td>\n",
       "    </tr>\n",
       "    <tr>\n",
       "      <th>4</th>\n",
       "      <td>77</td>\n",
       "      <td>79.00</td>\n",
       "      <td>80.56</td>\n",
       "      <td>77.00</td>\n",
       "      <td>78.23</td>\n",
       "    </tr>\n",
       "  </tbody>\n",
       "</table>\n",
       "</div>"
      ],
      "text/plain": [
       "   MNB    SVC  RandomForests  DecisionTreeClassifier   LSTM\n",
       "0   77  79.00          80.00                   77.89  79.00\n",
       "1   77  79.56          80.00                   77.00  79.23\n",
       "2   77  79.89          79.89                   77.56  79.56\n",
       "3   77  79.00          80.43                   77.34  78.00\n",
       "4   77  79.00          80.56                   77.00  78.23"
      ]
     },
     "execution_count": 3,
     "metadata": {},
     "output_type": "execute_result"
    }
   ],
   "source": [
    "results_level_c.head(5)"
   ]
  },
  {
   "cell_type": "code",
   "execution_count": 4,
   "metadata": {},
   "outputs": [
    {
     "data": {
      "text/html": [
       "<div>\n",
       "<style scoped>\n",
       "    .dataframe tbody tr th:only-of-type {\n",
       "        vertical-align: middle;\n",
       "    }\n",
       "\n",
       "    .dataframe tbody tr th {\n",
       "        vertical-align: top;\n",
       "    }\n",
       "\n",
       "    .dataframe thead th {\n",
       "        text-align: right;\n",
       "    }\n",
       "</style>\n",
       "<table border=\"1\" class=\"dataframe\">\n",
       "  <thead>\n",
       "    <tr style=\"text-align: right;\">\n",
       "      <th></th>\n",
       "      <th>MNB</th>\n",
       "      <th>SVC</th>\n",
       "      <th>RandomForests</th>\n",
       "      <th>DecisionTreeClassifier</th>\n",
       "      <th>LSTM</th>\n",
       "    </tr>\n",
       "  </thead>\n",
       "  <tbody>\n",
       "    <tr>\n",
       "      <th>count</th>\n",
       "      <td>10.0</td>\n",
       "      <td>10.000000</td>\n",
       "      <td>10.000000</td>\n",
       "      <td>10.000000</td>\n",
       "      <td>10.000000</td>\n",
       "    </tr>\n",
       "    <tr>\n",
       "      <th>mean</th>\n",
       "      <td>77.0</td>\n",
       "      <td>79.123000</td>\n",
       "      <td>80.175000</td>\n",
       "      <td>77.489000</td>\n",
       "      <td>79.048000</td>\n",
       "    </tr>\n",
       "    <tr>\n",
       "      <th>std</th>\n",
       "      <td>0.0</td>\n",
       "      <td>0.364602</td>\n",
       "      <td>0.254482</td>\n",
       "      <td>0.489522</td>\n",
       "      <td>0.583758</td>\n",
       "    </tr>\n",
       "    <tr>\n",
       "      <th>min</th>\n",
       "      <td>77.0</td>\n",
       "      <td>78.560000</td>\n",
       "      <td>79.890000</td>\n",
       "      <td>77.000000</td>\n",
       "      <td>78.000000</td>\n",
       "    </tr>\n",
       "    <tr>\n",
       "      <th>25%</th>\n",
       "      <td>77.0</td>\n",
       "      <td>79.000000</td>\n",
       "      <td>80.000000</td>\n",
       "      <td>77.000000</td>\n",
       "      <td>79.000000</td>\n",
       "    </tr>\n",
       "    <tr>\n",
       "      <th>50%</th>\n",
       "      <td>77.0</td>\n",
       "      <td>79.000000</td>\n",
       "      <td>80.000000</td>\n",
       "      <td>77.450000</td>\n",
       "      <td>79.000000</td>\n",
       "    </tr>\n",
       "    <tr>\n",
       "      <th>75%</th>\n",
       "      <td>77.0</td>\n",
       "      <td>79.165000</td>\n",
       "      <td>80.430000</td>\n",
       "      <td>77.890000</td>\n",
       "      <td>79.470000</td>\n",
       "    </tr>\n",
       "    <tr>\n",
       "      <th>max</th>\n",
       "      <td>77.0</td>\n",
       "      <td>79.890000</td>\n",
       "      <td>80.560000</td>\n",
       "      <td>78.320000</td>\n",
       "      <td>79.910000</td>\n",
       "    </tr>\n",
       "  </tbody>\n",
       "</table>\n",
       "</div>"
      ],
      "text/plain": [
       "        MNB        SVC  RandomForests  DecisionTreeClassifier       LSTM\n",
       "count  10.0  10.000000      10.000000               10.000000  10.000000\n",
       "mean   77.0  79.123000      80.175000               77.489000  79.048000\n",
       "std     0.0   0.364602       0.254482                0.489522   0.583758\n",
       "min    77.0  78.560000      79.890000               77.000000  78.000000\n",
       "25%    77.0  79.000000      80.000000               77.000000  79.000000\n",
       "50%    77.0  79.000000      80.000000               77.450000  79.000000\n",
       "75%    77.0  79.165000      80.430000               77.890000  79.470000\n",
       "max    77.0  79.890000      80.560000               78.320000  79.910000"
      ]
     },
     "execution_count": 4,
     "metadata": {},
     "output_type": "execute_result"
    }
   ],
   "source": [
    "results_level_c.describe()"
   ]
  },
  {
   "cell_type": "code",
   "execution_count": 5,
   "metadata": {},
   "outputs": [
    {
     "data": {
      "text/plain": [
       "<AxesSubplot:>"
      ]
     },
     "execution_count": 5,
     "metadata": {},
     "output_type": "execute_result"
    },
    {
     "data": {
      "image/png": "[encoded data removed]",
      "text/plain": [
       "<Figure size 432x288 with 1 Axes>"
      ]
     },
     "metadata": {
      "needs_background": "light"
     },
     "output_type": "display_data"
    }
   ],
   "source": [
    "results_level_c.boxplot(column=['MNB','SVC','RandomForests','DecisionTreeClassifier','LSTM'])"
   ]
  },
  {
   "cell_type": "markdown",
   "metadata": {},
   "source": [
    "# Hypothesis Testing\n",
    "\n",
    "- Null hypothesis (H0) - Significant difference between two samples of accuracies.\n",
    "- Alternate hypothesis (H1) - No significant difference between two samples of accuracies.\n",
    "- t-test is used for the same, as the classifiers are run on the same dataset, we perform paired t-test.\n",
    "- p-value is P(D|H0), so smaller the p-value, more confident we are of Null Hypothesis being false.\n",
    "- If they are below siginificance level like 0.05 or 0.01 then we can reject the null hypothesis."
   ]
  },
  {
   "cell_type": "code",
   "execution_count": 6,
   "metadata": {},
   "outputs": [
    {
     "name": "stdout",
     "output_type": "stream",
     "text": [
      "mean Accuracy of MNB: 77.0\n",
      "mean Accuracy of SVC: 79.123\n",
      "mean Accuracy of RandomForests: 80.175\n",
      "mean Accuracy of DecisionTreeClassifier: 77.48899999999999\n",
      "mean Accuracy of LSTM: 79.04799999999999\n"
     ]
    }
   ],
   "source": [
    "print(\"mean Accuracy of MNB:\",results_level_c['MNB'].mean())\n",
    "print(\"mean Accuracy of SVC:\",results_level_c['SVC'].mean())\n",
    "print(\"mean Accuracy of RandomForests:\",results_level_c['RandomForests'].mean())\n",
    "print(\"mean Accuracy of DecisionTreeClassifier:\",results_level_c['DecisionTreeClassifier'].mean())\n",
    "print(\"mean Accuracy of LSTM:\",results_level_c['LSTM'].mean())"
   ]
  },
  {
   "cell_type": "markdown",
   "metadata": {},
   "source": [
    "# Pairwise T-Tests and Mann-Whitney U tests"
   ]
  },
  {
   "cell_type": "markdown",
   "metadata": {},
   "source": [
    "Let us perform T-Test between MNB and SVC"
   ]
  },
  {
   "cell_type": "code",
   "execution_count": 7,
   "metadata": {},
   "outputs": [
    {
     "data": {
      "text/plain": [
       "Ttest_relResult(statistic=-18.413283155956723, pvalue=1.879901709852484e-08)"
      ]
     },
     "execution_count": 7,
     "metadata": {},
     "output_type": "execute_result"
    }
   ],
   "source": [
    "stats.ttest_rel(results_level_c.iloc[:,0], results_level_c.iloc[:,1])"
   ]
  },
  {
   "cell_type": "code",
   "execution_count": 8,
   "metadata": {},
   "outputs": [
    {
     "name": "stdout",
     "output_type": "stream",
     "text": [
      "Statistics=0.00000, p=0.00005\n",
      "Reject Null Hypothesis (Significant difference between two samples)\n"
     ]
    }
   ],
   "source": [
    "stat, p_value = mannwhitneyu(results_level_c.iloc[:,0],results_level_c.iloc[:,1])\n",
    "print('Statistics=%.5f, p=%.5f' % (stat, p_value))\n",
    "# Level of significance\n",
    "alpha = 0.05\n",
    "# conclusion\n",
    "if p_value < alpha:\n",
    "    print('Reject Null Hypothesis (Significant difference between two samples)')\n",
    "else:\n",
    "    print('Do not Reject Null Hypothesis (No significant difference between two samples)')"
   ]
  },
  {
   "cell_type": "markdown",
   "metadata": {},
   "source": [
    "As we can see from the previous cell the mean accuracy of the SVC is 79.123 and MNB is 77, P-value being 0.000\n",
    "P-value is less than the significance level of 0.05, rejecting the NULL hypothesis, SVC is performing better than MNB"
   ]
  },
  {
   "cell_type": "markdown",
   "metadata": {},
   "source": [
    "Let us perform T-tests and Mann-Whitney U tests between SVC and LSTM"
   ]
  },
  {
   "cell_type": "code",
   "execution_count": 7,
   "metadata": {},
   "outputs": [
    {
     "data": {
      "text/plain": [
       "Ttest_relResult(statistic=0.40236028341367186, pvalue=0.6968076983975006)"
      ]
     },
     "execution_count": 7,
     "metadata": {},
     "output_type": "execute_result"
    }
   ],
   "source": [
    "stats.ttest_rel(results_level_c.iloc[:,1], results_level_c.iloc[:,4])"
   ]
  },
  {
   "cell_type": "code",
   "execution_count": 9,
   "metadata": {},
   "outputs": [
    {
     "name": "stdout",
     "output_type": "stream",
     "text": [
      "Statistics=49.50000, p=1.00000\n",
      "Do not Reject Null Hypothesis (No significant difference between two samples)\n"
     ]
    }
   ],
   "source": [
    "stat, p_value = mannwhitneyu(results_level_c.iloc[:,1],results_level_c.iloc[:,4])\n",
    "print('Statistics=%.5f, p=%.5f' % (stat, p_value))\n",
    "# Level of significance\n",
    "alpha = 0.05\n",
    "# conclusion\n",
    "if p_value < alpha:\n",
    "    print('Reject Null Hypothesis (Significant difference between two samples)')\n",
    "else:\n",
    "    print('Do not Reject Null Hypothesis (No significant difference between two samples)')"
   ]
  },
  {
   "cell_type": "markdown",
   "metadata": {},
   "source": [
    "As we can see from the previous cell the mean accuracy of the SVC is 79.123 and LSTM is 79.04, P-value being 1\n",
    "P-value is greater than the significance level of 0.05, we fail to reject the NULL hypothesis, LSTM is performing same as SVC"
   ]
  },
  {
   "cell_type": "markdown",
   "metadata": {},
   "source": [
    "Let us perform the T-tests and Mann-Whitney U tests on RFC and SVC"
   ]
  },
  {
   "cell_type": "code",
   "execution_count": 10,
   "metadata": {},
   "outputs": [
    {
     "data": {
      "text/plain": [
       "Ttest_relResult(statistic=-6.710399245739085, pvalue=8.749517049062428e-05)"
      ]
     },
     "execution_count": 10,
     "metadata": {},
     "output_type": "execute_result"
    }
   ],
   "source": [
    "stats.ttest_rel(results_level_c.iloc[:,1], results_level_c.iloc[:,2])"
   ]
  },
  {
   "cell_type": "code",
   "execution_count": 11,
   "metadata": {},
   "outputs": [
    {
     "name": "stdout",
     "output_type": "stream",
     "text": [
      "Statistics=0.50000, p=0.00015\n",
      "Reject Null Hypothesis (Significant difference between two samples)\n"
     ]
    }
   ],
   "source": [
    "stat, p_value = mannwhitneyu(results_level_c.iloc[:,1],results_level_c.iloc[:,2])\n",
    "print('Statistics=%.5f, p=%.5f' % (stat, p_value))\n",
    "# Level of significance\n",
    "alpha = 0.05\n",
    "# conclusion\n",
    "if p_value < alpha:\n",
    "    print('Reject Null Hypothesis (Significant difference between two samples)')\n",
    "else:\n",
    "    print('Do not Reject Null Hypothesis (No significant difference between two samples)')"
   ]
  },
  {
   "cell_type": "markdown",
   "metadata": {},
   "source": [
    "As we can see from the previous cell the mean accuracy of the RFC is 80.175 and SVC is 79.123, P-value being 0.00015\n",
    "P-value is less than the significance level of 0.05, rejecting the NULL hypothesis, RFC is performing better than SVC"
   ]
  },
  {
   "cell_type": "markdown",
   "metadata": {},
   "source": [
    "Let us perform the stats test on RFC and LSTM accuracies"
   ]
  },
  {
   "cell_type": "code",
   "execution_count": 12,
   "metadata": {},
   "outputs": [
    {
     "data": {
      "text/plain": [
       "Ttest_relResult(statistic=4.492687064396085, pvalue=0.0015046900265662754)"
      ]
     },
     "execution_count": 12,
     "metadata": {},
     "output_type": "execute_result"
    }
   ],
   "source": [
    "stats.ttest_rel(results_level_c.iloc[:,2], results_level_c.iloc[:,4])"
   ]
  },
  {
   "cell_type": "code",
   "execution_count": 13,
   "metadata": {},
   "outputs": [
    {
     "name": "stdout",
     "output_type": "stream",
     "text": [
      "Statistics=99.00000, p=0.00021\n",
      "Reject Null Hypothesis (Significant difference between two samples)\n"
     ]
    }
   ],
   "source": [
    "stat, p_value = mannwhitneyu(results_level_c.iloc[:,2],results_level_c.iloc[:,4])\n",
    "print('Statistics=%.5f, p=%.5f' % (stat, p_value))\n",
    "# Level of significance\n",
    "alpha = 0.05\n",
    "# conclusion\n",
    "if p_value < alpha:\n",
    "    print('Reject Null Hypothesis (Significant difference between two samples)')\n",
    "else:\n",
    "    print('Do not Reject Null Hypothesis (No significant difference between two samples)')"
   ]
  },
  {
   "cell_type": "markdown",
   "metadata": {},
   "source": [
    "As we can see from the previous cell the mean accuracy of the RFC is 80.175 and LSTM is 79.04, P-value being 0.00021\n",
    "P-value is less than the significance level of 0.05, rejecting the NULL hypothesis, RFC is performing better than LSTM"
   ]
  },
  {
   "cell_type": "markdown",
   "metadata": {},
   "source": [
    "## From these tests and box plots and mean accuracies values we can see that for level C RFC is the best performing among the lot"
   ]
  },
  {
   "cell_type": "code",
   "execution_count": null,
   "metadata": {},
   "outputs": [],
   "source": []
  }
 ],
 "metadata": {
  "kernelspec": {
   "display_name": "Python 3",
   "language": "python",
   "name": "python3"
  },
  "language_info": {
   "codemirror_mode": {
    "name": "ipython",
    "version": 3
   },
   "file_extension": ".py",
   "mimetype": "text/x-python",
   "name": "python",
   "nbconvert_exporter": "python",
   "pygments_lexer": "ipython3",
   "version": "3.8.5"
  }
 },
 "nbformat": 4,
 "nbformat_minor": 4
}
