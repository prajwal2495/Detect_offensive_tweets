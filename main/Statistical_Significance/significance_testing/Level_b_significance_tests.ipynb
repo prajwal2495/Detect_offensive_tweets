{
 "cells": [
  {
   "cell_type": "code",
   "execution_count": 1,
   "metadata": {},
   "outputs": [],
   "source": [
    "import pandas as pd\n",
    "import scipy\n",
    "from scipy import stats\n",
    "from scipy.stats import mannwhitneyu\n",
    "import pingouin as pg"
   ]
  },
  {
   "cell_type": "code",
   "execution_count": 2,
   "metadata": {},
   "outputs": [],
   "source": [
    "results_level_b = pd.read_csv('Results_level_B.csv')"
   ]
  },
  {
   "cell_type": "code",
   "execution_count": 3,
   "metadata": {},
   "outputs": [
    {
     "data": {
      "text/html": [
       "<div>\n",
       "<style scoped>\n",
       "    .dataframe tbody tr th:only-of-type {\n",
       "        vertical-align: middle;\n",
       "    }\n",
       "\n",
       "    .dataframe tbody tr th {\n",
       "        vertical-align: top;\n",
       "    }\n",
       "\n",
       "    .dataframe thead th {\n",
       "        text-align: right;\n",
       "    }\n",
       "</style>\n",
       "<table border=\"1\" class=\"dataframe\">\n",
       "  <thead>\n",
       "    <tr style=\"text-align: right;\">\n",
       "      <th></th>\n",
       "      <th>MNB</th>\n",
       "      <th>SVC</th>\n",
       "      <th>RandomForests</th>\n",
       "      <th>DecisionTreeClassifier</th>\n",
       "      <th>LSTM</th>\n",
       "    </tr>\n",
       "  </thead>\n",
       "  <tbody>\n",
       "    <tr>\n",
       "      <th>0</th>\n",
       "      <td>80.0</td>\n",
       "      <td>85.67</td>\n",
       "      <td>86.00</td>\n",
       "      <td>78.43</td>\n",
       "      <td>85</td>\n",
       "    </tr>\n",
       "    <tr>\n",
       "      <th>1</th>\n",
       "      <td>80.0</td>\n",
       "      <td>85.44</td>\n",
       "      <td>86.11</td>\n",
       "      <td>78.00</td>\n",
       "      <td>85</td>\n",
       "    </tr>\n",
       "    <tr>\n",
       "      <th>2</th>\n",
       "      <td>80.0</td>\n",
       "      <td>85.00</td>\n",
       "      <td>86.54</td>\n",
       "      <td>77.60</td>\n",
       "      <td>85</td>\n",
       "    </tr>\n",
       "    <tr>\n",
       "      <th>3</th>\n",
       "      <td>80.0</td>\n",
       "      <td>85.00</td>\n",
       "      <td>86.54</td>\n",
       "      <td>78.00</td>\n",
       "      <td>84</td>\n",
       "    </tr>\n",
       "    <tr>\n",
       "      <th>4</th>\n",
       "      <td>78.0</td>\n",
       "      <td>83.21</td>\n",
       "      <td>86.54</td>\n",
       "      <td>78.00</td>\n",
       "      <td>85</td>\n",
       "    </tr>\n",
       "  </tbody>\n",
       "</table>\n",
       "</div>"
      ],
      "text/plain": [
       "    MNB    SVC  RandomForests  DecisionTreeClassifier  LSTM\n",
       "0  80.0  85.67          86.00                   78.43    85\n",
       "1  80.0  85.44          86.11                   78.00    85\n",
       "2  80.0  85.00          86.54                   77.60    85\n",
       "3  80.0  85.00          86.54                   78.00    84\n",
       "4  78.0  83.21          86.54                   78.00    85"
      ]
     },
     "execution_count": 3,
     "metadata": {},
     "output_type": "execute_result"
    }
   ],
   "source": [
    "results_level_b.head(5)"
   ]
  },
  {
   "cell_type": "code",
   "execution_count": 4,
   "metadata": {},
   "outputs": [
    {
     "data": {
      "text/html": [
       "<div>\n",
       "<style scoped>\n",
       "    .dataframe tbody tr th:only-of-type {\n",
       "        vertical-align: middle;\n",
       "    }\n",
       "\n",
       "    .dataframe tbody tr th {\n",
       "        vertical-align: top;\n",
       "    }\n",
       "\n",
       "    .dataframe thead th {\n",
       "        text-align: right;\n",
       "    }\n",
       "</style>\n",
       "<table border=\"1\" class=\"dataframe\">\n",
       "  <thead>\n",
       "    <tr style=\"text-align: right;\">\n",
       "      <th></th>\n",
       "      <th>MNB</th>\n",
       "      <th>SVC</th>\n",
       "      <th>RandomForests</th>\n",
       "      <th>DecisionTreeClassifier</th>\n",
       "      <th>LSTM</th>\n",
       "    </tr>\n",
       "  </thead>\n",
       "  <tbody>\n",
       "    <tr>\n",
       "      <th>count</th>\n",
       "      <td>10.000000</td>\n",
       "      <td>10.000000</td>\n",
       "      <td>10.000000</td>\n",
       "      <td>10.000000</td>\n",
       "      <td>10.000000</td>\n",
       "    </tr>\n",
       "    <tr>\n",
       "      <th>mean</th>\n",
       "      <td>79.545000</td>\n",
       "      <td>85.259000</td>\n",
       "      <td>85.996000</td>\n",
       "      <td>77.179000</td>\n",
       "      <td>84.800000</td>\n",
       "    </tr>\n",
       "    <tr>\n",
       "      <th>std</th>\n",
       "      <td>0.768942</td>\n",
       "      <td>0.837847</td>\n",
       "      <td>0.860674</td>\n",
       "      <td>1.548472</td>\n",
       "      <td>0.421637</td>\n",
       "    </tr>\n",
       "    <tr>\n",
       "      <th>min</th>\n",
       "      <td>78.000000</td>\n",
       "      <td>83.210000</td>\n",
       "      <td>84.560000</td>\n",
       "      <td>73.430000</td>\n",
       "      <td>84.000000</td>\n",
       "    </tr>\n",
       "    <tr>\n",
       "      <th>25%</th>\n",
       "      <td>79.137500</td>\n",
       "      <td>85.107500</td>\n",
       "      <td>85.250000</td>\n",
       "      <td>77.150000</td>\n",
       "      <td>85.000000</td>\n",
       "    </tr>\n",
       "    <tr>\n",
       "      <th>50%</th>\n",
       "      <td>80.000000</td>\n",
       "      <td>85.430000</td>\n",
       "      <td>86.275000</td>\n",
       "      <td>77.825000</td>\n",
       "      <td>85.000000</td>\n",
       "    </tr>\n",
       "    <tr>\n",
       "      <th>75%</th>\n",
       "      <td>80.000000</td>\n",
       "      <td>85.437500</td>\n",
       "      <td>86.540000</td>\n",
       "      <td>78.000000</td>\n",
       "      <td>85.000000</td>\n",
       "    </tr>\n",
       "    <tr>\n",
       "      <th>max</th>\n",
       "      <td>80.340000</td>\n",
       "      <td>86.550000</td>\n",
       "      <td>87.230000</td>\n",
       "      <td>78.430000</td>\n",
       "      <td>85.000000</td>\n",
       "    </tr>\n",
       "  </tbody>\n",
       "</table>\n",
       "</div>"
      ],
      "text/plain": [
       "             MNB        SVC  RandomForests  DecisionTreeClassifier       LSTM\n",
       "count  10.000000  10.000000      10.000000               10.000000  10.000000\n",
       "mean   79.545000  85.259000      85.996000               77.179000  84.800000\n",
       "std     0.768942   0.837847       0.860674                1.548472   0.421637\n",
       "min    78.000000  83.210000      84.560000               73.430000  84.000000\n",
       "25%    79.137500  85.107500      85.250000               77.150000  85.000000\n",
       "50%    80.000000  85.430000      86.275000               77.825000  85.000000\n",
       "75%    80.000000  85.437500      86.540000               78.000000  85.000000\n",
       "max    80.340000  86.550000      87.230000               78.430000  85.000000"
      ]
     },
     "execution_count": 4,
     "metadata": {},
     "output_type": "execute_result"
    }
   ],
   "source": [
    "results_level_b.describe()"
   ]
  },
  {
   "cell_type": "code",
   "execution_count": 5,
   "metadata": {},
   "outputs": [
    {
     "data": {
      "text/plain": [
       "<AxesSubplot:>"
      ]
     },
     "execution_count": 5,
     "metadata": {},
     "output_type": "execute_result"
    },
    {
     "data": {
      "image/png": "[encoded data removed]",
      "text/plain": [
       "<Figure size 432x288 with 1 Axes>"
      ]
     },
     "metadata": {
      "needs_background": "light"
     },
     "output_type": "display_data"
    }
   ],
   "source": [
    "results_level_b.boxplot(column=['MNB','SVC','RandomForests','DecisionTreeClassifier','LSTM'])"
   ]
  },
  {
   "cell_type": "markdown",
   "metadata": {},
   "source": [
    "# Hypothesis Testing\n",
    "\n",
    "- Null hypothesis (H0) - Significant difference between two samples of accuracies.\n",
    "- Alternate hypothesis (H1) - No significant difference between two samples of accuracies.\n",
    "- t-test is used for the same, as the classifiers are run on the same dataset, we perform paired t-test.\n",
    "- p-value is P(D|H0), so smaller the p-value, more confident we are of Null Hypothesis being false.\n",
    "- If they are below siginificance level like 0.05 or 0.01 then we can reject the null hypothesis."
   ]
  },
  {
   "cell_type": "code",
   "execution_count": 6,
   "metadata": {},
   "outputs": [
    {
     "name": "stdout",
     "output_type": "stream",
     "text": [
      "mean Accuracy of MNB: 79.545\n",
      "mean Accuracy of SVC: 85.25900000000001\n",
      "mean Accuracy of RandomForests: 85.99600000000001\n",
      "mean Accuracy of DecisionTreeClassifier: 77.17899999999999\n",
      "mean Accuracy of LSTM: 84.8\n"
     ]
    }
   ],
   "source": [
    "print(\"mean Accuracy of MNB:\",results_level_b['MNB'].mean())\n",
    "print(\"mean Accuracy of SVC:\",results_level_b['SVC'].mean())\n",
    "print(\"mean Accuracy of RandomForests:\",results_level_b['RandomForests'].mean())\n",
    "print(\"mean Accuracy of DecisionTreeClassifier:\",results_level_b['DecisionTreeClassifier'].mean())\n",
    "print(\"mean Accuracy of LSTM:\",results_level_b['LSTM'].mean())"
   ]
  },
  {
   "cell_type": "markdown",
   "metadata": {},
   "source": [
    "# Pairwise T-Tests and Mann-Whitney U tests"
   ]
  },
  {
   "cell_type": "markdown",
   "metadata": {},
   "source": [
    "Let us perform T-Test between MNB and SVC"
   ]
  },
  {
   "cell_type": "code",
   "execution_count": 13,
   "metadata": {},
   "outputs": [
    {
     "data": {
      "text/plain": [
       "Ttest_relResult(statistic=-21.171935750069004, pvalue=5.49164367624295e-09)"
      ]
     },
     "execution_count": 13,
     "metadata": {},
     "output_type": "execute_result"
    }
   ],
   "source": [
    "stats.ttest_rel(results_level_b.iloc[:,0], results_level_b.iloc[:,1])"
   ]
  },
  {
   "cell_type": "code",
   "execution_count": 15,
   "metadata": {},
   "outputs": [
    {
     "name": "stdout",
     "output_type": "stream",
     "text": [
      "Statistics=0.00000, p=0.00015\n",
      "Reject Null Hypothesis (Significant difference between two samples)\n"
     ]
    }
   ],
   "source": [
    "stat, p_value = mannwhitneyu(results_level_b.iloc[:,0],results_level_b.iloc[:,1])\n",
    "print('Statistics=%.5f, p=%.5f' % (stat, p_value))\n",
    "# Level of significance\n",
    "alpha = 0.05\n",
    "# conclusion\n",
    "if p_value < alpha:\n",
    "    print('Reject Null Hypothesis (Significant difference between two samples)')\n",
    "else:\n",
    "    print('Do not Reject Null Hypothesis (No significant difference between two samples)')"
   ]
  },
  {
   "cell_type": "markdown",
   "metadata": {},
   "source": [
    "As we can see from the previous cell the mean accuracy of the SVC is 85.25 and MNB is 79.54, P-value being 0.000\n",
    "P-value is less than the significance level of 0.05, rejecting the NULL hypothesis, SVC is performing better than MNB"
   ]
  },
  {
   "cell_type": "markdown",
   "metadata": {},
   "source": [
    "Let us perform T-tests and Mann-Whitney U tests between SVC and LSTM"
   ]
  },
  {
   "cell_type": "code",
   "execution_count": 7,
   "metadata": {},
   "outputs": [
    {
     "data": {
      "text/plain": [
       "Ttest_relResult(statistic=1.5649859468821004, pvalue=0.1520260211521449)"
      ]
     },
     "execution_count": 7,
     "metadata": {},
     "output_type": "execute_result"
    }
   ],
   "source": [
    "stats.ttest_rel(results_level_b.iloc[:,1], results_level_b.iloc[:,4])"
   ]
  },
  {
   "cell_type": "code",
   "execution_count": 8,
   "metadata": {},
   "outputs": [
    {
     "name": "stdout",
     "output_type": "stream",
     "text": [
      "Statistics=82.00000, p=0.01058\n",
      "Reject Null Hypothesis (Significant difference between two samples)\n"
     ]
    }
   ],
   "source": [
    "stat, p_value = mannwhitneyu(results_level_b.iloc[:,1],results_level_b.iloc[:,4])\n",
    "print('Statistics=%.5f, p=%.5f' % (stat, p_value))\n",
    "# Level of significance\n",
    "alpha = 0.05\n",
    "# conclusion\n",
    "if p_value < alpha:\n",
    "    print('Reject Null Hypothesis (Significant difference between two samples)')\n",
    "else:\n",
    "    print('Do not Reject Null Hypothesis (No significant difference between two samples)')"
   ]
  },
  {
   "cell_type": "markdown",
   "metadata": {},
   "source": [
    "As we can see from the previous cell the mean accuracy of the SVC is 85.25 and LSTM is 84.8, P-value being 0.000\n",
    "P-value is less than the significance level of 0.05, rejecting the NULL hypothesis, LSTM is performing better than SVC"
   ]
  },
  {
   "cell_type": "markdown",
   "metadata": {},
   "source": [
    "Let us perform the T-tests and Mann-Whitney U tests on RFC and LSTM"
   ]
  },
  {
   "cell_type": "code",
   "execution_count": 9,
   "metadata": {},
   "outputs": [
    {
     "data": {
      "text/plain": [
       "Ttest_relResult(statistic=1.89819256465307, pvalue=0.09014822000884508)"
      ]
     },
     "execution_count": 9,
     "metadata": {},
     "output_type": "execute_result"
    }
   ],
   "source": [
    "stats.ttest_rel(results_level_b.iloc[:,2], results_level_b.iloc[:,1])"
   ]
  },
  {
   "cell_type": "code",
   "execution_count": 10,
   "metadata": {},
   "outputs": [
    {
     "name": "stdout",
     "output_type": "stream",
     "text": [
      "Statistics=69.00000, p=0.15817\n",
      "Do not Reject Null Hypothesis (No significant difference between two samples)\n"
     ]
    }
   ],
   "source": [
    "stat, p_value = mannwhitneyu(results_level_b.iloc[:,2],results_level_b.iloc[:,1])\n",
    "print('Statistics=%.5f, p=%.5f' % (stat, p_value))\n",
    "# Level of significance\n",
    "alpha = 0.05\n",
    "# conclusion\n",
    "if p_value < alpha:\n",
    "    print('Reject Null Hypothesis (Significant difference between two samples)')\n",
    "else:\n",
    "    print('Do not Reject Null Hypothesis (No significant difference between two samples)')"
   ]
  },
  {
   "cell_type": "markdown",
   "metadata": {},
   "source": [
    "As we can see from the previous cell the mean accuracy of the RFC is 85.99 and SVC is 85.25, P-value being 0.15817\n",
    "P-value is greater than the significance level of 0.05, we fail to reject the NULL hypothesis, concluding that SVC and RFC are performing on the same level for Level B classification"
   ]
  },
  {
   "cell_type": "markdown",
   "metadata": {},
   "source": [
    "## From these tests and box plots and mean accuracies values we can see that for level B RFC and SVC are the best performing models among the lot"
   ]
  },
  {
   "cell_type": "code",
   "execution_count": null,
   "metadata": {},
   "outputs": [],
   "source": []
  }
 ],
 "metadata": {
  "kernelspec": {
   "display_name": "Python 3",
   "language": "python",
   "name": "python3"
  },
  "language_info": {
   "codemirror_mode": {
    "name": "ipython",
    "version": 3
   },
   "file_extension": ".py",
   "mimetype": "text/x-python",
   "name": "python",
   "nbconvert_exporter": "python",
   "pygments_lexer": "ipython3",
   "version": "3.8.5"
  }
 },
 "nbformat": 4,
 "nbformat_minor": 4
}
