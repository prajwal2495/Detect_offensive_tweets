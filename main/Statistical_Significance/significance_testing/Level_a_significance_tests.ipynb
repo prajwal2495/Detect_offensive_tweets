{
 "cells": [
  {
   "cell_type": "code",
   "execution_count": 1,
   "metadata": {},
   "outputs": [],
   "source": [
    "import pandas as pd\n",
    "import scipy\n",
    "from scipy import stats\n",
    "from scipy.stats import mannwhitneyu\n",
    "import pingouin as pg"
   ]
  },
  {
   "cell_type": "code",
   "execution_count": 2,
   "metadata": {},
   "outputs": [],
   "source": [
    "results_level_a = pd.read_csv('Results_level_A.csv')"
   ]
  },
  {
   "cell_type": "code",
   "execution_count": 3,
   "metadata": {},
   "outputs": [
    {
     "data": {
      "text/html": [
       "<div>\n",
       "<style scoped>\n",
       "    .dataframe tbody tr th:only-of-type {\n",
       "        vertical-align: middle;\n",
       "    }\n",
       "\n",
       "    .dataframe tbody tr th {\n",
       "        vertical-align: top;\n",
       "    }\n",
       "\n",
       "    .dataframe thead th {\n",
       "        text-align: right;\n",
       "    }\n",
       "</style>\n",
       "<table border=\"1\" class=\"dataframe\">\n",
       "  <thead>\n",
       "    <tr style=\"text-align: right;\">\n",
       "      <th></th>\n",
       "      <th>MNB</th>\n",
       "      <th>SVC</th>\n",
       "      <th>RandomForests</th>\n",
       "      <th>DecisionTreeClassifier</th>\n",
       "      <th>LSTM</th>\n",
       "    </tr>\n",
       "  </thead>\n",
       "  <tbody>\n",
       "    <tr>\n",
       "      <th>0</th>\n",
       "      <td>61.19</td>\n",
       "      <td>89.54</td>\n",
       "      <td>69.08</td>\n",
       "      <td>68.62</td>\n",
       "      <td>91.00</td>\n",
       "    </tr>\n",
       "    <tr>\n",
       "      <th>1</th>\n",
       "      <td>61.19</td>\n",
       "      <td>89.76</td>\n",
       "      <td>70.44</td>\n",
       "      <td>68.62</td>\n",
       "      <td>90.87</td>\n",
       "    </tr>\n",
       "    <tr>\n",
       "      <th>2</th>\n",
       "      <td>61.19</td>\n",
       "      <td>87.00</td>\n",
       "      <td>68.55</td>\n",
       "      <td>68.62</td>\n",
       "      <td>91.00</td>\n",
       "    </tr>\n",
       "    <tr>\n",
       "      <th>3</th>\n",
       "      <td>61.19</td>\n",
       "      <td>88.43</td>\n",
       "      <td>68.55</td>\n",
       "      <td>68.62</td>\n",
       "      <td>91.00</td>\n",
       "    </tr>\n",
       "    <tr>\n",
       "      <th>4</th>\n",
       "      <td>61.19</td>\n",
       "      <td>88.76</td>\n",
       "      <td>67.98</td>\n",
       "      <td>68.62</td>\n",
       "      <td>91.00</td>\n",
       "    </tr>\n",
       "  </tbody>\n",
       "</table>\n",
       "</div>"
      ],
      "text/plain": [
       "     MNB    SVC  RandomForests  DecisionTreeClassifier   LSTM\n",
       "0  61.19  89.54          69.08                   68.62  91.00\n",
       "1  61.19  89.76          70.44                   68.62  90.87\n",
       "2  61.19  87.00          68.55                   68.62  91.00\n",
       "3  61.19  88.43          68.55                   68.62  91.00\n",
       "4  61.19  88.76          67.98                   68.62  91.00"
      ]
     },
     "execution_count": 3,
     "metadata": {},
     "output_type": "execute_result"
    }
   ],
   "source": [
    "results_level_a.head(5)"
   ]
  },
  {
   "cell_type": "code",
   "execution_count": 4,
   "metadata": {},
   "outputs": [
    {
     "data": {
      "text/html": [
       "<div>\n",
       "<style scoped>\n",
       "    .dataframe tbody tr th:only-of-type {\n",
       "        vertical-align: middle;\n",
       "    }\n",
       "\n",
       "    .dataframe tbody tr th {\n",
       "        vertical-align: top;\n",
       "    }\n",
       "\n",
       "    .dataframe thead th {\n",
       "        text-align: right;\n",
       "    }\n",
       "</style>\n",
       "<table border=\"1\" class=\"dataframe\">\n",
       "  <thead>\n",
       "    <tr style=\"text-align: right;\">\n",
       "      <th></th>\n",
       "      <th>MNB</th>\n",
       "      <th>SVC</th>\n",
       "      <th>RandomForests</th>\n",
       "      <th>DecisionTreeClassifier</th>\n",
       "      <th>LSTM</th>\n",
       "    </tr>\n",
       "  </thead>\n",
       "  <tbody>\n",
       "    <tr>\n",
       "      <th>count</th>\n",
       "      <td>10.000000</td>\n",
       "      <td>10.000000</td>\n",
       "      <td>10.000000</td>\n",
       "      <td>10.000000</td>\n",
       "      <td>10.000000</td>\n",
       "    </tr>\n",
       "    <tr>\n",
       "      <th>mean</th>\n",
       "      <td>61.321000</td>\n",
       "      <td>88.415000</td>\n",
       "      <td>69.407000</td>\n",
       "      <td>68.650000</td>\n",
       "      <td>90.875000</td>\n",
       "    </tr>\n",
       "    <tr>\n",
       "      <th>std</th>\n",
       "      <td>0.339753</td>\n",
       "      <td>0.990872</td>\n",
       "      <td>1.190929</td>\n",
       "      <td>0.475628</td>\n",
       "      <td>0.351986</td>\n",
       "    </tr>\n",
       "    <tr>\n",
       "      <th>min</th>\n",
       "      <td>61.110000</td>\n",
       "      <td>87.000000</td>\n",
       "      <td>67.980000</td>\n",
       "      <td>67.770000</td>\n",
       "      <td>89.880000</td>\n",
       "    </tr>\n",
       "    <tr>\n",
       "      <th>25%</th>\n",
       "      <td>61.190000</td>\n",
       "      <td>87.640000</td>\n",
       "      <td>68.682500</td>\n",
       "      <td>68.620000</td>\n",
       "      <td>91.000000</td>\n",
       "    </tr>\n",
       "    <tr>\n",
       "      <th>50%</th>\n",
       "      <td>61.190000</td>\n",
       "      <td>88.430000</td>\n",
       "      <td>69.110000</td>\n",
       "      <td>68.620000</td>\n",
       "      <td>91.000000</td>\n",
       "    </tr>\n",
       "    <tr>\n",
       "      <th>75%</th>\n",
       "      <td>61.190000</td>\n",
       "      <td>89.345000</td>\n",
       "      <td>69.777500</td>\n",
       "      <td>68.620000</td>\n",
       "      <td>91.000000</td>\n",
       "    </tr>\n",
       "    <tr>\n",
       "      <th>max</th>\n",
       "      <td>62.230000</td>\n",
       "      <td>89.760000</td>\n",
       "      <td>72.140000</td>\n",
       "      <td>69.770000</td>\n",
       "      <td>91.000000</td>\n",
       "    </tr>\n",
       "  </tbody>\n",
       "</table>\n",
       "</div>"
      ],
      "text/plain": [
       "             MNB        SVC  RandomForests  DecisionTreeClassifier       LSTM\n",
       "count  10.000000  10.000000      10.000000               10.000000  10.000000\n",
       "mean   61.321000  88.415000      69.407000               68.650000  90.875000\n",
       "std     0.339753   0.990872       1.190929                0.475628   0.351986\n",
       "min    61.110000  87.000000      67.980000               67.770000  89.880000\n",
       "25%    61.190000  87.640000      68.682500               68.620000  91.000000\n",
       "50%    61.190000  88.430000      69.110000               68.620000  91.000000\n",
       "75%    61.190000  89.345000      69.777500               68.620000  91.000000\n",
       "max    62.230000  89.760000      72.140000               69.770000  91.000000"
      ]
     },
     "execution_count": 4,
     "metadata": {},
     "output_type": "execute_result"
    }
   ],
   "source": [
    "results_level_a.describe()"
   ]
  },
  {
   "cell_type": "code",
   "execution_count": 5,
   "metadata": {},
   "outputs": [
    {
     "data": {
      "text/plain": [
       "<AxesSubplot:>"
      ]
     },
     "execution_count": 5,
     "metadata": {},
     "output_type": "execute_result"
    },
    {
     "data": {
      "image/png": "[encoded data removed]",
      "text/plain": [
       "<Figure size 432x288 with 1 Axes>"
      ]
     },
     "metadata": {
      "needs_background": "light"
     },
     "output_type": "display_data"
    }
   ],
   "source": [
    "results_level_a.boxplot(column=['MNB','SVC','RandomForests','DecisionTreeClassifier','LSTM'])"
   ]
  },
  {
   "cell_type": "markdown",
   "metadata": {},
   "source": [
    "# Hypothesis Testing\n",
    "\n",
    "- Null hypothesis (H0) - Significant difference between two samples of accuracies.\n",
    "- Alternate hypothesis (H1) - No significant difference between two samples of accuracies.\n",
    "- t-test is used for the same, as the classifiers are run on the same dataset, we perform paired t-test.\n",
    "- p-value is P(D|H0), so smaller the p-value, more confident we are of Null Hypothesis being false.\n",
    "- If they are below siginificance level like 0.05 or 0.01 then we can reject the null hypothesis."
   ]
  },
  {
   "cell_type": "code",
   "execution_count": 6,
   "metadata": {},
   "outputs": [
    {
     "name": "stdout",
     "output_type": "stream",
     "text": [
      "mean Accuracy of MNB: 61.321000000000005\n",
      "mean Accuracy of SVC: 88.415\n",
      "mean Accuracy of RandomForests: 69.40700000000001\n",
      "mean Accuracy of DecisionTreeClassifier: 68.65\n",
      "mean Accuracy of LSTM: 90.875\n"
     ]
    }
   ],
   "source": [
    "print(\"mean Accuracy of MNB:\",results_level_a['MNB'].mean())\n",
    "print(\"mean Accuracy of SVC:\",results_level_a['SVC'].mean())\n",
    "print(\"mean Accuracy of RandomForests:\",results_level_a['RandomForests'].mean())\n",
    "print(\"mean Accuracy of DecisionTreeClassifier:\",results_level_a['DecisionTreeClassifier'].mean())\n",
    "print(\"mean Accuracy of LSTM:\",results_level_a['LSTM'].mean())"
   ]
  },
  {
   "cell_type": "markdown",
   "metadata": {},
   "source": [
    "# Pairwise T-Tests and Mann-Whitney U tests"
   ]
  },
  {
   "cell_type": "markdown",
   "metadata": {},
   "source": [
    "Let us perform T-Test between MNB and SVC"
   ]
  },
  {
   "cell_type": "code",
   "execution_count": 7,
   "metadata": {},
   "outputs": [
    {
     "data": {
      "text/plain": [
       "Ttest_relResult(statistic=-37.248826727139985, pvalue=3.592275736299747e-11)"
      ]
     },
     "execution_count": 7,
     "metadata": {},
     "output_type": "execute_result"
    }
   ],
   "source": [
    "stats.ttest_rel(results_level_a.iloc[:,2], results_level_a.iloc[:,1])"
   ]
  },
  {
   "cell_type": "code",
   "execution_count": 8,
   "metadata": {},
   "outputs": [
    {
     "name": "stdout",
     "output_type": "stream",
     "text": [
      "Statistics=0.00000, p=0.00013\n",
      "Reject Null Hypothesis (Significant difference between two samples)\n"
     ]
    }
   ],
   "source": [
    "stat, p_value = mannwhitneyu(results_level_a.iloc[:,0],results_level_a.iloc[:,1])\n",
    "print('Statistics=%.5f, p=%.5f' % (stat, p_value))\n",
    "# Level of significance\n",
    "alpha = 0.05\n",
    "# conclusion\n",
    "if p_value < alpha:\n",
    "    print('Reject Null Hypothesis (Significant difference between two samples)')\n",
    "else:\n",
    "    print('Do not Reject Null Hypothesis (No significant difference between two samples)')"
   ]
  },
  {
   "cell_type": "markdown",
   "metadata": {},
   "source": [
    "As we can see from the previous cell the mean accuracy of the SVC is 88.415 and MNB is 61.32, P-value being 0.000\n",
    "P-value is less than the significance level of 0.05, rejecting the NULL hypothesis, SVC is performing better than MNB"
   ]
  },
  {
   "cell_type": "markdown",
   "metadata": {},
   "source": [
    "Let us perform T-tests and Mann-Whitney U tests between SVC and LSTM"
   ]
  },
  {
   "cell_type": "code",
   "execution_count": 9,
   "metadata": {},
   "outputs": [
    {
     "data": {
      "text/plain": [
       "Ttest_relResult(statistic=-6.517664848272553, pvalue=0.00010918666018625776)"
      ]
     },
     "execution_count": 9,
     "metadata": {},
     "output_type": "execute_result"
    }
   ],
   "source": [
    "stats.ttest_rel(results_level_a.iloc[:,1], results_level_a.iloc[:,4])"
   ]
  },
  {
   "cell_type": "code",
   "execution_count": 10,
   "metadata": {},
   "outputs": [
    {
     "name": "stdout",
     "output_type": "stream",
     "text": [
      "Statistics=0.00000, p=0.00011\n",
      "Reject Null Hypothesis (Significant difference between two samples)\n"
     ]
    }
   ],
   "source": [
    "stat, p_value = mannwhitneyu(results_level_a.iloc[:,1],results_level_a.iloc[:,4])\n",
    "print('Statistics=%.5f, p=%.5f' % (stat, p_value))\n",
    "# Level of significance\n",
    "alpha = 0.05\n",
    "# conclusion\n",
    "if p_value < alpha:\n",
    "    print('Reject Null Hypothesis (Significant difference between two samples)')\n",
    "else:\n",
    "    print('Do not Reject Null Hypothesis (No significant difference between two samples)')"
   ]
  },
  {
   "cell_type": "markdown",
   "metadata": {},
   "source": [
    "As we can see from the previous cell the mean accuracy of the SVC is 88.415 and LSTM is 90.875, P-value being 0.000\n",
    "P-value is less than the significance level of 0.05, rejecting the NULL hypothesis, LSTM is performing better than SVC"
   ]
  },
  {
   "cell_type": "markdown",
   "metadata": {},
   "source": [
    "Let us perform the T-tests and Mann-Whitney U tests on RFC and LSTM"
   ]
  },
  {
   "cell_type": "code",
   "execution_count": 36,
   "metadata": {},
   "outputs": [
    {
     "data": {
      "text/plain": [
       "Ttest_relResult(statistic=-55.46474201073875, pvalue=1.012809161172273e-12)"
      ]
     },
     "execution_count": 36,
     "metadata": {},
     "output_type": "execute_result"
    }
   ],
   "source": [
    "stats.ttest_rel(results_level_a.iloc[:,2], results_level_a.iloc[:,4])"
   ]
  },
  {
   "cell_type": "code",
   "execution_count": 41,
   "metadata": {},
   "outputs": [
    {
     "name": "stdout",
     "output_type": "stream",
     "text": [
      "Statistics=0.00000, p=0.00011\n",
      "Reject Null Hypothesis (Significant difference between two samples)\n"
     ]
    }
   ],
   "source": [
    "stat, p_value = mannwhitneyu(results_level_a.iloc[:,2],results_level_a.iloc[:,4])\n",
    "print('Statistics=%.5f, p=%.5f' % (stat, p_value))\n",
    "# Level of significance\n",
    "alpha = 0.05\n",
    "# conclusion\n",
    "if p_value < alpha:\n",
    "    print('Reject Null Hypothesis (Significant difference between two samples)')\n",
    "else:\n",
    "    print('Do not Reject Null Hypothesis (No significant difference between two samples)')"
   ]
  },
  {
   "cell_type": "markdown",
   "metadata": {},
   "source": [
    "As we can see from the previous cell the mean accuracy of the RFC is 69.40 and LSTM is 90.875, P-value being 0.000\n",
    "P-value is less than the significance level of 0.05, rejecting the NULL hypothesis, LSTM is performing better than RFC"
   ]
  },
  {
   "cell_type": "markdown",
   "metadata": {},
   "source": [
    "## From these tests and box plots and mean accuracies values we can see that for level A LSTM is the best performing among the lot"
   ]
  },
  {
   "cell_type": "code",
   "execution_count": null,
   "metadata": {},
   "outputs": [],
   "source": []
  }
 ],
 "metadata": {
  "kernelspec": {
   "display_name": "Python 3",
   "language": "python",
   "name": "python3"
  },
  "language_info": {
   "codemirror_mode": {
    "name": "ipython",
    "version": 3
   },
   "file_extension": ".py",
   "mimetype": "text/x-python",
   "name": "python",
   "nbconvert_exporter": "python",
   "pygments_lexer": "ipython3",
   "version": "3.8.5"
  }
 },
 "nbformat": 4,
 "nbformat_minor": 4
}
